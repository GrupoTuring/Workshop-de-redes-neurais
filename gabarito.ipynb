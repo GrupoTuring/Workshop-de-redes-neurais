{
 "metadata": {
  "language_info": {
   "codemirror_mode": {
    "name": "ipython",
    "version": 3
   },
   "file_extension": ".py",
   "mimetype": "text/x-python",
   "name": "python",
   "nbconvert_exporter": "python",
   "pygments_lexer": "ipython3",
   "version": "3.8.5-final"
  },
  "orig_nbformat": 2,
  "kernelspec": {
   "name": "python3",
   "display_name": "Python 3.8.5 64-bit ('torch': conda)",
   "metadata": {
    "interpreter": {
     "hash": "a5cd74ba85a3b6a037c59ac3f3634fcdd9437555c9fe253dd51f04000fcd493e"
    }
   }
  }
 },
 "nbformat": 4,
 "nbformat_minor": 2,
 "cells": [
  {
   "source": [
    "# Workshop Redes Neurais\n",
    "## Grupo Turing"
   ],
   "cell_type": "markdown",
   "metadata": {}
  },
  {
   "source": [
    "### Proposta de roteiro para o nb (deletar depois)\n",
    "\n",
    "#### O que deve ser falado antes do nb?\n",
    "- Introdução à redes neurais\n",
    "- estrutura geral de uma rede neural (talvez falar que é parecido com uma regressão logística?)\n",
    "- computation graph (talvez?)\n",
    "- forward propagation\n",
    "- back propagation (se falar de fp acho que é a sequência lógica)\n",
    "- optimizaçaõ e gradient descent\n",
    "\n",
    "#### Conteúdos do nb\n",
    "- Básico de Pytorch\n",
    "  - comparação com np\n",
    "  - operações básicas\n",
    "  - Variables (falar de back propagation?)\n",
    "- Implementando uma NN\n",
    "  - Implementar uma regressão logística (?)\n",
    "  - Implementar NN\n",
    "  - Falar sobre CNN e LSTM (?)\n",
    "  \n",
    "**Obs: ** Ainda é preciso deixar o NB mais bonito, mais imagens e talvez melhorar a estrura dos exemplos."
   ],
   "cell_type": "markdown",
   "metadata": {}
  },
  {
   "source": [
    "## Básicos de Pytorch\n",
    "\n",
    "Primeiro vamos ver alguns análogos entre **numpy** e **Pytorch**\n",
    "\n",
    "### Matrizes\n",
    " - Em Pytorch, matrizes (*arrays*) são chamados de tensores.\n",
    " - Uma matriz $3\\times3$, por exemplo é um tensor $3\\times3$\n",
    " - Podemos criar um array numpy com o método `np.numpy()`\n",
    " - Podemos pegar o tipo do array com `type()`\n",
    " - Podemos pegar o formato do *array* com `np.shape()`. Linha $\\times$ Coluna"
   ],
   "cell_type": "markdown",
   "metadata": {}
  },
  {
   "cell_type": "code",
   "execution_count": 1,
   "metadata": {},
   "outputs": [
    {
     "output_type": "stream",
     "name": "stdout",
     "text": [
      "Array do tipo: <class 'numpy.ndarray'>\nArray de formato: (2, 3)\n[[1 2 3]\n [4 5 6]]\n"
     ]
    }
   ],
   "source": [
    "import numpy as np\n",
    "import math\n",
    "\n",
    "array = [[1,2,3],[4,5,6]]\n",
    "primeiro_array = np.array(array) # array 2x3\n",
    "print(f\"Array do tipo: {type(primeiro_array)}\")\n",
    "print(f\"Array de formato: {np.shape(primeiro_array)}\")\n",
    "print(primeiro_array)"
   ]
  },
  {
   "source": [
    "- Criamos um tensor com o método `torch.Tensor()`\n",
    "- `tensor.type`: tipo do *array*, nesse caso um tensor\n",
    "- `tensor.shape`: formato do *array*. Linha $\\times$ Coluna "
   ],
   "cell_type": "markdown",
   "metadata": {}
  },
  {
   "cell_type": "code",
   "execution_count": 2,
   "metadata": {},
   "outputs": [
    {
     "output_type": "stream",
     "name": "stdout",
     "text": [
      "Array do tipo: <built-in method type of Tensor object at 0x7fb2e99b8780>\nArray de formato: torch.Size([2, 3])\ntensor([[1., 2., 3.],\n        [4., 5., 6.]])\n"
     ]
    }
   ],
   "source": [
    "import torch\n",
    "\n",
    "tensor = torch.Tensor(array)\n",
    "print(f\"Array do tipo: {tensor.type}\")\n",
    "print(f\"Array de formato: {tensor.shape}\")\n",
    "print(tensor)"
   ]
  },
  {
   "source": [
    "Podemos fazer a alocação de *arrays* de maneira análoga nas duas linguagens:\n",
    " - `np.ones()` = `torch.ones()`\n",
    " - `np.random.rand()` = `torch.rand()`"
   ],
   "cell_type": "markdown",
   "metadata": {}
  },
  {
   "cell_type": "code",
   "execution_count": 3,
   "metadata": {},
   "outputs": [
    {
     "output_type": "stream",
     "name": "stdout",
     "text": [
      "Numpy:\n [[1. 1. 1.]\n [1. 1. 1.]]\n\ntensor([[1., 1., 1.],\n        [1., 1., 1.]])\n"
     ]
    }
   ],
   "source": [
    "print(f\"Numpy:\\n {np.ones((2,3))}\\n\")\n",
    "\n",
    "print(torch.ones((2,3)))"
   ]
  },
  {
   "cell_type": "code",
   "execution_count": 4,
   "metadata": {},
   "outputs": [
    {
     "output_type": "stream",
     "name": "stdout",
     "text": [
      "Numpy:\n [[0.47202634 0.7215214  0.95410009]\n [0.67299774 0.89319661 0.44792602]]\n\ntensor([[0.8593, 0.5769, 0.8992],\n        [0.5412, 0.0817, 0.3874]])\n"
     ]
    }
   ],
   "source": [
    "print(f\"Numpy:\\n {np.random.rand(2,3)}\\n\")\n",
    "\n",
    "print(torch.rand(2,3))"
   ]
  },
  {
   "source": [
    "### Convertendo de numpy para torch e vice-versa\n",
    "\n",
    "Em muitos pontos **numpy** e **pytorch** são bem parecidos em suas estruturas, e muitas das vezes podemos utilizar os dois em conjunto. Assim normalmente convertemos resultados de redes neurais - que são tensores - para **arrays** de **numpy**.\n",
    "\n",
    "Os métodos para fazer a conversão entre tensores e arrays numpy:\n",
    " - `torch.from_numpy()`: de um array numpy para um tensore\n",
    " - `numpy()`: de um tensor para um array numpy"
   ],
   "cell_type": "markdown",
   "metadata": {}
  },
  {
   "cell_type": "code",
   "execution_count": 5,
   "metadata": {},
   "outputs": [
    {
     "output_type": "stream",
     "name": "stdout",
     "text": [
      "<class 'numpy.ndarray'> \n [[0.88109992 0.26492012]\n [0.208582   0.12156333]] \n\ntensor([[0.8811, 0.2649],\n        [0.2086, 0.1216]], dtype=torch.float64) \n\n<class 'numpy.ndarray'> \n [[0.88109992 0.26492012]\n [0.208582   0.12156333]]\n"
     ]
    }
   ],
   "source": [
    "array = np.random.rand(2,2)\n",
    "print(f\"{type(array)} \\n {array} \\n\")\n",
    "\n",
    "de_numpy_para_tensor = torch.from_numpy(array)\n",
    "print(f\"{de_numpy_para_tensor} \\n\")\n",
    "\n",
    "tensor = de_numpy_para_tensor\n",
    "de_tensor_para_numpy = tensor.numpy()\n",
    "print(f\"{type(de_tensor_para_numpy)} \\n {de_tensor_para_numpy}\")"
   ]
  },
  {
   "source": [
    "Quando fazemos estas conversões também podemos fazer um *typecast* (mudagem do tipo) das variáveis, isso pode ser útil já que o Pytorch faz uma série de computações de baixo nível, o qual o tipo primitivo das variáveis precisa ser bem especificado e definido, para isso podemos usar o método `tensor.type(torch.TipoDeTensor)`, alguns tipode de tensores nativos do Pytorch são:\n",
    "  - `torch.FloatTensor` - pontos flutuantes de 32-bits\n",
    "  - `torch.DoubleTensor` - pontos flutuantes de 64-bits\n",
    "  - `torch.IntTensor` - números inteiros de 32-bits\n",
    "  - `torch.LongTensor` - númeos inteiros de 64-bits\n",
    "É muito comum encontrarmos *bugs* causados pela utilização errada de algum tipo primitivo, você pode ler sobre todos eles na [documentação do Pytorch](https://pytorch.org/docs/stable/tensors.html)"
   ],
   "cell_type": "markdown",
   "metadata": {}
  },
  {
   "cell_type": "code",
   "execution_count": 6,
   "metadata": {},
   "outputs": [
    {
     "output_type": "stream",
     "name": "stdout",
     "text": [
      "<class 'torch.Tensor'> \n tensor([[ 1., 10.],\n        [ 2., 20.]])\n\n<class 'torch.Tensor'> \n tensor([[ 1, 10],\n        [ 2, 20]])\n"
     ]
    }
   ],
   "source": [
    "array = np.array([[1,10],[2,20]])\n",
    "\n",
    "# Transformar em um tensor de Floats:\n",
    "tensor_float = torch.from_numpy(array).type(torch.FloatTensor)\n",
    "print(f\"{type(tensor_float)} \\n {tensor_float}\\n\")\n",
    "\n",
    "# Transformar em um tensor de Longs:\n",
    "tensor_long = torch.from_numpy(array).type(torch.LongTensor)\n",
    "print(f\"{type(tensor_long)} \\n {tensor_long}\")"
   ]
  },
  {
   "source": [
    "### Matemática básica com Pytorch\n",
    "*considere a e b dois tensores*\n",
    "\n",
    "- Redefinir o tamanho: `view()`\n",
    "- Adição: `torch.add(a,b)` = a + b\n",
    "- Subtração: `a.sub(b)` = a - b\n",
    "- Multiplicação elemento-a-elemento = `torch.mul(a,b)` = a * b\n",
    "- Divisão elemento-a-elemento = torch.div(a,b) = a / b\n",
    "- Média: a.mean()\n",
    "- Desvio Padrão (Standart Deviantion - std): a.std()"
   ],
   "cell_type": "markdown",
   "metadata": {}
  },
  {
   "cell_type": "code",
   "execution_count": 7,
   "metadata": {},
   "outputs": [
    {
     "output_type": "stream",
     "name": "stdout",
     "text": [
      "\n tensor([[1., 1., 1.],\n        [1., 1., 1.],\n        [1., 1., 1.]]) \n\ntorch.Size([9]): tensor([1., 1., 1., 1., 1., 1., 1., 1., 1.]) \n\nAdição: \ntensor([[2., 2., 2.],\n        [2., 2., 2.],\n        [2., 2., 2.]]) \n\nSubtração: \ntensor([[0., 0., 0.],\n        [0., 0., 0.],\n        [0., 0., 0.]]) \n\nMultiplicação elemento-a-elemento: \ntensor([[1., 1., 1.],\n        [1., 1., 1.],\n        [1., 1., 1.]]) \n\nDivisão elemento-a-elemento: \ntensor([[1., 1., 1.],\n        [1., 1., 1.],\n        [1., 1., 1.]]) \n\nMédia: 3.0 \n\nDesvio padrão: 1.5811388492584229 \n\n"
     ]
    }
   ],
   "source": [
    "tensor = torch.ones(3,3)\n",
    "print(\"\\n\", tensor, \"\\n\")\n",
    "\n",
    "print(f\"{tensor.view(9).shape}: {tensor.view(9)} \\n\")\n",
    "\n",
    "print(f\"Adição: \\n{torch.add(tensor, tensor)} \\n\")\n",
    "\n",
    "print(f\"Subtração: \\n{torch.sub(tensor, tensor)} \\n\")\n",
    "\n",
    "print(f\"Multiplicação elemento-a-elemento: \\n{torch.mul(tensor, tensor)} \\n\")\n",
    "\n",
    "print(f\"Divisão elemento-a-elemento: \\n{torch.div(tensor, tensor)} \\n\")\n",
    "\n",
    "tensor = torch.Tensor([1,2,3,4,5])\n",
    "print(f\"Média: {tensor.mean()} \\n\")\n",
    "\n",
    "print(f\"Desvio padrão: {tensor.std()} \\n\")"
   ]
  },
  {
   "source": [
    "### Variáveis\n",
    "\n",
    "- Acumulam os gradientes\n",
    "- Na rede neural utilizaremos pytorch. Como explicamos anteriormente nas, redes neurais os gradientes são calculados na *backpropagation*.\n",
    "- A diferença entre variáveis e tensores é a de que variáveis acumulam os gradientes\n",
    "- Também podemos fazer operações matemáticas com variáveis\n",
    "- Dessa maneira, se queremos fazer a *backpropagation* precisamos de variáveis"
   ],
   "cell_type": "markdown",
   "metadata": {}
  },
  {
   "cell_type": "code",
   "execution_count": 8,
   "metadata": {},
   "outputs": [
    {
     "output_type": "execute_result",
     "data": {
      "text/plain": [
       "tensor([1., 1., 1.], requires_grad=True)"
      ]
     },
     "metadata": {},
     "execution_count": 8
    }
   ],
   "source": [
    "from torch.autograd import Variable\n",
    "\n",
    "var = Variable(torch.ones(3), requires_grad = True)\n",
    "var"
   ]
  },
  {
   "source": [
    "Vamos ver um exemplo de como as Variávies são utilizadas em uma *backpropagation*, com duas função $f(y) = \\sum y$, $y(x) = x^2$ e $x = (3,5)$"
   ],
   "cell_type": "markdown",
   "metadata": {}
  },
  {
   "cell_type": "code",
   "execution_count": 9,
   "metadata": {},
   "outputs": [
    {
     "output_type": "stream",
     "name": "stdout",
     "text": [
      " x = tensor([3., 5.], requires_grad=True)\n f =  34.0\nGradientes: tensor([ 6., 10.])\n"
     ]
    }
   ],
   "source": [
    "array = [3,5]\n",
    "tensor = torch.Tensor(array)\n",
    "x = Variable(tensor, requires_grad = True)\n",
    "y = x**2\n",
    "print(f\" x = {x}\")\n",
    "\n",
    "f = sum(y)\n",
    "print(f\" f =  {f}\")\n",
    "\n",
    "f.backward() # Realiza as derivadas parciais\n",
    "\n",
    "print(f\"Gradientes: {x.grad}\")"
   ]
  },
  {
   "source": [
    "Vamos explicar passo a passo quais foram as operações feitas pelo Pytorch:\n",
    "- Primeiro ele recebe os elementos do tensor e faz a primeira operação com eles $y_1 = 3^2 = 9$ e $y_2 = 5^2 = 25$\n",
    "- Agora ele soma o tensor, retornando assim um único valor escalar: $\\sum_i y_i = y_1 + y_2 = 9 + 25 = 34$\n",
    "- O gradiente é a derivada parcial de cada elemento, ou seja o gradiente \"1\" é a derivada relativa à $y_1$ e o gradiente \"2\" é relativo à $y_2$ \n",
    "- derivada relativa à $y_1$ é $\\frac{\\partial}{\\partial y_1}(3^2) = 2*3 = 6$\n",
    "- derivada relativa à $y_2$ é $\\frac{\\partial}{\\partial y_2}(5^2) = 2*5 = 10$\n",
    "- Assim ficamos com os gradientes $(6, 10)$"
   ],
   "cell_type": "markdown",
   "metadata": {}
  },
  {
   "source": [
    "### Exercícios\n",
    "\n",
    "Coplete às células de código abaixo no campo indicado por \"...\":"
   ],
   "cell_type": "markdown",
   "metadata": {}
  },
  {
   "source": [
    "Crie um tensor com base no *array* dado:"
   ],
   "cell_type": "markdown",
   "metadata": {}
  },
  {
   "cell_type": "code",
   "execution_count": 17,
   "metadata": {},
   "outputs": [
    {
     "output_type": "execute_result",
     "data": {
      "text/plain": [
       "tensor([[  10.,  100., 1000.],\n",
       "        [  20.,  200., 2000.]])"
      ]
     },
     "metadata": {},
     "execution_count": 17
    }
   ],
   "source": [
    "array = [[10,100,1000], [20,200,2000]]\n",
    "tensor = torch.Tensor(array)\n",
    "tensor"
   ]
  },
  {
   "source": [
    "Crie um tensor de formato $(5,3)$ no qual todos os elementos são o número 1, depois utilize o método `.shape` para verificar seu formato:"
   ],
   "cell_type": "markdown",
   "metadata": {}
  },
  {
   "cell_type": "code",
   "execution_count": 19,
   "metadata": {},
   "outputs": [
    {
     "output_type": "stream",
     "name": "stdout",
     "text": [
      "Tensor: \n tensor([[1., 1., 1.],\n        [1., 1., 1.],\n        [1., 1., 1.],\n        [1., 1., 1.],\n        [1., 1., 1.]])\nFormato: torch.Size([5, 3])\n"
     ]
    }
   ],
   "source": [
    "tensor_de_uns = torch.ones(5,3)\n",
    "formato_do_tensor = tensor_de_uns.shape\n",
    "\n",
    "print(f\"Tensor: \\n {tensor_de_uns}\")\n",
    "print(f\"Formato: {formato_do_tensor}\")"
   ]
  },
  {
   "source": [
    "Converta o *array* numpy para um tesnor de pytorch, depois transforme o tesnor em um *array* numpy novamente."
   ],
   "cell_type": "markdown",
   "metadata": {}
  },
  {
   "cell_type": "code",
   "execution_count": 20,
   "metadata": {},
   "outputs": [
    {
     "output_type": "stream",
     "name": "stdout",
     "text": [
      "tensor([[ 1,  1,  2,  3],\n        [ 5,  8, 13, 21]]) \n É um tensor? True\n[[ 1  1  2  3]\n [ 5  8 13 21]] \n É um array numpy? True\n"
     ]
    }
   ],
   "source": [
    "array = np.array([[1,1,2,3], [5,8,13,21]])\n",
    "\n",
    "de_numpy_para_tensor = torch.from_numpy(array)\n",
    "print(f\"{de_numpy_para_tensor} \\n É um tensor? {isinstance(de_numpy_para_tensor, torch.Tensor)}\")\n",
    "\n",
    "de_tensor_para_numpy = de_numpy_para_tensor.numpy()\n",
    "print(f\"{de_tensor_para_numpy} \\n É um array numpy? {isinstance(de_tensor_para_numpy, np.ndarray)}\")"
   ]
  },
  {
   "source": [
    "Complete a célula abaixo com as operações indicadas:"
   ],
   "cell_type": "markdown",
   "metadata": {}
  },
  {
   "cell_type": "code",
   "execution_count": 22,
   "metadata": {},
   "outputs": [
    {
     "output_type": "stream",
     "name": "stdout",
     "text": [
      "Soma:\n tensor([[15., 24.],\n        [15., 12.]]) \nSubtração:\n tensor([[5., 8.],\n        [5., 4.]]) \nMultiplicação:\n tensor([[ 50., 128.],\n        [ 50.,  32.]]) \nDivisão:\n tensor([[2., 2.],\n        [2., 2.]]) \nMédia: 5.5 \nDesvio Padrão: 3.464101552963257 \n\n"
     ]
    }
   ],
   "source": [
    "tensor_a = torch.Tensor([[5,8],[5,4]])\n",
    "tensor_b = torch.Tensor([[10,16],[10,8]])\n",
    "\n",
    "soma = torch.add(tensor_a,tensor_b) # a+b\n",
    "subtracao = torch.sub(tensor_b, tensor_a) # b-a\n",
    "mul = torch.mul(tensor_a, tensor_b) # a*b\n",
    "div = torch.div(tensor_b, tensor_a) # b/a\n",
    "media = tensor_a.mean() # media de a\n",
    "std = tensor_b.std() # desvio padrão de b\n",
    "\n",
    "print(f\"Soma:\\n {soma} \\n\"\n",
    "      f\"Subtração:\\n {subtracao} \\n\"\n",
    "      f\"Multiplicação:\\n {mul} \\n\"\n",
    "      f\"Divisão:\\n {div} \\n\"\n",
    "      f\"Média: {media} \\n\"\n",
    "      f\"Desvio Padrão: {std} \\n\")"
   ]
  },
  {
   "source": [
    "Crie uma **Varíavel** do pytorch com o tensor definido. Depois defina as equações $y = log_e(x)$ e $f(y) = 2*media(y)$. Para então aplicar a *backpropagation* em $f(x)$ e calcular seus gradientes."
   ],
   "cell_type": "markdown",
   "metadata": {}
  },
  {
   "cell_type": "code",
   "execution_count": 23,
   "metadata": {},
   "outputs": [
    {
     "output_type": "stream",
     "name": "stdout",
     "text": [
      " x = tensor([4., 5.], requires_grad=True)\n y = tensor([1.3863, 1.6094], grad_fn=<LogBackward>)\n f = 2.995732307434082\nGradientes: tensor([0.2500, 0.2000])\n"
     ]
    }
   ],
   "source": [
    "array = [4,5]\n",
    "tensor = torch.Tensor(array)\n",
    "\n",
    "x = Variable(tensor, requires_grad=True)\n",
    "print(f\" x = {x}\")\n",
    "\n",
    "y = torch.log(x) # Dica: use o operador torch.log()\n",
    "print(f\" y = {y}\")\n",
    "\n",
    "f = 2 * y.mean()\n",
    "print(f\" f = {f}\")\n",
    "\n",
    "# Escreva aqui a backpropagation de f\n",
    "f.backward()\n",
    "\n",
    "if isinstance(x, torch.Tensor): print(f\"Gradientes: {x.grad}\")\n",
    "else: print(\"Complete o exerćicio!\")"
   ]
  },
  {
   "source": [
    "## Implementando uma rede neural\n",
    "### Conhecendo e preparando nossos dados \n",
    "\n",
    "**[Fashion MNIST](https://www.kaggle.com/zalando-research/fashionmnist)** é uma coleção de diversas peças de roupas retiradas do serviço de *e-commerce* Zalando, ele consiste de cerca de 60.000 entradas de treino de 10.000 de teste. Cada entrada é uma imagem de 28x28 pixels em escala cinza. As peças de roupa estão classificadas da seguinte maneira:\n",
    "  - 0 *T-shirt*\n",
    "  - 1 *Trouser*\n",
    "  - 2 *Pullover*\n",
    "  - 3 *Dress*\n",
    "  - 4 *Coat*\n",
    "  - 5 *Sandal*\n",
    "  - 6 *Shirt*\n",
    "  - 7 *Sneaker*\n",
    "  - 8 *Bag*\n",
    "  - 9 *Ankle boot*"
   ],
   "cell_type": "markdown",
   "metadata": {}
  },
  {
   "cell_type": "code",
   "execution_count": 25,
   "metadata": {},
   "outputs": [
    {
     "output_type": "execute_result",
     "data": {
      "text/plain": [
       "   label  pixel1  pixel2  pixel3  pixel4  pixel5  pixel6  pixel7  pixel8  \\\n",
       "0      2       0       0       0       0       0       0       0       0   \n",
       "1      9       0       0       0       0       0       0       0       0   \n",
       "2      6       0       0       0       0       0       0       0       5   \n",
       "3      0       0       0       0       1       2       0       0       0   \n",
       "4      3       0       0       0       0       0       0       0       0   \n",
       "\n",
       "   pixel9  ...  pixel775  pixel776  pixel777  pixel778  pixel779  pixel780  \\\n",
       "0       0  ...         0         0         0         0         0         0   \n",
       "1       0  ...         0         0         0         0         0         0   \n",
       "2       0  ...         0         0         0        30        43         0   \n",
       "3       0  ...         3         0         0         0         0         1   \n",
       "4       0  ...         0         0         0         0         0         0   \n",
       "\n",
       "   pixel781  pixel782  pixel783  pixel784  \n",
       "0         0         0         0         0  \n",
       "1         0         0         0         0  \n",
       "2         0         0         0         0  \n",
       "3         0         0         0         0  \n",
       "4         0         0         0         0  \n",
       "\n",
       "[5 rows x 785 columns]"
      ],
      "text/html": "<div>\n<style scoped>\n    .dataframe tbody tr th:only-of-type {\n        vertical-align: middle;\n    }\n\n    .dataframe tbody tr th {\n        vertical-align: top;\n    }\n\n    .dataframe thead th {\n        text-align: right;\n    }\n</style>\n<table border=\"1\" class=\"dataframe\">\n  <thead>\n    <tr style=\"text-align: right;\">\n      <th></th>\n      <th>label</th>\n      <th>pixel1</th>\n      <th>pixel2</th>\n      <th>pixel3</th>\n      <th>pixel4</th>\n      <th>pixel5</th>\n      <th>pixel6</th>\n      <th>pixel7</th>\n      <th>pixel8</th>\n      <th>pixel9</th>\n      <th>...</th>\n      <th>pixel775</th>\n      <th>pixel776</th>\n      <th>pixel777</th>\n      <th>pixel778</th>\n      <th>pixel779</th>\n      <th>pixel780</th>\n      <th>pixel781</th>\n      <th>pixel782</th>\n      <th>pixel783</th>\n      <th>pixel784</th>\n    </tr>\n  </thead>\n  <tbody>\n    <tr>\n      <th>0</th>\n      <td>2</td>\n      <td>0</td>\n      <td>0</td>\n      <td>0</td>\n      <td>0</td>\n      <td>0</td>\n      <td>0</td>\n      <td>0</td>\n      <td>0</td>\n      <td>0</td>\n      <td>...</td>\n      <td>0</td>\n      <td>0</td>\n      <td>0</td>\n      <td>0</td>\n      <td>0</td>\n      <td>0</td>\n      <td>0</td>\n      <td>0</td>\n      <td>0</td>\n      <td>0</td>\n    </tr>\n    <tr>\n      <th>1</th>\n      <td>9</td>\n      <td>0</td>\n      <td>0</td>\n      <td>0</td>\n      <td>0</td>\n      <td>0</td>\n      <td>0</td>\n      <td>0</td>\n      <td>0</td>\n      <td>0</td>\n      <td>...</td>\n      <td>0</td>\n      <td>0</td>\n      <td>0</td>\n      <td>0</td>\n      <td>0</td>\n      <td>0</td>\n      <td>0</td>\n      <td>0</td>\n      <td>0</td>\n      <td>0</td>\n    </tr>\n    <tr>\n      <th>2</th>\n      <td>6</td>\n      <td>0</td>\n      <td>0</td>\n      <td>0</td>\n      <td>0</td>\n      <td>0</td>\n      <td>0</td>\n      <td>0</td>\n      <td>5</td>\n      <td>0</td>\n      <td>...</td>\n      <td>0</td>\n      <td>0</td>\n      <td>0</td>\n      <td>30</td>\n      <td>43</td>\n      <td>0</td>\n      <td>0</td>\n      <td>0</td>\n      <td>0</td>\n      <td>0</td>\n    </tr>\n    <tr>\n      <th>3</th>\n      <td>0</td>\n      <td>0</td>\n      <td>0</td>\n      <td>0</td>\n      <td>1</td>\n      <td>2</td>\n      <td>0</td>\n      <td>0</td>\n      <td>0</td>\n      <td>0</td>\n      <td>...</td>\n      <td>3</td>\n      <td>0</td>\n      <td>0</td>\n      <td>0</td>\n      <td>0</td>\n      <td>1</td>\n      <td>0</td>\n      <td>0</td>\n      <td>0</td>\n      <td>0</td>\n    </tr>\n    <tr>\n      <th>4</th>\n      <td>3</td>\n      <td>0</td>\n      <td>0</td>\n      <td>0</td>\n      <td>0</td>\n      <td>0</td>\n      <td>0</td>\n      <td>0</td>\n      <td>0</td>\n      <td>0</td>\n      <td>...</td>\n      <td>0</td>\n      <td>0</td>\n      <td>0</td>\n      <td>0</td>\n      <td>0</td>\n      <td>0</td>\n      <td>0</td>\n      <td>0</td>\n      <td>0</td>\n      <td>0</td>\n    </tr>\n  </tbody>\n</table>\n<p>5 rows × 785 columns</p>\n</div>"
     },
     "metadata": {},
     "execution_count": 25
    }
   ],
   "source": [
    "import pandas as pd\n",
    "\n",
    "df_inicial = pd.read_csv(\"fashion-mnist_train.csv\")\n",
    "df_inicial.head() # Como cada coluna representa o valor de cada pixel, a tabela dos dados não é muito \"emocionante\""
   ]
  },
  {
   "cell_type": "code",
   "execution_count": 26,
   "metadata": {},
   "outputs": [
    {
     "output_type": "stream",
     "name": "stdout",
     "text": [
      "Número de entradas de treino: 50000\nNúmero de entradas de validação: 10000\n"
     ]
    }
   ],
   "source": [
    "n_validos = 10000\n",
    "n_treino = len(df_inicial) - n_validos\n",
    "print(f\"Número de entradas de treino: {n_treino}\\n\"\n",
    "      f\"Número de entradas de validação: {n_validos}\")"
   ]
  },
  {
   "cell_type": "code",
   "execution_count": 27,
   "metadata": {},
   "outputs": [],
   "source": [
    "# Usaremos essa função para dividir entre dados de treino e validação\n",
    "def divide_valores(a,n):\n",
    "     return a[:n].copy(), a[n:].copy()"
   ]
  },
  {
   "cell_type": "code",
   "execution_count": 28,
   "metadata": {},
   "outputs": [],
   "source": [
    "# Dividir dataset entre dados x e labels y\n",
    "y, x = df_inicial[\"label\"].values, df_inicial.loc[:, df_inicial.columns != \"label\"].values"
   ]
  },
  {
   "cell_type": "code",
   "execution_count": 29,
   "metadata": {},
   "outputs": [],
   "source": [
    "x_treino, x_valido = divide_valores(x, n_treino)\n",
    "y_treino, y_valido = divide_valores(y, n_treino)"
   ]
  },
  {
   "cell_type": "code",
   "execution_count": 30,
   "metadata": {},
   "outputs": [
    {
     "output_type": "stream",
     "name": "stdout",
     "text": [
      "Formato do x de treino: (50000, 784)\nFormato do x de validação: (10000, 784)\nFormato do y de treino: (50000,)\nFormato do y de validação: (10000,)\n"
     ]
    }
   ],
   "source": [
    "print(f\"Formato do x de treino: {x_treino.shape}\\n\"\n",
    "      f\"Formato do x de validação: {x_valido.shape}\\n\"\n",
    "      f\"Formato do y de treino: {y_treino.shape}\\n\"\n",
    "      f\"Formato do y de validação: {y_valido.shape}\")"
   ]
  },
  {
   "source": [
    "Uma etapa comum de pré processamento de dados em aprendizado por máquina é centralizar padronizar nosso *dataset*, o que isso basicamente significa é que iremos subtrair a média de todo o *dataset* e dividi-lo pelo seu desvio padrão. Esse processo ajuda a agilizar o processo de aprendizado."
   ],
   "cell_type": "markdown",
   "metadata": {}
  },
  {
   "cell_type": "code",
   "execution_count": 31,
   "metadata": {},
   "outputs": [
    {
     "output_type": "stream",
     "name": "stdout",
     "text": [
      "Média antes do pré processamento: 72.86\nDesvio padrão antes do pré processamente: 89.89\nMédia depois do pré processamento: -0.00\nDesvio padrão depois do pré processamento: 1.00\n"
     ]
    }
   ],
   "source": [
    "media = x_treino.mean()\n",
    "desvio_padrao = x_treino.std()\n",
    "\n",
    "x_treino = (x_treino-media)/desvio_padrao\n",
    "print(f\"Média antes do pré processamento: {media:.2f}\\n\"\n",
    "      f\"Desvio padrão antes do pré processamente: {desvio_padrao:.2f}\\n\"\n",
    "      f\"Média depois do pré processamento: {x_treino.mean():.2f}\\n\"\n",
    "      f\"Desvio padrão depois do pré processamento: {x_treino.std():.2f}\")"
   ]
  },
  {
   "cell_type": "code",
   "execution_count": 32,
   "metadata": {},
   "outputs": [
    {
     "output_type": "stream",
     "name": "stdout",
     "text": [
      "Média pós processamento: 0.01\nDesvio padrão pós processamento: 1.01\n"
     ]
    }
   ],
   "source": [
    "# O mesmo deve ser feito com a validação\n",
    "\n",
    "x_valido = (x_valido-media)/desvio_padrao\n",
    "print(f\"Média pós processamento: {x_valido.mean():.2f}\\n\"\n",
    "      f\"Desvio padrão pós processamento: {x_valido.std():.2f}\")"
   ]
  },
  {
   "source": [
    "Vamos visualizar algumas das imagens de nosso *dataset*:"
   ],
   "cell_type": "markdown",
   "metadata": {}
  },
  {
   "cell_type": "code",
   "execution_count": 33,
   "metadata": {},
   "outputs": [],
   "source": [
    "from matplotlib import pyplot as plt\n",
    "\n",
    "# Essa função vai nos ajudar a visualizar as imagens\n",
    "def mostrar(img, title=None):\n",
    "    labels = ['T-shirt/top','Trouser','Pullover','Dress','Coat','Sandal','Shirt','Sneaker','Bag','Ankle boot']\n",
    "    plt.imshow(img, cmap=\"gray\")\n",
    "    if title is not None: plt.title(labels[int(title)])"
   ]
  },
  {
   "cell_type": "code",
   "execution_count": 34,
   "metadata": {},
   "outputs": [
    {
     "output_type": "display_data",
     "data": {
      "text/plain": "<Figure size 432x288 with 1 Axes>",
      "image/svg+xml": "<?xml version=\"1.0\" encoding=\"utf-8\" standalone=\"no\"?>\n<!DOCTYPE svg PUBLIC \"-//W3C//DTD SVG 1.1//EN\"\n  \"http://www.w3.org/Graphics/SVG/1.1/DTD/svg11.dtd\">\n<!-- Created with matplotlib (https://matplotlib.org/) -->\n<svg height=\"263.63625pt\" version=\"1.1\" viewBox=\"0 0 251.565 263.63625\" width=\"251.565pt\" xmlns=\"http://www.w3.org/2000/svg\" xmlns:xlink=\"http://www.w3.org/1999/xlink\">\n <metadata>\n  <rdf:RDF xmlns:cc=\"http://creativecommons.org/ns#\" xmlns:dc=\"http://purl.org/dc/elements/1.1/\" xmlns:rdf=\"http://www.w3.org/1999/02/22-rdf-syntax-ns#\">\n   <cc:Work>\n    <dc:type rdf:resource=\"http://purl.org/dc/dcmitype/StillImage\"/>\n    <dc:date>2021-01-20T22:06:27.120046</dc:date>\n    <dc:format>image/svg+xml</dc:format>\n    <dc:creator>\n     <cc:Agent>\n      <dc:title>Matplotlib v3.3.2, https://matplotlib.org/</dc:title>\n     </cc:Agent>\n    </dc:creator>\n   </cc:Work>\n  </rdf:RDF>\n </metadata>\n <defs>\n  <style type=\"text/css\">*{stroke-linecap:butt;stroke-linejoin:round;}</style>\n </defs>\n <g id=\"figure_1\">\n  <g id=\"patch_1\">\n   <path d=\"M 0 263.63625 \nL 251.565 263.63625 \nL 251.565 0 \nL 0 0 \nz\n\" style=\"fill:none;\"/>\n  </g>\n  <g id=\"axes_1\">\n   <g id=\"patch_2\">\n    <path d=\"M 26.925 239.758125 \nL 244.365 239.758125 \nL 244.365 22.318125 \nL 26.925 22.318125 \nz\n\" style=\"fill:#ffffff;\"/>\n   </g>\n   <g clip-path=\"url(#p9257e6dd68)\">\n    <image height=\"218\" id=\"image578e5f95b5\" transform=\"scale(1 -1)translate(0 -218)\" width=\"218\" x=\"26.925\" xlink:href=\"data:image/png;base64,\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\" y=\"-21.758125\"/>\n   </g>\n   <g id=\"matplotlib.axis_1\">\n    <g id=\"xtick_1\">\n     <g id=\"line2d_1\">\n      <defs>\n       <path d=\"M 0 0 \nL 0 3.5 \n\" id=\"m65555d596e\" style=\"stroke:#000000;stroke-width:0.8;\"/>\n      </defs>\n      <g>\n       <use style=\"stroke:#000000;stroke-width:0.8;\" x=\"30.807857\" xlink:href=\"#m65555d596e\" y=\"239.758125\"/>\n      </g>\n     </g>\n     <g id=\"text_1\">\n      <!-- 0 -->\n      <g transform=\"translate(27.626607 254.356563)scale(0.1 -0.1)\">\n       <defs>\n        <path d=\"M 31.78125 66.40625 \nQ 24.171875 66.40625 20.328125 58.90625 \nQ 16.5 51.421875 16.5 36.375 \nQ 16.5 21.390625 20.328125 13.890625 \nQ 24.171875 6.390625 31.78125 6.390625 \nQ 39.453125 6.390625 43.28125 13.890625 \nQ 47.125 21.390625 47.125 36.375 \nQ 47.125 51.421875 43.28125 58.90625 \nQ 39.453125 66.40625 31.78125 66.40625 \nz\nM 31.78125 74.21875 \nQ 44.046875 74.21875 50.515625 64.515625 \nQ 56.984375 54.828125 56.984375 36.375 \nQ 56.984375 17.96875 50.515625 8.265625 \nQ 44.046875 -1.421875 31.78125 -1.421875 \nQ 19.53125 -1.421875 13.0625 8.265625 \nQ 6.59375 17.96875 6.59375 36.375 \nQ 6.59375 54.828125 13.0625 64.515625 \nQ 19.53125 74.21875 31.78125 74.21875 \nz\n\" id=\"DejaVuSans-48\"/>\n       </defs>\n       <use xlink:href=\"#DejaVuSans-48\"/>\n      </g>\n     </g>\n    </g>\n    <g id=\"xtick_2\">\n     <g id=\"line2d_2\">\n      <g>\n       <use style=\"stroke:#000000;stroke-width:0.8;\" x=\"69.636429\" xlink:href=\"#m65555d596e\" y=\"239.758125\"/>\n      </g>\n     </g>\n     <g id=\"text_2\">\n      <!-- 5 -->\n      <g transform=\"translate(66.455179 254.356563)scale(0.1 -0.1)\">\n       <defs>\n        <path d=\"M 10.796875 72.90625 \nL 49.515625 72.90625 \nL 49.515625 64.59375 \nL 19.828125 64.59375 \nL 19.828125 46.734375 \nQ 21.96875 47.46875 24.109375 47.828125 \nQ 26.265625 48.1875 28.421875 48.1875 \nQ 40.625 48.1875 47.75 41.5 \nQ 54.890625 34.8125 54.890625 23.390625 \nQ 54.890625 11.625 47.5625 5.09375 \nQ 40.234375 -1.421875 26.90625 -1.421875 \nQ 22.3125 -1.421875 17.546875 -0.640625 \nQ 12.796875 0.140625 7.71875 1.703125 \nL 7.71875 11.625 \nQ 12.109375 9.234375 16.796875 8.0625 \nQ 21.484375 6.890625 26.703125 6.890625 \nQ 35.15625 6.890625 40.078125 11.328125 \nQ 45.015625 15.765625 45.015625 23.390625 \nQ 45.015625 31 40.078125 35.4375 \nQ 35.15625 39.890625 26.703125 39.890625 \nQ 22.75 39.890625 18.8125 39.015625 \nQ 14.890625 38.140625 10.796875 36.28125 \nz\n\" id=\"DejaVuSans-53\"/>\n       </defs>\n       <use xlink:href=\"#DejaVuSans-53\"/>\n      </g>\n     </g>\n    </g>\n    <g id=\"xtick_3\">\n     <g id=\"line2d_3\">\n      <g>\n       <use style=\"stroke:#000000;stroke-width:0.8;\" x=\"108.465\" xlink:href=\"#m65555d596e\" y=\"239.758125\"/>\n      </g>\n     </g>\n     <g id=\"text_3\">\n      <!-- 10 -->\n      <g transform=\"translate(102.1025 254.356563)scale(0.1 -0.1)\">\n       <defs>\n        <path d=\"M 12.40625 8.296875 \nL 28.515625 8.296875 \nL 28.515625 63.921875 \nL 10.984375 60.40625 \nL 10.984375 69.390625 \nL 28.421875 72.90625 \nL 38.28125 72.90625 \nL 38.28125 8.296875 \nL 54.390625 8.296875 \nL 54.390625 0 \nL 12.40625 0 \nz\n\" id=\"DejaVuSans-49\"/>\n       </defs>\n       <use xlink:href=\"#DejaVuSans-49\"/>\n       <use x=\"63.623047\" xlink:href=\"#DejaVuSans-48\"/>\n      </g>\n     </g>\n    </g>\n    <g id=\"xtick_4\">\n     <g id=\"line2d_4\">\n      <g>\n       <use style=\"stroke:#000000;stroke-width:0.8;\" x=\"147.293571\" xlink:href=\"#m65555d596e\" y=\"239.758125\"/>\n      </g>\n     </g>\n     <g id=\"text_4\">\n      <!-- 15 -->\n      <g transform=\"translate(140.931071 254.356563)scale(0.1 -0.1)\">\n       <use xlink:href=\"#DejaVuSans-49\"/>\n       <use x=\"63.623047\" xlink:href=\"#DejaVuSans-53\"/>\n      </g>\n     </g>\n    </g>\n    <g id=\"xtick_5\">\n     <g id=\"line2d_5\">\n      <g>\n       <use style=\"stroke:#000000;stroke-width:0.8;\" x=\"186.122143\" xlink:href=\"#m65555d596e\" y=\"239.758125\"/>\n      </g>\n     </g>\n     <g id=\"text_5\">\n      <!-- 20 -->\n      <g transform=\"translate(179.759643 254.356563)scale(0.1 -0.1)\">\n       <defs>\n        <path d=\"M 19.1875 8.296875 \nL 53.609375 8.296875 \nL 53.609375 0 \nL 7.328125 0 \nL 7.328125 8.296875 \nQ 12.9375 14.109375 22.625 23.890625 \nQ 32.328125 33.6875 34.8125 36.53125 \nQ 39.546875 41.84375 41.421875 45.53125 \nQ 43.3125 49.21875 43.3125 52.78125 \nQ 43.3125 58.59375 39.234375 62.25 \nQ 35.15625 65.921875 28.609375 65.921875 \nQ 23.96875 65.921875 18.8125 64.3125 \nQ 13.671875 62.703125 7.8125 59.421875 \nL 7.8125 69.390625 \nQ 13.765625 71.78125 18.9375 73 \nQ 24.125 74.21875 28.421875 74.21875 \nQ 39.75 74.21875 46.484375 68.546875 \nQ 53.21875 62.890625 53.21875 53.421875 \nQ 53.21875 48.921875 51.53125 44.890625 \nQ 49.859375 40.875 45.40625 35.40625 \nQ 44.1875 33.984375 37.640625 27.21875 \nQ 31.109375 20.453125 19.1875 8.296875 \nz\n\" id=\"DejaVuSans-50\"/>\n       </defs>\n       <use xlink:href=\"#DejaVuSans-50\"/>\n       <use x=\"63.623047\" xlink:href=\"#DejaVuSans-48\"/>\n      </g>\n     </g>\n    </g>\n    <g id=\"xtick_6\">\n     <g id=\"line2d_6\">\n      <g>\n       <use style=\"stroke:#000000;stroke-width:0.8;\" x=\"224.950714\" xlink:href=\"#m65555d596e\" y=\"239.758125\"/>\n      </g>\n     </g>\n     <g id=\"text_6\">\n      <!-- 25 -->\n      <g transform=\"translate(218.588214 254.356563)scale(0.1 -0.1)\">\n       <use xlink:href=\"#DejaVuSans-50\"/>\n       <use x=\"63.623047\" xlink:href=\"#DejaVuSans-53\"/>\n      </g>\n     </g>\n    </g>\n   </g>\n   <g id=\"matplotlib.axis_2\">\n    <g id=\"ytick_1\">\n     <g id=\"line2d_7\">\n      <defs>\n       <path d=\"M 0 0 \nL -3.5 0 \n\" id=\"m3c781d16ee\" style=\"stroke:#000000;stroke-width:0.8;\"/>\n      </defs>\n      <g>\n       <use style=\"stroke:#000000;stroke-width:0.8;\" x=\"26.925\" xlink:href=\"#m3c781d16ee\" y=\"26.200982\"/>\n      </g>\n     </g>\n     <g id=\"text_7\">\n      <!-- 0 -->\n      <g transform=\"translate(13.5625 30.000201)scale(0.1 -0.1)\">\n       <use xlink:href=\"#DejaVuSans-48\"/>\n      </g>\n     </g>\n    </g>\n    <g id=\"ytick_2\">\n     <g id=\"line2d_8\">\n      <g>\n       <use style=\"stroke:#000000;stroke-width:0.8;\" x=\"26.925\" xlink:href=\"#m3c781d16ee\" y=\"65.029554\"/>\n      </g>\n     </g>\n     <g id=\"text_8\">\n      <!-- 5 -->\n      <g transform=\"translate(13.5625 68.828772)scale(0.1 -0.1)\">\n       <use xlink:href=\"#DejaVuSans-53\"/>\n      </g>\n     </g>\n    </g>\n    <g id=\"ytick_3\">\n     <g id=\"line2d_9\">\n      <g>\n       <use style=\"stroke:#000000;stroke-width:0.8;\" x=\"26.925\" xlink:href=\"#m3c781d16ee\" y=\"103.858125\"/>\n      </g>\n     </g>\n     <g id=\"text_9\">\n      <!-- 10 -->\n      <g transform=\"translate(7.2 107.657344)scale(0.1 -0.1)\">\n       <use xlink:href=\"#DejaVuSans-49\"/>\n       <use x=\"63.623047\" xlink:href=\"#DejaVuSans-48\"/>\n      </g>\n     </g>\n    </g>\n    <g id=\"ytick_4\">\n     <g id=\"line2d_10\">\n      <g>\n       <use style=\"stroke:#000000;stroke-width:0.8;\" x=\"26.925\" xlink:href=\"#m3c781d16ee\" y=\"142.686696\"/>\n      </g>\n     </g>\n     <g id=\"text_10\">\n      <!-- 15 -->\n      <g transform=\"translate(7.2 146.485915)scale(0.1 -0.1)\">\n       <use xlink:href=\"#DejaVuSans-49\"/>\n       <use x=\"63.623047\" xlink:href=\"#DejaVuSans-53\"/>\n      </g>\n     </g>\n    </g>\n    <g id=\"ytick_5\">\n     <g id=\"line2d_11\">\n      <g>\n       <use style=\"stroke:#000000;stroke-width:0.8;\" x=\"26.925\" xlink:href=\"#m3c781d16ee\" y=\"181.515268\"/>\n      </g>\n     </g>\n     <g id=\"text_11\">\n      <!-- 20 -->\n      <g transform=\"translate(7.2 185.314487)scale(0.1 -0.1)\">\n       <use xlink:href=\"#DejaVuSans-50\"/>\n       <use x=\"63.623047\" xlink:href=\"#DejaVuSans-48\"/>\n      </g>\n     </g>\n    </g>\n    <g id=\"ytick_6\">\n     <g id=\"line2d_12\">\n      <g>\n       <use style=\"stroke:#000000;stroke-width:0.8;\" x=\"26.925\" xlink:href=\"#m3c781d16ee\" y=\"220.343839\"/>\n      </g>\n     </g>\n     <g id=\"text_12\">\n      <!-- 25 -->\n      <g transform=\"translate(7.2 224.143058)scale(0.1 -0.1)\">\n       <use xlink:href=\"#DejaVuSans-50\"/>\n       <use x=\"63.623047\" xlink:href=\"#DejaVuSans-53\"/>\n      </g>\n     </g>\n    </g>\n   </g>\n   <g id=\"patch_3\">\n    <path d=\"M 26.925 239.758125 \nL 26.925 22.318125 \n\" style=\"fill:none;stroke:#000000;stroke-linecap:square;stroke-linejoin:miter;stroke-width:0.8;\"/>\n   </g>\n   <g id=\"patch_4\">\n    <path d=\"M 244.365 239.758125 \nL 244.365 22.318125 \n\" style=\"fill:none;stroke:#000000;stroke-linecap:square;stroke-linejoin:miter;stroke-width:0.8;\"/>\n   </g>\n   <g id=\"patch_5\">\n    <path d=\"M 26.925 239.758125 \nL 244.365 239.758125 \n\" style=\"fill:none;stroke:#000000;stroke-linecap:square;stroke-linejoin:miter;stroke-width:0.8;\"/>\n   </g>\n   <g id=\"patch_6\">\n    <path d=\"M 26.925 22.318125 \nL 244.365 22.318125 \n\" style=\"fill:none;stroke:#000000;stroke-linecap:square;stroke-linejoin:miter;stroke-width:0.8;\"/>\n   </g>\n   <g id=\"text_13\">\n    <!-- Pullover -->\n    <g transform=\"translate(111.615 16.318125)scale(0.12 -0.12)\">\n     <defs>\n      <path d=\"M 19.671875 64.796875 \nL 19.671875 37.40625 \nL 32.078125 37.40625 \nQ 38.96875 37.40625 42.71875 40.96875 \nQ 46.484375 44.53125 46.484375 51.125 \nQ 46.484375 57.671875 42.71875 61.234375 \nQ 38.96875 64.796875 32.078125 64.796875 \nz\nM 9.8125 72.90625 \nL 32.078125 72.90625 \nQ 44.34375 72.90625 50.609375 67.359375 \nQ 56.890625 61.8125 56.890625 51.125 \nQ 56.890625 40.328125 50.609375 34.8125 \nQ 44.34375 29.296875 32.078125 29.296875 \nL 19.671875 29.296875 \nL 19.671875 0 \nL 9.8125 0 \nz\n\" id=\"DejaVuSans-80\"/>\n      <path d=\"M 8.5 21.578125 \nL 8.5 54.6875 \nL 17.484375 54.6875 \nL 17.484375 21.921875 \nQ 17.484375 14.15625 20.5 10.265625 \nQ 23.53125 6.390625 29.59375 6.390625 \nQ 36.859375 6.390625 41.078125 11.03125 \nQ 45.3125 15.671875 45.3125 23.6875 \nL 45.3125 54.6875 \nL 54.296875 54.6875 \nL 54.296875 0 \nL 45.3125 0 \nL 45.3125 8.40625 \nQ 42.046875 3.421875 37.71875 1 \nQ 33.40625 -1.421875 27.6875 -1.421875 \nQ 18.265625 -1.421875 13.375 4.4375 \nQ 8.5 10.296875 8.5 21.578125 \nz\nM 31.109375 56 \nz\n\" id=\"DejaVuSans-117\"/>\n      <path d=\"M 9.421875 75.984375 \nL 18.40625 75.984375 \nL 18.40625 0 \nL 9.421875 0 \nz\n\" id=\"DejaVuSans-108\"/>\n      <path d=\"M 30.609375 48.390625 \nQ 23.390625 48.390625 19.1875 42.75 \nQ 14.984375 37.109375 14.984375 27.296875 \nQ 14.984375 17.484375 19.15625 11.84375 \nQ 23.34375 6.203125 30.609375 6.203125 \nQ 37.796875 6.203125 41.984375 11.859375 \nQ 46.1875 17.53125 46.1875 27.296875 \nQ 46.1875 37.015625 41.984375 42.703125 \nQ 37.796875 48.390625 30.609375 48.390625 \nz\nM 30.609375 56 \nQ 42.328125 56 49.015625 48.375 \nQ 55.71875 40.765625 55.71875 27.296875 \nQ 55.71875 13.875 49.015625 6.21875 \nQ 42.328125 -1.421875 30.609375 -1.421875 \nQ 18.84375 -1.421875 12.171875 6.21875 \nQ 5.515625 13.875 5.515625 27.296875 \nQ 5.515625 40.765625 12.171875 48.375 \nQ 18.84375 56 30.609375 56 \nz\n\" id=\"DejaVuSans-111\"/>\n      <path d=\"M 2.984375 54.6875 \nL 12.5 54.6875 \nL 29.59375 8.796875 \nL 46.6875 54.6875 \nL 56.203125 54.6875 \nL 35.6875 0 \nL 23.484375 0 \nz\n\" id=\"DejaVuSans-118\"/>\n      <path d=\"M 56.203125 29.59375 \nL 56.203125 25.203125 \nL 14.890625 25.203125 \nQ 15.484375 15.921875 20.484375 11.0625 \nQ 25.484375 6.203125 34.421875 6.203125 \nQ 39.59375 6.203125 44.453125 7.46875 \nQ 49.3125 8.734375 54.109375 11.28125 \nL 54.109375 2.78125 \nQ 49.265625 0.734375 44.1875 -0.34375 \nQ 39.109375 -1.421875 33.890625 -1.421875 \nQ 20.796875 -1.421875 13.15625 6.1875 \nQ 5.515625 13.8125 5.515625 26.8125 \nQ 5.515625 40.234375 12.765625 48.109375 \nQ 20.015625 56 32.328125 56 \nQ 43.359375 56 49.78125 48.890625 \nQ 56.203125 41.796875 56.203125 29.59375 \nz\nM 47.21875 32.234375 \nQ 47.125 39.59375 43.09375 43.984375 \nQ 39.0625 48.390625 32.421875 48.390625 \nQ 24.90625 48.390625 20.390625 44.140625 \nQ 15.875 39.890625 15.1875 32.171875 \nz\n\" id=\"DejaVuSans-101\"/>\n      <path d=\"M 41.109375 46.296875 \nQ 39.59375 47.171875 37.8125 47.578125 \nQ 36.03125 48 33.890625 48 \nQ 26.265625 48 22.1875 43.046875 \nQ 18.109375 38.09375 18.109375 28.8125 \nL 18.109375 0 \nL 9.078125 0 \nL 9.078125 54.6875 \nL 18.109375 54.6875 \nL 18.109375 46.1875 \nQ 20.953125 51.171875 25.484375 53.578125 \nQ 30.03125 56 36.53125 56 \nQ 37.453125 56 38.578125 55.875 \nQ 39.703125 55.765625 41.0625 55.515625 \nz\n\" id=\"DejaVuSans-114\"/>\n     </defs>\n     <use xlink:href=\"#DejaVuSans-80\"/>\n     <use x=\"58.552734\" xlink:href=\"#DejaVuSans-117\"/>\n     <use x=\"121.931641\" xlink:href=\"#DejaVuSans-108\"/>\n     <use x=\"149.714844\" xlink:href=\"#DejaVuSans-108\"/>\n     <use x=\"177.498047\" xlink:href=\"#DejaVuSans-111\"/>\n     <use x=\"238.679688\" xlink:href=\"#DejaVuSans-118\"/>\n     <use x=\"297.859375\" xlink:href=\"#DejaVuSans-101\"/>\n     <use x=\"359.382812\" xlink:href=\"#DejaVuSans-114\"/>\n    </g>\n   </g>\n  </g>\n </g>\n <defs>\n  <clipPath id=\"p9257e6dd68\">\n   <rect height=\"217.44\" width=\"217.44\" x=\"26.925\" y=\"22.318125\"/>\n  </clipPath>\n </defs>\n</svg>\n",
      "image/png": "[encoded data removed]"
     },
     "metadata": {
      "needs_background": "light"
     }
    }
   ],
   "source": [
    "x_imgs = np.reshape(x_valido, (-1, 28, 28))\n",
    "\n",
    "index = 100\n",
    "mostrar(x_imgs[index], y_valido[index])"
   ]
  },
  {
   "source": [
    "### Adaptando os dados para Pytorch"
   ],
   "cell_type": "markdown",
   "metadata": {}
  },
  {
   "cell_type": "code",
   "execution_count": 35,
   "metadata": {},
   "outputs": [],
   "source": [
    "import torch\n",
    "import torch.nn as nn\n",
    "from torch.autograd import Variable\n",
    "from torch.utils.data import DataLoader"
   ]
  },
  {
   "cell_type": "code",
   "execution_count": 36,
   "metadata": {},
   "outputs": [],
   "source": [
    "# Transforme os respectivos datasets de numpy para tensores torch, \n",
    "# o tensor x_treino_torch deve ser do tipo torch.FloatTensor\n",
    "# Dica, lembre-se da seção \"Convertendo de numpy para torch e vice-versa\"\n",
    "x_treino_torch = torch.from_numpy(x_treino).type(torch.FloatTensor)\n",
    "y_treino_torch = torch.from_numpy(y_treino)\n",
    "\n",
    "x_valido_torch = torch.from_numpy(x_valido).type(torch.FloatTensor)\n",
    "y_valido_torch = torch.from_numpy(y_valido)\n",
    "\n",
    "tamanho_batch = 100\n",
    "n_iters = 10000\n",
    "\n",
    "n_epochs = int((n_iters / len(y_treino)) * tamanho_batch)\n",
    "\n",
    "# Transformamos em um dataset de tensores\n",
    "treino = torch.utils.data.TensorDataset(x_treino_torch, y_treino_torch)\n",
    "validacao = torch.utils.data.TensorDataset(x_valido_torch, y_valido_torch)\n",
    "\n",
    "# Preparamos o dataser para ser iterado pela rede\n",
    "treino_loader = DataLoader(treino, batch_size=tamanho_batch, shuffle=False)\n",
    "validacao_loader = DataLoader(validacao, batch_size=tamanho_batch, shuffle=False)"
   ]
  },
  {
   "source": [
    "### Para que serviu o TensorDataset e o DataLoader?\n",
    "\n",
    "Basicamente, o que eles fazem é transformar nosso conjunto de tensores (que antes eram arrays numpy) em algo iterável, ou seja, que podemos percorrer por com um loop, além disso, já os dividimos em levas (*batchs*) de 100 serão alimentados na nossa rede. Vamos dar uma olhada em como está estruturado nosso `treino_loader`:"
   ],
   "cell_type": "markdown",
   "metadata": {}
  },
  {
   "cell_type": "code",
   "execution_count": 37,
   "metadata": {
    "tags": []
   },
   "outputs": [
    {
     "output_type": "stream",
     "name": "stdout",
     "text": [
      "[tensor([[-0.8106, -0.8106, -0.8106,  ..., -0.8106, -0.8106, -0.8106],\n        [-0.8106, -0.8106, -0.8106,  ..., -0.8106, -0.8106, -0.8106],\n        [-0.8106, -0.8106, -0.8106,  ..., -0.8106, -0.8106, -0.8106],\n        ...,\n        [-0.8106, -0.8106, -0.8106,  ..., -0.8106, -0.8106, -0.8106],\n        [-0.8106, -0.8106, -0.7994,  ..., -0.8106, -0.8106, -0.8106],\n        [-0.8106, -0.8106, -0.8106,  ..., -0.8106, -0.8106, -0.8106]]), tensor([2, 9, 6, 0, 3, 4, 4, 5, 4, 8, 0, 8, 9, 0, 2, 2, 9, 3, 3, 3, 8, 7, 4, 4,\n        0, 4, 4, 8, 7, 1, 5, 0, 5, 3, 2, 7, 3, 4, 2, 1, 6, 0, 9, 6, 0, 5, 6, 7,\n        7, 2, 5, 2, 2, 4, 1, 4, 9, 8, 3, 4, 5, 5, 6, 3, 5, 8, 5, 9, 8, 1, 2, 8,\n        1, 3, 6, 8, 3, 4, 2, 5, 0, 2, 6, 8, 1, 2, 7, 6, 6, 4, 6, 5, 0, 1, 7, 3,\n        5, 8, 4, 3])]\n[tensor([[-0.8106, -0.8106, -0.8106,  ..., -0.8106, -0.8106, -0.8106],\n        [-0.8106, -0.8106, -0.8106,  ..., -0.8106, -0.8106, -0.8106],\n        [-0.8106, -0.8106, -0.7994,  ..., -0.8106, -0.8106, -0.8106],\n        ...,\n        [-0.8106, -0.8106, -0.8106,  ..., -0.8106, -0.8106, -0.8106],\n        [-0.8106, -0.8106, -0.8106,  ..., -0.8106, -0.8106, -0.8106],\n        [-0.8106, -0.8106, -0.8106,  ..., -0.8106, -0.8106, -0.8106]]), tensor([8, 5, 0, 5, 3, 0, 8, 5, 6, 1, 0, 7, 6, 1, 9, 7, 6, 9, 3, 3, 2, 6, 0, 6,\n        3, 6, 3, 5, 9, 7, 7, 6, 3, 6, 7, 2, 4, 1, 3, 1, 0, 6, 3, 0, 3, 4, 6, 5,\n        9, 3, 7, 2, 4, 8, 8, 6, 7, 5, 6, 1, 9, 9, 1, 7, 0, 8, 9, 7, 7, 8, 6, 9,\n        2, 3, 0, 4, 1, 9, 4, 7, 2, 8, 0, 0, 8, 4, 5, 4, 3, 2, 6, 1, 7, 7, 5, 7,\n        7, 8, 0, 4])]\n[tensor([[-0.8106, -0.8106, -0.8106,  ..., -0.8106, -0.8106, -0.8106],\n        [-0.8106, -0.8106, -0.8106,  ..., -0.8106, -0.8106, -0.8106],\n        [-0.8106, -0.8106, -0.8106,  ..., -0.8106, -0.8106, -0.8106],\n        ...,\n        [-0.8106, -0.8106, -0.8106,  ..., -0.8106, -0.8106, -0.8106],\n        [-0.8106, -0.8106, -0.8106,  ..., -0.3322, -0.8106, -0.8106],\n        [-0.8106, -0.8106, -0.8106,  ..., -0.8106, -0.8106, -0.8106]]), tensor([3, 9, 7, 4, 5, 3, 6, 7, 6, 9, 6, 9, 4, 1, 2, 7, 3, 8, 3, 1, 3, 0, 0, 6,\n        4, 2, 8, 9, 2, 8, 8, 2, 6, 2, 8, 7, 0, 1, 4, 9, 5, 1, 9, 6, 7, 7, 7, 6,\n        3, 8, 6, 4, 5, 9, 3, 4, 9, 6, 1, 3, 0, 9, 1, 6, 9, 9, 4, 6, 4, 6, 1, 4,\n        9, 3, 7, 2, 4, 7, 0, 1, 1, 8, 2, 4, 1, 6, 3, 1, 5, 5, 8, 4, 7, 2, 3, 8,\n        4, 5, 5, 6])]\n[tensor([[-0.8106, -0.8106, -0.8106,  ..., -0.8106, -0.8106, -0.8106],\n        [-0.8106, -0.8106, -0.8106,  ..., -0.8106, -0.8106, -0.8106],\n        [-0.8106, -0.8106, -0.8106,  ..., -0.1653, -0.0652, -0.8106],\n        ...,\n        [-0.8106, -0.8106, -0.8106,  ..., -0.8106, -0.8106, -0.8106],\n        [-0.8106, -0.8106, -0.8106,  ..., -0.8106, -0.8106, -0.8106],\n        [-0.8106, -0.8106, -0.8106,  ..., -0.8106, -0.8106, -0.8106]]), tensor([3, 8, 9, 9, 4, 8, 0, 3, 4, 6, 1, 9, 8, 2, 7, 3, 0, 3, 9, 7, 6, 1, 7, 3,\n        6, 0, 6, 4, 5, 8, 2, 9, 8, 2, 8, 7, 6, 2, 9, 3, 0, 2, 3, 4, 6, 4, 6, 4,\n        0, 8, 8, 2, 3, 9, 4, 5, 6, 6, 7, 2, 2, 7, 8, 7, 4, 9, 3, 2, 2, 5, 4, 1,\n        1, 3, 5, 0, 3, 5, 2, 7, 5, 3, 5, 8, 9, 1, 0, 9, 0, 6, 5, 2, 0, 7, 3, 0,\n        7, 9, 3, 5])]\n[tensor([[-0.8106, -0.8106, -0.8106,  ..., -0.8106, -0.8106, -0.8106],\n        [-0.8106, -0.8106, -0.7994,  ..., -0.8106, -0.8106, -0.8106],\n        [-0.8106, -0.8106, -0.8106,  ...,  0.1350, -0.7772, -0.8106],\n        ...,\n        [-0.8106, -0.8106, -0.8106,  ..., -0.8106, -0.8106, -0.8106],\n        [-0.8106, -0.8106, -0.8106,  ..., -0.8106, -0.8106, -0.8106],\n        [-0.8106, -0.8106, -0.8106,  ..., -0.8106, -0.8106, -0.8106]]), tensor([0, 6, 2, 7, 4, 3, 2, 3, 2, 0, 3, 5, 6, 4, 9, 0, 1, 0, 3, 3, 1, 6, 8, 4,\n        9, 9, 0, 6, 3, 7, 7, 2, 8, 9, 5, 2, 2, 6, 9, 0, 3, 0, 0, 5, 2, 9, 7, 8,\n        7, 5, 6, 4, 8, 0, 3, 0, 6, 0, 6, 9, 4, 4, 1, 0, 3, 7, 0, 3, 9, 9, 8, 7,\n        6, 7, 0, 3, 7, 8, 3, 3, 5, 3, 6, 0, 3, 6, 0, 6, 0, 1, 9, 9, 7, 1, 4, 9,\n        1, 6, 3, 1])]\n"
     ]
    }
   ],
   "source": [
    "limite = 5\n",
    "contador = 0\n",
    "for i in treino_loader:\n",
    "    if contador < limite: print(i)\n",
    "    else: break\n",
    "    contador += 1"
   ]
  },
  {
   "cell_type": "code",
   "execution_count": 38,
   "metadata": {},
   "outputs": [
    {
     "output_type": "execute_result",
     "data": {
      "text/plain": [
       "500"
      ]
     },
     "metadata": {},
     "execution_count": 38
    }
   ],
   "source": [
    "len(treino_loader)"
   ]
  },
  {
   "source": [
    "Aqui podemos observar que nosso treino_loader é composto de 500 pares de tensores, vamos olhar melhor cada um desses tensores:"
   ],
   "cell_type": "markdown",
   "metadata": {}
  },
  {
   "cell_type": "code",
   "execution_count": 39,
   "metadata": {
    "tags": [
     "outputPrepend"
    ]
   },
   "outputs": [
    {
     "output_type": "stream",
     "name": "stdout",
     "text": [
      ".4309e-01, -2.8771e-01, -7.8832e-01,  1.5727e-01, -3.6559e-01,\n",
      "        -6.6595e-01, -4.3233e-01, -8.1057e-01,  3.4639e-01,  2.3514e-01,\n",
      "        -4.2121e-01, -4.5458e-01,  1.4700e+00, -5.7695e-01,  6.8275e-02,\n",
      "        -6.6595e-01, -8.1057e-01, -8.1057e-01, -8.1057e-01, -8.1057e-01,\n",
      "        -8.1057e-01, -7.2157e-01, -7.7720e-01, -5.2133e-01,  5.4663e-01,\n",
      "        -3.0996e-01, -4.7683e-01, -5.2133e-01, -2.5434e-01, -6.2145e-01,\n",
      "         2.4627e-01,  9.9162e-01,  3.9089e-01, -9.8594e-02,  5.7150e-02,\n",
      "        -8.1057e-01, -4.8796e-01, -2.5434e-01, -6.7707e-01, -8.1057e-01,\n",
      "        -1.6534e-01, -8.1057e-01, -8.1057e-01, -8.1057e-01, -8.1057e-01,\n",
      "        -8.1057e-01, -8.1057e-01, -8.1057e-01, -8.1057e-01, -8.1057e-01,\n",
      "        -8.1057e-01, -8.1057e-01, -8.1057e-01, -4.7683e-01, -5.1021e-01,\n",
      "        -3.4334e-01, -1.9872e-01, -5.7695e-01,  3.4639e-01,  7.4688e-01,\n",
      "         7.8025e-01, -2.4321e-01, -2.9884e-01, -5.8808e-01, -5.8808e-01,\n",
      "        -5.1021e-01, -6.1033e-01, -7.4382e-01, -8.1057e-01, -8.1057e-01,\n",
      "        -8.1057e-01, -8.1057e-01, -8.1057e-01, -8.1057e-01, -8.1057e-01,\n",
      "        -8.1057e-01, -7.9945e-01, -7.9945e-01, -8.1057e-01, -8.1057e-01,\n",
      "        -8.1057e-01, -5.7695e-01, -1.6534e-01, -1.9872e-01, -1.9872e-01,\n",
      "         1.0806e+00,  6.6900e-01,  9.3600e-01,  1.1362e+00,  6.9125e-01,\n",
      "         2.1289e-01, -2.0984e-01, -7.5495e-01, -3.7671e-01, -4.7683e-01,\n",
      "        -7.7720e-01, -8.1057e-01, -7.9945e-01, -7.9945e-01, -8.1057e-01,\n",
      "        -8.1057e-01, -8.1057e-01, -8.1057e-01, -8.1057e-01, -8.1057e-01,\n",
      "        -8.1057e-01, -8.1057e-01, -8.1057e-01, -8.1057e-01, -5.6583e-01,\n",
      "        -2.0984e-01, -3.6559e-01,  5.9113e-01,  1.0361e+00,  4.7989e-01,\n",
      "         6.3563e-01,  1.0361e+00,  5.0214e-01,  3.0189e-01,  6.8275e-02,\n",
      "        -8.1057e-01, -4.3233e-01,  6.8275e-02, -6.6595e-01, -8.1057e-01,\n",
      "        -7.9945e-01, -8.1057e-01, -8.1057e-01, -8.1057e-01, -8.1057e-01,\n",
      "        -8.1057e-01, -8.1057e-01, -8.1057e-01, -8.1057e-01, -8.1057e-01,\n",
      "        -7.9945e-01, -8.1057e-01, -5.6583e-01, -4.8796e-01, -5.1021e-01,\n",
      "         6.0226e-01,  3.7976e-01,  1.1277e-01,  8.8037e-01,  5.3551e-01,\n",
      "        -6.7707e-01, -4.7683e-01, -1.5422e-01, -6.9932e-01, -8.1057e-01,\n",
      "        -4.6571e-01, -5.1021e-01, -8.1057e-01, -7.8832e-01, -8.1057e-01,\n",
      "        -8.1057e-01, -8.1057e-01, -8.1057e-01, -8.1057e-01, -8.1057e-01,\n",
      "        -8.1057e-01, -8.1057e-01, -8.1057e-01, -7.9945e-01, -8.1057e-01,\n",
      "        -7.3270e-01, -2.6546e-01, -1.3197e-01, -9.8594e-02, -2.0722e-02,\n",
      "         1.0165e-01,  8.3587e-01, -1.6534e-01, -4.8796e-01, -4.8796e-01,\n",
      "        -7.3270e-01, -1.9872e-01,  1.1277e-01, -1.6534e-01, -4.5458e-01,\n",
      "        -8.1057e-01, -7.8832e-01, -8.1057e-01, -8.1057e-01, -8.1057e-01,\n",
      "        -8.1057e-01, -8.1057e-01, -8.1057e-01, -8.1057e-01, -8.1057e-01,\n",
      "        -8.1057e-01, -8.1057e-01, -8.1057e-01, -8.1057e-01, -5.1021e-01,\n",
      "        -5.2133e-01, -6.7707e-01, -5.2133e-01, -6.6595e-01, -2.9884e-01,\n",
      "        -3.7671e-01, -7.7720e-01, -6.7707e-01, -8.1057e-01, -4.8796e-01,\n",
      "         2.7964e-01, -3.2109e-01, -8.1057e-01, -8.1057e-01, -7.9945e-01,\n",
      "        -8.1057e-01, -8.1057e-01, -8.1057e-01, -8.1057e-01])\n",
      "Tamanho da imagem tensor: 784\n",
      "------------------------------------------\n",
      "Tensor de imagens: tensor([[-0.8106, -0.8106, -0.8106,  ..., -0.8106, -0.8106, -0.8106],\n",
      "        [-0.8106, -0.8106, -0.8106,  ..., -0.8106, -0.8106, -0.8106],\n",
      "        [-0.8106, -0.8106, -0.8106,  ..., -0.8106, -0.8106, -0.8106],\n",
      "        ...,\n",
      "        [-0.8106, -0.8106, -0.8106,  ..., -0.8106, -0.8106, -0.8106],\n",
      "        [-0.8106, -0.8106, -0.8106,  ..., -0.8106, -0.8106, -0.8106],\n",
      "        [-0.8106, -0.8106, -0.8106,  ..., -0.8106, -0.8106, -0.8106]])\n",
      "Tamanho do Tensor: 100\n",
      "Imagem tensor: tensor([-0.8106, -0.8106, -0.8106, -0.8106, -0.8106, -0.8106, -0.8106, -0.8106,\n",
      "        -0.8106, -0.8106, -0.1320,  0.8470,  1.4032,  1.7036,  1.6035,  1.0139,\n",
      "         0.4243, -0.5770, -0.8106, -0.8106, -0.7994, -0.8106, -0.8106, -0.8106,\n",
      "        -0.8106, -0.8106, -0.8106, -0.8106, -0.8106, -0.8106, -0.8106, -0.8106,\n",
      "        -0.8106, -0.8106, -0.7661, -0.8106, -0.7216,  1.9928,  1.9372,  1.9150,\n",
      "         1.8482,  1.8593,  1.8816,  1.8482,  1.9261,  1.8705,  0.3130, -0.8106,\n",
      "        -0.8106, -0.8106, -0.8106, -0.8106, -0.8106, -0.8106, -0.8106, -0.8106,\n",
      "        -0.8106, -0.8106, -0.8106, -0.8106, -0.8106, -0.8106, -0.7216, -0.8106,\n",
      "         0.9805,  2.0262,  1.6591,  1.7815,  1.7370,  1.7481,  1.6925,  1.7703,\n",
      "         1.7926,  1.7258,  1.8593, -0.5992, -0.8106, -0.7661, -0.8106, -0.8106,\n",
      "        -0.8106, -0.8106, -0.8106, -0.8106, -0.8106, -0.8106, -0.8106, -0.8106,\n",
      "        -0.8106, -0.7772, -0.8106, -0.8106,  1.7703,  1.8482,  1.7481,  1.7592,\n",
      "         1.9038,  2.0151,  2.0040,  1.9706,  1.7926,  1.6813,  1.9483,  0.3130,\n",
      "        -0.8106, -0.8106, -0.8106, -0.8106, -0.8106, -0.8106, -0.8106, -0.8106,\n",
      "        -0.8106, -0.8106, -0.8106, -0.8106, -0.7883, -0.8106, -0.8106, -0.8106,\n",
      "         1.7592,  1.7926,  1.7703,  1.7815,  1.9483,  1.0250,  1.3699,  2.0040,\n",
      "         1.6591,  1.7481,  1.8593,  1.7036, -0.8106, -0.8106, -0.8106, -0.8106,\n",
      "        -0.8106, -0.8106, -0.8106, -0.8106, -0.8106, -0.8106, -0.8106, -0.7994,\n",
      "        -0.8106, -0.8106,  0.8136,  1.6813,  1.8260,  1.8260,  1.8482,  1.8037,\n",
      "         1.9928,  0.7914,  1.2252,  1.9483,  1.7815,  1.8593,  1.8037,  1.8705,\n",
      "         1.7036,  0.4131, -0.8106, -0.8106, -0.8106, -0.8106, -0.8106, -0.8106,\n",
      "        -0.8106, -0.8106, -0.8106, -0.8106, -0.8106,  1.1585,  2.0151,  1.7481,\n",
      "         1.7703,  1.7592,  1.8037,  1.7926,  1.8260,  1.9928,  1.9595,  1.8705,\n",
      "         1.8148,  1.7926,  1.7815,  1.7592,  1.7370,  1.9928,  0.3909, -0.8106,\n",
      "        -0.7438, -0.8106, -0.8106, -0.8106, -0.8106, -0.8106, -0.8106, -0.8106,\n",
      "        -0.5325,  1.8593,  1.6702,  1.7370,  1.8037,  1.7592,  1.7815,  1.7592,\n",
      "         1.7258,  1.7147,  1.7592,  1.7147,  1.7370,  1.7703,  1.7815,  1.7592,\n",
      "         1.7147,  1.7926,  1.4477, -0.8106, -0.8106, -0.8106, -0.8106, -0.8106,\n",
      "        -0.8106, -0.8106, -0.8106, -0.8106,  0.5133,  1.9261,  1.7147,  1.7481,\n",
      "         1.7370,  1.7926,  1.7481,  1.8148,  2.0151,  1.9706,  1.9817,  1.9706,\n",
      "         2.0040,  1.7481,  1.7592,  1.7592,  1.7258,  1.7370,  1.8260, -0.4991,\n",
      "        -0.8106, -0.8106, -0.8106, -0.8106, -0.8106, -0.8106, -0.8106, -0.8106,\n",
      "         1.1251,  1.8705,  1.7258,  1.7147,  1.7815,  1.7036,  1.7592,  1.8148,\n",
      "         1.0917,  1.5701,  1.3587,  1.4477,  1.4477,  2.0262,  1.9150,  1.7592,\n",
      "         1.7481,  1.7147,  1.9261,  0.4354, -0.8106, -0.8106, -0.8106, -0.8106,\n",
      "        -0.8106, -0.8106, -0.8106, -0.8106,  1.7370,  1.8148,  1.7592,  1.7592,\n",
      "         1.8037,  1.9483,  1.9261,  1.9928,  0.8581,  0.6245,  0.1350,  0.8359,\n",
      "        -0.6882, -0.1431,  1.9817,  1.8260,  1.7592,  1.7703,  1.8927,  1.1585,\n",
      "        -0.8106, -0.8106, -0.8106, -0.8106, -0.8106, -0.8106, -0.8106, -0.8106,\n",
      "         1.9261,  1.7815,  1.7815,  1.7926,  1.7370,  1.0584,  1.2252,  1.0917,\n",
      "         0.7691,  1.0695,  1.1919,  1.0139,  0.1906, -0.6103,  0.3464,  2.0262,\n",
      "         1.7258,  1.7815,  1.8260,  1.6480, -0.8106, -0.8106, -0.8106, -0.8106,\n",
      "        -0.8106, -0.8106, -0.8106, -0.8106,  2.0262,  1.7147,  1.7926,  1.7926,\n",
      "         1.7703,  1.1696,  1.2809,  0.7803,  0.9694,  1.1474,  0.9916,  0.8915,\n",
      "        -0.3211,  0.1573, -0.0541,  2.0151,  1.7703,  1.8037,  1.7703,  1.9372,\n",
      "        -0.8106, -0.8106, -0.8106, -0.8106, -0.8106, -0.8106, -0.8106, -0.7327,\n",
      "         2.0262,  1.6925,  1.7703,  1.8148,  1.7258,  1.9928,  1.3031,  0.6801,\n",
      "        -0.1653,  0.3241,  0.4020,  0.2129, -0.4768,  0.2463,  0.1906,  2.0151,\n",
      "         1.7815,  1.8148,  1.7481,  2.0262, -0.8106, -0.8106, -0.8106, -0.8106,\n",
      "        -0.8106, -0.8106, -0.8106, -0.4101,  2.0262,  1.6702,  1.7815,  1.8260,\n",
      "         1.6925,  1.7481,  1.5701,  1.8816,  1.9595,  1.7036,  1.7926,  1.7926,\n",
      "         1.8260,  1.8705,  1.8371,  1.7926,  1.7703,  1.8260,  1.7370,  2.0262,\n",
      "        -0.8106, -0.8106, -0.8106, -0.8106, -0.8106, -0.8106, -0.8106, -0.0207,\n",
      "         2.0262,  1.6813,  1.7592,  1.8482,  1.6925,  1.7703,  1.8371,  1.7926,\n",
      "         1.7926,  1.8816,  1.8037,  1.8037,  1.8037,  1.7926,  1.7926,  1.7036,\n",
      "         1.7926,  1.8148,  1.7258,  2.0262, -0.5436, -0.8106, -0.8106, -0.8106,\n",
      "        -0.8106, -0.8106, -0.8106,  0.1906,  2.0262,  1.6813,  1.7481,  1.8371,\n",
      "         1.7147,  1.7703,  1.7592,  1.7592,  1.7592,  1.7370,  1.7258,  1.7258,\n",
      "         1.7258,  1.6925,  1.7036,  1.6925,  1.7815,  1.8260,  1.7258,  2.0262,\n",
      "        -0.3322, -0.8106, -0.8106, -0.8106, -0.8106, -0.8106, -0.8106,  0.3575,\n",
      "         2.0262,  1.6368,  1.7258,  1.8705,  1.7481,  1.7815,  1.7592,  1.7592,\n",
      "         1.7703,  1.7592,  1.7481,  1.7370,  1.7258,  1.7147,  1.7258,  1.6925,\n",
      "         1.7926,  1.8037,  1.7370,  2.0262, -0.0430, -0.8106, -0.8106, -0.8106,\n",
      "        -0.8106, -0.8106, -0.8106,  0.6245,  2.0040,  1.6591,  1.7147,  1.8705,\n",
      "         1.7703,  1.7815,  1.7592,  1.7592,  1.7592,  1.7592,  1.7592,  1.7592,\n",
      "         1.7481,  1.7592,  1.7592,  1.7147,  1.8260,  1.8371,  1.7370,  2.0262,\n",
      "         0.1573, -0.8106, -0.8106, -0.8106, -0.8106, -0.8106, -0.8106,  0.8692,\n",
      "         2.0040,  1.6368,  1.7481,  1.9261,  1.7592,  1.7592,  1.7703,  1.7815,\n",
      "         1.7815,  1.7592,  1.7481,  1.7592,  1.7481,  1.7592,  1.7703,  1.6925,\n",
      "         1.8371,  1.8816,  1.7147,  2.0262,  0.3019, -0.8106, -0.8106, -0.8106,\n",
      "        -0.8106, -0.8106, -0.8106,  1.0361,  1.9595,  1.6925,  1.6925,  1.6368,\n",
      "         1.8927,  1.7370,  1.7926,  1.7815,  1.7815,  1.7703,  1.7703,  1.7703,\n",
      "         1.7703,  1.7370,  1.7036,  1.7592,  1.7926,  1.9150,  1.7370,  2.0262,\n",
      "         0.4910, -0.8106, -0.8106, -0.8106, -0.8106, -0.8106, -0.8106,  1.1919,\n",
      "         1.8593,  1.8260,  1.5812,  0.7469,  2.0262,  1.7036,  1.7703,  1.7703,\n",
      "         1.7703,  1.7703,  1.7592,  1.7592,  1.7703,  1.7370,  1.7258,  1.9150,\n",
      "         1.2364,  1.8482,  1.7703,  2.0151,  0.7691, -0.8106, -0.8106, -0.8106,\n",
      "        -0.8106, -0.8106, -0.8106,  1.2475,  1.8371,  1.8705,  1.5812,  0.2574,\n",
      "         2.0262,  1.7147,  1.8037,  1.7926,  1.8037,  1.7926,  1.7926,  1.8037,\n",
      "         1.8037,  1.7815,  1.7258,  2.0262,  0.4576,  1.7703,  1.7815,  1.9706,\n",
      "         0.9026, -0.8106, -0.8106, -0.8106, -0.8106, -0.8106, -0.8106,  1.3254,\n",
      "         1.7815,  1.7815,  1.6146,  0.1461,  1.9038,  1.6813,  1.7370,  1.7258,\n",
      "         1.7370,  1.7147,  1.7147,  1.7258,  1.7370,  1.7258,  1.7036,  1.7703,\n",
      "         0.4576,  1.8705,  1.7926,  1.7926,  1.1696, -0.8106, -0.8106, -0.8106,\n",
      "        -0.8106, -0.8106, -0.8106,  1.2475,  1.7815,  1.8037,  1.6813,  0.3686,\n",
      "         2.0262,  1.9038,  1.9261,  1.9261,  1.9261,  1.9261,  1.9261,  1.9261,\n",
      "         1.9261,  1.9372,  1.8927,  2.0151,  0.8359,  1.5701,  1.8037,  1.8037,\n",
      "         1.2475, -0.8106, -0.8106, -0.8106, -0.8106, -0.8106, -0.8106,  0.2463,\n",
      "         1.8148,  1.7258,  1.3810, -0.8106,  0.3019,  0.6356,  0.7358,  0.7135,\n",
      "         0.7135,  0.7358,  0.7469,  0.7358,  0.7246,  0.5689,  0.3909,  0.0349,\n",
      "        -0.8106,  1.3365,  1.8148,  1.7926,  0.7246, -0.8106, -0.8106, -0.8106,\n",
      "        -0.8106, -0.8106, -0.8106, -0.1542,  1.8927,  1.9261,  1.7926, -0.8106,\n",
      "        -0.8106, -0.8106, -0.8106, -0.8106, -0.8106, -0.8106, -0.8106, -0.8106,\n",
      "        -0.8106, -0.8106, -0.8106, -0.8106, -0.8106,  1.2030,  1.9150,  1.9038,\n",
      "         0.6801, -0.8106, -0.8106, -0.8106, -0.8106, -0.8106, -0.8106, -0.8106,\n",
      "        -0.2098, -0.0318, -0.5325, -0.8106, -0.8106, -0.7994, -0.7994, -0.7994,\n",
      "        -0.7994, -0.7994, -0.7994, -0.7994, -0.7994, -0.7994, -0.7883, -0.7994,\n",
      "        -0.8106, -0.8106, -0.5102, -0.4768, -0.8106, -0.8106, -0.8106, -0.8106])\n",
      "Tamanho da imagem tensor: 784\n",
      "------------------------------------------\n",
      "Tensor de imagens: tensor([[-0.8106, -0.8106, -0.8106,  ..., -0.8106, -0.8106, -0.8106],\n",
      "        [-0.8106, -0.8106, -0.8106,  ..., -0.8106, -0.8106, -0.8106],\n",
      "        [-0.8106, -0.8106, -0.8106,  ..., -0.8106, -0.8106, -0.8106],\n",
      "        ...,\n",
      "        [-0.8106, -0.8106, -0.8106,  ..., -0.8106, -0.8106, -0.8106],\n",
      "        [-0.8106, -0.8106, -0.8106,  ..., -0.8106, -0.8106, -0.8106],\n",
      "        [-0.8106, -0.8106, -0.8106,  ..., -0.8106, -0.8106, -0.8106]])\n",
      "Tamanho do Tensor: 100\n",
      "Imagem tensor: tensor([-0.8106, -0.8106, -0.8106, -0.8106, -0.8106, -0.8106, -0.8106, -0.8106,\n",
      "        -0.8106, -0.8106, -0.8106, -0.8106, -0.8106, -0.8106, -0.8106, -0.8106,\n",
      "        -0.8106, -0.8106, -0.8106, -0.8106, -0.8106, -0.8106, -0.8106, -0.8106,\n",
      "        -0.8106, -0.8106, -0.8106, -0.8106, -0.8106, -0.8106, -0.8106, -0.8106,\n",
      "        -0.8106, -0.8106, -0.8106, -0.8106, -0.8106, -0.8106, -0.8106, -0.8106,\n",
      "        -0.8106, -0.8106, -0.8106, -0.8106, -0.8106, -0.8106, -0.8106, -0.8106,\n",
      "        -0.8106, -0.8106, -0.8106, -0.8106, -0.8106, -0.8106, -0.8106, -0.8106,\n",
      "        -0.8106, -0.8106, -0.8106, -0.8106, -0.8106, -0.8106, -0.8106, -0.8106,\n",
      "        -0.8106, -0.8106, -0.8106, -0.8106, -0.8106, -0.8106, -0.8106, -0.8106,\n",
      "        -0.8106, -0.8106, -0.8106, -0.8106, -0.8106, -0.8106, -0.8106, -0.8106,\n",
      "        -0.8106, -0.8106, -0.8106, -0.8106, -0.8106, -0.8106, -0.8106, -0.8106,\n",
      "        -0.8106, -0.8106, -0.8106, -0.8106, -0.8106, -0.7883, -0.8106, -0.8106,\n",
      "        -0.6215, -0.6771, -0.6882, -0.6771, -0.6993, -0.8106, -0.8106, -0.7994,\n",
      "        -0.8106, -0.7883, -0.7994, -0.8106, -0.8106, -0.8106, -0.8106, -0.8106,\n",
      "        -0.8106, -0.8106, -0.8106, -0.8106, -0.8106, -0.8106, -0.8106, -0.8106,\n",
      "        -0.7994, -0.7772, -0.8106,  0.6023,  0.7691,  0.6579,  0.6468,  0.5466,\n",
      "         0.8915, -0.4101, -0.8106, -0.7438, -0.8106, -0.8106, -0.8106, -0.8106,\n",
      "        -0.8106, -0.8106, -0.8106, -0.8106, -0.8106, -0.8106, -0.8106, -0.8106,\n",
      "        -0.8106, -0.8106, -0.8106, -0.8106, -0.7883, -0.8106, -0.8106,  0.9360,\n",
      "        -0.2321, -0.2432, -0.1431, -0.4212,  0.3575,  0.7024, -0.8106, -0.7661,\n",
      "        -0.7994, -0.8106, -0.8106, -0.8106, -0.8106, -0.8106, -0.8106, -0.8106,\n",
      "        -0.7994, -0.7994, -0.8106, -0.8106, -0.8106, -0.8106, -0.8106, -0.8106,\n",
      "        -0.7549, -0.8106,  0.4020,  1.2475, -0.8106, -0.8106, -0.8106, -0.8106,\n",
      "        -0.3211,  1.3699, -0.8106, -0.8106, -0.7772, -0.7994, -0.8106, -0.8106,\n",
      "        -0.8106, -0.8106, -0.8106, -0.8106, -0.7994, -0.8106, -0.8106, -0.8106,\n",
      "        -0.7994, -0.7549, -0.7216, -0.8106, -0.8106, -0.8106,  1.3810,  1.2920,\n",
      "        -0.8106, -0.8106, -0.8106, -0.8106, -0.1765,  1.7815, -0.1876, -0.8106,\n",
      "        -0.7994, -0.7549, -0.6993, -0.7549, -0.7994, -0.8106, -0.8106, -0.8106,\n",
      "        -0.8106, -0.7994, -0.7661, -0.7772, -0.7772, -0.8106, -0.8106, -0.8106,\n",
      "        -0.8106, -0.8106,  1.3810,  0.7914, -0.7549, -0.4880, -0.7772, -0.8106,\n",
      "        -0.3100,  1.7703,  0.9026, -0.8106, -0.8106, -0.8106, -0.8106, -0.8106,\n",
      "        -0.7772, -0.7883, -0.8106, -0.8106, -0.7994, -0.7994, -0.7994, -0.8106,\n",
      "        -0.8106, -0.3545,  1.1474,  1.6368,  1.7481,  1.2586,  1.5478,  1.4032,\n",
      "         1.2920,  1.4366,  1.3031,  1.2364,  1.0027,  1.2364,  1.4589,  0.5021,\n",
      "         0.6023,  0.5578,  0.2908, -0.8106, -0.8106, -0.8106, -0.8106, -0.8106,\n",
      "        -0.7883, -0.7994, -0.8106, -0.8106,  0.7024,  1.0472,  1.2030,  0.9360,\n",
      "         1.0695,  1.2475,  1.6035,  1.4032,  0.4131,  0.6023,  0.7691,  0.5355,\n",
      "         1.2586,  1.1696,  1.5145,  1.4477,  1.2697,  1.3476,  1.3921,  1.0917,\n",
      "         0.4688, -0.8106, -0.8106, -0.7994, -0.8106, -0.8106, -0.8106,  0.7358,\n",
      "         1.2697,  1.1140,  0.7469,  0.8470,  1.1140,  1.0695,  1.8482,  1.5478,\n",
      "         1.1585,  1.1807,  1.1251,  1.1585,  0.8136,  0.8136,  2.0151,  1.3476,\n",
      "         0.3798,  1.1029,  1.1696,  1.2809,  1.4477,  0.2796, -0.8106, -0.8106,\n",
      "        -0.7994, -0.8106,  0.1684,  1.4589,  1.2252,  1.2586,  1.4144,  1.6257,\n",
      "         0.5466,  0.7135,  1.8705,  1.2475,  0.8359,  1.2475,  1.0806,  1.1696,\n",
      "         1.2809,  1.1585,  1.6368,  1.5478,  1.2697,  1.4366,  1.5256,  1.5701,\n",
      "         1.3921,  1.1474, -0.8106, -0.8106, -0.8106, -0.8106,  1.0472,  1.5256,\n",
      "         1.2920,  1.3254,  1.3476,  1.5256,  1.2252,  0.2796, -0.6882,  0.6690,\n",
      "         1.4144,  1.2809,  1.3921,  1.4477,  0.7358,  1.8705,  0.1461,  0.3686,\n",
      "         1.8371,  1.6368,  1.6146,  1.5256,  1.5256,  1.3587, -0.5102, -0.8106,\n",
      "        -0.8106, -0.5658,  1.5145,  1.5034,  1.3810,  1.3254,  1.5478,  1.4811,\n",
      "         1.4255,  1.3476,  1.1029,  1.4144,  1.2809,  1.4144,  1.5812,  1.8148,\n",
      "         0.1461,  1.3810,  1.4589,  1.4032,  1.6702,  1.4811,  1.5923,  1.5590,\n",
      "         1.5145,  1.6257,  0.9137, -0.8106, -0.3656,  1.0027,  1.0584,  1.5812,\n",
      "         1.3365,  1.4700,  1.4366,  1.5034,  1.0806,  1.7147,  2.0262,  1.7036,\n",
      "         1.3587,  1.5812,  1.0695,  0.9916,  1.1029,  1.1474,  2.0262,  2.0151,\n",
      "         1.4477,  1.4922,  1.4589,  1.6480,  1.6257,  1.4366,  1.4477, -0.8106,\n",
      "         0.7135,  2.0262,  1.3699,  1.5256,  1.4255,  1.4144,  1.3921,  1.5367,\n",
      "         1.5034,  1.5145,  1.9150,  1.5145,  1.4477,  1.6368,  1.6813,  0.6913,\n",
      "         1.5256,  1.7592,  1.8593,  1.6813,  1.4589,  1.6591,  1.6368,  1.7036,\n",
      "         1.7036,  1.6257,  1.6813, -0.8106,  1.4477,  1.1029,  1.1919,  1.2475,\n",
      "         1.3921,  1.4255,  1.6813,  1.6146,  1.4922,  1.5478,  2.0040,  1.5256,\n",
      "         1.4144,  1.6702,  1.4811,  0.2685,  1.2697,  1.6591,  1.9372,  1.5812,\n",
      "         1.3365,  1.6925,  1.7036,  1.7370,  1.6257,  1.7036,  1.7036,  0.9360,\n",
      "         1.6925, -0.0207,  1.2586,  1.6813,  1.5034,  1.6035,  0.5133,  1.0027,\n",
      "         1.7370,  1.6146,  2.0040,  1.5812,  1.4589,  1.5923,  1.5590,  1.5478,\n",
      "         1.5034,  1.4255,  1.8927,  1.8593,  1.5590,  1.7703,  1.2252,  0.7246,\n",
      "         1.9150,  1.3921,  1.7258,  1.2697,  1.3587, -0.1987,  1.7592,  1.5145,\n",
      "         1.2920,  1.6257,  0.6356,  1.2920,  1.4255,  1.0472,  2.0262,  1.4811,\n",
      "         1.2809,  1.5590,  1.4811,  1.5701,  1.4477,  1.3365,  1.8482,  1.8816,\n",
      "         1.4032,  1.5923,  1.7703,  1.6925,  1.9483,  1.4032,  1.7815,  1.1140,\n",
      "         0.2796, -0.0207,  1.6480,  1.5590,  1.2697,  1.4032,  1.7147,  1.7815,\n",
      "         1.7481,  1.6480,  1.9817,  1.5923,  1.6480,  1.6257,  1.4255,  1.6591,\n",
      "         1.6480,  1.5478,  2.0151,  1.7481,  1.2030,  1.5367,  1.6257, -0.1542,\n",
      "         1.1696,  1.8037,  1.8816,  0.2463, -0.8106,  0.6356,  1.6146,  1.4032,\n",
      "         1.2586,  1.3476,  1.5590,  1.4144,  1.6257,  1.8482,  1.9038,  1.6702,\n",
      "         1.3365,  1.5145,  1.5256,  1.2030,  0.7135,  0.9026,  1.7481,  1.6591,\n",
      "         1.3031,  1.2920,  1.4366,  0.0127,  0.9805,  1.7481,  1.8371, -0.8106,\n",
      "        -0.8106,  1.1807,  2.0262,  1.7815,  1.7703,  1.7926,  1.8037,  1.7147,\n",
      "         1.7592,  1.7926,  1.8816,  1.7481,  1.8148,  1.8260,  1.7926,  1.6368,\n",
      "         1.4700,  1.6035,  1.9595,  1.9038,  1.5701,  1.7370,  1.7481,  1.5812,\n",
      "         1.3699,  1.7370, -0.1320, -0.8106, -0.8106,  0.4576,  1.6368,  1.5367,\n",
      "         1.6480,  1.6591,  2.0262,  2.0262,  1.7592,  1.7815,  1.7815,  1.4589,\n",
      "         0.9582,  1.1474,  1.0917,  1.2141,  1.2697,  1.1474,  1.2030,  0.8915,\n",
      "         0.6134,  1.0361,  0.9805,  0.6913,  1.0139,  0.8692, -0.1097, -0.8106,\n",
      "        -0.8106, -0.8106, -0.8106, -0.8106, -0.8106, -0.8106, -0.8106, -0.8106,\n",
      "        -0.7772, -0.6993, -0.7216, -0.8106, -0.8106, -0.8106, -0.8106, -0.8106,\n",
      "        -0.8106, -0.8106, -0.8106, -0.8106, -0.8106, -0.8106, -0.8106, -0.8106,\n",
      "        -0.8106, -0.8106, -0.8106, -0.8106, -0.8106, -0.8106, -0.8106, -0.8106,\n",
      "        -0.8106, -0.8106, -0.8106, -0.8106, -0.8106, -0.8106, -0.8106, -0.8106,\n",
      "        -0.8106, -0.8106, -0.8106, -0.8106, -0.8106, -0.8106, -0.8106, -0.8106,\n",
      "        -0.8106, -0.8106, -0.8106, -0.8106, -0.8106, -0.8106, -0.8106, -0.8106,\n",
      "        -0.8106, -0.8106, -0.8106, -0.8106, -0.8106, -0.8106, -0.8106, -0.8106,\n",
      "        -0.8106, -0.8106, -0.8106, -0.8106, -0.8106, -0.8106, -0.8106, -0.8106,\n",
      "        -0.8106, -0.8106, -0.8106, -0.8106, -0.8106, -0.8106, -0.8106, -0.8106,\n",
      "        -0.8106, -0.8106, -0.8106, -0.8106, -0.8106, -0.8106, -0.8106, -0.8106,\n",
      "        -0.8106, -0.8106, -0.8106, -0.8106, -0.8106, -0.8106, -0.8106, -0.8106,\n",
      "        -0.8106, -0.8106, -0.8106, -0.8106, -0.8106, -0.8106, -0.8106, -0.8106,\n",
      "        -0.8106, -0.8106, -0.8106, -0.8106, -0.8106, -0.8106, -0.8106, -0.8106])\n",
      "Tamanho da imagem tensor: 784\n",
      "------------------------------------------\n"
     ]
    }
   ],
   "source": [
    "limite = 5\n",
    "contador = 0\n",
    "for i in treino_loader:\n",
    "    if contador < limite:\n",
    "        print(f\"Tensor de imagens: {i[0]}\\n\"\n",
    "            f\"Tamanho do Tensor: {len(i[0])}\\n\"\n",
    "            f\"Imagem tensor: {i[0][0]}\\n\"\n",
    "            f\"Tamanho da imagem tensor: {len(i[0][0])}\\n\"\n",
    "            f\"------------------------------------------\")\n",
    "    else: break"
   ]
  },
  {
   "source": [
    "Aqui pode-se notar que o primeiro tensor do par é um tensor em que cada elemento é um batch de 100 imagens-tensor. Vamos olhar o segundo elemento do par:"
   ],
   "cell_type": "markdown",
   "metadata": {}
  },
  {
   "cell_type": "code",
   "execution_count": 40,
   "metadata": {
    "tags": [
     "outputPrepend"
    ]
   },
   "outputs": [
    {
     "output_type": "stream",
     "name": "stdout",
     "text": [
      "-----------------------------------\n",
      "Tensor de labels: tensor([1, 7, 8, 8, 8, 3, 7, 4, 6, 0, 9, 2, 0, 0, 7, 2, 6, 5, 3, 8, 8, 6, 5, 6,\n",
      "        1, 0, 6, 1, 4, 5, 4, 0, 3, 4, 6, 9, 2, 1, 5, 2, 2, 3, 3, 4, 3, 9, 0, 8,\n",
      "        5, 1, 6, 7, 5, 3, 9, 0, 6, 4, 7, 6, 1, 4, 3, 7, 7, 5, 8, 9, 7, 3, 6, 7,\n",
      "        9, 6, 0, 7, 1, 4, 7, 1, 3, 7, 8, 5, 8, 4, 5, 4, 5, 5, 8, 6, 3, 0, 4, 6,\n",
      "        1, 7, 2, 7])\n",
      "Tamanho do Tensor: 100\n",
      "Label: 1\n",
      "------------------------------------------\n",
      "Tensor de labels: tensor([5, 8, 3, 0, 3, 6, 6, 6, 6, 6, 3, 9, 6, 4, 1, 4, 8, 8, 9, 6, 5, 9, 9, 1,\n",
      "        8, 8, 5, 6, 6, 4, 5, 7, 8, 4, 4, 9, 5, 2, 6, 4, 3, 7, 8, 5, 3, 7, 3, 8,\n",
      "        9, 2, 9, 6, 3, 9, 1, 9, 2, 7, 3, 1, 4, 3, 3, 3, 7, 4, 4, 0, 1, 5, 3, 9,\n",
      "        9, 0, 8, 8, 4, 1, 3, 1, 3, 3, 4, 0, 4, 1, 5, 9, 4, 2, 7, 9, 9, 2, 7, 9,\n",
      "        6, 5, 6, 6])\n",
      "Tamanho do Tensor: 100\n",
      "Label: 5\n",
      "------------------------------------------\n",
      "Tensor de labels: tensor([7, 8, 9, 7, 8, 7, 2, 4, 3, 2, 5, 2, 4, 9, 5, 5, 1, 7, 5, 4, 9, 9, 7, 3,\n",
      "        9, 9, 5, 3, 1, 4, 1, 8, 7, 8, 9, 0, 2, 5, 9, 9, 7, 4, 2, 2, 6, 3, 0, 6,\n",
      "        2, 5, 6, 5, 0, 5, 6, 5, 6, 6, 4, 4, 1, 1, 2, 4, 6, 6, 2, 2, 9, 2, 7, 1,\n",
      "        7, 3, 0, 0, 4, 4, 6, 6, 5, 4, 9, 4, 1, 8, 5, 0, 1, 0, 4, 6, 8, 7, 9, 8,\n",
      "        7, 6, 4, 6])\n",
      "Tamanho do Tensor: 100\n",
      "Label: 7\n",
      "------------------------------------------\n",
      "Tensor de labels: tensor([8, 3, 8, 0, 9, 0, 1, 6, 5, 2, 5, 7, 8, 6, 9, 4, 4, 9, 4, 6, 9, 0, 2, 0,\n",
      "        6, 9, 3, 3, 3, 4, 8, 0, 9, 1, 6, 3, 7, 0, 5, 5, 2, 2, 1, 7, 0, 3, 6, 5,\n",
      "        8, 7, 4, 1, 9, 6, 3, 1, 5, 4, 2, 4, 0, 5, 6, 4, 4, 2, 4, 5, 8, 8, 5, 1,\n",
      "        7, 1, 9, 4, 2, 7, 9, 3, 7, 8, 5, 9, 3, 5, 6, 6, 1, 2, 1, 3, 9, 4, 6, 8,\n",
      "        6, 0, 3, 5])\n",
      "Tamanho do Tensor: 100\n",
      "Label: 8\n",
      "------------------------------------------\n",
      "Tensor de labels: tensor([9, 8, 0, 2, 4, 2, 1, 1, 1, 7, 9, 2, 1, 1, 9, 2, 2, 2, 3, 6, 8, 1, 6, 3,\n",
      "        4, 7, 7, 8, 1, 3, 2, 8, 5, 0, 3, 2, 3, 5, 5, 3, 1, 3, 4, 4, 1, 3, 7, 0,\n",
      "        4, 2, 7, 4, 4, 4, 3, 5, 0, 4, 9, 9, 7, 2, 5, 6, 6, 9, 3, 4, 3, 4, 8, 1,\n",
      "        9, 8, 7, 5, 5, 9, 5, 4, 9, 0, 9, 8, 8, 9, 2, 4, 0, 8, 7, 5, 3, 3, 8, 0,\n",
      "        7, 6, 9, 6])\n",
      "Tamanho do Tensor: 100\n",
      "Label: 9\n",
      "------------------------------------------\n",
      "Tensor de labels: tensor([4, 8, 9, 9, 0, 5, 1, 9, 4, 9, 7, 6, 1, 0, 0, 2, 1, 9, 9, 6, 7, 6, 8, 5,\n",
      "        2, 9, 1, 2, 3, 4, 6, 2, 6, 1, 9, 2, 4, 7, 5, 8, 2, 9, 1, 2, 6, 0, 0, 5,\n",
      "        6, 9, 1, 2, 0, 6, 3, 0, 1, 4, 4, 1, 0, 1, 2, 0, 4, 6, 2, 5, 5, 4, 5, 9,\n",
      "        6, 2, 7, 2, 5, 3, 9, 9, 4, 2, 0, 7, 3, 2, 0, 0, 8, 0, 3, 8, 4, 0, 6, 1,\n",
      "        8, 2, 4, 7])\n",
      "Tamanho do Tensor: 100\n",
      "Label: 4\n",
      "------------------------------------------\n",
      "Tensor de labels: tensor([7, 2, 2, 5, 7, 8, 7, 8, 0, 8, 1, 6, 8, 8, 4, 2, 4, 4, 2, 3, 4, 6, 4, 0,\n",
      "        6, 0, 1, 4, 0, 9, 0, 8, 4, 9, 5, 4, 2, 8, 0, 0, 4, 4, 6, 6, 6, 6, 8, 3,\n",
      "        4, 3, 0, 2, 2, 7, 1, 0, 5, 2, 7, 7, 6, 7, 8, 8, 1, 3, 2, 0, 0, 5, 0, 5,\n",
      "        7, 3, 8, 7, 4, 8, 7, 7, 3, 2, 0, 7, 8, 3, 0, 8, 0, 3, 6, 7, 9, 1, 5, 9,\n",
      "        6, 6, 0, 9])\n",
      "Tamanho do Tensor: 100\n",
      "Label: 7\n",
      "------------------------------------------\n",
      "Tensor de labels: tensor([5, 3, 7, 8, 3, 7, 4, 9, 8, 1, 1, 1, 8, 2, 1, 5, 9, 0, 5, 2, 8, 9, 2, 1,\n",
      "        1, 3, 5, 9, 7, 2, 5, 2, 3, 9, 1, 5, 7, 6, 6, 9, 7, 6, 7, 2, 3, 9, 0, 2,\n",
      "        2, 7, 4, 4, 2, 5, 6, 4, 4, 6, 4, 8, 3, 4, 1, 5, 3, 1, 4, 8, 7, 3, 6, 6,\n",
      "        0, 9, 2, 1, 4, 3, 7, 1, 2, 7, 9, 7, 4, 1, 1, 1, 6, 9, 0, 8, 4, 1, 5, 4,\n",
      "        7, 0, 6, 6])\n",
      "Tamanho do Tensor: 100\n",
      "Label: 5\n",
      "------------------------------------------\n",
      "Tensor de labels: tensor([0, 0, 4, 5, 3, 2, 1, 3, 4, 2, 1, 6, 8, 6, 4, 8, 3, 5, 1, 3, 7, 3, 9, 1,\n",
      "        3, 0, 1, 6, 0, 0, 8, 1, 1, 9, 8, 6, 3, 9, 5, 8, 9, 4, 4, 9, 8, 8, 5, 5,\n",
      "        8, 0, 1, 3, 0, 5, 4, 8, 9, 3, 0, 7, 2, 0, 6, 4, 1, 3, 9, 4, 8, 7, 5, 0,\n",
      "        6, 4, 5, 6, 7, 1, 9, 5, 4, 0, 3, 0, 0, 9, 4, 7, 1, 6, 1, 6, 0, 3, 2, 0,\n",
      "        4, 8, 0, 2])\n",
      "Tamanho do Tensor: 100\n",
      "Label: 0\n",
      "------------------------------------------\n",
      "Tensor de labels: tensor([4, 1, 1, 3, 0, 5, 6, 3, 4, 2, 8, 5, 0, 7, 8, 2, 3, 0, 4, 0, 3, 5, 8, 9,\n",
      "        4, 4, 2, 0, 2, 6, 8, 6, 4, 9, 0, 1, 1, 9, 9, 5, 2, 4, 2, 3, 0, 3, 0, 5,\n",
      "        2, 7, 6, 3, 6, 6, 5, 2, 0, 9, 3, 3, 3, 4, 5, 7, 8, 2, 9, 5, 5, 3, 0, 5,\n",
      "        1, 0, 1, 5, 4, 7, 0, 3, 1, 6, 6, 0, 1, 6, 1, 6, 4, 7, 9, 7, 0, 8, 0, 5,\n",
      "        1, 3, 0, 0])\n",
      "Tamanho do Tensor: 100\n",
      "Label: 4\n",
      "------------------------------------------\n",
      "Tensor de labels: tensor([2, 4, 3, 8, 1, 9, 6, 8, 3, 3, 2, 6, 0, 3, 3, 6, 6, 7, 8, 2, 7, 1, 5, 7,\n",
      "        3, 0, 0, 8, 4, 4, 2, 1, 3, 3, 5, 3, 6, 4, 0, 4, 6, 3, 4, 9, 5, 3, 0, 1,\n",
      "        9, 5, 1, 8, 5, 8, 5, 2, 0, 3, 0, 9, 0, 7, 7, 3, 4, 5, 4, 0, 9, 9, 3, 9,\n",
      "        5, 1, 4, 8, 5, 9, 4, 8, 5, 5, 0, 2, 3, 3, 7, 5, 6, 0, 4, 9, 6, 7, 7, 0,\n",
      "        7, 8, 9, 2])\n",
      "Tamanho do Tensor: 100\n",
      "Label: 2\n",
      "------------------------------------------\n",
      "Tensor de labels: tensor([3, 6, 6, 7, 7, 8, 9, 4, 1, 9, 4, 7, 5, 3, 8, 6, 8, 7, 3, 2, 7, 1, 9, 8,\n",
      "        2, 9, 1, 1, 7, 3, 3, 6, 4, 6, 1, 1, 8, 8, 6, 8, 6, 1, 7, 1, 5, 0, 9, 5,\n",
      "        7, 7, 7, 6, 9, 1, 7, 2, 3, 9, 5, 0, 0, 5, 9, 8, 6, 8, 4, 9, 7, 2, 2, 8,\n",
      "        5, 1, 6, 0, 2, 1, 6, 8, 5, 6, 1, 6, 1, 1, 0, 3, 9, 4, 0, 8, 0, 1, 9, 0,\n",
      "        0, 9, 4, 5])\n",
      "Tamanho do Tensor: 100\n",
      "Label: 3\n",
      "------------------------------------------\n",
      "Tensor de labels: tensor([2, 5, 5, 1, 6, 8, 7, 1, 1, 2, 7, 4, 0, 6, 6, 1, 1, 2, 5, 2, 6, 5, 4, 0,\n",
      "        9, 7, 0, 1, 8, 8, 0, 5, 6, 2, 9, 1, 3, 5, 1, 8, 5, 0, 9, 9, 8, 6, 4, 7,\n",
      "        8, 9, 2, 8, 6, 5, 9, 2, 1, 8, 3, 6, 4, 2, 4, 1, 1, 3, 8, 4, 2, 6, 7, 8,\n",
      "        5, 6, 2, 6, 2, 0, 0, 0, 9, 4, 9, 6, 1, 5, 4, 5, 5, 6, 0, 4, 2, 5, 3, 3,\n",
      "        6, 9, 3, 4])\n",
      "Tamanho do Tensor: 100\n",
      "Label: 2\n",
      "------------------------------------------\n",
      "Tensor de labels: tensor([8, 7, 7, 7, 4, 6, 0, 3, 3, 3, 8, 7, 5, 3, 2, 4, 0, 2, 7, 3, 1, 3, 3, 4,\n",
      "        4, 0, 5, 3, 1, 4, 8, 3, 4, 5, 7, 2, 7, 1, 8, 0, 2, 6, 7, 1, 5, 4, 8, 5,\n",
      "        0, 8, 1, 5, 6, 9, 0, 8, 8, 6, 2, 4, 5, 2, 8, 7, 0, 8, 9, 3, 3, 3, 5, 2,\n",
      "        3, 2, 5, 1, 2, 0, 3, 0, 7, 1, 3, 5, 3, 3, 2, 0, 9, 3, 8, 5, 5, 6, 6, 6,\n",
      "        9, 7, 4, 3])\n",
      "Tamanho do Tensor: 100\n",
      "Label: 8\n",
      "------------------------------------------\n",
      "Tensor de labels: tensor([8, 8, 2, 0, 9, 4, 9, 8, 7, 3, 3, 6, 3, 3, 1, 1, 1, 2, 9, 1, 6, 0, 0, 6,\n",
      "        4, 5, 0, 4, 2, 5, 2, 8, 8, 6, 2, 5, 6, 4, 4, 7, 3, 0, 8, 1, 2, 2, 3, 9,\n",
      "        5, 2, 4, 3, 2, 8, 1, 9, 1, 1, 8, 0, 0, 8, 8, 6, 4, 5, 5, 6, 4, 2, 0, 6,\n",
      "        1, 5, 8, 6, 0, 1, 6, 9, 7, 2, 1, 3, 6, 8, 1, 5, 9, 5, 7, 9, 5, 9, 0, 0,\n",
      "        1, 3, 2, 4])\n",
      "Tamanho do Tensor: 100\n",
      "Label: 8\n",
      "------------------------------------------\n",
      "Tensor de labels: tensor([5, 0, 9, 9, 9, 1, 1, 5, 6, 3, 8, 5, 8, 4, 0, 1, 7, 1, 6, 4, 5, 9, 3, 6,\n",
      "        5, 4, 4, 4, 8, 7, 9, 0, 3, 6, 3, 4, 7, 7, 2, 2, 5, 8, 8, 5, 6, 0, 6, 7,\n",
      "        1, 7, 2, 0, 4, 8, 9, 5, 7, 5, 4, 4, 0, 5, 0, 0, 0, 0, 0, 7, 5, 1, 2, 8,\n",
      "        7, 2, 8, 1, 9, 7, 9, 8, 3, 0, 8, 4, 3, 6, 3, 7, 2, 1, 4, 7, 7, 6, 7, 3,\n",
      "        7, 1, 8, 0])\n",
      "Tamanho do Tensor: 100\n",
      "Label: 5\n",
      "------------------------------------------\n",
      "Tensor de labels: tensor([2, 2, 6, 2, 3, 5, 1, 3, 2, 1, 6, 6, 1, 5, 9, 2, 6, 2, 6, 6, 2, 9, 0, 3,\n",
      "        6, 5, 8, 5, 9, 5, 8, 5, 4, 8, 6, 5, 1, 4, 2, 0, 0, 0, 8, 0, 1, 2, 9, 2,\n",
      "        4, 8, 1, 9, 2, 8, 2, 6, 0, 9, 7, 1, 5, 9, 4, 3, 1, 2, 8, 5, 9, 0, 3, 1,\n",
      "        8, 1, 3, 4, 5, 5, 3, 2, 1, 9, 6, 5, 7, 0, 5, 7, 4, 4, 5, 9, 5, 1, 3, 4,\n",
      "        8, 5, 5, 0])\n",
      "Tamanho do Tensor: 100\n",
      "Label: 2\n",
      "------------------------------------------\n",
      "Tensor de labels: tensor([8, 3, 6, 8, 1, 0, 7, 8, 6, 8, 6, 9, 5, 8, 8, 7, 1, 2, 5, 6, 8, 5, 1, 6,\n",
      "        6, 0, 9, 9, 5, 9, 7, 4, 2, 0, 3, 7, 9, 3, 0, 7, 1, 5, 8, 2, 6, 4, 5, 9,\n",
      "        4, 1, 9, 7, 9, 2, 0, 1, 3, 2, 5, 9, 7, 7, 0, 7, 4, 2, 7, 6, 9, 0, 8, 1,\n",
      "        1, 0, 2, 2, 1, 6, 6, 2, 7, 5, 3, 7, 8, 0, 6, 4, 4, 1, 3, 9, 4, 2, 4, 1,\n",
      "        4, 1, 0, 6])\n",
      "Tamanho do Tensor: 100\n",
      "Label: 8\n",
      "------------------------------------------\n",
      "Tensor de labels: tensor([3, 0, 1, 3, 6, 1, 2, 7, 3, 6, 3, 0, 1, 3, 0, 7, 4, 5, 6, 5, 0, 4, 3, 0,\n",
      "        3, 0, 8, 3, 4, 3, 1, 1, 5, 7, 0, 8, 1, 5, 9, 3, 4, 0, 7, 0, 4, 3, 8, 2,\n",
      "        2, 3, 0, 3, 7, 1, 0, 3, 5, 6, 0, 5, 4, 9, 1, 2, 6, 1, 7, 6, 9, 8, 4, 2,\n",
      "        2, 6, 8, 5, 2, 5, 8, 9, 7, 8, 3, 9, 4, 7, 8, 8, 8, 7, 0, 1, 6, 9, 6, 4,\n",
      "        3, 5, 5, 1])\n",
      "Tamanho do Tensor: 100\n",
      "Label: 3\n",
      "------------------------------------------\n",
      "Tensor de labels: tensor([9, 2, 4, 1, 4, 2, 4, 7, 4, 5, 4, 8, 3, 1, 0, 5, 9, 3, 2, 0, 7, 9, 3, 1,\n",
      "        7, 9, 6, 5, 6, 4, 5, 9, 4, 8, 5, 8, 6, 5, 4, 5, 6, 4, 6, 3, 3, 5, 2, 3,\n",
      "        5, 9, 8, 6, 9, 2, 5, 8, 7, 2, 6, 0, 2, 2, 5, 3, 8, 6, 2, 9, 4, 2, 2, 9,\n",
      "        1, 1, 6, 5, 4, 0, 9, 1, 1, 3, 1, 1, 0, 7, 7, 8, 7, 8, 2, 1, 7, 3, 3, 6,\n",
      "        7, 2, 4, 8])\n",
      "Tamanho do Tensor: 100\n",
      "Label: 9\n",
      "------------------------------------------\n",
      "Tensor de labels: tensor([7, 6, 3, 4, 4, 9, 7, 9, 6, 5, 7, 4, 4, 7, 9, 1, 6, 9, 4, 7, 5, 4, 0, 9,\n",
      "        0, 1, 5, 8, 7, 6, 5, 4, 1, 2, 9, 5, 0, 6, 3, 2, 5, 7, 3, 5, 1, 9, 1, 0,\n",
      "        6, 4, 8, 8, 5, 0, 8, 2, 4, 3, 7, 2, 1, 4, 2, 8, 1, 9, 0, 9, 7, 3, 5, 9,\n",
      "        4, 9, 3, 2, 9, 4, 4, 6, 3, 9, 8, 6, 4, 8, 1, 5, 8, 2, 1, 6, 0, 9, 1, 3,\n",
      "        2, 9, 8, 4])\n",
      "Tamanho do Tensor: 100\n",
      "Label: 7\n",
      "------------------------------------------\n",
      "Tensor de labels: tensor([3, 6, 1, 8, 1, 9, 3, 3, 5, 3, 7, 7, 0, 1, 2, 2, 9, 1, 0, 5, 2, 2, 6, 3,\n",
      "        0, 5, 2, 8, 6, 5, 3, 0, 7, 2, 2, 0, 4, 6, 5, 1, 3, 4, 7, 0, 3, 4, 7, 3,\n",
      "        5, 2, 8, 8, 7, 0, 1, 1, 1, 3, 7, 9, 5, 7, 0, 2, 4, 6, 2, 4, 0, 2, 8, 0,\n",
      "        7, 4, 1, 3, 2, 7, 9, 9, 0, 7, 6, 0, 3, 8, 2, 5, 0, 5, 9, 3, 8, 8, 7, 1,\n",
      "        6, 1, 2, 3])\n",
      "Tamanho do Tensor: 100\n",
      "Label: 3\n",
      "------------------------------------------\n",
      "Tensor de labels: tensor([0, 5, 0, 6, 0, 5, 3, 6, 6, 3, 1, 4, 4, 0, 9, 0, 7, 5, 7, 8, 9, 4, 6, 9,\n",
      "        9, 6, 6, 0, 8, 7, 7, 8, 4, 2, 8, 2, 3, 5, 3, 7, 3, 6, 3, 1, 2, 4, 0, 1,\n",
      "        7, 6, 2, 7, 7, 4, 9, 0, 6, 6, 1, 7, 4, 8, 4, 0, 4, 8, 5, 7, 0, 6, 1, 2,\n",
      "        3, 1, 2, 2, 6, 2, 8, 3, 9, 7, 8, 9, 3, 7, 0, 2, 5, 8, 0, 5, 6, 9, 1, 3,\n",
      "        2, 3, 8, 6])\n",
      "Tamanho do Tensor: 100\n",
      "Label: 0\n",
      "------------------------------------------\n",
      "Tensor de labels: tensor([4, 9, 0, 8, 1, 0, 5, 7, 0, 7, 3, 9, 7, 5, 7, 7, 3, 1, 0, 4, 8, 4, 5, 9,\n",
      "        5, 8, 2, 8, 6, 5, 6, 7, 8, 8, 2, 7, 4, 9, 4, 9, 2, 0, 1, 7, 9, 1, 1, 0,\n",
      "        1, 7, 9, 4, 6, 0, 3, 4, 4, 2, 8, 7, 9, 3, 5, 2, 6, 5, 5, 1, 5, 5, 6, 9,\n",
      "        7, 6, 5, 1, 6, 3, 6, 9, 6, 3, 6, 1, 2, 2, 5, 4, 4, 3, 8, 0, 5, 2, 0, 1,\n",
      "        3, 3, 8, 6])\n",
      "Tamanho do Tensor: 100\n",
      "Label: 4\n",
      "------------------------------------------\n",
      "Tensor de labels: tensor([2, 9, 7, 8, 5, 8, 8, 0, 4, 8, 2, 1, 5, 8, 4, 4, 6, 8, 6, 9, 3, 7, 2, 3,\n",
      "        3, 0, 3, 0, 7, 5, 1, 0, 3, 4, 7, 9, 7, 1, 6, 6, 9, 2, 0, 6, 5, 4, 3, 6,\n",
      "        5, 1, 4, 9, 9, 1, 3, 0, 4, 4, 2, 8, 8, 6, 4, 6, 1, 9, 9, 8, 4, 8, 5, 8,\n",
      "        4, 2, 5, 5, 4, 7, 3, 9, 4, 9, 4, 0, 9, 8, 4, 3, 2, 5, 7, 9, 0, 1, 2, 4,\n",
      "        5, 5, 9, 9])\n",
      "Tamanho do Tensor: 100\n",
      "Label: 2\n",
      "------------------------------------------\n",
      "Tensor de labels: tensor([3, 7, 3, 1, 6, 1, 7, 1, 0, 5, 9, 7, 0, 4, 1, 1, 7, 7, 8, 6, 7, 0, 1, 1,\n",
      "        9, 9, 4, 1, 2, 4, 0, 0, 4, 7, 6, 3, 0, 9, 1, 9, 1, 4, 6, 4, 8, 7, 1, 4,\n",
      "        9, 4, 0, 9, 9, 9, 0, 7, 3, 7, 9, 4, 4, 9, 0, 9, 3, 1, 4, 9, 0, 5, 5, 6,\n",
      "        7, 3, 0, 3, 0, 5, 2, 2, 0, 2, 9, 8, 8, 8, 9, 8, 2, 3, 4, 5, 8, 0, 2, 6,\n",
      "        1, 6, 1, 7])\n",
      "Tamanho do Tensor: 100\n",
      "Label: 3\n",
      "------------------------------------------\n",
      "Tensor de labels: tensor([7, 7, 1, 0, 4, 6, 0, 6, 1, 5, 9, 0, 2, 8, 2, 3, 8, 2, 7, 8, 5, 7, 5, 5,\n",
      "        2, 8, 2, 4, 5, 9, 6, 2, 8, 2, 1, 8, 7, 0, 3, 5, 7, 8, 1, 8, 6, 2, 4, 0,\n",
      "        3, 6, 8, 3, 2, 4, 8, 6, 3, 3, 0, 6, 5, 9, 8, 0, 4, 6, 9, 8, 2, 0, 3, 9,\n",
      "        1, 6, 9, 8, 9, 3, 4, 3, 0, 3, 1, 3, 2, 3, 9, 3, 7, 7, 8, 2, 1, 1, 3, 7,\n",
      "        1, 9, 9, 2])\n",
      "Tamanho do Tensor: 100\n",
      "Label: 7\n",
      "------------------------------------------\n",
      "Tensor de labels: tensor([7, 2, 4, 4, 9, 1, 6, 7, 0, 9, 7, 4, 6, 0, 9, 1, 1, 2, 5, 2, 4, 0, 9, 8,\n",
      "        5, 3, 7, 2, 8, 2, 0, 5, 9, 8, 8, 8, 6, 2, 3, 1, 9, 3, 4, 4, 0, 4, 7, 1,\n",
      "        1, 5, 2, 2, 2, 0, 7, 8, 4, 6, 0, 0, 7, 4, 7, 7, 7, 1, 8, 3, 7, 0, 5, 2,\n",
      "        7, 7, 6, 6, 0, 0, 9, 6, 1, 7, 5, 6, 5, 7, 4, 9, 4, 6, 2, 9, 0, 4, 5, 8,\n",
      "        1, 7, 8, 1])\n",
      "Tamanho do Tensor: 100\n",
      "Label: 7\n",
      "------------------------------------------\n",
      "Tensor de labels: tensor([5, 4, 5, 9, 7, 7, 6, 9, 5, 7, 0, 2, 2, 6, 5, 0, 1, 1, 5, 5, 3, 5, 8, 7,\n",
      "        4, 2, 5, 9, 3, 2, 1, 2, 2, 6, 9, 1, 3, 4, 0, 6, 9, 3, 8, 6, 7, 3, 9, 1,\n",
      "        1, 4, 2, 3, 7, 5, 9, 8, 1, 1, 1, 5, 9, 5, 3, 7, 4, 7, 5, 3, 0, 0, 1, 4,\n",
      "        1, 1, 6, 6, 4, 8, 7, 2, 6, 2, 1, 7, 3, 2, 4, 7, 2, 5, 9, 1, 4, 0, 7, 6,\n",
      "        6, 6, 7, 4])\n",
      "Tamanho do Tensor: 100\n",
      "Label: 5\n",
      "------------------------------------------\n",
      "Tensor de labels: tensor([7, 0, 7, 4, 4, 6, 8, 1, 3, 5, 5, 8, 7, 7, 4, 4, 3, 6, 8, 0, 2, 0, 6, 6,\n",
      "        9, 6, 8, 3, 1, 4, 7, 1, 1, 2, 3, 7, 2, 0, 6, 3, 7, 1, 9, 0, 4, 0, 6, 7,\n",
      "        8, 5, 2, 1, 3, 5, 8, 2, 8, 6, 9, 0, 7, 6, 2, 4, 4, 2, 3, 1, 2, 7, 9, 4,\n",
      "        5, 3, 2, 1, 5, 3, 4, 9, 6, 1, 7, 7, 9, 8, 6, 7, 3, 1, 2, 4, 9, 4, 0, 1,\n",
      "        2, 6, 4, 2])\n",
      "Tamanho do Tensor: 100\n",
      "Label: 7\n",
      "------------------------------------------\n",
      "Tensor de labels: tensor([5, 1, 7, 1, 4, 9, 0, 8, 1, 9, 4, 9, 7, 5, 2, 6, 5, 1, 0, 8, 6, 1, 8, 8,\n",
      "        4, 1, 2, 1, 1, 3, 0, 8, 3, 3, 9, 2, 9, 1, 2, 7, 4, 0, 9, 5, 2, 5, 5, 7,\n",
      "        9, 3, 1, 2, 9, 6, 4, 0, 2, 2, 6, 8, 3, 4, 0, 0, 4, 2, 7, 5, 9, 4, 6, 5,\n",
      "        0, 3, 0, 4, 0, 9, 3, 0, 6, 7, 0, 6, 3, 3, 8, 6, 4, 1, 7, 5, 5, 6, 5, 7,\n",
      "        1, 9, 0, 8])\n",
      "Tamanho do Tensor: 100\n",
      "Label: 5\n",
      "------------------------------------------\n",
      "Tensor de labels: tensor([0, 6, 2, 3, 9, 2, 4, 8, 0, 4, 1, 3, 5, 3, 4, 1, 2, 4, 4, 4, 8, 1, 3, 3,\n",
      "        5, 3, 6, 5, 1, 6, 4, 2, 5, 6, 0, 8, 5, 6, 5, 6, 1, 4, 8, 5, 3, 7, 4, 6,\n",
      "        2, 5, 1, 1, 2, 9, 5, 1, 1, 3, 8, 9, 8, 7, 4, 5, 1, 7, 3, 4, 5, 2, 9, 6,\n",
      "        5, 7, 9, 9, 1, 6, 9, 5, 3, 4, 9, 5, 0, 7, 2, 0, 4, 5, 0, 9, 7, 5, 6, 4,\n",
      "        8, 7, 4, 7])\n",
      "Tamanho do Tensor: 100\n",
      "Label: 0\n",
      "------------------------------------------\n",
      "Tensor de labels: tensor([5, 8, 2, 2, 9, 8, 5, 5, 1, 3, 5, 0, 2, 7, 9, 1, 2, 5, 2, 3, 9, 1, 5, 8,\n",
      "        3, 2, 8, 3, 3, 8, 0, 2, 7, 8, 7, 9, 1, 6, 2, 5, 8, 8, 4, 1, 9, 8, 4, 1,\n",
      "        6, 5, 1, 7, 2, 5, 3, 6, 7, 9, 6, 6, 8, 0, 5, 2, 5, 3, 2, 6, 1, 5, 9, 7,\n",
      "        5, 9, 4, 2, 3, 7, 2, 1, 6, 4, 4, 1, 2, 2, 3, 9, 8, 4, 8, 9, 1, 6, 3, 6,\n",
      "        1, 5, 4, 3])\n",
      "Tamanho do Tensor: 100\n",
      "Label: 5\n",
      "------------------------------------------\n",
      "Tensor de labels: tensor([2, 5, 8, 2, 9, 0, 8, 9, 0, 9, 7, 4, 1, 8, 9, 9, 9, 7, 9, 1, 1, 5, 3, 6,\n",
      "        7, 0, 1, 7, 4, 1, 0, 8, 4, 8, 0, 7, 8, 7, 2, 0, 6, 9, 6, 0, 9, 2, 8, 9,\n",
      "        0, 5, 2, 7, 0, 6, 2, 0, 4, 4, 5, 3, 4, 3, 8, 4, 2, 0, 2, 1, 1, 5, 5, 4,\n",
      "        6, 5, 7, 0, 8, 3, 5, 1, 4, 9, 4, 9, 8, 7, 1, 7, 6, 1, 1, 4, 5, 8, 6, 3,\n",
      "        5, 7, 3, 4])\n",
      "Tamanho do Tensor: 100\n",
      "Label: 2\n",
      "------------------------------------------\n",
      "Tensor de labels: tensor([5, 4, 3, 4, 4, 2, 5, 4, 3, 8, 5, 4, 5, 8, 6, 5, 7, 5, 5, 5, 3, 5, 7, 7,\n",
      "        7, 2, 0, 4, 0, 5, 3, 0, 4, 6, 5, 0, 6, 3, 0, 3, 3, 4, 4, 4, 6, 9, 8, 6,\n",
      "        1, 9, 1, 1, 9, 5, 3, 0, 6, 5, 0, 6, 0, 0, 2, 2, 2, 6, 2, 7, 4, 8, 2, 1,\n",
      "        3, 7, 7, 8, 5, 6, 4, 2, 4, 7, 8, 7, 7, 1, 9, 0, 8, 0, 2, 1, 2, 3, 0, 4,\n",
      "        6, 8, 0, 9])\n",
      "Tamanho do Tensor: 100\n",
      "Label: 5\n",
      "------------------------------------------\n",
      "Tensor de labels: tensor([2, 3, 1, 5, 7, 2, 6, 2, 5, 3, 3, 2, 4, 8, 7, 7, 1, 2, 6, 5, 5, 3, 4, 6,\n",
      "        9, 8, 2, 0, 8, 5, 9, 6, 9, 9, 7, 9, 6, 7, 7, 0, 3, 4, 9, 9, 6, 8, 5, 5,\n",
      "        0, 5, 0, 6, 9, 0, 8, 2, 6, 9, 3, 2, 4, 8, 7, 2, 2, 5, 9, 5, 4, 0, 8, 1,\n",
      "        1, 6, 9, 4, 5, 7, 4, 6, 4, 6, 4, 4, 0, 9, 6, 3, 1, 3, 2, 4, 0, 1, 1, 6,\n",
      "        2, 4, 9, 0])\n",
      "Tamanho do Tensor: 100\n",
      "Label: 2\n",
      "------------------------------------------\n",
      "Tensor de labels: tensor([4, 1, 8, 6, 5, 7, 9, 2, 5, 1, 9, 1, 4, 1, 3, 7, 1, 1, 1, 6, 7, 9, 1, 0,\n",
      "        2, 5, 4, 2, 6, 9, 3, 4, 8, 5, 7, 2, 7, 4, 8, 4, 5, 3, 8, 9, 7, 8, 7, 4,\n",
      "        4, 0, 6, 4, 0, 7, 3, 0, 8, 1, 4, 4, 8, 8, 3, 3, 3, 3, 4, 5, 8, 3, 2, 8,\n",
      "        7, 9, 3, 3, 8, 6, 1, 5, 2, 1, 1, 7, 0, 8, 6, 5, 8, 7, 4, 1, 1, 4, 6, 5,\n",
      "        0, 0, 1, 2])\n",
      "Tamanho do Tensor: 100\n",
      "Label: 4\n",
      "------------------------------------------\n",
      "Tensor de labels: tensor([6, 7, 1, 0, 8, 5, 8, 9, 2, 7, 0, 1, 0, 8, 3, 4, 2, 4, 5, 2, 2, 3, 1, 8,\n",
      "        1, 7, 4, 9, 0, 9, 2, 4, 8, 5, 7, 7, 3, 6, 3, 0, 2, 1, 8, 2, 4, 5, 7, 2,\n",
      "        5, 0, 1, 0, 5, 5, 2, 7, 2, 3, 7, 4, 8, 8, 0, 7, 9, 7, 3, 2, 5, 1, 0, 2,\n",
      "        2, 2, 4, 4, 3, 1, 9, 3, 8, 1, 4, 2, 4, 4, 1, 9, 6, 2, 4, 2, 7, 0, 7, 5,\n",
      "        2, 2, 9, 7])\n",
      "Tamanho do Tensor: 100\n",
      "Label: 6\n",
      "------------------------------------------\n",
      "Tensor de labels: tensor([9, 7, 6, 8, 2, 0, 3, 0, 9, 2, 3, 3, 6, 0, 4, 5, 5, 9, 0, 3, 0, 2, 8, 9,\n",
      "        4, 9, 5, 0, 8, 9, 2, 1, 8, 3, 0, 6, 2, 8, 5, 3, 5, 2, 5, 1, 9, 8, 3, 7,\n",
      "        9, 8, 0, 5, 1, 7, 3, 5, 0, 8, 3, 9, 9, 1, 5, 5, 2, 7, 0, 3, 4, 7, 6, 4,\n",
      "        9, 5, 9, 6, 4, 8, 3, 2, 8, 7, 6, 5, 8, 2, 4, 5, 5, 1, 2, 0, 0, 0, 9, 3,\n",
      "        9, 6, 8, 8])\n",
      "Tamanho do Tensor: 100\n",
      "Label: 9\n",
      "------------------------------------------\n",
      "Tensor de labels: tensor([1, 0, 1, 5, 9, 0, 9, 4, 1, 6, 3, 2, 1, 8, 7, 2, 5, 4, 1, 2, 6, 0, 7, 9,\n",
      "        0, 5, 2, 0, 9, 3, 5, 5, 4, 2, 1, 8, 9, 5, 3, 4, 4, 1, 9, 0, 4, 6, 1, 1,\n",
      "        9, 0, 9, 9, 3, 4, 9, 6, 2, 7, 9, 8, 4, 2, 6, 2, 7, 1, 4, 9, 3, 1, 5, 1,\n",
      "        5, 2, 6, 7, 0, 5, 9, 4, 1, 1, 4, 9, 9, 8, 5, 8, 0, 0, 9, 9, 3, 0, 1, 8,\n",
      "        5, 8, 8, 8])\n",
      "Tamanho do Tensor: 100\n",
      "Label: 1\n",
      "------------------------------------------\n",
      "Tensor de labels: tensor([8, 1, 1, 9, 6, 2, 8, 1, 5, 5, 9, 6, 9, 2, 7, 4, 2, 3, 3, 0, 4, 9, 8, 8,\n",
      "        9, 6, 2, 4, 2, 9, 3, 7, 2, 2, 1, 6, 1, 0, 8, 6, 5, 1, 4, 0, 6, 3, 9, 8,\n",
      "        9, 9, 0, 3, 0, 1, 0, 0, 4, 3, 3, 8, 1, 1, 8, 3, 2, 7, 2, 2, 3, 3, 7, 6,\n",
      "        2, 2, 8, 5, 8, 4, 8, 9, 0, 7, 7, 8, 7, 1, 9, 4, 7, 1, 6, 2, 5, 3, 3, 4,\n",
      "        3, 3, 2, 1])\n",
      "Tamanho do Tensor: 100\n",
      "Label: 8\n",
      "------------------------------------------\n",
      "Tensor de labels: tensor([4, 2, 4, 6, 3, 6, 2, 5, 0, 0, 9, 0, 6, 0, 4, 3, 8, 0, 9, 5, 0, 8, 0, 6,\n",
      "        0, 1, 3, 2, 0, 3, 7, 8, 8, 1, 0, 1, 8, 9, 6, 3, 3, 2, 4, 9, 0, 6, 9, 9,\n",
      "        8, 3, 5, 4, 9, 4, 5, 7, 6, 1, 0, 7, 1, 2, 8, 4, 1, 7, 9, 9, 7, 4, 6, 6,\n",
      "        9, 4, 4, 4, 8, 2, 0, 7, 5, 2, 5, 8, 7, 7, 5, 0, 6, 3, 4, 8, 5, 3, 8, 1,\n",
      "        3, 4, 4, 3])\n",
      "Tamanho do Tensor: 100\n",
      "Label: 4\n",
      "------------------------------------------\n",
      "Tensor de labels: tensor([8, 2, 1, 3, 7, 1, 1, 9, 4, 6, 7, 2, 2, 9, 7, 8, 8, 0, 6, 7, 5, 4, 5, 7,\n",
      "        1, 4, 7, 6, 0, 3, 0, 2, 0, 1, 4, 3, 8, 9, 8, 4, 0, 3, 0, 4, 6, 6, 9, 6,\n",
      "        9, 6, 4, 1, 3, 6, 8, 9, 7, 3, 2, 5, 1, 8, 0, 5, 1, 5, 9, 2, 2, 6, 7, 4,\n",
      "        6, 1, 0, 8, 8, 3, 4, 1, 0, 5, 1, 9, 3, 2, 8, 0, 4, 3, 3, 6, 4, 1, 8, 8,\n",
      "        9, 1, 4, 1])\n",
      "Tamanho do Tensor: 100\n",
      "Label: 8\n",
      "------------------------------------------\n",
      "Tensor de labels: tensor([6, 0, 6, 2, 1, 2, 2, 1, 5, 2, 6, 4, 4, 0, 3, 8, 6, 8, 7, 9, 3, 4, 3, 3,\n",
      "        8, 8, 3, 7, 0, 0, 6, 9, 5, 5, 1, 2, 9, 0, 6, 6, 1, 2, 1, 5, 4, 3, 4, 1,\n",
      "        6, 8, 9, 8, 4, 3, 0, 5, 3, 0, 1, 2, 5, 2, 4, 3, 7, 1, 0, 7, 0, 1, 0, 2,\n",
      "        8, 1, 2, 6, 5, 6, 4, 1, 9, 4, 3, 4, 4, 1, 7, 8, 9, 0, 6, 9, 5, 7, 2, 7,\n",
      "        2, 4, 5, 2])\n",
      "Tamanho do Tensor: 100\n",
      "Label: 6\n",
      "------------------------------------------\n",
      "Tensor de labels: tensor([2, 6, 8, 2, 9, 0, 8, 2, 6, 8, 0, 4, 8, 1, 9, 7, 5, 1, 8, 5, 2, 5, 3, 8,\n",
      "        9, 9, 5, 2, 6, 1, 7, 9, 7, 5, 6, 7, 9, 8, 5, 1, 9, 5, 6, 3, 7, 9, 0, 6,\n",
      "        2, 9, 0, 9, 6, 1, 7, 7, 1, 5, 2, 9, 2, 9, 4, 2, 0, 0, 3, 8, 0, 7, 0, 3,\n",
      "        4, 6, 1, 8, 4, 4, 6, 1, 0, 1, 2, 8, 8, 1, 1, 1, 2, 5, 9, 5, 8, 2, 1, 4,\n",
      "        5, 7, 0, 0])\n",
      "Tamanho do Tensor: 100\n",
      "Label: 2\n",
      "------------------------------------------\n",
      "Tensor de labels: tensor([8, 8, 7, 4, 2, 7, 2, 4, 1, 3, 0, 8, 4, 1, 6, 2, 8, 1, 2, 0, 9, 3, 8, 2,\n",
      "        7, 8, 2, 6, 2, 6, 2, 6, 4, 3, 7, 2, 9, 2, 4, 0, 0, 9, 3, 8, 0, 0, 7, 0,\n",
      "        3, 9, 2, 3, 2, 1, 9, 1, 3, 1, 6, 3, 2, 3, 2, 2, 0, 4, 9, 1, 1, 6, 8, 6,\n",
      "        1, 0, 0, 1, 5, 4, 1, 9, 4, 2, 2, 4, 2, 2, 6, 0, 7, 5, 6, 0, 6, 4, 9, 2,\n",
      "        9, 4, 4, 9])\n",
      "Tamanho do Tensor: 100\n",
      "Label: 8\n",
      "------------------------------------------\n"
     ]
    }
   ],
   "source": [
    "limite = 5\n",
    "contador = 0\n",
    "for i in treino_loader:\n",
    "    if contador < limite:\n",
    "        print(f\"Tensor de labels: {i[1]}\\n\"\n",
    "            f\"Tamanho do Tensor: {len(i[1])}\\n\"\n",
    "            f\"Label: {i[1][0]}\\n\"\n",
    "            f\"------------------------------------------\")\n",
    "    else: break"
   ]
  },
  {
   "source": [
    "Aqui pode-se notar que o segundo tensor do par é um tensor em que cada elemento é um batch de 100 classificações."
   ],
   "cell_type": "markdown",
   "metadata": {}
  },
  {
   "source": [
    "### Começando com uma regressão logística\n",
    "\n",
    "Dizemos que uma regressão linear é basicamente uma maneira de visualizar nossos dados em uma \"linha\" e que a partir dessa linha podemos fazer algumas predições sobre dados futuros.\n",
    "\n",
    "Porém, regressões lineares não são muito boas com classificações, para isso utilizaremos uma regressão logística.\n",
    "\n",
    "Uma regressão logística é uma regressão linear que utiliza a função **softmax** como uma **função de ativação**:\n",
    "$$\n",
    "a_i = \\frac{e^{x+i}}{\\sum_{j=1}^n e^{x_j}}\n",
    "$$"
   ],
   "cell_type": "markdown",
   "metadata": {}
  },
  {
   "source": [
    "> **Obs:** O que a função **softmax** basicamente faz é receber um vetor (lista) de valores numéricos e os transforma em valores probabilísticos. Em outras palavras, quanto maior for o valor da preferência daquela patâmetro, depois que essa lista de valores passar pela função Softmax, maior será sua probabilidade."
   ],
   "cell_type": "markdown",
   "metadata": {}
  },
  {
   "source": [
    "É interessante primeiro estudarmos a regressão logística antes de vermos uma rede neural pois a regressão logística é basicamente uma rede neural simples!"
   ],
   "cell_type": "markdown",
   "metadata": {}
  },
  {
   "source": [
    "![Grafo de uma regressao logistica](imgs/diagrama_logreg.png)"
   ],
   "cell_type": "markdown",
   "metadata": {}
  },
  {
   "cell_type": "code",
   "execution_count": 41,
   "metadata": {},
   "outputs": [],
   "source": [
    "class RegressaoLogistica(nn.Module):\n",
    "    def __init__ (self, input_dim, output_dim):\n",
    "        super(RegressaoLogistica, self).__init__()  # Já que será \"filho\" de nn.Module, temos que iniciar seu \"pai\"\n",
    "\n",
    "        self.linear = nn.Sequential(\n",
    "            nn.Linear(input_dim, output_dim), # Parte linear\n",
    "            nn.LogSoftmax()                   # A parte logística\n",
    "        )\n",
    "\n",
    "    def forward(self, x):\n",
    "        y = self.linear(x)\n",
    "        return y\n",
    "\n",
    "erro = nn.NLLLoss() # Função de perda (loss)\n",
    "\n",
    "input_dim = 28*28 # Dica, olhe na especificação do problema\n",
    "output_dim = 10\n",
    "\n",
    "# Inicialize a Regressão Logística com as dimensões de input e output estabelecidas\n",
    "modelo = RegressaoLogistica(input_dim, output_dim) \n",
    "\n",
    "# Aqui escolhemos nosso optimizador, que nesse caso será o Stochastic gradient descent, \n",
    "# que estará optimizando os parâmetros de nossa regrssão linear.\n",
    "taxa_aprendizado = 0.001\n",
    "optmizador = torch.optim.SGD(modelo.parameters(), lr=taxa_aprendizado)"
   ]
  },
  {
   "source": [
    "Vamos agora treinar nosso modelo:"
   ],
   "cell_type": "markdown",
   "metadata": {}
  },
  {
   "cell_type": "code",
   "execution_count": 42,
   "metadata": {
    "tags": []
   },
   "outputs": [
    {
     "output_type": "stream",
     "name": "stdout",
     "text": [
      "Iteração: 500 | Loss: 0.9851099252700806 | Acurácia: 73.00599670410156\n",
      "Iteração: 1000 | Loss: 0.8801286220550537 | Acurácia: 76.27400207519531\n",
      "Iteração: 1500 | Loss: 0.8367173075675964 | Acurácia: 77.90799713134766\n",
      "Iteração: 2000 | Loss: 0.8115958571434021 | Acurácia: 78.9520034790039\n",
      "Iteração: 2500 | Loss: 0.7945619821548462 | Acurácia: 79.72799682617188\n",
      "Iteração: 3000 | Loss: 0.781913161277771 | Acurácia: 80.36000061035156\n",
      "Iteração: 3500 | Loss: 0.7719541788101196 | Acurácia: 80.82599639892578\n",
      "Iteração: 4000 | Loss: 0.7637893557548523 | Acurácia: 81.21199798583984\n",
      "Iteração: 4500 | Loss: 0.7568947672843933 | Acurácia: 81.48799896240234\n",
      "Iteração: 5000 | Loss: 0.7509430646896362 | Acurácia: 81.70600128173828\n",
      "Iteração: 5500 | Loss: 0.7457164525985718 | Acurácia: 81.97000122070312\n",
      "Iteração: 6000 | Loss: 0.7410649061203003 | Acurácia: 82.21199798583984\n",
      "Iteração: 6500 | Loss: 0.7368807792663574 | Acurácia: 82.3740005493164\n",
      "Iteração: 7000 | Loss: 0.7330847382545471 | Acurácia: 82.4800033569336\n",
      "Iteração: 7500 | Loss: 0.7296161651611328 | Acurácia: 82.60399627685547\n",
      "Iteração: 8000 | Loss: 0.7264279723167419 | Acurácia: 82.71399688720703\n",
      "Iteração: 8500 | Loss: 0.7234834432601929 | Acurácia: 82.81600189208984\n",
      "Iteração: 9000 | Loss: 0.7207518219947815 | Acurácia: 82.96199798583984\n",
      "Iteração: 9500 | Loss: 0.718208909034729 | Acurácia: 83.0719985961914\n",
      "Iteração: 10000 | Loss: 0.7158337235450745 | Acurácia: 83.18399810791016\n"
     ]
    }
   ],
   "source": [
    "contagem = 0\n",
    "lista_loss = []\n",
    "lista_iteracao = []\n",
    "for epoch in range(n_epochs):\n",
    "    for imagens, classificacao in treino_loader:\n",
    "        \n",
    "        # Utilizando a função Variable() crie as seguintes variáveis:\n",
    "        treino = Variable(imagens.view(-1, 28*28)) # Crie uma variável com as imagens, porém, mude a forma do tensor\n",
    "                                                   # para ([100,28*28]) com o método .view()\n",
    "        \n",
    "        validacao = Variable(classificacao)     # Cire uma variável com a classificacao\n",
    "\n",
    "        # Limpamos os gradientes\n",
    "        optmizador.zero_grad()\n",
    "\n",
    "        # Utilize o método .forward() do modelo utilizando a variável de treino\n",
    "        # para realizarmos a forward propagation\n",
    "        outputs = modelo(treino) \n",
    "\n",
    "        # Utilize a função de perda erro() com nosso output e a variável de verificação\n",
    "        loss = erro(outputs, validacao)\n",
    "\n",
    "        # Realizamos a backward propagation\n",
    "        loss.backward()\n",
    "\n",
    "        # Atualiza os parâmetros\n",
    "        optmizador.step() \n",
    "\n",
    "        contagem += 1\n",
    "\n",
    "        # Predições\n",
    "        if contagem % 50 == 0:\n",
    "            # Calculamos a acurácia\n",
    "            corretos = 0\n",
    "            total = 0\n",
    "\n",
    "            for imagens, classificacao in treino_loader:\n",
    "                \n",
    "                # Crie uma variável com as imagens da mesma maneira como na variável de treino\n",
    "                teste = Variable(imagens.view(-1, 28*28))\n",
    "\n",
    "                # Forward propagation\n",
    "                outputs = modelo(teste)\n",
    "                \n",
    "                # Recebe as predições do valor máximo\n",
    "                predito =  torch.max(outputs.data, 1)[1]\n",
    "\n",
    "                # Número total de classificações\n",
    "                total += len(classificacao)\n",
    "\n",
    "                # Número de predições corretas\n",
    "                corretos += (predito == classificacao).sum()\n",
    "\n",
    "            acuracia = 100 * corretos / float(total)\n",
    "\n",
    "            # Armazena a loss e iteração\n",
    "            lista_loss.append(loss.data)\n",
    "            lista_iteracao.append(contagem)\n",
    "\n",
    "        if contagem % 500 == 0:\n",
    "            # Printa a loss\n",
    "            print(f\"Iteração: {contagem} | Loss: {loss.data} | Acurácia: {acuracia}\")"
   ]
  },
  {
   "cell_type": "code",
   "execution_count": 43,
   "metadata": {},
   "outputs": [
    {
     "output_type": "display_data",
     "data": {
      "text/plain": "<Figure size 1800x432 with 1 Axes>",
      "image/svg+xml": "<?xml version=\"1.0\" encoding=\"utf-8\" standalone=\"no\"?>\n<!DOCTYPE svg PUBLIC \"-//W3C//DTD SVG 1.1//EN\"\n  \"http://www.w3.org/Graphics/SVG/1.1/DTD/svg11.dtd\">\n<!-- Created with matplotlib (https://matplotlib.org/) -->\n<svg height=\"386.762812pt\" version=\"1.1\" viewBox=\"0 0 1445.98125 386.762812\" width=\"1445.98125pt\" xmlns=\"http://www.w3.org/2000/svg\" xmlns:xlink=\"http://www.w3.org/1999/xlink\">\n <metadata>\n  <rdf:RDF xmlns:cc=\"http://creativecommons.org/ns#\" xmlns:dc=\"http://purl.org/dc/elements/1.1/\" xmlns:rdf=\"http://www.w3.org/1999/02/22-rdf-syntax-ns#\">\n   <cc:Work>\n    <dc:type rdf:resource=\"http://purl.org/dc/dcmitype/StillImage\"/>\n    <dc:date>2021-01-20T22:10:51.014106</dc:date>\n    <dc:format>image/svg+xml</dc:format>\n    <dc:creator>\n     <cc:Agent>\n      <dc:title>Matplotlib v3.3.2, https://matplotlib.org/</dc:title>\n     </cc:Agent>\n    </dc:creator>\n   </cc:Work>\n  </rdf:RDF>\n </metadata>\n <defs>\n  <style type=\"text/css\">*{stroke-linecap:butt;stroke-linejoin:round;}</style>\n </defs>\n <g id=\"figure_1\">\n  <g id=\"patch_1\">\n   <path d=\"M 0 386.762812 \nL 1445.98125 386.762812 \nL 1445.98125 0 \nL 0 0 \nz\n\" style=\"fill:none;\"/>\n  </g>\n  <g id=\"axes_1\">\n   <g id=\"patch_2\">\n    <path d=\"M 43.78125 348.958125 \nL 1438.78125 348.958125 \nL 1438.78125 22.798125 \nL 43.78125 22.798125 \nz\n\" style=\"fill:#ffffff;\"/>\n   </g>\n   <g id=\"matplotlib.axis_1\">\n    <g id=\"xtick_1\">\n     <g id=\"line2d_1\">\n      <defs>\n       <path d=\"M 0 0 \nL 0 3.5 \n\" id=\"m210369529b\" style=\"stroke:#000000;stroke-width:0.8;\"/>\n      </defs>\n      <g>\n       <use style=\"stroke:#000000;stroke-width:0.8;\" x=\"100.817568\" xlink:href=\"#m210369529b\" y=\"348.958125\"/>\n      </g>\n     </g>\n     <g id=\"text_1\">\n      <!-- 0 -->\n      <g transform=\"translate(97.636318 363.556562)scale(0.1 -0.1)\">\n       <defs>\n        <path d=\"M 31.78125 66.40625 \nQ 24.171875 66.40625 20.328125 58.90625 \nQ 16.5 51.421875 16.5 36.375 \nQ 16.5 21.390625 20.328125 13.890625 \nQ 24.171875 6.390625 31.78125 6.390625 \nQ 39.453125 6.390625 43.28125 13.890625 \nQ 47.125 21.390625 47.125 36.375 \nQ 47.125 51.421875 43.28125 58.90625 \nQ 39.453125 66.40625 31.78125 66.40625 \nz\nM 31.78125 74.21875 \nQ 44.046875 74.21875 50.515625 64.515625 \nQ 56.984375 54.828125 56.984375 36.375 \nQ 56.984375 17.96875 50.515625 8.265625 \nQ 44.046875 -1.421875 31.78125 -1.421875 \nQ 19.53125 -1.421875 13.0625 8.265625 \nQ 6.59375 17.96875 6.59375 36.375 \nQ 6.59375 54.828125 13.0625 64.515625 \nQ 19.53125 74.21875 31.78125 74.21875 \nz\n\" id=\"DejaVuSans-48\"/>\n       </defs>\n       <use xlink:href=\"#DejaVuSans-48\"/>\n      </g>\n     </g>\n    </g>\n    <g id=\"xtick_2\">\n     <g id=\"line2d_2\">\n      <g>\n       <use style=\"stroke:#000000;stroke-width:0.8;\" x=\"355.728486\" xlink:href=\"#m210369529b\" y=\"348.958125\"/>\n      </g>\n     </g>\n     <g id=\"text_2\">\n      <!-- 2000 -->\n      <g transform=\"translate(343.003486 363.556562)scale(0.1 -0.1)\">\n       <defs>\n        <path d=\"M 19.1875 8.296875 \nL 53.609375 8.296875 \nL 53.609375 0 \nL 7.328125 0 \nL 7.328125 8.296875 \nQ 12.9375 14.109375 22.625 23.890625 \nQ 32.328125 33.6875 34.8125 36.53125 \nQ 39.546875 41.84375 41.421875 45.53125 \nQ 43.3125 49.21875 43.3125 52.78125 \nQ 43.3125 58.59375 39.234375 62.25 \nQ 35.15625 65.921875 28.609375 65.921875 \nQ 23.96875 65.921875 18.8125 64.3125 \nQ 13.671875 62.703125 7.8125 59.421875 \nL 7.8125 69.390625 \nQ 13.765625 71.78125 18.9375 73 \nQ 24.125 74.21875 28.421875 74.21875 \nQ 39.75 74.21875 46.484375 68.546875 \nQ 53.21875 62.890625 53.21875 53.421875 \nQ 53.21875 48.921875 51.53125 44.890625 \nQ 49.859375 40.875 45.40625 35.40625 \nQ 44.1875 33.984375 37.640625 27.21875 \nQ 31.109375 20.453125 19.1875 8.296875 \nz\n\" id=\"DejaVuSans-50\"/>\n       </defs>\n       <use xlink:href=\"#DejaVuSans-50\"/>\n       <use x=\"63.623047\" xlink:href=\"#DejaVuSans-48\"/>\n       <use x=\"127.246094\" xlink:href=\"#DejaVuSans-48\"/>\n       <use x=\"190.869141\" xlink:href=\"#DejaVuSans-48\"/>\n      </g>\n     </g>\n    </g>\n    <g id=\"xtick_3\">\n     <g id=\"line2d_3\">\n      <g>\n       <use style=\"stroke:#000000;stroke-width:0.8;\" x=\"610.639404\" xlink:href=\"#m210369529b\" y=\"348.958125\"/>\n      </g>\n     </g>\n     <g id=\"text_3\">\n      <!-- 4000 -->\n      <g transform=\"translate(597.914404 363.556562)scale(0.1 -0.1)\">\n       <defs>\n        <path d=\"M 37.796875 64.3125 \nL 12.890625 25.390625 \nL 37.796875 25.390625 \nz\nM 35.203125 72.90625 \nL 47.609375 72.90625 \nL 47.609375 25.390625 \nL 58.015625 25.390625 \nL 58.015625 17.1875 \nL 47.609375 17.1875 \nL 47.609375 0 \nL 37.796875 0 \nL 37.796875 17.1875 \nL 4.890625 17.1875 \nL 4.890625 26.703125 \nz\n\" id=\"DejaVuSans-52\"/>\n       </defs>\n       <use xlink:href=\"#DejaVuSans-52\"/>\n       <use x=\"63.623047\" xlink:href=\"#DejaVuSans-48\"/>\n       <use x=\"127.246094\" xlink:href=\"#DejaVuSans-48\"/>\n       <use x=\"190.869141\" xlink:href=\"#DejaVuSans-48\"/>\n      </g>\n     </g>\n    </g>\n    <g id=\"xtick_4\">\n     <g id=\"line2d_4\">\n      <g>\n       <use style=\"stroke:#000000;stroke-width:0.8;\" x=\"865.550323\" xlink:href=\"#m210369529b\" y=\"348.958125\"/>\n      </g>\n     </g>\n     <g id=\"text_4\">\n      <!-- 6000 -->\n      <g transform=\"translate(852.825323 363.556562)scale(0.1 -0.1)\">\n       <defs>\n        <path d=\"M 33.015625 40.375 \nQ 26.375 40.375 22.484375 35.828125 \nQ 18.609375 31.296875 18.609375 23.390625 \nQ 18.609375 15.53125 22.484375 10.953125 \nQ 26.375 6.390625 33.015625 6.390625 \nQ 39.65625 6.390625 43.53125 10.953125 \nQ 47.40625 15.53125 47.40625 23.390625 \nQ 47.40625 31.296875 43.53125 35.828125 \nQ 39.65625 40.375 33.015625 40.375 \nz\nM 52.59375 71.296875 \nL 52.59375 62.3125 \nQ 48.875 64.0625 45.09375 64.984375 \nQ 41.3125 65.921875 37.59375 65.921875 \nQ 27.828125 65.921875 22.671875 59.328125 \nQ 17.53125 52.734375 16.796875 39.40625 \nQ 19.671875 43.65625 24.015625 45.921875 \nQ 28.375 48.1875 33.59375 48.1875 \nQ 44.578125 48.1875 50.953125 41.515625 \nQ 57.328125 34.859375 57.328125 23.390625 \nQ 57.328125 12.15625 50.6875 5.359375 \nQ 44.046875 -1.421875 33.015625 -1.421875 \nQ 20.359375 -1.421875 13.671875 8.265625 \nQ 6.984375 17.96875 6.984375 36.375 \nQ 6.984375 53.65625 15.1875 63.9375 \nQ 23.390625 74.21875 37.203125 74.21875 \nQ 40.921875 74.21875 44.703125 73.484375 \nQ 48.484375 72.75 52.59375 71.296875 \nz\n\" id=\"DejaVuSans-54\"/>\n       </defs>\n       <use xlink:href=\"#DejaVuSans-54\"/>\n       <use x=\"63.623047\" xlink:href=\"#DejaVuSans-48\"/>\n       <use x=\"127.246094\" xlink:href=\"#DejaVuSans-48\"/>\n       <use x=\"190.869141\" xlink:href=\"#DejaVuSans-48\"/>\n      </g>\n     </g>\n    </g>\n    <g id=\"xtick_5\">\n     <g id=\"line2d_5\">\n      <g>\n       <use style=\"stroke:#000000;stroke-width:0.8;\" x=\"1120.461241\" xlink:href=\"#m210369529b\" y=\"348.958125\"/>\n      </g>\n     </g>\n     <g id=\"text_5\">\n      <!-- 8000 -->\n      <g transform=\"translate(1107.736241 363.556562)scale(0.1 -0.1)\">\n       <defs>\n        <path d=\"M 31.78125 34.625 \nQ 24.75 34.625 20.71875 30.859375 \nQ 16.703125 27.09375 16.703125 20.515625 \nQ 16.703125 13.921875 20.71875 10.15625 \nQ 24.75 6.390625 31.78125 6.390625 \nQ 38.8125 6.390625 42.859375 10.171875 \nQ 46.921875 13.96875 46.921875 20.515625 \nQ 46.921875 27.09375 42.890625 30.859375 \nQ 38.875 34.625 31.78125 34.625 \nz\nM 21.921875 38.8125 \nQ 15.578125 40.375 12.03125 44.71875 \nQ 8.5 49.078125 8.5 55.328125 \nQ 8.5 64.0625 14.71875 69.140625 \nQ 20.953125 74.21875 31.78125 74.21875 \nQ 42.671875 74.21875 48.875 69.140625 \nQ 55.078125 64.0625 55.078125 55.328125 \nQ 55.078125 49.078125 51.53125 44.71875 \nQ 48 40.375 41.703125 38.8125 \nQ 48.828125 37.15625 52.796875 32.3125 \nQ 56.78125 27.484375 56.78125 20.515625 \nQ 56.78125 9.90625 50.3125 4.234375 \nQ 43.84375 -1.421875 31.78125 -1.421875 \nQ 19.734375 -1.421875 13.25 4.234375 \nQ 6.78125 9.90625 6.78125 20.515625 \nQ 6.78125 27.484375 10.78125 32.3125 \nQ 14.796875 37.15625 21.921875 38.8125 \nz\nM 18.3125 54.390625 \nQ 18.3125 48.734375 21.84375 45.5625 \nQ 25.390625 42.390625 31.78125 42.390625 \nQ 38.140625 42.390625 41.71875 45.5625 \nQ 45.3125 48.734375 45.3125 54.390625 \nQ 45.3125 60.0625 41.71875 63.234375 \nQ 38.140625 66.40625 31.78125 66.40625 \nQ 25.390625 66.40625 21.84375 63.234375 \nQ 18.3125 60.0625 18.3125 54.390625 \nz\n\" id=\"DejaVuSans-56\"/>\n       </defs>\n       <use xlink:href=\"#DejaVuSans-56\"/>\n       <use x=\"63.623047\" xlink:href=\"#DejaVuSans-48\"/>\n       <use x=\"127.246094\" xlink:href=\"#DejaVuSans-48\"/>\n       <use x=\"190.869141\" xlink:href=\"#DejaVuSans-48\"/>\n      </g>\n     </g>\n    </g>\n    <g id=\"xtick_6\">\n     <g id=\"line2d_6\">\n      <g>\n       <use style=\"stroke:#000000;stroke-width:0.8;\" x=\"1375.372159\" xlink:href=\"#m210369529b\" y=\"348.958125\"/>\n      </g>\n     </g>\n     <g id=\"text_6\">\n      <!-- 10000 -->\n      <g transform=\"translate(1359.465909 363.556562)scale(0.1 -0.1)\">\n       <defs>\n        <path d=\"M 12.40625 8.296875 \nL 28.515625 8.296875 \nL 28.515625 63.921875 \nL 10.984375 60.40625 \nL 10.984375 69.390625 \nL 28.421875 72.90625 \nL 38.28125 72.90625 \nL 38.28125 8.296875 \nL 54.390625 8.296875 \nL 54.390625 0 \nL 12.40625 0 \nz\n\" id=\"DejaVuSans-49\"/>\n       </defs>\n       <use xlink:href=\"#DejaVuSans-49\"/>\n       <use x=\"63.623047\" xlink:href=\"#DejaVuSans-48\"/>\n       <use x=\"127.246094\" xlink:href=\"#DejaVuSans-48\"/>\n       <use x=\"190.869141\" xlink:href=\"#DejaVuSans-48\"/>\n       <use x=\"254.492188\" xlink:href=\"#DejaVuSans-48\"/>\n      </g>\n     </g>\n    </g>\n    <g id=\"text_7\">\n     <!-- Número de Iterações -->\n     <g transform=\"translate(688.872656 377.483125)scale(0.1 -0.1)\">\n      <defs>\n       <path d=\"M 9.8125 72.90625 \nL 23.09375 72.90625 \nL 55.421875 11.921875 \nL 55.421875 72.90625 \nL 64.984375 72.90625 \nL 64.984375 0 \nL 51.703125 0 \nL 19.390625 60.984375 \nL 19.390625 0 \nL 9.8125 0 \nz\n\" id=\"DejaVuSans-78\"/>\n       <path d=\"M 8.5 21.578125 \nL 8.5 54.6875 \nL 17.484375 54.6875 \nL 17.484375 21.921875 \nQ 17.484375 14.15625 20.5 10.265625 \nQ 23.53125 6.390625 29.59375 6.390625 \nQ 36.859375 6.390625 41.078125 11.03125 \nQ 45.3125 15.671875 45.3125 23.6875 \nL 45.3125 54.6875 \nL 54.296875 54.6875 \nL 54.296875 0 \nL 45.3125 0 \nL 45.3125 8.40625 \nQ 42.046875 3.421875 37.71875 1 \nQ 33.40625 -1.421875 27.6875 -1.421875 \nQ 18.265625 -1.421875 13.375 4.4375 \nQ 8.5 10.296875 8.5 21.578125 \nz\nM 31.109375 56 \nz\nM 37.78125 79.984375 \nL 47.5 79.984375 \nL 31.59375 61.625 \nL 24.109375 61.625 \nz\n\" id=\"DejaVuSans-250\"/>\n       <path d=\"M 52 44.1875 \nQ 55.375 50.25 60.0625 53.125 \nQ 64.75 56 71.09375 56 \nQ 79.640625 56 84.28125 50.015625 \nQ 88.921875 44.046875 88.921875 33.015625 \nL 88.921875 0 \nL 79.890625 0 \nL 79.890625 32.71875 \nQ 79.890625 40.578125 77.09375 44.375 \nQ 74.3125 48.1875 68.609375 48.1875 \nQ 61.625 48.1875 57.5625 43.546875 \nQ 53.515625 38.921875 53.515625 30.90625 \nL 53.515625 0 \nL 44.484375 0 \nL 44.484375 32.71875 \nQ 44.484375 40.625 41.703125 44.40625 \nQ 38.921875 48.1875 33.109375 48.1875 \nQ 26.21875 48.1875 22.15625 43.53125 \nQ 18.109375 38.875 18.109375 30.90625 \nL 18.109375 0 \nL 9.078125 0 \nL 9.078125 54.6875 \nL 18.109375 54.6875 \nL 18.109375 46.1875 \nQ 21.1875 51.21875 25.484375 53.609375 \nQ 29.78125 56 35.6875 56 \nQ 41.65625 56 45.828125 52.96875 \nQ 50 49.953125 52 44.1875 \nz\n\" id=\"DejaVuSans-109\"/>\n       <path d=\"M 56.203125 29.59375 \nL 56.203125 25.203125 \nL 14.890625 25.203125 \nQ 15.484375 15.921875 20.484375 11.0625 \nQ 25.484375 6.203125 34.421875 6.203125 \nQ 39.59375 6.203125 44.453125 7.46875 \nQ 49.3125 8.734375 54.109375 11.28125 \nL 54.109375 2.78125 \nQ 49.265625 0.734375 44.1875 -0.34375 \nQ 39.109375 -1.421875 33.890625 -1.421875 \nQ 20.796875 -1.421875 13.15625 6.1875 \nQ 5.515625 13.8125 5.515625 26.8125 \nQ 5.515625 40.234375 12.765625 48.109375 \nQ 20.015625 56 32.328125 56 \nQ 43.359375 56 49.78125 48.890625 \nQ 56.203125 41.796875 56.203125 29.59375 \nz\nM 47.21875 32.234375 \nQ 47.125 39.59375 43.09375 43.984375 \nQ 39.0625 48.390625 32.421875 48.390625 \nQ 24.90625 48.390625 20.390625 44.140625 \nQ 15.875 39.890625 15.1875 32.171875 \nz\n\" id=\"DejaVuSans-101\"/>\n       <path d=\"M 41.109375 46.296875 \nQ 39.59375 47.171875 37.8125 47.578125 \nQ 36.03125 48 33.890625 48 \nQ 26.265625 48 22.1875 43.046875 \nQ 18.109375 38.09375 18.109375 28.8125 \nL 18.109375 0 \nL 9.078125 0 \nL 9.078125 54.6875 \nL 18.109375 54.6875 \nL 18.109375 46.1875 \nQ 20.953125 51.171875 25.484375 53.578125 \nQ 30.03125 56 36.53125 56 \nQ 37.453125 56 38.578125 55.875 \nQ 39.703125 55.765625 41.0625 55.515625 \nz\n\" id=\"DejaVuSans-114\"/>\n       <path d=\"M 30.609375 48.390625 \nQ 23.390625 48.390625 19.1875 42.75 \nQ 14.984375 37.109375 14.984375 27.296875 \nQ 14.984375 17.484375 19.15625 11.84375 \nQ 23.34375 6.203125 30.609375 6.203125 \nQ 37.796875 6.203125 41.984375 11.859375 \nQ 46.1875 17.53125 46.1875 27.296875 \nQ 46.1875 37.015625 41.984375 42.703125 \nQ 37.796875 48.390625 30.609375 48.390625 \nz\nM 30.609375 56 \nQ 42.328125 56 49.015625 48.375 \nQ 55.71875 40.765625 55.71875 27.296875 \nQ 55.71875 13.875 49.015625 6.21875 \nQ 42.328125 -1.421875 30.609375 -1.421875 \nQ 18.84375 -1.421875 12.171875 6.21875 \nQ 5.515625 13.875 5.515625 27.296875 \nQ 5.515625 40.765625 12.171875 48.375 \nQ 18.84375 56 30.609375 56 \nz\n\" id=\"DejaVuSans-111\"/>\n       <path id=\"DejaVuSans-32\"/>\n       <path d=\"M 45.40625 46.390625 \nL 45.40625 75.984375 \nL 54.390625 75.984375 \nL 54.390625 0 \nL 45.40625 0 \nL 45.40625 8.203125 \nQ 42.578125 3.328125 38.25 0.953125 \nQ 33.9375 -1.421875 27.875 -1.421875 \nQ 17.96875 -1.421875 11.734375 6.484375 \nQ 5.515625 14.40625 5.515625 27.296875 \nQ 5.515625 40.1875 11.734375 48.09375 \nQ 17.96875 56 27.875 56 \nQ 33.9375 56 38.25 53.625 \nQ 42.578125 51.265625 45.40625 46.390625 \nz\nM 14.796875 27.296875 \nQ 14.796875 17.390625 18.875 11.75 \nQ 22.953125 6.109375 30.078125 6.109375 \nQ 37.203125 6.109375 41.296875 11.75 \nQ 45.40625 17.390625 45.40625 27.296875 \nQ 45.40625 37.203125 41.296875 42.84375 \nQ 37.203125 48.484375 30.078125 48.484375 \nQ 22.953125 48.484375 18.875 42.84375 \nQ 14.796875 37.203125 14.796875 27.296875 \nz\n\" id=\"DejaVuSans-100\"/>\n       <path d=\"M 9.8125 72.90625 \nL 19.671875 72.90625 \nL 19.671875 0 \nL 9.8125 0 \nz\n\" id=\"DejaVuSans-73\"/>\n       <path d=\"M 18.3125 70.21875 \nL 18.3125 54.6875 \nL 36.8125 54.6875 \nL 36.8125 47.703125 \nL 18.3125 47.703125 \nL 18.3125 18.015625 \nQ 18.3125 11.328125 20.140625 9.421875 \nQ 21.96875 7.515625 27.59375 7.515625 \nL 36.8125 7.515625 \nL 36.8125 0 \nL 27.59375 0 \nQ 17.1875 0 13.234375 3.875 \nQ 9.28125 7.765625 9.28125 18.015625 \nL 9.28125 47.703125 \nL 2.6875 47.703125 \nL 2.6875 54.6875 \nL 9.28125 54.6875 \nL 9.28125 70.21875 \nz\n\" id=\"DejaVuSans-116\"/>\n       <path d=\"M 34.28125 27.484375 \nQ 23.390625 27.484375 19.1875 25 \nQ 14.984375 22.515625 14.984375 16.5 \nQ 14.984375 11.71875 18.140625 8.90625 \nQ 21.296875 6.109375 26.703125 6.109375 \nQ 34.1875 6.109375 38.703125 11.40625 \nQ 43.21875 16.703125 43.21875 25.484375 \nL 43.21875 27.484375 \nz\nM 52.203125 31.203125 \nL 52.203125 0 \nL 43.21875 0 \nL 43.21875 8.296875 \nQ 40.140625 3.328125 35.546875 0.953125 \nQ 30.953125 -1.421875 24.3125 -1.421875 \nQ 15.921875 -1.421875 10.953125 3.296875 \nQ 6 8.015625 6 15.921875 \nQ 6 25.140625 12.171875 29.828125 \nQ 18.359375 34.515625 30.609375 34.515625 \nL 43.21875 34.515625 \nL 43.21875 35.40625 \nQ 43.21875 41.609375 39.140625 45 \nQ 35.0625 48.390625 27.6875 48.390625 \nQ 23 48.390625 18.546875 47.265625 \nQ 14.109375 46.140625 10.015625 43.890625 \nL 10.015625 52.203125 \nQ 14.9375 54.109375 19.578125 55.046875 \nQ 24.21875 56 28.609375 56 \nQ 40.484375 56 46.34375 49.84375 \nQ 52.203125 43.703125 52.203125 31.203125 \nz\n\" id=\"DejaVuSans-97\"/>\n       <path d=\"M 48.78125 52.59375 \nL 48.78125 44.1875 \nQ 44.96875 46.296875 41.140625 47.34375 \nQ 37.3125 48.390625 33.40625 48.390625 \nQ 24.65625 48.390625 19.8125 42.84375 \nQ 14.984375 37.3125 14.984375 27.296875 \nQ 14.984375 17.28125 19.8125 11.734375 \nQ 24.65625 6.203125 33.40625 6.203125 \nQ 37.3125 6.203125 41.140625 7.25 \nQ 44.96875 8.296875 48.78125 10.40625 \nL 48.78125 2.09375 \nQ 45.015625 0.34375 40.984375 -0.53125 \nQ 36.96875 -1.421875 32.421875 -1.421875 \nQ 20.0625 -1.421875 12.78125 6.34375 \nQ 5.515625 14.109375 5.515625 27.296875 \nQ 5.515625 40.671875 12.859375 48.328125 \nQ 20.21875 56 33.015625 56 \nQ 37.15625 56 41.109375 55.140625 \nQ 45.0625 54.296875 48.78125 52.59375 \nz\nM 36.109375 0 \nQ 38.78125 -3.03125 40.09375 -5.59375 \nQ 41.421875 -8.15625 41.421875 -10.5 \nQ 41.421875 -14.84375 38.484375 -17.0625 \nQ 35.5625 -19.28125 29.796875 -19.28125 \nQ 27.5625 -19.28125 25.4375 -18.984375 \nQ 23.3125 -18.703125 21.203125 -18.109375 \nL 21.203125 -11.71875 \nQ 22.875 -12.546875 24.671875 -12.90625 \nQ 26.484375 -13.28125 28.78125 -13.28125 \nQ 31.65625 -13.28125 33.125 -12.109375 \nQ 34.59375 -10.9375 34.59375 -8.6875 \nQ 34.59375 -7.234375 33.53125 -5.109375 \nQ 32.484375 -2.984375 30.296875 0 \nz\n\" id=\"DejaVuSans-231\"/>\n       <path d=\"M 30.609375 48.390625 \nQ 23.390625 48.390625 19.1875 42.75 \nQ 14.984375 37.109375 14.984375 27.296875 \nQ 14.984375 17.484375 19.15625 11.84375 \nQ 23.34375 6.203125 30.609375 6.203125 \nQ 37.796875 6.203125 41.984375 11.859375 \nQ 46.1875 17.53125 46.1875 27.296875 \nQ 46.1875 37.015625 41.984375 42.703125 \nQ 37.796875 48.390625 30.609375 48.390625 \nz\nM 30.609375 56 \nQ 42.328125 56 49.015625 48.375 \nQ 55.71875 40.765625 55.71875 27.296875 \nQ 55.71875 13.875 49.015625 6.21875 \nQ 42.328125 -1.421875 30.609375 -1.421875 \nQ 18.84375 -1.421875 12.171875 6.21875 \nQ 5.515625 13.875 5.515625 27.296875 \nQ 5.515625 40.765625 12.171875 48.375 \nQ 18.84375 56 30.609375 56 \nz\nM 30.4375 66.890625 \nL 27.640625 69.578125 \nQ 26.578125 70.5625 25.765625 71.015625 \nQ 24.96875 71.484375 24.328125 71.484375 \nQ 22.46875 71.484375 21.59375 69.703125 \nQ 20.71875 67.921875 20.609375 63.921875 \nL 14.515625 63.921875 \nQ 14.609375 70.515625 17.09375 74.09375 \nQ 19.59375 77.6875 24.03125 77.6875 \nQ 25.890625 77.6875 27.453125 77 \nQ 29.015625 76.3125 30.828125 74.703125 \nL 33.609375 72.015625 \nQ 34.671875 71.046875 35.484375 70.578125 \nQ 36.296875 70.125 36.921875 70.125 \nQ 38.78125 70.125 39.65625 71.90625 \nQ 40.53125 73.6875 40.640625 77.6875 \nL 46.734375 77.6875 \nQ 46.640625 71.09375 44.140625 67.5 \nQ 41.65625 63.921875 37.21875 63.921875 \nQ 35.359375 63.921875 33.796875 64.59375 \nQ 32.234375 65.28125 30.4375 66.890625 \nz\n\" id=\"DejaVuSans-245\"/>\n       <path d=\"M 44.28125 53.078125 \nL 44.28125 44.578125 \nQ 40.484375 46.53125 36.375 47.5 \nQ 32.28125 48.484375 27.875 48.484375 \nQ 21.1875 48.484375 17.84375 46.4375 \nQ 14.5 44.390625 14.5 40.28125 \nQ 14.5 37.15625 16.890625 35.375 \nQ 19.28125 33.59375 26.515625 31.984375 \nL 29.59375 31.296875 \nQ 39.15625 29.25 43.1875 25.515625 \nQ 47.21875 21.78125 47.21875 15.09375 \nQ 47.21875 7.46875 41.1875 3.015625 \nQ 35.15625 -1.421875 24.609375 -1.421875 \nQ 20.21875 -1.421875 15.453125 -0.5625 \nQ 10.6875 0.296875 5.421875 2 \nL 5.421875 11.28125 \nQ 10.40625 8.6875 15.234375 7.390625 \nQ 20.0625 6.109375 24.8125 6.109375 \nQ 31.15625 6.109375 34.5625 8.28125 \nQ 37.984375 10.453125 37.984375 14.40625 \nQ 37.984375 18.0625 35.515625 20.015625 \nQ 33.0625 21.96875 24.703125 23.78125 \nL 21.578125 24.515625 \nQ 13.234375 26.265625 9.515625 29.90625 \nQ 5.8125 33.546875 5.8125 39.890625 \nQ 5.8125 47.609375 11.28125 51.796875 \nQ 16.75 56 26.8125 56 \nQ 31.78125 56 36.171875 55.265625 \nQ 40.578125 54.546875 44.28125 53.078125 \nz\n\" id=\"DejaVuSans-115\"/>\n      </defs>\n      <use xlink:href=\"#DejaVuSans-78\"/>\n      <use x=\"74.804688\" xlink:href=\"#DejaVuSans-250\"/>\n      <use x=\"138.183594\" xlink:href=\"#DejaVuSans-109\"/>\n      <use x=\"235.595703\" xlink:href=\"#DejaVuSans-101\"/>\n      <use x=\"297.119141\" xlink:href=\"#DejaVuSans-114\"/>\n      <use x=\"335.982422\" xlink:href=\"#DejaVuSans-111\"/>\n      <use x=\"397.164062\" xlink:href=\"#DejaVuSans-32\"/>\n      <use x=\"428.951172\" xlink:href=\"#DejaVuSans-100\"/>\n      <use x=\"492.427734\" xlink:href=\"#DejaVuSans-101\"/>\n      <use x=\"553.951172\" xlink:href=\"#DejaVuSans-32\"/>\n      <use x=\"585.738281\" xlink:href=\"#DejaVuSans-73\"/>\n      <use x=\"615.230469\" xlink:href=\"#DejaVuSans-116\"/>\n      <use x=\"654.439453\" xlink:href=\"#DejaVuSans-101\"/>\n      <use x=\"715.962891\" xlink:href=\"#DejaVuSans-114\"/>\n      <use x=\"757.076172\" xlink:href=\"#DejaVuSans-97\"/>\n      <use x=\"818.355469\" xlink:href=\"#DejaVuSans-231\"/>\n      <use x=\"873.335938\" xlink:href=\"#DejaVuSans-245\"/>\n      <use x=\"934.517578\" xlink:href=\"#DejaVuSans-101\"/>\n      <use x=\"996.041016\" xlink:href=\"#DejaVuSans-115\"/>\n     </g>\n    </g>\n   </g>\n   <g id=\"matplotlib.axis_2\">\n    <g id=\"ytick_1\">\n     <g id=\"line2d_7\">\n      <defs>\n       <path d=\"M 0 0 \nL -3.5 0 \n\" id=\"m2710164c4e\" style=\"stroke:#000000;stroke-width:0.8;\"/>\n      </defs>\n      <g>\n       <use style=\"stroke:#000000;stroke-width:0.8;\" x=\"43.78125\" xlink:href=\"#m2710164c4e\" y=\"326.208735\"/>\n      </g>\n     </g>\n     <g id=\"text_8\">\n      <!-- 0.4 -->\n      <g transform=\"translate(20.878125 330.007953)scale(0.1 -0.1)\">\n       <defs>\n        <path d=\"M 10.6875 12.40625 \nL 21 12.40625 \nL 21 0 \nL 10.6875 0 \nz\n\" id=\"DejaVuSans-46\"/>\n       </defs>\n       <use xlink:href=\"#DejaVuSans-48\"/>\n       <use x=\"63.623047\" xlink:href=\"#DejaVuSans-46\"/>\n       <use x=\"95.410156\" xlink:href=\"#DejaVuSans-52\"/>\n      </g>\n     </g>\n    </g>\n    <g id=\"ytick_2\">\n     <g id=\"line2d_8\">\n      <g>\n       <use style=\"stroke:#000000;stroke-width:0.8;\" x=\"43.78125\" xlink:href=\"#m2710164c4e\" y=\"282.083318\"/>\n      </g>\n     </g>\n     <g id=\"text_9\">\n      <!-- 0.6 -->\n      <g transform=\"translate(20.878125 285.882537)scale(0.1 -0.1)\">\n       <use xlink:href=\"#DejaVuSans-48\"/>\n       <use x=\"63.623047\" xlink:href=\"#DejaVuSans-46\"/>\n       <use x=\"95.410156\" xlink:href=\"#DejaVuSans-54\"/>\n      </g>\n     </g>\n    </g>\n    <g id=\"ytick_3\">\n     <g id=\"line2d_9\">\n      <g>\n       <use style=\"stroke:#000000;stroke-width:0.8;\" x=\"43.78125\" xlink:href=\"#m2710164c4e\" y=\"237.957902\"/>\n      </g>\n     </g>\n     <g id=\"text_10\">\n      <!-- 0.8 -->\n      <g transform=\"translate(20.878125 241.757121)scale(0.1 -0.1)\">\n       <use xlink:href=\"#DejaVuSans-48\"/>\n       <use x=\"63.623047\" xlink:href=\"#DejaVuSans-46\"/>\n       <use x=\"95.410156\" xlink:href=\"#DejaVuSans-56\"/>\n      </g>\n     </g>\n    </g>\n    <g id=\"ytick_4\">\n     <g id=\"line2d_10\">\n      <g>\n       <use style=\"stroke:#000000;stroke-width:0.8;\" x=\"43.78125\" xlink:href=\"#m2710164c4e\" y=\"193.832486\"/>\n      </g>\n     </g>\n     <g id=\"text_11\">\n      <!-- 1.0 -->\n      <g transform=\"translate(20.878125 197.631704)scale(0.1 -0.1)\">\n       <use xlink:href=\"#DejaVuSans-49\"/>\n       <use x=\"63.623047\" xlink:href=\"#DejaVuSans-46\"/>\n       <use x=\"95.410156\" xlink:href=\"#DejaVuSans-48\"/>\n      </g>\n     </g>\n    </g>\n    <g id=\"ytick_5\">\n     <g id=\"line2d_11\">\n      <g>\n       <use style=\"stroke:#000000;stroke-width:0.8;\" x=\"43.78125\" xlink:href=\"#m2710164c4e\" y=\"149.707069\"/>\n      </g>\n     </g>\n     <g id=\"text_12\">\n      <!-- 1.2 -->\n      <g transform=\"translate(20.878125 153.506288)scale(0.1 -0.1)\">\n       <use xlink:href=\"#DejaVuSans-49\"/>\n       <use x=\"63.623047\" xlink:href=\"#DejaVuSans-46\"/>\n       <use x=\"95.410156\" xlink:href=\"#DejaVuSans-50\"/>\n      </g>\n     </g>\n    </g>\n    <g id=\"ytick_6\">\n     <g id=\"line2d_12\">\n      <g>\n       <use style=\"stroke:#000000;stroke-width:0.8;\" x=\"43.78125\" xlink:href=\"#m2710164c4e\" y=\"105.581653\"/>\n      </g>\n     </g>\n     <g id=\"text_13\">\n      <!-- 1.4 -->\n      <g transform=\"translate(20.878125 109.380872)scale(0.1 -0.1)\">\n       <use xlink:href=\"#DejaVuSans-49\"/>\n       <use x=\"63.623047\" xlink:href=\"#DejaVuSans-46\"/>\n       <use x=\"95.410156\" xlink:href=\"#DejaVuSans-52\"/>\n      </g>\n     </g>\n    </g>\n    <g id=\"ytick_7\">\n     <g id=\"line2d_13\">\n      <g>\n       <use style=\"stroke:#000000;stroke-width:0.8;\" x=\"43.78125\" xlink:href=\"#m2710164c4e\" y=\"61.456237\"/>\n      </g>\n     </g>\n     <g id=\"text_14\">\n      <!-- 1.6 -->\n      <g transform=\"translate(20.878125 65.255455)scale(0.1 -0.1)\">\n       <use xlink:href=\"#DejaVuSans-49\"/>\n       <use x=\"63.623047\" xlink:href=\"#DejaVuSans-46\"/>\n       <use x=\"95.410156\" xlink:href=\"#DejaVuSans-54\"/>\n      </g>\n     </g>\n    </g>\n    <g id=\"text_15\">\n     <!-- Loss -->\n     <g transform=\"translate(14.798437 196.845312)rotate(-90)scale(0.1 -0.1)\">\n      <defs>\n       <path d=\"M 9.8125 72.90625 \nL 19.671875 72.90625 \nL 19.671875 8.296875 \nL 55.171875 8.296875 \nL 55.171875 0 \nL 9.8125 0 \nz\n\" id=\"DejaVuSans-76\"/>\n      </defs>\n      <use xlink:href=\"#DejaVuSans-76\"/>\n      <use x=\"53.962891\" xlink:href=\"#DejaVuSans-111\"/>\n      <use x=\"115.144531\" xlink:href=\"#DejaVuSans-115\"/>\n      <use x=\"167.244141\" xlink:href=\"#DejaVuSans-115\"/>\n     </g>\n    </g>\n   </g>\n   <g id=\"line2d_14\">\n    <path clip-path=\"url(#p1c7b99af37)\" d=\"M 107.190341 37.62358 \nL 113.563114 114.918205 \nL 119.935887 141.311949 \nL 126.30866 173.110482 \nL 132.681433 178.239242 \nL 139.054206 224.846189 \nL 145.426979 202.974156 \nL 151.799752 185.282491 \nL 158.172525 221.675759 \nL 164.545298 197.117639 \nL 170.91807 239.477796 \nL 177.290843 244.303992 \nL 183.663616 230.709492 \nL 190.036389 238.251245 \nL 196.409162 233.372526 \nL 202.781935 276.134283 \nL 209.154708 247.433945 \nL 215.527481 216.944114 \nL 221.900254 250.391457 \nL 228.273027 220.279358 \nL 234.6458 269.149054 \nL 241.018573 266.862726 \nL 247.391346 249.874107 \nL 253.764119 253.318867 \nL 260.136892 250.813637 \nL 266.509665 294.300441 \nL 272.882438 264.989386 \nL 279.255211 230.40147 \nL 285.627984 261.560551 \nL 292.000757 229.85707 \nL 298.37353 283.089752 \nL 304.746303 277.924184 \nL 311.119075 258.684861 \nL 317.491848 260.130037 \nL 323.864621 260.514134 \nL 330.237394 304.292351 \nL 336.610167 275.264726 \nL 342.98294 238.959289 \nL 349.355713 267.591218 \nL 355.728486 235.399542 \nL 362.101259 291.625361 \nL 368.474032 284.963342 \nL 374.846805 263.779299 \nL 381.219578 263.991284 \nL 387.592351 267.032971 \nL 393.965124 310.729412 \nL 400.337897 282.350687 \nL 406.71067 245.191973 \nL 413.083443 271.380743 \nL 419.456216 239.157676 \nL 425.828989 297.519527 \nL 432.201762 289.991371 \nL 438.574535 267.090898 \nL 444.947308 266.445332 \nL 451.320081 271.832893 \nL 457.692853 315.256213 \nL 464.065626 287.695916 \nL 470.438399 250.034713 \nL 476.811172 273.989519 \nL 483.183945 241.948348 \nL 489.556718 301.881778 \nL 495.929491 293.822516 \nL 502.302264 269.397912 \nL 508.675037 268.121324 \nL 515.04781 275.560386 \nL 521.420583 318.632032 \nL 527.793356 291.954581 \nL 534.166129 253.948666 \nL 540.538902 275.903783 \nL 546.911675 244.14557 \nL 553.284448 305.262298 \nL 559.657221 296.866649 \nL 566.029994 271.080111 \nL 572.402767 269.329201 \nL 578.77554 278.559085 \nL 585.148313 321.26033 \nL 591.521086 295.470932 \nL 597.893858 257.20168 \nL 604.266631 277.379179 \nL 610.639404 245.946951 \nL 617.012177 307.971129 \nL 623.38495 299.359018 \nL 629.757723 272.347836 \nL 636.130496 270.240564 \nL 642.503269 281.034108 \nL 648.876042 323.37617 \nL 655.248815 298.44688 \nL 661.621588 259.964224 \nL 667.994361 278.562899 \nL 674.367134 247.468084 \nL 680.739907 310.198129 \nL 687.11268 301.446486 \nL 693.485453 273.328606 \nL 699.858226 270.957379 \nL 706.230999 283.117763 \nL 712.603772 325.125134 \nL 718.976545 301.010958 \nL 725.349318 262.351376 \nL 731.722091 279.545049 \nL 738.094864 248.78119 \nL 744.467636 312.066952 \nL 750.840409 303.226656 \nL 757.213182 274.10419 \nL 763.585955 271.543255 \nL 769.958728 284.899892 \nL 776.331501 326.602318 \nL 782.704274 303.249985 \nL 789.077047 264.444262 \nL 795.44982 280.383321 \nL 801.822593 249.934323 \nL 808.195366 313.661688 \nL 814.568139 304.767258 \nL 820.940912 274.729663 \nL 827.313685 272.039328 \nL 833.686458 286.444064 \nL 840.059231 327.87218 \nL 846.432004 305.226102 \nL 852.804777 266.301559 \nL 859.17755 281.116193 \nL 865.550323 250.96058 \nL 871.923096 315.041743 \nL 878.295869 306.117081 \nL 884.668642 275.243238 \nL 891.041414 272.472765 \nL 897.414187 287.796872 \nL 903.78696 328.979956 \nL 910.159733 306.98523 \nL 916.532506 267.966938 \nL 922.905279 281.76965 \nL 929.278052 251.883711 \nL 935.650825 316.250107 \nL 942.023598 307.312222 \nL 948.396371 275.672309 \nL 954.769144 272.861925 \nL 961.141917 288.99323 \nL 967.51469 329.958313 \nL 973.887463 308.562496 \nL 980.260236 269.473514 \nL 986.633009 282.361957 \nL 993.005782 252.721221 \nL 999.378555 317.319064 \nL 1005.751328 308.380113 \nL 1012.124101 276.036681 \nL 1018.496874 273.219313 \nL 1024.869647 290.060016 \nL 1031.242419 330.831421 \nL 1037.615192 309.985579 \nL 1043.987965 270.846863 \nL 1050.360738 282.906028 \nL 1056.733511 253.486482 \nL 1063.106284 318.272895 \nL 1069.479057 309.341979 \nL 1075.85183 276.35108 \nL 1082.224603 273.553583 \nL 1088.597376 291.018102 \nL 1094.970149 331.617519 \nL 1101.342922 311.276613 \nL 1107.715695 272.107223 \nL 1114.088468 283.411188 \nL 1120.461241 254.189884 \nL 1126.834014 319.130472 \nL 1133.206787 310.214508 \nL 1139.57956 276.626437 \nL 1145.952333 273.870718 \nL 1152.325106 291.884305 \nL 1158.697879 332.330691 \nL 1165.070652 312.453679 \nL 1171.443425 273.270442 \nL 1177.816197 283.884365 \nL 1184.18897 254.839527 \nL 1190.561743 319.90672 \nL 1196.934516 311.010995 \nL 1203.307289 276.871231 \nL 1209.680062 274.174913 \nL 1216.052835 292.671922 \nL 1222.425608 332.982076 \nL 1228.798381 313.531617 \nL 1235.171154 274.349524 \nL 1241.543927 284.330703 \nL 1247.9167 255.442196 \nL 1254.289473 320.613521 \nL 1260.662246 311.742216 \nL 1267.035019 277.091803 \nL 1273.407792 274.46914 \nL 1279.780565 293.391985 \nL 1286.153338 333.580354 \nL 1292.526111 314.522868 \nL 1298.898884 275.355003 \nL 1305.271657 284.754001 \nL 1311.64443 256.003232 \nL 1318.017202 321.260429 \nL 1324.389975 312.417141 \nL 1330.762748 277.293162 \nL 1337.135521 274.75549 \nL 1343.508294 294.053516 \nL 1349.881067 334.13267 \nL 1356.25384 315.437912 \nL 1362.626613 276.295573 \nL 1368.999386 285.15735 \nL 1375.372159 256.527262 \nL 1375.372159 256.527262 \n\" style=\"fill:none;stroke:#1f77b4;stroke-linecap:square;stroke-width:1.5;\"/>\n   </g>\n   <g id=\"patch_3\">\n    <path d=\"M 43.78125 348.958125 \nL 43.78125 22.798125 \n\" style=\"fill:none;stroke:#000000;stroke-linecap:square;stroke-linejoin:miter;stroke-width:0.8;\"/>\n   </g>\n   <g id=\"patch_4\">\n    <path d=\"M 1438.78125 348.958125 \nL 1438.78125 22.798125 \n\" style=\"fill:none;stroke:#000000;stroke-linecap:square;stroke-linejoin:miter;stroke-width:0.8;\"/>\n   </g>\n   <g id=\"patch_5\">\n    <path d=\"M 43.78125 348.958125 \nL 1438.78125 348.958125 \n\" style=\"fill:none;stroke:#000000;stroke-linecap:square;stroke-linejoin:miter;stroke-width:0.8;\"/>\n   </g>\n   <g id=\"patch_6\">\n    <path d=\"M 43.78125 22.798125 \nL 1438.78125 22.798125 \n\" style=\"fill:none;stroke:#000000;stroke-linecap:square;stroke-linejoin:miter;stroke-width:0.8;\"/>\n   </g>\n   <g id=\"text_16\">\n    <!-- Regressão Logística: Loss vs Número de Iterações -->\n    <g transform=\"translate(591.375937 16.798125)scale(0.12 -0.12)\">\n     <defs>\n      <path d=\"M 44.390625 34.1875 \nQ 47.5625 33.109375 50.5625 29.59375 \nQ 53.5625 26.078125 56.59375 19.921875 \nL 66.609375 0 \nL 56 0 \nL 46.6875 18.703125 \nQ 43.0625 26.03125 39.671875 28.421875 \nQ 36.28125 30.8125 30.421875 30.8125 \nL 19.671875 30.8125 \nL 19.671875 0 \nL 9.8125 0 \nL 9.8125 72.90625 \nL 32.078125 72.90625 \nQ 44.578125 72.90625 50.734375 67.671875 \nQ 56.890625 62.453125 56.890625 51.90625 \nQ 56.890625 45.015625 53.6875 40.46875 \nQ 50.484375 35.9375 44.390625 34.1875 \nz\nM 19.671875 64.796875 \nL 19.671875 38.921875 \nL 32.078125 38.921875 \nQ 39.203125 38.921875 42.84375 42.21875 \nQ 46.484375 45.515625 46.484375 51.90625 \nQ 46.484375 58.296875 42.84375 61.546875 \nQ 39.203125 64.796875 32.078125 64.796875 \nz\n\" id=\"DejaVuSans-82\"/>\n      <path d=\"M 45.40625 27.984375 \nQ 45.40625 37.75 41.375 43.109375 \nQ 37.359375 48.484375 30.078125 48.484375 \nQ 22.859375 48.484375 18.828125 43.109375 \nQ 14.796875 37.75 14.796875 27.984375 \nQ 14.796875 18.265625 18.828125 12.890625 \nQ 22.859375 7.515625 30.078125 7.515625 \nQ 37.359375 7.515625 41.375 12.890625 \nQ 45.40625 18.265625 45.40625 27.984375 \nz\nM 54.390625 6.78125 \nQ 54.390625 -7.171875 48.1875 -13.984375 \nQ 42 -20.796875 29.203125 -20.796875 \nQ 24.46875 -20.796875 20.265625 -20.09375 \nQ 16.0625 -19.390625 12.109375 -17.921875 \nL 12.109375 -9.1875 \nQ 16.0625 -11.328125 19.921875 -12.34375 \nQ 23.78125 -13.375 27.78125 -13.375 \nQ 36.625 -13.375 41.015625 -8.765625 \nQ 45.40625 -4.15625 45.40625 5.171875 \nL 45.40625 9.625 \nQ 42.625 4.78125 38.28125 2.390625 \nQ 33.9375 0 27.875 0 \nQ 17.828125 0 11.671875 7.65625 \nQ 5.515625 15.328125 5.515625 27.984375 \nQ 5.515625 40.671875 11.671875 48.328125 \nQ 17.828125 56 27.875 56 \nQ 33.9375 56 38.28125 53.609375 \nQ 42.625 51.21875 45.40625 46.390625 \nL 45.40625 54.6875 \nL 54.390625 54.6875 \nz\n\" id=\"DejaVuSans-103\"/>\n      <path d=\"M 34.28125 27.484375 \nQ 23.390625 27.484375 19.1875 25 \nQ 14.984375 22.515625 14.984375 16.5 \nQ 14.984375 11.71875 18.140625 8.90625 \nQ 21.296875 6.109375 26.703125 6.109375 \nQ 34.1875 6.109375 38.703125 11.40625 \nQ 43.21875 16.703125 43.21875 25.484375 \nL 43.21875 27.484375 \nz\nM 52.203125 31.203125 \nL 52.203125 0 \nL 43.21875 0 \nL 43.21875 8.296875 \nQ 40.140625 3.328125 35.546875 0.953125 \nQ 30.953125 -1.421875 24.3125 -1.421875 \nQ 15.921875 -1.421875 10.953125 3.296875 \nQ 6 8.015625 6 15.921875 \nQ 6 25.140625 12.171875 29.828125 \nQ 18.359375 34.515625 30.609375 34.515625 \nL 43.21875 34.515625 \nL 43.21875 35.40625 \nQ 43.21875 41.609375 39.140625 45 \nQ 35.0625 48.390625 27.6875 48.390625 \nQ 23 48.390625 18.546875 47.265625 \nQ 14.109375 46.140625 10.015625 43.890625 \nL 10.015625 52.203125 \nQ 14.9375 54.109375 19.578125 55.046875 \nQ 24.21875 56 28.609375 56 \nQ 40.484375 56 46.34375 49.84375 \nQ 52.203125 43.703125 52.203125 31.203125 \nz\nM 28.8125 66.890625 \nL 26.015625 69.578125 \nQ 24.953125 70.5625 24.140625 71.015625 \nQ 23.34375 71.484375 22.703125 71.484375 \nQ 20.84375 71.484375 19.96875 69.703125 \nQ 19.09375 67.921875 18.984375 63.921875 \nL 12.890625 63.921875 \nQ 12.984375 70.515625 15.46875 74.09375 \nQ 17.96875 77.6875 22.40625 77.6875 \nQ 24.265625 77.6875 25.828125 77 \nQ 27.390625 76.3125 29.203125 74.703125 \nL 31.984375 72.015625 \nQ 33.046875 71.046875 33.859375 70.578125 \nQ 34.671875 70.125 35.296875 70.125 \nQ 37.15625 70.125 38.03125 71.90625 \nQ 38.90625 73.6875 39.015625 77.6875 \nL 45.109375 77.6875 \nQ 45.015625 71.09375 42.515625 67.5 \nQ 40.03125 63.921875 35.59375 63.921875 \nQ 33.734375 63.921875 32.171875 64.59375 \nQ 30.609375 65.28125 28.8125 66.890625 \nz\n\" id=\"DejaVuSans-227\"/>\n      <path d=\"M 20.65625 79.984375 \nL 30.375 79.984375 \nL 14.46875 61.625 \nL 6.984375 61.625 \nz\nM 9.421875 54.6875 \nL 18.40625 54.6875 \nL 18.40625 0 \nL 9.421875 0 \nz\nM 13.921875 56 \nz\n\" id=\"DejaVuSans-237\"/>\n      <path d=\"M 9.421875 54.6875 \nL 18.40625 54.6875 \nL 18.40625 0 \nL 9.421875 0 \nz\nM 9.421875 75.984375 \nL 18.40625 75.984375 \nL 18.40625 64.59375 \nL 9.421875 64.59375 \nz\n\" id=\"DejaVuSans-105\"/>\n      <path d=\"M 48.78125 52.59375 \nL 48.78125 44.1875 \nQ 44.96875 46.296875 41.140625 47.34375 \nQ 37.3125 48.390625 33.40625 48.390625 \nQ 24.65625 48.390625 19.8125 42.84375 \nQ 14.984375 37.3125 14.984375 27.296875 \nQ 14.984375 17.28125 19.8125 11.734375 \nQ 24.65625 6.203125 33.40625 6.203125 \nQ 37.3125 6.203125 41.140625 7.25 \nQ 44.96875 8.296875 48.78125 10.40625 \nL 48.78125 2.09375 \nQ 45.015625 0.34375 40.984375 -0.53125 \nQ 36.96875 -1.421875 32.421875 -1.421875 \nQ 20.0625 -1.421875 12.78125 6.34375 \nQ 5.515625 14.109375 5.515625 27.296875 \nQ 5.515625 40.671875 12.859375 48.328125 \nQ 20.21875 56 33.015625 56 \nQ 37.15625 56 41.109375 55.140625 \nQ 45.0625 54.296875 48.78125 52.59375 \nz\n\" id=\"DejaVuSans-99\"/>\n      <path d=\"M 11.71875 12.40625 \nL 22.015625 12.40625 \nL 22.015625 0 \nL 11.71875 0 \nz\nM 11.71875 51.703125 \nL 22.015625 51.703125 \nL 22.015625 39.3125 \nL 11.71875 39.3125 \nz\n\" id=\"DejaVuSans-58\"/>\n      <path d=\"M 2.984375 54.6875 \nL 12.5 54.6875 \nL 29.59375 8.796875 \nL 46.6875 54.6875 \nL 56.203125 54.6875 \nL 35.6875 0 \nL 23.484375 0 \nz\n\" id=\"DejaVuSans-118\"/>\n     </defs>\n     <use xlink:href=\"#DejaVuSans-82\"/>\n     <use x=\"64.982422\" xlink:href=\"#DejaVuSans-101\"/>\n     <use x=\"126.505859\" xlink:href=\"#DejaVuSans-103\"/>\n     <use x=\"189.982422\" xlink:href=\"#DejaVuSans-114\"/>\n     <use x=\"228.845703\" xlink:href=\"#DejaVuSans-101\"/>\n     <use x=\"290.369141\" xlink:href=\"#DejaVuSans-115\"/>\n     <use x=\"342.46875\" xlink:href=\"#DejaVuSans-115\"/>\n     <use x=\"394.568359\" xlink:href=\"#DejaVuSans-227\"/>\n     <use x=\"455.847656\" xlink:href=\"#DejaVuSans-111\"/>\n     <use x=\"517.029297\" xlink:href=\"#DejaVuSans-32\"/>\n     <use x=\"548.816406\" xlink:href=\"#DejaVuSans-76\"/>\n     <use x=\"602.779297\" xlink:href=\"#DejaVuSans-111\"/>\n     <use x=\"663.960938\" xlink:href=\"#DejaVuSans-103\"/>\n     <use x=\"727.4375\" xlink:href=\"#DejaVuSans-237\"/>\n     <use x=\"755.220703\" xlink:href=\"#DejaVuSans-115\"/>\n     <use x=\"807.320312\" xlink:href=\"#DejaVuSans-116\"/>\n     <use x=\"846.529297\" xlink:href=\"#DejaVuSans-105\"/>\n     <use x=\"874.3125\" xlink:href=\"#DejaVuSans-99\"/>\n     <use x=\"929.292969\" xlink:href=\"#DejaVuSans-97\"/>\n     <use x=\"990.572266\" xlink:href=\"#DejaVuSans-58\"/>\n     <use x=\"1024.263672\" xlink:href=\"#DejaVuSans-32\"/>\n     <use x=\"1056.050781\" xlink:href=\"#DejaVuSans-76\"/>\n     <use x=\"1110.013672\" xlink:href=\"#DejaVuSans-111\"/>\n     <use x=\"1171.195312\" xlink:href=\"#DejaVuSans-115\"/>\n     <use x=\"1223.294922\" xlink:href=\"#DejaVuSans-115\"/>\n     <use x=\"1275.394531\" xlink:href=\"#DejaVuSans-32\"/>\n     <use x=\"1307.181641\" xlink:href=\"#DejaVuSans-118\"/>\n     <use x=\"1366.361328\" xlink:href=\"#DejaVuSans-115\"/>\n     <use x=\"1418.460938\" xlink:href=\"#DejaVuSans-32\"/>\n     <use x=\"1450.248047\" xlink:href=\"#DejaVuSans-78\"/>\n     <use x=\"1525.052734\" xlink:href=\"#DejaVuSans-250\"/>\n     <use x=\"1588.431641\" xlink:href=\"#DejaVuSans-109\"/>\n     <use x=\"1685.84375\" xlink:href=\"#DejaVuSans-101\"/>\n     <use x=\"1747.367188\" xlink:href=\"#DejaVuSans-114\"/>\n     <use x=\"1786.230469\" xlink:href=\"#DejaVuSans-111\"/>\n     <use x=\"1847.412109\" xlink:href=\"#DejaVuSans-32\"/>\n     <use x=\"1879.199219\" xlink:href=\"#DejaVuSans-100\"/>\n     <use x=\"1942.675781\" xlink:href=\"#DejaVuSans-101\"/>\n     <use x=\"2004.199219\" xlink:href=\"#DejaVuSans-32\"/>\n     <use x=\"2035.986328\" xlink:href=\"#DejaVuSans-73\"/>\n     <use x=\"2065.478516\" xlink:href=\"#DejaVuSans-116\"/>\n     <use x=\"2104.6875\" xlink:href=\"#DejaVuSans-101\"/>\n     <use x=\"2166.210938\" xlink:href=\"#DejaVuSans-114\"/>\n     <use x=\"2207.324219\" xlink:href=\"#DejaVuSans-97\"/>\n     <use x=\"2268.603516\" xlink:href=\"#DejaVuSans-231\"/>\n     <use x=\"2323.583984\" xlink:href=\"#DejaVuSans-245\"/>\n     <use x=\"2384.765625\" xlink:href=\"#DejaVuSans-101\"/>\n     <use x=\"2446.289062\" xlink:href=\"#DejaVuSans-115\"/>\n    </g>\n   </g>\n  </g>\n </g>\n <defs>\n  <clipPath id=\"p1c7b99af37\">\n   <rect height=\"326.16\" width=\"1395\" x=\"43.78125\" y=\"22.798125\"/>\n  </clipPath>\n </defs>\n</svg>\n",
      "image/png": "[encoded data removed]"
     },
     "metadata": {
      "needs_background": "light"
     }
    }
   ],
   "source": [
    "plt.figure(figsize=(25,6))\n",
    "plt.plot(lista_iteracao,lista_loss)\n",
    "plt.xlabel(\"Número de Iterações\")\n",
    "plt.ylabel(\"Loss\")\n",
    "plt.title(\"Regressão Logística: Loss vs Número de Iterações\")\n",
    "plt.show()"
   ]
  },
  {
   "cell_type": "code",
   "execution_count": null,
   "metadata": {},
   "outputs": [],
   "source": []
  }
 ]
}