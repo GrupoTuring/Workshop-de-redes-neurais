{
 "metadata": {
  "language_info": {
   "codemirror_mode": {
    "name": "ipython",
    "version": 3
   },
   "file_extension": ".py",
   "mimetype": "text/x-python",
   "name": "python",
   "nbconvert_exporter": "python",
   "pygments_lexer": "ipython3",
   "version": "3.8.5"
  },
  "orig_nbformat": 2,
  "kernelspec": {
   "name": "python3",
   "display_name": "Python 3.8.5 64-bit ('torch': conda)",
   "metadata": {
    "interpreter": {
     "hash": "a5cd74ba85a3b6a037c59ac3f3634fcdd9437555c9fe253dd51f04000fcd493e"
    }
   }
  }
 },
 "nbformat": 4,
 "nbformat_minor": 2,
 "cells": [
  {
   "source": [
    "# Workshop Redes Neurais\n",
    "## Grupo Turing"
   ],
   "cell_type": "markdown",
   "metadata": {}
  },
  {
   "source": [
    "![Pytorch logo](https://upload.wikimedia.org/wikipedia/commons/9/96/Pytorch_logo.png)"
   ],
   "cell_type": "markdown",
   "metadata": {}
  },
  {
   "cell_type": "code",
   "execution_count": null,
   "metadata": {},
   "outputs": [],
   "source": [
    "!pip install torch"
   ]
  },
  {
   "source": [
    "## 🔥 Básicos de Pytorch 🔥\n",
    "\n",
    "Primeiro vamos ver alguns análogos entre **numpy** e **Pytorch**\n",
    "\n",
    "### Matrizes\n",
    " - Em Pytorch, matrizes (*arrays*) são chamados de tensores.\n",
    " - Uma matriz $3\\times3$, por exemplo é um tensor $3\\times3$\n",
    " - Podemos criar um array numpy com o método `np.numpy()`\n",
    " - Podemos pegar o tipo do array com `type()`\n",
    " - Podemos pegar o formato do *array* com `np.shape()`. Linha $\\times$ Coluna"
   ],
   "cell_type": "markdown",
   "metadata": {}
  },
  {
   "cell_type": "code",
   "execution_count": 1,
   "metadata": {},
   "outputs": [
    {
     "output_type": "stream",
     "name": "stdout",
     "text": [
      "Array do tipo: <class 'numpy.ndarray'>\nArray de formato: (2, 3)\n[[1 2 3]\n [4 5 6]]\n"
     ]
    }
   ],
   "source": [
    "import numpy as np\n",
    "import math\n",
    "\n",
    "array = [[1,2,3],[4,5,6]]\n",
    "primeiro_array = np.array(array) # array 2x3\n",
    "print(f\"Array do tipo: {type(primeiro_array)}\")\n",
    "print(f\"Array de formato: {np.shape(primeiro_array)}\")\n",
    "print(primeiro_array)"
   ]
  },
  {
   "source": [
    "- Criamos um tensor com o método `torch.Tensor()`\n",
    "- `tensor.type`: tipo do *array*, nesse caso um tensor\n",
    "- `tensor.shape`: formato do *array*. Linha $\\times$ Coluna "
   ],
   "cell_type": "markdown",
   "metadata": {}
  },
  {
   "cell_type": "code",
   "execution_count": 2,
   "metadata": {},
   "outputs": [
    {
     "output_type": "stream",
     "name": "stdout",
     "text": [
      "Array do tipo: <built-in method type of Tensor object at 0x7f236c4169c0>\nArray de formato: torch.Size([2, 3])\ntensor([[1., 2., 3.],\n        [4., 5., 6.]])\n"
     ]
    }
   ],
   "source": [
    "import torch\n",
    "\n",
    "tensor = torch.Tensor(array)\n",
    "print(f\"Array do tipo: {tensor.type}\")\n",
    "print(f\"Array de formato: {tensor.shape}\")\n",
    "print(tensor)"
   ]
  },
  {
   "source": [
    "Podemos fazer a alocação de *arrays* de maneira análoga nas duas linguagens:\n",
    " - `np.ones()` = `torch.ones()`\n",
    " - `np.random.rand()` = `torch.rand()`"
   ],
   "cell_type": "markdown",
   "metadata": {}
  },
  {
   "cell_type": "code",
   "execution_count": 3,
   "metadata": {},
   "outputs": [
    {
     "output_type": "stream",
     "name": "stdout",
     "text": [
      "Numpy:\n [[1. 1. 1.]\n [1. 1. 1.]]\n\ntensor([[1., 1., 1.],\n        [1., 1., 1.]])\n"
     ]
    }
   ],
   "source": [
    "print(f\"Numpy:\\n {np.ones((2,3))}\\n\")\n",
    "\n",
    "print(torch.ones((2,3)))"
   ]
  },
  {
   "cell_type": "code",
   "execution_count": 4,
   "metadata": {},
   "outputs": [
    {
     "output_type": "stream",
     "name": "stdout",
     "text": [
      "Numpy:\n [[0.51320509 0.9229794  0.02880149]\n [0.73877123 0.7225602  0.62519988]]\n\ntensor([[0.2543, 0.4679, 0.7133],\n        [0.6299, 0.4968, 0.8402]])\n"
     ]
    }
   ],
   "source": [
    "print(f\"Numpy:\\n {np.random.rand(2,3)}\\n\")\n",
    "\n",
    "print(torch.rand(2,3))"
   ]
  },
  {
   "source": [
    "### Convertendo de numpy para torch e vice-versa\n",
    "\n",
    "Em muitos pontos **numpy** e **pytorch** são bem parecidos em suas estruturas, e muitas das vezes podemos utilizar os dois em conjunto. Assim normalmente convertemos resultados de redes neurais - que são tensores - para **arrays** de **numpy**.\n",
    "\n",
    "Os métodos para fazer a conversão entre tensores e arrays numpy:\n",
    " - `torch.from_numpy()`: de um array numpy para um tensor\n",
    " - `numpy()`: de um tensor para um array numpy"
   ],
   "cell_type": "markdown",
   "metadata": {}
  },
  {
   "cell_type": "code",
   "execution_count": 5,
   "metadata": {},
   "outputs": [
    {
     "output_type": "stream",
     "name": "stdout",
     "text": [
      "<class 'numpy.ndarray'> \n [[0.17693058 0.61076473]\n [0.90673629 0.20861088]] \n\ntensor([[0.1769, 0.6108],\n        [0.9067, 0.2086]], dtype=torch.float64) \n\n<class 'numpy.ndarray'> \n [[0.17693058 0.61076473]\n [0.90673629 0.20861088]]\n"
     ]
    }
   ],
   "source": [
    "array = np.random.rand(2,2)\n",
    "print(f\"{type(array)} \\n {array} \\n\")\n",
    "\n",
    "de_numpy_para_tensor = torch.from_numpy(array)\n",
    "print(f\"{de_numpy_para_tensor} \\n\")\n",
    "\n",
    "tensor = de_numpy_para_tensor\n",
    "de_tensor_para_numpy = tensor.numpy()\n",
    "print(f\"{type(de_tensor_para_numpy)} \\n {de_tensor_para_numpy}\")"
   ]
  },
  {
   "source": [
    "Quando fazemos estas conversões também podemos fazer um *typecast* (mudança do tipo) das variáveis, isso pode ser útil já que o Pytorch faz uma série de computações de baixo nível, o qual o tipo primitivo das variáveis precisa ser bem especificado e definido, para isso podemos usar o método `tensor.type(torch.TipoDeTensor)`, alguns tipo de tensores nativos do Pytorch são:\n",
    "  - `torch.FloatTensor` - pontos flutuantes de 32-bits\n",
    "  - `torch.DoubleTensor` - pontos flutuantes de 64-bits\n",
    "  - `torch.IntTensor` - números inteiros de 32-bits\n",
    "  - `torch.LongTensor` - números inteiros de 64-bits\n",
    "É muito comum encontrarmos *bugs* causados pela utilização errada de algum tipo primitivo, você pode ler sobre todos eles na [documentação do Pytorch](https://pytorch.org/docs/stable/tensors.html)\n"
   ],
   "cell_type": "markdown",
   "metadata": {}
  },
  {
   "cell_type": "code",
   "execution_count": 6,
   "metadata": {},
   "outputs": [
    {
     "output_type": "stream",
     "name": "stdout",
     "text": [
      "<class 'torch.Tensor'> \n tensor([[ 1., 10.],\n        [ 2., 20.]])\n\n<class 'torch.Tensor'> \n tensor([[ 1, 10],\n        [ 2, 20]])\n"
     ]
    }
   ],
   "source": [
    "array = np.array([[1,10],[2,20]])\n",
    "\n",
    "# Transformar em um tensor de Floats:\n",
    "tensor_float = torch.from_numpy(array).type(torch.FloatTensor)\n",
    "print(f\"{type(tensor_float)} \\n {tensor_float}\\n\")\n",
    "\n",
    "# Transformar em um tensor de Longs:\n",
    "tensor_long = torch.from_numpy(array).type(torch.LongTensor)\n",
    "print(f\"{type(tensor_long)} \\n {tensor_long}\")"
   ]
  },
  {
   "source": [
    "### Matemática básica com Pytorch\n",
    "*considere a e b dois tensores*\n",
    "\n",
    "- Redefinir o tamanho: `view()`\n",
    "- Adição: `torch.add(a,b)` = a + b\n",
    "- Subtração: `torch.sub(a,b)` = a - b\n",
    "- Multiplicação elemento-a-elemento = `torch.mul(a,b)` = a * b\n",
    "- Divisão elemento-a-elemento = `torch.div(a,b)` = a / b\n",
    "- Média: `a.mean()`\n",
    "- Desvio Padrão (Standart Deviantion - std): `a.std()`"
   ],
   "cell_type": "markdown",
   "metadata": {}
  },
  {
   "cell_type": "code",
   "execution_count": 7,
   "metadata": {},
   "outputs": [
    {
     "output_type": "stream",
     "name": "stdout",
     "text": [
      "\n",
      " tensor([[1., 1., 1.],\n",
      "        [1., 1., 1.],\n",
      "        [1., 1., 1.]]) \n",
      "\n",
      "torch.Size([9]): tensor([1., 1., 1., 1., 1., 1., 1., 1., 1.]) \n",
      "\n",
      "Adição: \n",
      "tensor([[2., 2., 2.],\n",
      "        [2., 2., 2.],\n",
      "        [2., 2., 2.]]) \n",
      "\n",
      "Subtração: \n",
      "tensor([[0., 0., 0.],\n",
      "        [0., 0., 0.],\n",
      "        [0., 0., 0.]]) \n",
      "\n",
      "Multiplicação elemento-a-elemento: \n",
      "tensor([[1., 1., 1.],\n",
      "        [1., 1., 1.],\n",
      "        [1., 1., 1.]]) \n",
      "\n",
      "Divisão elemento-a-elemento: \n",
      "tensor([[1., 1., 1.],\n",
      "        [1., 1., 1.],\n",
      "        [1., 1., 1.]]) \n",
      "\n",
      "Média: 3.0 \n",
      "\n",
      "Desvio padrão: 1.5811388492584229 \n",
      "\n"
     ]
    }
   ],
   "source": [
    "tensor = torch.ones(3,3)\n",
    "print(\"\\n\", tensor, \"\\n\")\n",
    "\n",
    "print(f\"{tensor.view(9).shape}: {tensor.view(9)} \\n\")\n",
    "\n",
    "print(f\"Adição: \\n{torch.add(tensor, tensor)} \\n\")\n",
    "\n",
    "print(f\"Subtração: \\n{torch.sub(tensor, tensor)} \\n\")\n",
    "\n",
    "print(f\"Multiplicação elemento-a-elemento: \\n{torch.mul(tensor, tensor)} \\n\")\n",
    "\n",
    "print(f\"Divisão elemento-a-elemento: \\n{torch.div(tensor, tensor)} \\n\")\n",
    "\n",
    "tensor = torch.Tensor([1,2,3,4,5])\n",
    "print(f\"Média: {tensor.mean()} \\n\")\n",
    "\n",
    "print(f\"Desvio padrão: {tensor.std()} \\n\")"
   ]
  },
  {
   "source": [
    "### Variáveis\n",
    "\n",
    "- Acumulam os gradientes\n",
    "- Na rede neural utilizaremos pytorch. Como explicamos anteriormente nas, redes neurais os gradientes são calculados na *backpropagation*.\n",
    "- A diferença entre variáveis e tensores é a de que variáveis acumulam os gradientes\n",
    "- Também podemos fazer operações matemáticas com variáveis\n",
    "- Dessa maneira, se queremos fazer a *backpropagation* precisamos de variáveis"
   ],
   "cell_type": "markdown",
   "metadata": {}
  },
  {
   "cell_type": "code",
   "execution_count": 8,
   "metadata": {},
   "outputs": [
    {
     "output_type": "execute_result",
     "data": {
      "text/plain": [
       "tensor([1., 1., 1.], requires_grad=True)"
      ]
     },
     "metadata": {},
     "execution_count": 8
    }
   ],
   "source": [
    "from torch.autograd import Variable\n",
    "\n",
    "var = Variable(torch.ones(3), requires_grad = True)\n",
    "var"
   ]
  },
  {
   "source": [
    "Vamos ver um exemplo de como as Variáveis são utilizadas em uma *backpropagation*, com duas função $f(y) = \\sum y$, $y(x) = x^2$ e $x = (3,5)$\n"
   ],
   "cell_type": "markdown",
   "metadata": {}
  },
  {
   "cell_type": "code",
   "execution_count": 9,
   "metadata": {},
   "outputs": [
    {
     "output_type": "stream",
     "name": "stdout",
     "text": [
      " x = tensor([3., 5.], requires_grad=True)\n f =  34.0\nGradientes: tensor([ 6., 10.])\n"
     ]
    }
   ],
   "source": [
    "array = [3,5]\n",
    "tensor = torch.Tensor(array)\n",
    "x = Variable(tensor, requires_grad = True)\n",
    "y = x**2\n",
    "print(f\" x = {x}\")\n",
    "\n",
    "f = sum(y)\n",
    "print(f\" f =  {f}\")\n",
    "\n",
    "f.backward() # Realiza as derivadas parciais\n",
    "\n",
    "print(f\"Gradientes: {x.grad}\")"
   ]
  },
  {
   "source": [
    "Vamos explicar passo a passo quais foram as operações feitas pelo Pytorch:\n",
    "- Primeiro ele recebe os elementos do tensor e faz a primeira operação com eles $y_1 = 3^2 = 9$ e $y_2 = 5^2 = 25$\n",
    "- Agora ele soma o tensor, retornando assim um único valor escalar: $\\sum_i y_i = y_1 + y_2 = 9 + 25 = 34$\n",
    "- O gradiente é a derivada parcial de cada elemento, ou seja o gradiente \"1\" é a derivada relativa à $y_1$ e o gradiente \"2\" é relativo à $y_2$ \n",
    "- derivada relativa à $y_1$ é $\\frac{\\partial}{\\partial y_1}(3^2) = 2*3 = 6$\n",
    "- derivada relativa à $y_2$ é $\\frac{\\partial}{\\partial y_2}(5^2) = 2*5 = 10$\n",
    "- Assim ficamos com os gradientes $(6, 10)$"
   ],
   "cell_type": "markdown",
   "metadata": {}
  },
  {
   "source": [
    "### Exercícios\n",
    "\n",
    "Coplete às células de código abaixo no campo indicado por \"...\":"
   ],
   "cell_type": "markdown",
   "metadata": {}
  },
  {
   "source": [
    "Crie um tensor com base no *array* dado:"
   ],
   "cell_type": "markdown",
   "metadata": {}
  },
  {
   "cell_type": "code",
   "execution_count": 10,
   "metadata": {},
   "outputs": [
    {
     "output_type": "execute_result",
     "data": {
      "text/plain": [
       "tensor([[  10.,  100., 1000.],\n",
       "        [  20.,  200., 2000.]])"
      ]
     },
     "metadata": {},
     "execution_count": 10
    }
   ],
   "source": [
    "array = [[10,100,1000], [20,200,2000]]\n",
    "tensor = torch.Tensor(array)\n",
    "tensor"
   ]
  },
  {
   "source": [
    "Crie um tensor de formato $(5,3)$ no qual todos os elementos são o número 1, depois utilize o método `.shape` para verificar seu formato:"
   ],
   "cell_type": "markdown",
   "metadata": {}
  },
  {
   "cell_type": "code",
   "execution_count": 11,
   "metadata": {},
   "outputs": [
    {
     "output_type": "stream",
     "name": "stdout",
     "text": [
      "Tensor: \n tensor([[1., 1., 1.],\n        [1., 1., 1.],\n        [1., 1., 1.],\n        [1., 1., 1.],\n        [1., 1., 1.]])\nFormato: torch.Size([5, 3])\n"
     ]
    }
   ],
   "source": [
    "tensor_de_uns = torch.ones(5,3)\n",
    "formato_do_tensor = tensor_de_uns.shape\n",
    "\n",
    "print(f\"Tensor: \\n {tensor_de_uns}\")\n",
    "print(f\"Formato: {formato_do_tensor}\")"
   ]
  },
  {
   "source": [
    "Converta o *array* numpy para um tensor de Pytorch, depois transforme o tensor em um *array* numpy novamente."
   ],
   "cell_type": "markdown",
   "metadata": {}
  },
  {
   "cell_type": "code",
   "execution_count": 12,
   "metadata": {},
   "outputs": [
    {
     "output_type": "stream",
     "name": "stdout",
     "text": [
      "tensor([[ 1,  1,  2,  3],\n        [ 5,  8, 13, 21]]) \n É um tensor? True\n[[ 1  1  2  3]\n [ 5  8 13 21]] \n É um array numpy? True\n"
     ]
    }
   ],
   "source": [
    "array = np.array([[1,1,2,3], [5,8,13,21]])\n",
    "\n",
    "de_numpy_para_tensor = torch.from_numpy(array)\n",
    "print(f\"{de_numpy_para_tensor} \\n É um tensor? {isinstance(de_numpy_para_tensor, torch.Tensor)}\")\n",
    "\n",
    "de_tensor_para_numpy = de_numpy_para_tensor.numpy()\n",
    "print(f\"{de_tensor_para_numpy} \\n É um array numpy? {isinstance(de_tensor_para_numpy, np.ndarray)}\")"
   ]
  },
  {
   "source": [
    "Complete a célula abaixo com as operações indicadas:"
   ],
   "cell_type": "markdown",
   "metadata": {}
  },
  {
   "cell_type": "code",
   "execution_count": 13,
   "metadata": {},
   "outputs": [
    {
     "output_type": "stream",
     "name": "stdout",
     "text": [
      "Soma:\n tensor([[15., 24.],\n        [15., 12.]]) \nSubtração:\n tensor([[5., 8.],\n        [5., 4.]]) \nMultiplicação:\n tensor([[ 50., 128.],\n        [ 50.,  32.]]) \nDivisão:\n tensor([[2., 2.],\n        [2., 2.]]) \nMédia: 5.5 \nDesvio Padrão: 3.464101552963257 \n\n"
     ]
    }
   ],
   "source": [
    "tensor_a = torch.Tensor([[5,8],[5,4]])\n",
    "tensor_b = torch.Tensor([[10,16],[10,8]])\n",
    "\n",
    "soma = torch.add(tensor_a,tensor_b) # a+b\n",
    "subtracao = torch.sub(tensor_b, tensor_a) # b-a\n",
    "mul = torch.mul(tensor_a, tensor_b) # a*b\n",
    "div = torch.div(tensor_b, tensor_a) # b/a\n",
    "media = tensor_a.mean() # media de a\n",
    "std = tensor_b.std() # desvio padrão de b\n",
    "\n",
    "print(f\"Soma:\\n {soma} \\n\"\n",
    "      f\"Subtração:\\n {subtracao} \\n\"\n",
    "      f\"Multiplicação:\\n {mul} \\n\"\n",
    "      f\"Divisão:\\n {div} \\n\"\n",
    "      f\"Média: {media} \\n\"\n",
    "      f\"Desvio Padrão: {std} \\n\")"
   ]
  },
  {
   "source": [
    "Crie uma **Varíavel** do Pytorch com o tensor definido. Depois defina as equações $y = log_e(x)$ e $f(y) = 2*media(y)$. Para então aplicar a *backpropagation* em $f(x)$ e calcular seus gradientes."
   ],
   "cell_type": "markdown",
   "metadata": {}
  },
  {
   "cell_type": "code",
   "execution_count": 14,
   "metadata": {},
   "outputs": [
    {
     "output_type": "stream",
     "name": "stdout",
     "text": [
      " x = tensor([4., 5.], requires_grad=True)\n",
      " y = tensor([1.3863, 1.6094], grad_fn=<LogBackward>)\n",
      " f = 2.995732307434082\n",
      "Gradientes: tensor([0.2500, 0.2000])\n"
     ]
    }
   ],
   "source": [
    "array = [4,5]\n",
    "tensor = torch.Tensor(array)\n",
    "\n",
    "x = Variable(tensor, requires_grad=True)\n",
    "print(f\" x = {x}\")\n",
    "\n",
    "y = torch.log(x) # Dica: use o operador torch.log()\n",
    "print(f\" y = {y}\")\n",
    "\n",
    "f = 2 * y.mean()\n",
    "print(f\" f = {f}\")\n",
    "\n",
    "# Escreva aqui a backpropagation de f\n",
    "f.backward()\n",
    "\n",
    "if isinstance(x, torch.Tensor): print(f\"Gradientes: {x.grad}\")\n",
    "else: print(\"Complete o exerćicio!\")"
   ]
  },
  {
   "source": [
    "## 🧠 Implementando uma rede neural 🧠\n",
    "### Conhecendo e preparando nossos dados \n",
    "\n",
    "**[Fashion MNIST](https://www.kaggle.com/zalando-research/fashionmnist)** é uma coleção de diversas peças de roupas retiradas do serviço de *e-commerce* Zalando, ele consiste de cerca de 60.000 entradas de treino de 10.000 de teste. Cada entrada é uma imagem de 28x28 pixels em escala cinza. As peças de roupa estão classificadas da seguinte maneira:\n",
    "  - 0 *T-shirt*\n",
    "  - 1 *Trouser*\n",
    "  - 2 *Pullover*\n",
    "  - 3 *Dress*\n",
    "  - 4 *Coat*\n",
    "  - 5 *Sandal*\n",
    "  - 6 *Shirt*\n",
    "  - 7 *Sneaker*\n",
    "  - 8 *Bag*\n",
    "  - 9 *Ankle boot*"
   ],
   "cell_type": "markdown",
   "metadata": {}
  },
  {
   "cell_type": "code",
   "execution_count": 1,
   "metadata": {},
   "outputs": [
    {
     "output_type": "execute_result",
     "data": {
      "text/plain": [
       "   5  0  0.1  0.2  0.3  0.4  0.5  0.6  0.7  0.8  ...  0.608  0.609  0.610  \\\n",
       "0  0  0    0    0    0    0    0    0    0    0  ...      0      0      0   \n",
       "1  4  0    0    0    0    0    0    0    0    0  ...      0      0      0   \n",
       "2  1  0    0    0    0    0    0    0    0    0  ...      0      0      0   \n",
       "3  9  0    0    0    0    0    0    0    0    0  ...      0      0      0   \n",
       "4  2  0    0    0    0    0    0    0    0    0  ...      0      0      0   \n",
       "\n",
       "   0.611  0.612  0.613  0.614  0.615  0.616  0.617  \n",
       "0      0      0      0      0      0      0      0  \n",
       "1      0      0      0      0      0      0      0  \n",
       "2      0      0      0      0      0      0      0  \n",
       "3      0      0      0      0      0      0      0  \n",
       "4      0      0      0      0      0      0      0  \n",
       "\n",
       "[5 rows x 785 columns]"
      ],
      "text/html": "<div>\n<style scoped>\n    .dataframe tbody tr th:only-of-type {\n        vertical-align: middle;\n    }\n\n    .dataframe tbody tr th {\n        vertical-align: top;\n    }\n\n    .dataframe thead th {\n        text-align: right;\n    }\n</style>\n<table border=\"1\" class=\"dataframe\">\n  <thead>\n    <tr style=\"text-align: right;\">\n      <th></th>\n      <th>5</th>\n      <th>0</th>\n      <th>0.1</th>\n      <th>0.2</th>\n      <th>0.3</th>\n      <th>0.4</th>\n      <th>0.5</th>\n      <th>0.6</th>\n      <th>0.7</th>\n      <th>0.8</th>\n      <th>...</th>\n      <th>0.608</th>\n      <th>0.609</th>\n      <th>0.610</th>\n      <th>0.611</th>\n      <th>0.612</th>\n      <th>0.613</th>\n      <th>0.614</th>\n      <th>0.615</th>\n      <th>0.616</th>\n      <th>0.617</th>\n    </tr>\n  </thead>\n  <tbody>\n    <tr>\n      <th>0</th>\n      <td>0</td>\n      <td>0</td>\n      <td>0</td>\n      <td>0</td>\n      <td>0</td>\n      <td>0</td>\n      <td>0</td>\n      <td>0</td>\n      <td>0</td>\n      <td>0</td>\n      <td>...</td>\n      <td>0</td>\n      <td>0</td>\n      <td>0</td>\n      <td>0</td>\n      <td>0</td>\n      <td>0</td>\n      <td>0</td>\n      <td>0</td>\n      <td>0</td>\n      <td>0</td>\n    </tr>\n    <tr>\n      <th>1</th>\n      <td>4</td>\n      <td>0</td>\n      <td>0</td>\n      <td>0</td>\n      <td>0</td>\n      <td>0</td>\n      <td>0</td>\n      <td>0</td>\n      <td>0</td>\n      <td>0</td>\n      <td>...</td>\n      <td>0</td>\n      <td>0</td>\n      <td>0</td>\n      <td>0</td>\n      <td>0</td>\n      <td>0</td>\n      <td>0</td>\n      <td>0</td>\n      <td>0</td>\n      <td>0</td>\n    </tr>\n    <tr>\n      <th>2</th>\n      <td>1</td>\n      <td>0</td>\n      <td>0</td>\n      <td>0</td>\n      <td>0</td>\n      <td>0</td>\n      <td>0</td>\n      <td>0</td>\n      <td>0</td>\n      <td>0</td>\n      <td>...</td>\n      <td>0</td>\n      <td>0</td>\n      <td>0</td>\n      <td>0</td>\n      <td>0</td>\n      <td>0</td>\n      <td>0</td>\n      <td>0</td>\n      <td>0</td>\n      <td>0</td>\n    </tr>\n    <tr>\n      <th>3</th>\n      <td>9</td>\n      <td>0</td>\n      <td>0</td>\n      <td>0</td>\n      <td>0</td>\n      <td>0</td>\n      <td>0</td>\n      <td>0</td>\n      <td>0</td>\n      <td>0</td>\n      <td>...</td>\n      <td>0</td>\n      <td>0</td>\n      <td>0</td>\n      <td>0</td>\n      <td>0</td>\n      <td>0</td>\n      <td>0</td>\n      <td>0</td>\n      <td>0</td>\n      <td>0</td>\n    </tr>\n    <tr>\n      <th>4</th>\n      <td>2</td>\n      <td>0</td>\n      <td>0</td>\n      <td>0</td>\n      <td>0</td>\n      <td>0</td>\n      <td>0</td>\n      <td>0</td>\n      <td>0</td>\n      <td>0</td>\n      <td>...</td>\n      <td>0</td>\n      <td>0</td>\n      <td>0</td>\n      <td>0</td>\n      <td>0</td>\n      <td>0</td>\n      <td>0</td>\n      <td>0</td>\n      <td>0</td>\n      <td>0</td>\n    </tr>\n  </tbody>\n</table>\n<p>5 rows × 785 columns</p>\n</div>"
     },
     "metadata": {},
     "execution_count": 1
    }
   ],
   "source": [
    "import pandas as pd\n",
    "\n",
    "df_inicial = pd.read_csv(\"https://pjreddie.com/media/files/mnist_train.csv\")\n",
    "df_inicial.head() # Como cada coluna representa o valor de cada pixel, a tabela dos dados não é muito \"emocionante\""
   ]
  },
  {
   "cell_type": "code",
   "execution_count": 2,
   "metadata": {},
   "outputs": [
    {
     "output_type": "stream",
     "name": "stdout",
     "text": [
      "Número de entradas de treino: 49999\nNúmero de entradas de validação: 10000\n"
     ]
    }
   ],
   "source": [
    "n_validos = 10000\n",
    "n_treino = len(df_inicial) - n_validos\n",
    "print(f\"Número de entradas de treino: {n_treino}\\n\"\n",
    "      f\"Número de entradas de validação: {n_validos}\")"
   ]
  },
  {
   "cell_type": "code",
   "execution_count": 3,
   "metadata": {},
   "outputs": [],
   "source": [
    "# Usaremos essa função para dividir entre dados de treino e validação\n",
    "def divide_valores(a,n):\n",
    "     return a[:n].copy(), a[n:].copy()"
   ]
  },
  {
   "cell_type": "code",
   "execution_count": 4,
   "metadata": {},
   "outputs": [],
   "source": [
    "# Dividir dataset entre dados x e labels y\n",
    "y, x = df_inicial[\"5\"].values, df_inicial.loc[:, df_inicial.columns != \"5\"].values"
   ]
  },
  {
   "cell_type": "code",
   "execution_count": 5,
   "metadata": {},
   "outputs": [],
   "source": [
    "x_treino, x_valido = divide_valores(x, n_treino)\n",
    "y_treino, y_valido = divide_valores(y, n_treino)"
   ]
  },
  {
   "cell_type": "code",
   "execution_count": 6,
   "metadata": {},
   "outputs": [
    {
     "output_type": "stream",
     "name": "stdout",
     "text": [
      "Formato do x de treino: (49999, 784)\nFormato do x de validação: (10000, 784)\nFormato do y de treino: (49999,)\nFormato do y de validação: (10000,)\n"
     ]
    }
   ],
   "source": [
    "print(f\"Formato do x de treino: {x_treino.shape}\\n\"\n",
    "      f\"Formato do x de validação: {x_valido.shape}\\n\"\n",
    "      f\"Formato do y de treino: {y_treino.shape}\\n\"\n",
    "      f\"Formato do y de validação: {y_valido.shape}\")"
   ]
  },
  {
   "source": [
    "Uma etapa comum de pré processamento de dados em aprendizado por máquina é centralizar padronizar nosso *dataset*, o que isso basicamente significa é que iremos subtrair a média de todo o *dataset* e dividi-lo pelo seu desvio padrão. Esse processo ajuda a agilizar o processo de aprendizado."
   ],
   "cell_type": "markdown",
   "metadata": {}
  },
  {
   "cell_type": "code",
   "execution_count": 7,
   "metadata": {},
   "outputs": [
    {
     "output_type": "stream",
     "name": "stdout",
     "text": [
      "Média antes do pré processamento: 72.86\nDesvio padrão antes do pré processamente: 89.89\nMédia depois do pré processamento: -0.00\nDesvio padrão depois do pré processamento: 1.00\n"
     ]
    }
   ],
   "source": [
    "media = x_treino.mean()\n",
    "desvio_padrao = x_treino.std()\n",
    "\n",
    "x_treino = (x_treino-media)/desvio_padrao\n",
    "print(f\"Média antes do pré processamento: {media:.2f}\\n\"\n",
    "      f\"Desvio padrão antes do pré processamente: {desvio_padrao:.2f}\\n\"\n",
    "      f\"Média depois do pré processamento: {x_treino.mean():.2f}\\n\"\n",
    "      f\"Desvio padrão depois do pré processamento: {x_treino.std():.2f}\")"
   ]
  },
  {
   "cell_type": "code",
   "execution_count": 8,
   "metadata": {},
   "outputs": [
    {
     "output_type": "stream",
     "name": "stdout",
     "text": [
      "Média pós processamento: 0.01\nDesvio padrão pós processamento: 1.01\n"
     ]
    }
   ],
   "source": [
    "# O mesmo deve ser feito com a validação\n",
    "\n",
    "x_valido = (x_valido-media)/desvio_padrao\n",
    "print(f\"Média pós processamento: {x_valido.mean():.2f}\\n\"\n",
    "      f\"Desvio padrão pós processamento: {x_valido.std():.2f}\")"
   ]
  },
  {
   "source": [
    "Vamos visualizar algumas das imagens de nosso *dataset*:"
   ],
   "cell_type": "markdown",
   "metadata": {}
  },
  {
   "cell_type": "code",
   "execution_count": 9,
   "metadata": {},
   "outputs": [],
   "source": [
    "from matplotlib import pyplot as plt\n",
    "\n",
    "# Essa função vai nos ajudar a visualizar as imagens\n",
    "def mostrar(img, title=None):\n",
    "    labels = ['T-shirt/top','Trouser','Pullover','Dress','Coat','Sandal','Shirt','Sneaker','Bag','Ankle boot']\n",
    "    plt.imshow(img, cmap=\"gray\")\n",
    "    if title is not None: plt.title(labels[int(title)])"
   ]
  },
  {
   "cell_type": "code",
   "execution_count": 10,
   "metadata": {},
   "outputs": [
    {
     "output_type": "error",
     "ename": "NameError",
     "evalue": "name 'np' is not defined",
     "traceback": [
      "\u001b[0;31m---------------------------------------------------------------------------\u001b[0m",
      "\u001b[0;31mNameError\u001b[0m                                 Traceback (most recent call last)",
      "\u001b[0;32m<ipython-input-10-7d1907bedb6d>\u001b[0m in \u001b[0;36m<module>\u001b[0;34m\u001b[0m\n\u001b[0;32m----> 1\u001b[0;31m \u001b[0mx_imgs\u001b[0m \u001b[0;34m=\u001b[0m \u001b[0mnp\u001b[0m\u001b[0;34m.\u001b[0m\u001b[0mreshape\u001b[0m\u001b[0;34m(\u001b[0m\u001b[0mx_valido\u001b[0m\u001b[0;34m,\u001b[0m \u001b[0;34m(\u001b[0m\u001b[0;34m-\u001b[0m\u001b[0;36m1\u001b[0m\u001b[0;34m,\u001b[0m \u001b[0;36m28\u001b[0m\u001b[0;34m,\u001b[0m \u001b[0;36m28\u001b[0m\u001b[0;34m)\u001b[0m\u001b[0;34m)\u001b[0m\u001b[0;34m\u001b[0m\u001b[0;34m\u001b[0m\u001b[0m\n\u001b[0m\u001b[1;32m      2\u001b[0m \u001b[0;34m\u001b[0m\u001b[0m\n\u001b[1;32m      3\u001b[0m \u001b[0mindex\u001b[0m \u001b[0;34m=\u001b[0m \u001b[0;36m100\u001b[0m\u001b[0;34m\u001b[0m\u001b[0;34m\u001b[0m\u001b[0m\n\u001b[1;32m      4\u001b[0m \u001b[0mmostrar\u001b[0m\u001b[0;34m(\u001b[0m\u001b[0mx_imgs\u001b[0m\u001b[0;34m[\u001b[0m\u001b[0mindex\u001b[0m\u001b[0;34m]\u001b[0m\u001b[0;34m,\u001b[0m \u001b[0my_valido\u001b[0m\u001b[0;34m[\u001b[0m\u001b[0mindex\u001b[0m\u001b[0;34m]\u001b[0m\u001b[0;34m)\u001b[0m\u001b[0;34m\u001b[0m\u001b[0;34m\u001b[0m\u001b[0m\n",
      "\u001b[0;31mNameError\u001b[0m: name 'np' is not defined"
     ]
    }
   ],
   "source": [
    "x_imgs = np.reshape(x_valido, (-1, 28, 28))\n",
    "\n",
    "index = 100\n",
    "mostrar(x_imgs[index], y_valido[index])"
   ]
  },
  {
   "source": [
    "### Adaptando os dados para o Pytorch"
   ],
   "cell_type": "markdown",
   "metadata": {}
  },
  {
   "cell_type": "code",
   "execution_count": 11,
   "metadata": {},
   "outputs": [],
   "source": [
    "import torch\n",
    "import torch.nn as nn\n",
    "from torch.autograd import Variable\n",
    "from torch.utils.data import DataLoader"
   ]
  },
  {
   "cell_type": "code",
   "execution_count": 12,
   "metadata": {},
   "outputs": [],
   "source": [
    "# Transforme os respectivos datasets de numpy para tensores torch, \n",
    "# o tensor x_treino_torch deve ser do tipo torch.FloatTensor\n",
    "# Dica, lembre-se da seção \"Convertendo de numpy para torch e vice-versa\"\n",
    "x_treino_torch = torch.from_numpy(x_treino).type(torch.FloatTensor)\n",
    "y_treino_torch = torch.from_numpy(y_treino)\n",
    "\n",
    "x_valido_torch = torch.from_numpy(x_valido).type(torch.FloatTensor)\n",
    "y_valido_torch = torch.from_numpy(y_valido)\n",
    "\n",
    "tamanho_batch = 100\n",
    "n_iters = 10000\n",
    "\n",
    "n_epochs = int((n_iters / len(y_treino)) * tamanho_batch)\n",
    "\n",
    "# Transformamos em um dataset de tensores\n",
    "treino = torch.utils.data.TensorDataset(x_treino_torch, y_treino_torch)\n",
    "validacao = torch.utils.data.TensorDataset(x_valido_torch, y_valido_torch)\n",
    "\n",
    "# Preparamos o dataser para ser iterado pela rede\n",
    "treino_loader = DataLoader(treino, batch_size=tamanho_batch, shuffle=True)\n",
    "validacao_loader = DataLoader(validacao, batch_size=tamanho_batch, shuffle=True)"
   ]
  },
  {
   "source": [
    "### Para que serviu o TensorDataset e o DataLoader?\n",
    "\n",
    "Basicamente, o `TensorDataset` é uma abstração que prepara nossos dados para serem tratados como um dataset de tensores pelo o Pytorch, já o `DataLoader` é um iterador que nós ajuda a fazer alguns tratamentos bem útil em nosso dataset, como o batching e shuffle dele, em casos mais avançados ele também te possibilita trabalhar em como será feito o processamento desses dados pelo processador.\n",
    "\n",
    "A estrutura do nosso loader pode ser resumida assim:\n",
    "```\n",
    "- 📦 500 batches de pares de tensores\n",
    "  |- 🍱 100 Tensores de Imagens e 🗃️ 100 labels respectivas\n",
    "     |- 🖼️ 1 imagem como tensor   |️-️️ 🏷️ 1 label da imagem\n",
    "```"
   ],
   "cell_type": "markdown",
   "metadata": {}
  },
  {
   "cell_type": "code",
   "execution_count": 27,
   "metadata": {
    "tags": []
   },
   "outputs": [
    {
     "output_type": "stream",
     "name": "stdout",
     "text": [
      "[tensor([[-0.8106, -0.8106, -0.8106,  ..., -0.8106, -0.8106, -0.8106],\n        [-0.8106, -0.8106, -0.8106,  ..., -0.8106, -0.8106, -0.8106],\n        [-0.8106, -0.8106, -0.8106,  ..., -0.8106, -0.8106, -0.8106],\n        ...,\n        [-0.8106, -0.8106, -0.8106,  ..., -0.8106, -0.8106, -0.8106],\n        [-0.8106, -0.8106, -0.7994,  ..., -0.8106, -0.8106, -0.8106],\n        [-0.8106, -0.8106, -0.8106,  ..., -0.8106, -0.8106, -0.8106]]), tensor([2, 9, 6, 0, 3, 4, 4, 5, 4, 8, 0, 8, 9, 0, 2, 2, 9, 3, 3, 3, 8, 7, 4, 4,\n        0, 4, 4, 8, 7, 1, 5, 0, 5, 3, 2, 7, 3, 4, 2, 1, 6, 0, 9, 6, 0, 5, 6, 7,\n        7, 2, 5, 2, 2, 4, 1, 4, 9, 8, 3, 4, 5, 5, 6, 3, 5, 8, 5, 9, 8, 1, 2, 8,\n        1, 3, 6, 8, 3, 4, 2, 5, 0, 2, 6, 8, 1, 2, 7, 6, 6, 4, 6, 5, 0, 1, 7, 3,\n        5, 8, 4, 3])]\n[tensor([[-0.8106, -0.8106, -0.8106,  ..., -0.8106, -0.8106, -0.8106],\n        [-0.8106, -0.8106, -0.8106,  ..., -0.8106, -0.8106, -0.8106],\n        [-0.8106, -0.8106, -0.7994,  ..., -0.8106, -0.8106, -0.8106],\n        ...,\n        [-0.8106, -0.8106, -0.8106,  ..., -0.8106, -0.8106, -0.8106],\n        [-0.8106, -0.8106, -0.8106,  ..., -0.8106, -0.8106, -0.8106],\n        [-0.8106, -0.8106, -0.8106,  ..., -0.8106, -0.8106, -0.8106]]), tensor([8, 5, 0, 5, 3, 0, 8, 5, 6, 1, 0, 7, 6, 1, 9, 7, 6, 9, 3, 3, 2, 6, 0, 6,\n        3, 6, 3, 5, 9, 7, 7, 6, 3, 6, 7, 2, 4, 1, 3, 1, 0, 6, 3, 0, 3, 4, 6, 5,\n        9, 3, 7, 2, 4, 8, 8, 6, 7, 5, 6, 1, 9, 9, 1, 7, 0, 8, 9, 7, 7, 8, 6, 9,\n        2, 3, 0, 4, 1, 9, 4, 7, 2, 8, 0, 0, 8, 4, 5, 4, 3, 2, 6, 1, 7, 7, 5, 7,\n        7, 8, 0, 4])]\n"
     ]
    }
   ],
   "source": [
    "limite = 2\n",
    "contador = 0\n",
    "for i in treino_loader:\n",
    "    if contador < limite: print(i)\n",
    "    else: break\n",
    "    contador += 1"
   ]
  },
  {
   "cell_type": "code",
   "execution_count": 28,
   "metadata": {},
   "outputs": [
    {
     "output_type": "execute_result",
     "data": {
      "text/plain": [
       "500"
      ]
     },
     "metadata": {},
     "execution_count": 28
    }
   ],
   "source": [
    "len(treino_loader)"
   ]
  },
  {
   "source": [
    "Aqui podemos observar que nosso treino_loader é composto de 500 pares de tensores, vamos olhar melhor cada um desses tensores:"
   ],
   "cell_type": "markdown",
   "metadata": {}
  },
  {
   "cell_type": "code",
   "execution_count": 29,
   "metadata": {
    "tags": [
     "outputPrepend"
    ]
   },
   "outputs": [
    {
     "output_type": "stream",
     "name": "stdout",
     "text": [
      ".4309e-01, -2.8771e-01, -7.8832e-01,  1.5727e-01, -3.6559e-01,\n",
      "        -6.6595e-01, -4.3233e-01, -8.1057e-01,  3.4639e-01,  2.3514e-01,\n",
      "        -4.2121e-01, -4.5458e-01,  1.4700e+00, -5.7695e-01,  6.8275e-02,\n",
      "        -6.6595e-01, -8.1057e-01, -8.1057e-01, -8.1057e-01, -8.1057e-01,\n",
      "        -8.1057e-01, -7.2157e-01, -7.7720e-01, -5.2133e-01,  5.4663e-01,\n",
      "        -3.0996e-01, -4.7683e-01, -5.2133e-01, -2.5434e-01, -6.2145e-01,\n",
      "         2.4627e-01,  9.9162e-01,  3.9089e-01, -9.8594e-02,  5.7150e-02,\n",
      "        -8.1057e-01, -4.8796e-01, -2.5434e-01, -6.7707e-01, -8.1057e-01,\n",
      "        -1.6534e-01, -8.1057e-01, -8.1057e-01, -8.1057e-01, -8.1057e-01,\n",
      "        -8.1057e-01, -8.1057e-01, -8.1057e-01, -8.1057e-01, -8.1057e-01,\n",
      "        -8.1057e-01, -8.1057e-01, -8.1057e-01, -4.7683e-01, -5.1021e-01,\n",
      "        -3.4334e-01, -1.9872e-01, -5.7695e-01,  3.4639e-01,  7.4688e-01,\n",
      "         7.8025e-01, -2.4321e-01, -2.9884e-01, -5.8808e-01, -5.8808e-01,\n",
      "        -5.1021e-01, -6.1033e-01, -7.4382e-01, -8.1057e-01, -8.1057e-01,\n",
      "        -8.1057e-01, -8.1057e-01, -8.1057e-01, -8.1057e-01, -8.1057e-01,\n",
      "        -8.1057e-01, -7.9945e-01, -7.9945e-01, -8.1057e-01, -8.1057e-01,\n",
      "        -8.1057e-01, -5.7695e-01, -1.6534e-01, -1.9872e-01, -1.9872e-01,\n",
      "         1.0806e+00,  6.6900e-01,  9.3600e-01,  1.1362e+00,  6.9125e-01,\n",
      "         2.1289e-01, -2.0984e-01, -7.5495e-01, -3.7671e-01, -4.7683e-01,\n",
      "        -7.7720e-01, -8.1057e-01, -7.9945e-01, -7.9945e-01, -8.1057e-01,\n",
      "        -8.1057e-01, -8.1057e-01, -8.1057e-01, -8.1057e-01, -8.1057e-01,\n",
      "        -8.1057e-01, -8.1057e-01, -8.1057e-01, -8.1057e-01, -5.6583e-01,\n",
      "        -2.0984e-01, -3.6559e-01,  5.9113e-01,  1.0361e+00,  4.7989e-01,\n",
      "         6.3563e-01,  1.0361e+00,  5.0214e-01,  3.0189e-01,  6.8275e-02,\n",
      "        -8.1057e-01, -4.3233e-01,  6.8275e-02, -6.6595e-01, -8.1057e-01,\n",
      "        -7.9945e-01, -8.1057e-01, -8.1057e-01, -8.1057e-01, -8.1057e-01,\n",
      "        -8.1057e-01, -8.1057e-01, -8.1057e-01, -8.1057e-01, -8.1057e-01,\n",
      "        -7.9945e-01, -8.1057e-01, -5.6583e-01, -4.8796e-01, -5.1021e-01,\n",
      "         6.0226e-01,  3.7976e-01,  1.1277e-01,  8.8037e-01,  5.3551e-01,\n",
      "        -6.7707e-01, -4.7683e-01, -1.5422e-01, -6.9932e-01, -8.1057e-01,\n",
      "        -4.6571e-01, -5.1021e-01, -8.1057e-01, -7.8832e-01, -8.1057e-01,\n",
      "        -8.1057e-01, -8.1057e-01, -8.1057e-01, -8.1057e-01, -8.1057e-01,\n",
      "        -8.1057e-01, -8.1057e-01, -8.1057e-01, -7.9945e-01, -8.1057e-01,\n",
      "        -7.3270e-01, -2.6546e-01, -1.3197e-01, -9.8594e-02, -2.0722e-02,\n",
      "         1.0165e-01,  8.3587e-01, -1.6534e-01, -4.8796e-01, -4.8796e-01,\n",
      "        -7.3270e-01, -1.9872e-01,  1.1277e-01, -1.6534e-01, -4.5458e-01,\n",
      "        -8.1057e-01, -7.8832e-01, -8.1057e-01, -8.1057e-01, -8.1057e-01,\n",
      "        -8.1057e-01, -8.1057e-01, -8.1057e-01, -8.1057e-01, -8.1057e-01,\n",
      "        -8.1057e-01, -8.1057e-01, -8.1057e-01, -8.1057e-01, -5.1021e-01,\n",
      "        -5.2133e-01, -6.7707e-01, -5.2133e-01, -6.6595e-01, -2.9884e-01,\n",
      "        -3.7671e-01, -7.7720e-01, -6.7707e-01, -8.1057e-01, -4.8796e-01,\n",
      "         2.7964e-01, -3.2109e-01, -8.1057e-01, -8.1057e-01, -7.9945e-01,\n",
      "        -8.1057e-01, -8.1057e-01, -8.1057e-01, -8.1057e-01])\n",
      "Tamanho da imagem tensor: 784\n",
      "------------------------------------------\n",
      "Tensor de imagens: tensor([[-0.8106, -0.8106, -0.8106,  ..., -0.8106, -0.8106, -0.8106],\n",
      "        [-0.8106, -0.8106, -0.8106,  ..., -0.8106, -0.8106, -0.8106],\n",
      "        [-0.8106, -0.8106, -0.8106,  ..., -0.8106, -0.8106, -0.8106],\n",
      "        ...,\n",
      "        [-0.8106, -0.8106, -0.8106,  ..., -0.8106, -0.8106, -0.8106],\n",
      "        [-0.8106, -0.8106, -0.8106,  ..., -0.8106, -0.8106, -0.8106],\n",
      "        [-0.8106, -0.8106, -0.8106,  ..., -0.8106, -0.8106, -0.8106]])\n",
      "Tamanho do Tensor: 100\n",
      "Imagem tensor: tensor([-0.8106, -0.8106, -0.8106, -0.8106, -0.8106, -0.8106, -0.8106, -0.8106,\n",
      "        -0.8106, -0.8106, -0.1320,  0.8470,  1.4032,  1.7036,  1.6035,  1.0139,\n",
      "         0.4243, -0.5770, -0.8106, -0.8106, -0.7994, -0.8106, -0.8106, -0.8106,\n",
      "        -0.8106, -0.8106, -0.8106, -0.8106, -0.8106, -0.8106, -0.8106, -0.8106,\n",
      "        -0.8106, -0.8106, -0.7661, -0.8106, -0.7216,  1.9928,  1.9372,  1.9150,\n",
      "         1.8482,  1.8593,  1.8816,  1.8482,  1.9261,  1.8705,  0.3130, -0.8106,\n",
      "        -0.8106, -0.8106, -0.8106, -0.8106, -0.8106, -0.8106, -0.8106, -0.8106,\n",
      "        -0.8106, -0.8106, -0.8106, -0.8106, -0.8106, -0.8106, -0.7216, -0.8106,\n",
      "         0.9805,  2.0262,  1.6591,  1.7815,  1.7370,  1.7481,  1.6925,  1.7703,\n",
      "         1.7926,  1.7258,  1.8593, -0.5992, -0.8106, -0.7661, -0.8106, -0.8106,\n",
      "        -0.8106, -0.8106, -0.8106, -0.8106, -0.8106, -0.8106, -0.8106, -0.8106,\n",
      "        -0.8106, -0.7772, -0.8106, -0.8106,  1.7703,  1.8482,  1.7481,  1.7592,\n",
      "         1.9038,  2.0151,  2.0040,  1.9706,  1.7926,  1.6813,  1.9483,  0.3130,\n",
      "        -0.8106, -0.8106, -0.8106, -0.8106, -0.8106, -0.8106, -0.8106, -0.8106,\n",
      "        -0.8106, -0.8106, -0.8106, -0.8106, -0.7883, -0.8106, -0.8106, -0.8106,\n",
      "         1.7592,  1.7926,  1.7703,  1.7815,  1.9483,  1.0250,  1.3699,  2.0040,\n",
      "         1.6591,  1.7481,  1.8593,  1.7036, -0.8106, -0.8106, -0.8106, -0.8106,\n",
      "        -0.8106, -0.8106, -0.8106, -0.8106, -0.8106, -0.8106, -0.8106, -0.7994,\n",
      "        -0.8106, -0.8106,  0.8136,  1.6813,  1.8260,  1.8260,  1.8482,  1.8037,\n",
      "         1.9928,  0.7914,  1.2252,  1.9483,  1.7815,  1.8593,  1.8037,  1.8705,\n",
      "         1.7036,  0.4131, -0.8106, -0.8106, -0.8106, -0.8106, -0.8106, -0.8106,\n",
      "        -0.8106, -0.8106, -0.8106, -0.8106, -0.8106,  1.1585,  2.0151,  1.7481,\n",
      "         1.7703,  1.7592,  1.8037,  1.7926,  1.8260,  1.9928,  1.9595,  1.8705,\n",
      "         1.8148,  1.7926,  1.7815,  1.7592,  1.7370,  1.9928,  0.3909, -0.8106,\n",
      "        -0.7438, -0.8106, -0.8106, -0.8106, -0.8106, -0.8106, -0.8106, -0.8106,\n",
      "        -0.5325,  1.8593,  1.6702,  1.7370,  1.8037,  1.7592,  1.7815,  1.7592,\n",
      "         1.7258,  1.7147,  1.7592,  1.7147,  1.7370,  1.7703,  1.7815,  1.7592,\n",
      "         1.7147,  1.7926,  1.4477, -0.8106, -0.8106, -0.8106, -0.8106, -0.8106,\n",
      "        -0.8106, -0.8106, -0.8106, -0.8106,  0.5133,  1.9261,  1.7147,  1.7481,\n",
      "         1.7370,  1.7926,  1.7481,  1.8148,  2.0151,  1.9706,  1.9817,  1.9706,\n",
      "         2.0040,  1.7481,  1.7592,  1.7592,  1.7258,  1.7370,  1.8260, -0.4991,\n",
      "        -0.8106, -0.8106, -0.8106, -0.8106, -0.8106, -0.8106, -0.8106, -0.8106,\n",
      "         1.1251,  1.8705,  1.7258,  1.7147,  1.7815,  1.7036,  1.7592,  1.8148,\n",
      "         1.0917,  1.5701,  1.3587,  1.4477,  1.4477,  2.0262,  1.9150,  1.7592,\n",
      "         1.7481,  1.7147,  1.9261,  0.4354, -0.8106, -0.8106, -0.8106, -0.8106,\n",
      "        -0.8106, -0.8106, -0.8106, -0.8106,  1.7370,  1.8148,  1.7592,  1.7592,\n",
      "         1.8037,  1.9483,  1.9261,  1.9928,  0.8581,  0.6245,  0.1350,  0.8359,\n",
      "        -0.6882, -0.1431,  1.9817,  1.8260,  1.7592,  1.7703,  1.8927,  1.1585,\n",
      "        -0.8106, -0.8106, -0.8106, -0.8106, -0.8106, -0.8106, -0.8106, -0.8106,\n",
      "         1.9261,  1.7815,  1.7815,  1.7926,  1.7370,  1.0584,  1.2252,  1.0917,\n",
      "         0.7691,  1.0695,  1.1919,  1.0139,  0.1906, -0.6103,  0.3464,  2.0262,\n",
      "         1.7258,  1.7815,  1.8260,  1.6480, -0.8106, -0.8106, -0.8106, -0.8106,\n",
      "        -0.8106, -0.8106, -0.8106, -0.8106,  2.0262,  1.7147,  1.7926,  1.7926,\n",
      "         1.7703,  1.1696,  1.2809,  0.7803,  0.9694,  1.1474,  0.9916,  0.8915,\n",
      "        -0.3211,  0.1573, -0.0541,  2.0151,  1.7703,  1.8037,  1.7703,  1.9372,\n",
      "        -0.8106, -0.8106, -0.8106, -0.8106, -0.8106, -0.8106, -0.8106, -0.7327,\n",
      "         2.0262,  1.6925,  1.7703,  1.8148,  1.7258,  1.9928,  1.3031,  0.6801,\n",
      "        -0.1653,  0.3241,  0.4020,  0.2129, -0.4768,  0.2463,  0.1906,  2.0151,\n",
      "         1.7815,  1.8148,  1.7481,  2.0262, -0.8106, -0.8106, -0.8106, -0.8106,\n",
      "        -0.8106, -0.8106, -0.8106, -0.4101,  2.0262,  1.6702,  1.7815,  1.8260,\n",
      "         1.6925,  1.7481,  1.5701,  1.8816,  1.9595,  1.7036,  1.7926,  1.7926,\n",
      "         1.8260,  1.8705,  1.8371,  1.7926,  1.7703,  1.8260,  1.7370,  2.0262,\n",
      "        -0.8106, -0.8106, -0.8106, -0.8106, -0.8106, -0.8106, -0.8106, -0.0207,\n",
      "         2.0262,  1.6813,  1.7592,  1.8482,  1.6925,  1.7703,  1.8371,  1.7926,\n",
      "         1.7926,  1.8816,  1.8037,  1.8037,  1.8037,  1.7926,  1.7926,  1.7036,\n",
      "         1.7926,  1.8148,  1.7258,  2.0262, -0.5436, -0.8106, -0.8106, -0.8106,\n",
      "        -0.8106, -0.8106, -0.8106,  0.1906,  2.0262,  1.6813,  1.7481,  1.8371,\n",
      "         1.7147,  1.7703,  1.7592,  1.7592,  1.7592,  1.7370,  1.7258,  1.7258,\n",
      "         1.7258,  1.6925,  1.7036,  1.6925,  1.7815,  1.8260,  1.7258,  2.0262,\n",
      "        -0.3322, -0.8106, -0.8106, -0.8106, -0.8106, -0.8106, -0.8106,  0.3575,\n",
      "         2.0262,  1.6368,  1.7258,  1.8705,  1.7481,  1.7815,  1.7592,  1.7592,\n",
      "         1.7703,  1.7592,  1.7481,  1.7370,  1.7258,  1.7147,  1.7258,  1.6925,\n",
      "         1.7926,  1.8037,  1.7370,  2.0262, -0.0430, -0.8106, -0.8106, -0.8106,\n",
      "        -0.8106, -0.8106, -0.8106,  0.6245,  2.0040,  1.6591,  1.7147,  1.8705,\n",
      "         1.7703,  1.7815,  1.7592,  1.7592,  1.7592,  1.7592,  1.7592,  1.7592,\n",
      "         1.7481,  1.7592,  1.7592,  1.7147,  1.8260,  1.8371,  1.7370,  2.0262,\n",
      "         0.1573, -0.8106, -0.8106, -0.8106, -0.8106, -0.8106, -0.8106,  0.8692,\n",
      "         2.0040,  1.6368,  1.7481,  1.9261,  1.7592,  1.7592,  1.7703,  1.7815,\n",
      "         1.7815,  1.7592,  1.7481,  1.7592,  1.7481,  1.7592,  1.7703,  1.6925,\n",
      "         1.8371,  1.8816,  1.7147,  2.0262,  0.3019, -0.8106, -0.8106, -0.8106,\n",
      "        -0.8106, -0.8106, -0.8106,  1.0361,  1.9595,  1.6925,  1.6925,  1.6368,\n",
      "         1.8927,  1.7370,  1.7926,  1.7815,  1.7815,  1.7703,  1.7703,  1.7703,\n",
      "         1.7703,  1.7370,  1.7036,  1.7592,  1.7926,  1.9150,  1.7370,  2.0262,\n",
      "         0.4910, -0.8106, -0.8106, -0.8106, -0.8106, -0.8106, -0.8106,  1.1919,\n",
      "         1.8593,  1.8260,  1.5812,  0.7469,  2.0262,  1.7036,  1.7703,  1.7703,\n",
      "         1.7703,  1.7703,  1.7592,  1.7592,  1.7703,  1.7370,  1.7258,  1.9150,\n",
      "         1.2364,  1.8482,  1.7703,  2.0151,  0.7691, -0.8106, -0.8106, -0.8106,\n",
      "        -0.8106, -0.8106, -0.8106,  1.2475,  1.8371,  1.8705,  1.5812,  0.2574,\n",
      "         2.0262,  1.7147,  1.8037,  1.7926,  1.8037,  1.7926,  1.7926,  1.8037,\n",
      "         1.8037,  1.7815,  1.7258,  2.0262,  0.4576,  1.7703,  1.7815,  1.9706,\n",
      "         0.9026, -0.8106, -0.8106, -0.8106, -0.8106, -0.8106, -0.8106,  1.3254,\n",
      "         1.7815,  1.7815,  1.6146,  0.1461,  1.9038,  1.6813,  1.7370,  1.7258,\n",
      "         1.7370,  1.7147,  1.7147,  1.7258,  1.7370,  1.7258,  1.7036,  1.7703,\n",
      "         0.4576,  1.8705,  1.7926,  1.7926,  1.1696, -0.8106, -0.8106, -0.8106,\n",
      "        -0.8106, -0.8106, -0.8106,  1.2475,  1.7815,  1.8037,  1.6813,  0.3686,\n",
      "         2.0262,  1.9038,  1.9261,  1.9261,  1.9261,  1.9261,  1.9261,  1.9261,\n",
      "         1.9261,  1.9372,  1.8927,  2.0151,  0.8359,  1.5701,  1.8037,  1.8037,\n",
      "         1.2475, -0.8106, -0.8106, -0.8106, -0.8106, -0.8106, -0.8106,  0.2463,\n",
      "         1.8148,  1.7258,  1.3810, -0.8106,  0.3019,  0.6356,  0.7358,  0.7135,\n",
      "         0.7135,  0.7358,  0.7469,  0.7358,  0.7246,  0.5689,  0.3909,  0.0349,\n",
      "        -0.8106,  1.3365,  1.8148,  1.7926,  0.7246, -0.8106, -0.8106, -0.8106,\n",
      "        -0.8106, -0.8106, -0.8106, -0.1542,  1.8927,  1.9261,  1.7926, -0.8106,\n",
      "        -0.8106, -0.8106, -0.8106, -0.8106, -0.8106, -0.8106, -0.8106, -0.8106,\n",
      "        -0.8106, -0.8106, -0.8106, -0.8106, -0.8106,  1.2030,  1.9150,  1.9038,\n",
      "         0.6801, -0.8106, -0.8106, -0.8106, -0.8106, -0.8106, -0.8106, -0.8106,\n",
      "        -0.2098, -0.0318, -0.5325, -0.8106, -0.8106, -0.7994, -0.7994, -0.7994,\n",
      "        -0.7994, -0.7994, -0.7994, -0.7994, -0.7994, -0.7994, -0.7883, -0.7994,\n",
      "        -0.8106, -0.8106, -0.5102, -0.4768, -0.8106, -0.8106, -0.8106, -0.8106])\n",
      "Tamanho da imagem tensor: 784\n",
      "------------------------------------------\n",
      "Tensor de imagens: tensor([[-0.8106, -0.8106, -0.8106,  ..., -0.8106, -0.8106, -0.8106],\n",
      "        [-0.8106, -0.8106, -0.8106,  ..., -0.8106, -0.8106, -0.8106],\n",
      "        [-0.8106, -0.8106, -0.8106,  ..., -0.8106, -0.8106, -0.8106],\n",
      "        ...,\n",
      "        [-0.8106, -0.8106, -0.8106,  ..., -0.8106, -0.8106, -0.8106],\n",
      "        [-0.8106, -0.8106, -0.8106,  ..., -0.8106, -0.8106, -0.8106],\n",
      "        [-0.8106, -0.8106, -0.8106,  ..., -0.8106, -0.8106, -0.8106]])\n",
      "Tamanho do Tensor: 100\n",
      "Imagem tensor: tensor([-0.8106, -0.8106, -0.8106, -0.8106, -0.8106, -0.8106, -0.8106, -0.8106,\n",
      "        -0.8106, -0.8106, -0.8106, -0.8106, -0.8106, -0.8106, -0.8106, -0.8106,\n",
      "        -0.8106, -0.8106, -0.8106, -0.8106, -0.8106, -0.8106, -0.8106, -0.8106,\n",
      "        -0.8106, -0.8106, -0.8106, -0.8106, -0.8106, -0.8106, -0.8106, -0.8106,\n",
      "        -0.8106, -0.8106, -0.8106, -0.8106, -0.8106, -0.8106, -0.8106, -0.8106,\n",
      "        -0.8106, -0.8106, -0.8106, -0.8106, -0.8106, -0.8106, -0.8106, -0.8106,\n",
      "        -0.8106, -0.8106, -0.8106, -0.8106, -0.8106, -0.8106, -0.8106, -0.8106,\n",
      "        -0.8106, -0.8106, -0.8106, -0.8106, -0.8106, -0.8106, -0.8106, -0.8106,\n",
      "        -0.8106, -0.8106, -0.8106, -0.8106, -0.8106, -0.8106, -0.8106, -0.8106,\n",
      "        -0.8106, -0.8106, -0.8106, -0.8106, -0.8106, -0.8106, -0.8106, -0.8106,\n",
      "        -0.8106, -0.8106, -0.8106, -0.8106, -0.8106, -0.8106, -0.8106, -0.8106,\n",
      "        -0.8106, -0.8106, -0.8106, -0.8106, -0.8106, -0.7883, -0.8106, -0.8106,\n",
      "        -0.6215, -0.6771, -0.6882, -0.6771, -0.6993, -0.8106, -0.8106, -0.7994,\n",
      "        -0.8106, -0.7883, -0.7994, -0.8106, -0.8106, -0.8106, -0.8106, -0.8106,\n",
      "        -0.8106, -0.8106, -0.8106, -0.8106, -0.8106, -0.8106, -0.8106, -0.8106,\n",
      "        -0.7994, -0.7772, -0.8106,  0.6023,  0.7691,  0.6579,  0.6468,  0.5466,\n",
      "         0.8915, -0.4101, -0.8106, -0.7438, -0.8106, -0.8106, -0.8106, -0.8106,\n",
      "        -0.8106, -0.8106, -0.8106, -0.8106, -0.8106, -0.8106, -0.8106, -0.8106,\n",
      "        -0.8106, -0.8106, -0.8106, -0.8106, -0.7883, -0.8106, -0.8106,  0.9360,\n",
      "        -0.2321, -0.2432, -0.1431, -0.4212,  0.3575,  0.7024, -0.8106, -0.7661,\n",
      "        -0.7994, -0.8106, -0.8106, -0.8106, -0.8106, -0.8106, -0.8106, -0.8106,\n",
      "        -0.7994, -0.7994, -0.8106, -0.8106, -0.8106, -0.8106, -0.8106, -0.8106,\n",
      "        -0.7549, -0.8106,  0.4020,  1.2475, -0.8106, -0.8106, -0.8106, -0.8106,\n",
      "        -0.3211,  1.3699, -0.8106, -0.8106, -0.7772, -0.7994, -0.8106, -0.8106,\n",
      "        -0.8106, -0.8106, -0.8106, -0.8106, -0.7994, -0.8106, -0.8106, -0.8106,\n",
      "        -0.7994, -0.7549, -0.7216, -0.8106, -0.8106, -0.8106,  1.3810,  1.2920,\n",
      "        -0.8106, -0.8106, -0.8106, -0.8106, -0.1765,  1.7815, -0.1876, -0.8106,\n",
      "        -0.7994, -0.7549, -0.6993, -0.7549, -0.7994, -0.8106, -0.8106, -0.8106,\n",
      "        -0.8106, -0.7994, -0.7661, -0.7772, -0.7772, -0.8106, -0.8106, -0.8106,\n",
      "        -0.8106, -0.8106,  1.3810,  0.7914, -0.7549, -0.4880, -0.7772, -0.8106,\n",
      "        -0.3100,  1.7703,  0.9026, -0.8106, -0.8106, -0.8106, -0.8106, -0.8106,\n",
      "        -0.7772, -0.7883, -0.8106, -0.8106, -0.7994, -0.7994, -0.7994, -0.8106,\n",
      "        -0.8106, -0.3545,  1.1474,  1.6368,  1.7481,  1.2586,  1.5478,  1.4032,\n",
      "         1.2920,  1.4366,  1.3031,  1.2364,  1.0027,  1.2364,  1.4589,  0.5021,\n",
      "         0.6023,  0.5578,  0.2908, -0.8106, -0.8106, -0.8106, -0.8106, -0.8106,\n",
      "        -0.7883, -0.7994, -0.8106, -0.8106,  0.7024,  1.0472,  1.2030,  0.9360,\n",
      "         1.0695,  1.2475,  1.6035,  1.4032,  0.4131,  0.6023,  0.7691,  0.5355,\n",
      "         1.2586,  1.1696,  1.5145,  1.4477,  1.2697,  1.3476,  1.3921,  1.0917,\n",
      "         0.4688, -0.8106, -0.8106, -0.7994, -0.8106, -0.8106, -0.8106,  0.7358,\n",
      "         1.2697,  1.1140,  0.7469,  0.8470,  1.1140,  1.0695,  1.8482,  1.5478,\n",
      "         1.1585,  1.1807,  1.1251,  1.1585,  0.8136,  0.8136,  2.0151,  1.3476,\n",
      "         0.3798,  1.1029,  1.1696,  1.2809,  1.4477,  0.2796, -0.8106, -0.8106,\n",
      "        -0.7994, -0.8106,  0.1684,  1.4589,  1.2252,  1.2586,  1.4144,  1.6257,\n",
      "         0.5466,  0.7135,  1.8705,  1.2475,  0.8359,  1.2475,  1.0806,  1.1696,\n",
      "         1.2809,  1.1585,  1.6368,  1.5478,  1.2697,  1.4366,  1.5256,  1.5701,\n",
      "         1.3921,  1.1474, -0.8106, -0.8106, -0.8106, -0.8106,  1.0472,  1.5256,\n",
      "         1.2920,  1.3254,  1.3476,  1.5256,  1.2252,  0.2796, -0.6882,  0.6690,\n",
      "         1.4144,  1.2809,  1.3921,  1.4477,  0.7358,  1.8705,  0.1461,  0.3686,\n",
      "         1.8371,  1.6368,  1.6146,  1.5256,  1.5256,  1.3587, -0.5102, -0.8106,\n",
      "        -0.8106, -0.5658,  1.5145,  1.5034,  1.3810,  1.3254,  1.5478,  1.4811,\n",
      "         1.4255,  1.3476,  1.1029,  1.4144,  1.2809,  1.4144,  1.5812,  1.8148,\n",
      "         0.1461,  1.3810,  1.4589,  1.4032,  1.6702,  1.4811,  1.5923,  1.5590,\n",
      "         1.5145,  1.6257,  0.9137, -0.8106, -0.3656,  1.0027,  1.0584,  1.5812,\n",
      "         1.3365,  1.4700,  1.4366,  1.5034,  1.0806,  1.7147,  2.0262,  1.7036,\n",
      "         1.3587,  1.5812,  1.0695,  0.9916,  1.1029,  1.1474,  2.0262,  2.0151,\n",
      "         1.4477,  1.4922,  1.4589,  1.6480,  1.6257,  1.4366,  1.4477, -0.8106,\n",
      "         0.7135,  2.0262,  1.3699,  1.5256,  1.4255,  1.4144,  1.3921,  1.5367,\n",
      "         1.5034,  1.5145,  1.9150,  1.5145,  1.4477,  1.6368,  1.6813,  0.6913,\n",
      "         1.5256,  1.7592,  1.8593,  1.6813,  1.4589,  1.6591,  1.6368,  1.7036,\n",
      "         1.7036,  1.6257,  1.6813, -0.8106,  1.4477,  1.1029,  1.1919,  1.2475,\n",
      "         1.3921,  1.4255,  1.6813,  1.6146,  1.4922,  1.5478,  2.0040,  1.5256,\n",
      "         1.4144,  1.6702,  1.4811,  0.2685,  1.2697,  1.6591,  1.9372,  1.5812,\n",
      "         1.3365,  1.6925,  1.7036,  1.7370,  1.6257,  1.7036,  1.7036,  0.9360,\n",
      "         1.6925, -0.0207,  1.2586,  1.6813,  1.5034,  1.6035,  0.5133,  1.0027,\n",
      "         1.7370,  1.6146,  2.0040,  1.5812,  1.4589,  1.5923,  1.5590,  1.5478,\n",
      "         1.5034,  1.4255,  1.8927,  1.8593,  1.5590,  1.7703,  1.2252,  0.7246,\n",
      "         1.9150,  1.3921,  1.7258,  1.2697,  1.3587, -0.1987,  1.7592,  1.5145,\n",
      "         1.2920,  1.6257,  0.6356,  1.2920,  1.4255,  1.0472,  2.0262,  1.4811,\n",
      "         1.2809,  1.5590,  1.4811,  1.5701,  1.4477,  1.3365,  1.8482,  1.8816,\n",
      "         1.4032,  1.5923,  1.7703,  1.6925,  1.9483,  1.4032,  1.7815,  1.1140,\n",
      "         0.2796, -0.0207,  1.6480,  1.5590,  1.2697,  1.4032,  1.7147,  1.7815,\n",
      "         1.7481,  1.6480,  1.9817,  1.5923,  1.6480,  1.6257,  1.4255,  1.6591,\n",
      "         1.6480,  1.5478,  2.0151,  1.7481,  1.2030,  1.5367,  1.6257, -0.1542,\n",
      "         1.1696,  1.8037,  1.8816,  0.2463, -0.8106,  0.6356,  1.6146,  1.4032,\n",
      "         1.2586,  1.3476,  1.5590,  1.4144,  1.6257,  1.8482,  1.9038,  1.6702,\n",
      "         1.3365,  1.5145,  1.5256,  1.2030,  0.7135,  0.9026,  1.7481,  1.6591,\n",
      "         1.3031,  1.2920,  1.4366,  0.0127,  0.9805,  1.7481,  1.8371, -0.8106,\n",
      "        -0.8106,  1.1807,  2.0262,  1.7815,  1.7703,  1.7926,  1.8037,  1.7147,\n",
      "         1.7592,  1.7926,  1.8816,  1.7481,  1.8148,  1.8260,  1.7926,  1.6368,\n",
      "         1.4700,  1.6035,  1.9595,  1.9038,  1.5701,  1.7370,  1.7481,  1.5812,\n",
      "         1.3699,  1.7370, -0.1320, -0.8106, -0.8106,  0.4576,  1.6368,  1.5367,\n",
      "         1.6480,  1.6591,  2.0262,  2.0262,  1.7592,  1.7815,  1.7815,  1.4589,\n",
      "         0.9582,  1.1474,  1.0917,  1.2141,  1.2697,  1.1474,  1.2030,  0.8915,\n",
      "         0.6134,  1.0361,  0.9805,  0.6913,  1.0139,  0.8692, -0.1097, -0.8106,\n",
      "        -0.8106, -0.8106, -0.8106, -0.8106, -0.8106, -0.8106, -0.8106, -0.8106,\n",
      "        -0.7772, -0.6993, -0.7216, -0.8106, -0.8106, -0.8106, -0.8106, -0.8106,\n",
      "        -0.8106, -0.8106, -0.8106, -0.8106, -0.8106, -0.8106, -0.8106, -0.8106,\n",
      "        -0.8106, -0.8106, -0.8106, -0.8106, -0.8106, -0.8106, -0.8106, -0.8106,\n",
      "        -0.8106, -0.8106, -0.8106, -0.8106, -0.8106, -0.8106, -0.8106, -0.8106,\n",
      "        -0.8106, -0.8106, -0.8106, -0.8106, -0.8106, -0.8106, -0.8106, -0.8106,\n",
      "        -0.8106, -0.8106, -0.8106, -0.8106, -0.8106, -0.8106, -0.8106, -0.8106,\n",
      "        -0.8106, -0.8106, -0.8106, -0.8106, -0.8106, -0.8106, -0.8106, -0.8106,\n",
      "        -0.8106, -0.8106, -0.8106, -0.8106, -0.8106, -0.8106, -0.8106, -0.8106,\n",
      "        -0.8106, -0.8106, -0.8106, -0.8106, -0.8106, -0.8106, -0.8106, -0.8106,\n",
      "        -0.8106, -0.8106, -0.8106, -0.8106, -0.8106, -0.8106, -0.8106, -0.8106,\n",
      "        -0.8106, -0.8106, -0.8106, -0.8106, -0.8106, -0.8106, -0.8106, -0.8106,\n",
      "        -0.8106, -0.8106, -0.8106, -0.8106, -0.8106, -0.8106, -0.8106, -0.8106,\n",
      "        -0.8106, -0.8106, -0.8106, -0.8106, -0.8106, -0.8106, -0.8106, -0.8106])\n",
      "Tamanho da imagem tensor: 784\n",
      "------------------------------------------\n"
     ]
    }
   ],
   "source": [
    "limite = 2\n",
    "contador = 0\n",
    "for i in treino_loader:\n",
    "    if contador < limite:\n",
    "        print(f\"Tensor de imagens: {i[0]}\\n\"\n",
    "            f\"Tamanho do Tensor: {len(i[0])}\\n\"\n",
    "            f\"Imagem tensor: {i[0][0]}\\n\"\n",
    "            f\"Tamanho da imagem tensor: {len(i[0][0])}\\n\"\n",
    "            f\"------------------------------------------\")\n",
    "    else: break"
   ]
  },
  {
   "source": [
    "Aqui pode-se notar que o primeiro tensor do par é um tensor em que cada elemento é um batch de 100 imagens-tensor. Vamos olhar o segundo elemento do par:"
   ],
   "cell_type": "markdown",
   "metadata": {}
  },
  {
   "cell_type": "code",
   "execution_count": 30,
   "metadata": {
    "tags": [
     "outputPrepend"
    ]
   },
   "outputs": [
    {
     "output_type": "stream",
     "name": "stdout",
     "text": [
      "-----------------------------------\n",
      "Tensor de labels: tensor([1, 7, 8, 8, 8, 3, 7, 4, 6, 0, 9, 2, 0, 0, 7, 2, 6, 5, 3, 8, 8, 6, 5, 6,\n",
      "        1, 0, 6, 1, 4, 5, 4, 0, 3, 4, 6, 9, 2, 1, 5, 2, 2, 3, 3, 4, 3, 9, 0, 8,\n",
      "        5, 1, 6, 7, 5, 3, 9, 0, 6, 4, 7, 6, 1, 4, 3, 7, 7, 5, 8, 9, 7, 3, 6, 7,\n",
      "        9, 6, 0, 7, 1, 4, 7, 1, 3, 7, 8, 5, 8, 4, 5, 4, 5, 5, 8, 6, 3, 0, 4, 6,\n",
      "        1, 7, 2, 7])\n",
      "Tamanho do Tensor: 100\n",
      "Label: 1\n",
      "------------------------------------------\n",
      "Tensor de labels: tensor([5, 8, 3, 0, 3, 6, 6, 6, 6, 6, 3, 9, 6, 4, 1, 4, 8, 8, 9, 6, 5, 9, 9, 1,\n",
      "        8, 8, 5, 6, 6, 4, 5, 7, 8, 4, 4, 9, 5, 2, 6, 4, 3, 7, 8, 5, 3, 7, 3, 8,\n",
      "        9, 2, 9, 6, 3, 9, 1, 9, 2, 7, 3, 1, 4, 3, 3, 3, 7, 4, 4, 0, 1, 5, 3, 9,\n",
      "        9, 0, 8, 8, 4, 1, 3, 1, 3, 3, 4, 0, 4, 1, 5, 9, 4, 2, 7, 9, 9, 2, 7, 9,\n",
      "        6, 5, 6, 6])\n",
      "Tamanho do Tensor: 100\n",
      "Label: 5\n",
      "------------------------------------------\n",
      "Tensor de labels: tensor([7, 8, 9, 7, 8, 7, 2, 4, 3, 2, 5, 2, 4, 9, 5, 5, 1, 7, 5, 4, 9, 9, 7, 3,\n",
      "        9, 9, 5, 3, 1, 4, 1, 8, 7, 8, 9, 0, 2, 5, 9, 9, 7, 4, 2, 2, 6, 3, 0, 6,\n",
      "        2, 5, 6, 5, 0, 5, 6, 5, 6, 6, 4, 4, 1, 1, 2, 4, 6, 6, 2, 2, 9, 2, 7, 1,\n",
      "        7, 3, 0, 0, 4, 4, 6, 6, 5, 4, 9, 4, 1, 8, 5, 0, 1, 0, 4, 6, 8, 7, 9, 8,\n",
      "        7, 6, 4, 6])\n",
      "Tamanho do Tensor: 100\n",
      "Label: 7\n",
      "------------------------------------------\n",
      "Tensor de labels: tensor([8, 3, 8, 0, 9, 0, 1, 6, 5, 2, 5, 7, 8, 6, 9, 4, 4, 9, 4, 6, 9, 0, 2, 0,\n",
      "        6, 9, 3, 3, 3, 4, 8, 0, 9, 1, 6, 3, 7, 0, 5, 5, 2, 2, 1, 7, 0, 3, 6, 5,\n",
      "        8, 7, 4, 1, 9, 6, 3, 1, 5, 4, 2, 4, 0, 5, 6, 4, 4, 2, 4, 5, 8, 8, 5, 1,\n",
      "        7, 1, 9, 4, 2, 7, 9, 3, 7, 8, 5, 9, 3, 5, 6, 6, 1, 2, 1, 3, 9, 4, 6, 8,\n",
      "        6, 0, 3, 5])\n",
      "Tamanho do Tensor: 100\n",
      "Label: 8\n",
      "------------------------------------------\n",
      "Tensor de labels: tensor([9, 8, 0, 2, 4, 2, 1, 1, 1, 7, 9, 2, 1, 1, 9, 2, 2, 2, 3, 6, 8, 1, 6, 3,\n",
      "        4, 7, 7, 8, 1, 3, 2, 8, 5, 0, 3, 2, 3, 5, 5, 3, 1, 3, 4, 4, 1, 3, 7, 0,\n",
      "        4, 2, 7, 4, 4, 4, 3, 5, 0, 4, 9, 9, 7, 2, 5, 6, 6, 9, 3, 4, 3, 4, 8, 1,\n",
      "        9, 8, 7, 5, 5, 9, 5, 4, 9, 0, 9, 8, 8, 9, 2, 4, 0, 8, 7, 5, 3, 3, 8, 0,\n",
      "        7, 6, 9, 6])\n",
      "Tamanho do Tensor: 100\n",
      "Label: 9\n",
      "------------------------------------------\n",
      "Tensor de labels: tensor([4, 8, 9, 9, 0, 5, 1, 9, 4, 9, 7, 6, 1, 0, 0, 2, 1, 9, 9, 6, 7, 6, 8, 5,\n",
      "        2, 9, 1, 2, 3, 4, 6, 2, 6, 1, 9, 2, 4, 7, 5, 8, 2, 9, 1, 2, 6, 0, 0, 5,\n",
      "        6, 9, 1, 2, 0, 6, 3, 0, 1, 4, 4, 1, 0, 1, 2, 0, 4, 6, 2, 5, 5, 4, 5, 9,\n",
      "        6, 2, 7, 2, 5, 3, 9, 9, 4, 2, 0, 7, 3, 2, 0, 0, 8, 0, 3, 8, 4, 0, 6, 1,\n",
      "        8, 2, 4, 7])\n",
      "Tamanho do Tensor: 100\n",
      "Label: 4\n",
      "------------------------------------------\n",
      "Tensor de labels: tensor([7, 2, 2, 5, 7, 8, 7, 8, 0, 8, 1, 6, 8, 8, 4, 2, 4, 4, 2, 3, 4, 6, 4, 0,\n",
      "        6, 0, 1, 4, 0, 9, 0, 8, 4, 9, 5, 4, 2, 8, 0, 0, 4, 4, 6, 6, 6, 6, 8, 3,\n",
      "        4, 3, 0, 2, 2, 7, 1, 0, 5, 2, 7, 7, 6, 7, 8, 8, 1, 3, 2, 0, 0, 5, 0, 5,\n",
      "        7, 3, 8, 7, 4, 8, 7, 7, 3, 2, 0, 7, 8, 3, 0, 8, 0, 3, 6, 7, 9, 1, 5, 9,\n",
      "        6, 6, 0, 9])\n",
      "Tamanho do Tensor: 100\n",
      "Label: 7\n",
      "------------------------------------------\n",
      "Tensor de labels: tensor([5, 3, 7, 8, 3, 7, 4, 9, 8, 1, 1, 1, 8, 2, 1, 5, 9, 0, 5, 2, 8, 9, 2, 1,\n",
      "        1, 3, 5, 9, 7, 2, 5, 2, 3, 9, 1, 5, 7, 6, 6, 9, 7, 6, 7, 2, 3, 9, 0, 2,\n",
      "        2, 7, 4, 4, 2, 5, 6, 4, 4, 6, 4, 8, 3, 4, 1, 5, 3, 1, 4, 8, 7, 3, 6, 6,\n",
      "        0, 9, 2, 1, 4, 3, 7, 1, 2, 7, 9, 7, 4, 1, 1, 1, 6, 9, 0, 8, 4, 1, 5, 4,\n",
      "        7, 0, 6, 6])\n",
      "Tamanho do Tensor: 100\n",
      "Label: 5\n",
      "------------------------------------------\n",
      "Tensor de labels: tensor([0, 0, 4, 5, 3, 2, 1, 3, 4, 2, 1, 6, 8, 6, 4, 8, 3, 5, 1, 3, 7, 3, 9, 1,\n",
      "        3, 0, 1, 6, 0, 0, 8, 1, 1, 9, 8, 6, 3, 9, 5, 8, 9, 4, 4, 9, 8, 8, 5, 5,\n",
      "        8, 0, 1, 3, 0, 5, 4, 8, 9, 3, 0, 7, 2, 0, 6, 4, 1, 3, 9, 4, 8, 7, 5, 0,\n",
      "        6, 4, 5, 6, 7, 1, 9, 5, 4, 0, 3, 0, 0, 9, 4, 7, 1, 6, 1, 6, 0, 3, 2, 0,\n",
      "        4, 8, 0, 2])\n",
      "Tamanho do Tensor: 100\n",
      "Label: 0\n",
      "------------------------------------------\n",
      "Tensor de labels: tensor([4, 1, 1, 3, 0, 5, 6, 3, 4, 2, 8, 5, 0, 7, 8, 2, 3, 0, 4, 0, 3, 5, 8, 9,\n",
      "        4, 4, 2, 0, 2, 6, 8, 6, 4, 9, 0, 1, 1, 9, 9, 5, 2, 4, 2, 3, 0, 3, 0, 5,\n",
      "        2, 7, 6, 3, 6, 6, 5, 2, 0, 9, 3, 3, 3, 4, 5, 7, 8, 2, 9, 5, 5, 3, 0, 5,\n",
      "        1, 0, 1, 5, 4, 7, 0, 3, 1, 6, 6, 0, 1, 6, 1, 6, 4, 7, 9, 7, 0, 8, 0, 5,\n",
      "        1, 3, 0, 0])\n",
      "Tamanho do Tensor: 100\n",
      "Label: 4\n",
      "------------------------------------------\n",
      "Tensor de labels: tensor([2, 4, 3, 8, 1, 9, 6, 8, 3, 3, 2, 6, 0, 3, 3, 6, 6, 7, 8, 2, 7, 1, 5, 7,\n",
      "        3, 0, 0, 8, 4, 4, 2, 1, 3, 3, 5, 3, 6, 4, 0, 4, 6, 3, 4, 9, 5, 3, 0, 1,\n",
      "        9, 5, 1, 8, 5, 8, 5, 2, 0, 3, 0, 9, 0, 7, 7, 3, 4, 5, 4, 0, 9, 9, 3, 9,\n",
      "        5, 1, 4, 8, 5, 9, 4, 8, 5, 5, 0, 2, 3, 3, 7, 5, 6, 0, 4, 9, 6, 7, 7, 0,\n",
      "        7, 8, 9, 2])\n",
      "Tamanho do Tensor: 100\n",
      "Label: 2\n",
      "------------------------------------------\n",
      "Tensor de labels: tensor([3, 6, 6, 7, 7, 8, 9, 4, 1, 9, 4, 7, 5, 3, 8, 6, 8, 7, 3, 2, 7, 1, 9, 8,\n",
      "        2, 9, 1, 1, 7, 3, 3, 6, 4, 6, 1, 1, 8, 8, 6, 8, 6, 1, 7, 1, 5, 0, 9, 5,\n",
      "        7, 7, 7, 6, 9, 1, 7, 2, 3, 9, 5, 0, 0, 5, 9, 8, 6, 8, 4, 9, 7, 2, 2, 8,\n",
      "        5, 1, 6, 0, 2, 1, 6, 8, 5, 6, 1, 6, 1, 1, 0, 3, 9, 4, 0, 8, 0, 1, 9, 0,\n",
      "        0, 9, 4, 5])\n",
      "Tamanho do Tensor: 100\n",
      "Label: 3\n",
      "------------------------------------------\n",
      "Tensor de labels: tensor([2, 5, 5, 1, 6, 8, 7, 1, 1, 2, 7, 4, 0, 6, 6, 1, 1, 2, 5, 2, 6, 5, 4, 0,\n",
      "        9, 7, 0, 1, 8, 8, 0, 5, 6, 2, 9, 1, 3, 5, 1, 8, 5, 0, 9, 9, 8, 6, 4, 7,\n",
      "        8, 9, 2, 8, 6, 5, 9, 2, 1, 8, 3, 6, 4, 2, 4, 1, 1, 3, 8, 4, 2, 6, 7, 8,\n",
      "        5, 6, 2, 6, 2, 0, 0, 0, 9, 4, 9, 6, 1, 5, 4, 5, 5, 6, 0, 4, 2, 5, 3, 3,\n",
      "        6, 9, 3, 4])\n",
      "Tamanho do Tensor: 100\n",
      "Label: 2\n",
      "------------------------------------------\n",
      "Tensor de labels: tensor([8, 7, 7, 7, 4, 6, 0, 3, 3, 3, 8, 7, 5, 3, 2, 4, 0, 2, 7, 3, 1, 3, 3, 4,\n",
      "        4, 0, 5, 3, 1, 4, 8, 3, 4, 5, 7, 2, 7, 1, 8, 0, 2, 6, 7, 1, 5, 4, 8, 5,\n",
      "        0, 8, 1, 5, 6, 9, 0, 8, 8, 6, 2, 4, 5, 2, 8, 7, 0, 8, 9, 3, 3, 3, 5, 2,\n",
      "        3, 2, 5, 1, 2, 0, 3, 0, 7, 1, 3, 5, 3, 3, 2, 0, 9, 3, 8, 5, 5, 6, 6, 6,\n",
      "        9, 7, 4, 3])\n",
      "Tamanho do Tensor: 100\n",
      "Label: 8\n",
      "------------------------------------------\n",
      "Tensor de labels: tensor([8, 8, 2, 0, 9, 4, 9, 8, 7, 3, 3, 6, 3, 3, 1, 1, 1, 2, 9, 1, 6, 0, 0, 6,\n",
      "        4, 5, 0, 4, 2, 5, 2, 8, 8, 6, 2, 5, 6, 4, 4, 7, 3, 0, 8, 1, 2, 2, 3, 9,\n",
      "        5, 2, 4, 3, 2, 8, 1, 9, 1, 1, 8, 0, 0, 8, 8, 6, 4, 5, 5, 6, 4, 2, 0, 6,\n",
      "        1, 5, 8, 6, 0, 1, 6, 9, 7, 2, 1, 3, 6, 8, 1, 5, 9, 5, 7, 9, 5, 9, 0, 0,\n",
      "        1, 3, 2, 4])\n",
      "Tamanho do Tensor: 100\n",
      "Label: 8\n",
      "------------------------------------------\n",
      "Tensor de labels: tensor([5, 0, 9, 9, 9, 1, 1, 5, 6, 3, 8, 5, 8, 4, 0, 1, 7, 1, 6, 4, 5, 9, 3, 6,\n",
      "        5, 4, 4, 4, 8, 7, 9, 0, 3, 6, 3, 4, 7, 7, 2, 2, 5, 8, 8, 5, 6, 0, 6, 7,\n",
      "        1, 7, 2, 0, 4, 8, 9, 5, 7, 5, 4, 4, 0, 5, 0, 0, 0, 0, 0, 7, 5, 1, 2, 8,\n",
      "        7, 2, 8, 1, 9, 7, 9, 8, 3, 0, 8, 4, 3, 6, 3, 7, 2, 1, 4, 7, 7, 6, 7, 3,\n",
      "        7, 1, 8, 0])\n",
      "Tamanho do Tensor: 100\n",
      "Label: 5\n",
      "------------------------------------------\n",
      "Tensor de labels: tensor([2, 2, 6, 2, 3, 5, 1, 3, 2, 1, 6, 6, 1, 5, 9, 2, 6, 2, 6, 6, 2, 9, 0, 3,\n",
      "        6, 5, 8, 5, 9, 5, 8, 5, 4, 8, 6, 5, 1, 4, 2, 0, 0, 0, 8, 0, 1, 2, 9, 2,\n",
      "        4, 8, 1, 9, 2, 8, 2, 6, 0, 9, 7, 1, 5, 9, 4, 3, 1, 2, 8, 5, 9, 0, 3, 1,\n",
      "        8, 1, 3, 4, 5, 5, 3, 2, 1, 9, 6, 5, 7, 0, 5, 7, 4, 4, 5, 9, 5, 1, 3, 4,\n",
      "        8, 5, 5, 0])\n",
      "Tamanho do Tensor: 100\n",
      "Label: 2\n",
      "------------------------------------------\n",
      "Tensor de labels: tensor([8, 3, 6, 8, 1, 0, 7, 8, 6, 8, 6, 9, 5, 8, 8, 7, 1, 2, 5, 6, 8, 5, 1, 6,\n",
      "        6, 0, 9, 9, 5, 9, 7, 4, 2, 0, 3, 7, 9, 3, 0, 7, 1, 5, 8, 2, 6, 4, 5, 9,\n",
      "        4, 1, 9, 7, 9, 2, 0, 1, 3, 2, 5, 9, 7, 7, 0, 7, 4, 2, 7, 6, 9, 0, 8, 1,\n",
      "        1, 0, 2, 2, 1, 6, 6, 2, 7, 5, 3, 7, 8, 0, 6, 4, 4, 1, 3, 9, 4, 2, 4, 1,\n",
      "        4, 1, 0, 6])\n",
      "Tamanho do Tensor: 100\n",
      "Label: 8\n",
      "------------------------------------------\n",
      "Tensor de labels: tensor([3, 0, 1, 3, 6, 1, 2, 7, 3, 6, 3, 0, 1, 3, 0, 7, 4, 5, 6, 5, 0, 4, 3, 0,\n",
      "        3, 0, 8, 3, 4, 3, 1, 1, 5, 7, 0, 8, 1, 5, 9, 3, 4, 0, 7, 0, 4, 3, 8, 2,\n",
      "        2, 3, 0, 3, 7, 1, 0, 3, 5, 6, 0, 5, 4, 9, 1, 2, 6, 1, 7, 6, 9, 8, 4, 2,\n",
      "        2, 6, 8, 5, 2, 5, 8, 9, 7, 8, 3, 9, 4, 7, 8, 8, 8, 7, 0, 1, 6, 9, 6, 4,\n",
      "        3, 5, 5, 1])\n",
      "Tamanho do Tensor: 100\n",
      "Label: 3\n",
      "------------------------------------------\n",
      "Tensor de labels: tensor([9, 2, 4, 1, 4, 2, 4, 7, 4, 5, 4, 8, 3, 1, 0, 5, 9, 3, 2, 0, 7, 9, 3, 1,\n",
      "        7, 9, 6, 5, 6, 4, 5, 9, 4, 8, 5, 8, 6, 5, 4, 5, 6, 4, 6, 3, 3, 5, 2, 3,\n",
      "        5, 9, 8, 6, 9, 2, 5, 8, 7, 2, 6, 0, 2, 2, 5, 3, 8, 6, 2, 9, 4, 2, 2, 9,\n",
      "        1, 1, 6, 5, 4, 0, 9, 1, 1, 3, 1, 1, 0, 7, 7, 8, 7, 8, 2, 1, 7, 3, 3, 6,\n",
      "        7, 2, 4, 8])\n",
      "Tamanho do Tensor: 100\n",
      "Label: 9\n",
      "------------------------------------------\n",
      "Tensor de labels: tensor([7, 6, 3, 4, 4, 9, 7, 9, 6, 5, 7, 4, 4, 7, 9, 1, 6, 9, 4, 7, 5, 4, 0, 9,\n",
      "        0, 1, 5, 8, 7, 6, 5, 4, 1, 2, 9, 5, 0, 6, 3, 2, 5, 7, 3, 5, 1, 9, 1, 0,\n",
      "        6, 4, 8, 8, 5, 0, 8, 2, 4, 3, 7, 2, 1, 4, 2, 8, 1, 9, 0, 9, 7, 3, 5, 9,\n",
      "        4, 9, 3, 2, 9, 4, 4, 6, 3, 9, 8, 6, 4, 8, 1, 5, 8, 2, 1, 6, 0, 9, 1, 3,\n",
      "        2, 9, 8, 4])\n",
      "Tamanho do Tensor: 100\n",
      "Label: 7\n",
      "------------------------------------------\n",
      "Tensor de labels: tensor([3, 6, 1, 8, 1, 9, 3, 3, 5, 3, 7, 7, 0, 1, 2, 2, 9, 1, 0, 5, 2, 2, 6, 3,\n",
      "        0, 5, 2, 8, 6, 5, 3, 0, 7, 2, 2, 0, 4, 6, 5, 1, 3, 4, 7, 0, 3, 4, 7, 3,\n",
      "        5, 2, 8, 8, 7, 0, 1, 1, 1, 3, 7, 9, 5, 7, 0, 2, 4, 6, 2, 4, 0, 2, 8, 0,\n",
      "        7, 4, 1, 3, 2, 7, 9, 9, 0, 7, 6, 0, 3, 8, 2, 5, 0, 5, 9, 3, 8, 8, 7, 1,\n",
      "        6, 1, 2, 3])\n",
      "Tamanho do Tensor: 100\n",
      "Label: 3\n",
      "------------------------------------------\n",
      "Tensor de labels: tensor([0, 5, 0, 6, 0, 5, 3, 6, 6, 3, 1, 4, 4, 0, 9, 0, 7, 5, 7, 8, 9, 4, 6, 9,\n",
      "        9, 6, 6, 0, 8, 7, 7, 8, 4, 2, 8, 2, 3, 5, 3, 7, 3, 6, 3, 1, 2, 4, 0, 1,\n",
      "        7, 6, 2, 7, 7, 4, 9, 0, 6, 6, 1, 7, 4, 8, 4, 0, 4, 8, 5, 7, 0, 6, 1, 2,\n",
      "        3, 1, 2, 2, 6, 2, 8, 3, 9, 7, 8, 9, 3, 7, 0, 2, 5, 8, 0, 5, 6, 9, 1, 3,\n",
      "        2, 3, 8, 6])\n",
      "Tamanho do Tensor: 100\n",
      "Label: 0\n",
      "------------------------------------------\n",
      "Tensor de labels: tensor([4, 9, 0, 8, 1, 0, 5, 7, 0, 7, 3, 9, 7, 5, 7, 7, 3, 1, 0, 4, 8, 4, 5, 9,\n",
      "        5, 8, 2, 8, 6, 5, 6, 7, 8, 8, 2, 7, 4, 9, 4, 9, 2, 0, 1, 7, 9, 1, 1, 0,\n",
      "        1, 7, 9, 4, 6, 0, 3, 4, 4, 2, 8, 7, 9, 3, 5, 2, 6, 5, 5, 1, 5, 5, 6, 9,\n",
      "        7, 6, 5, 1, 6, 3, 6, 9, 6, 3, 6, 1, 2, 2, 5, 4, 4, 3, 8, 0, 5, 2, 0, 1,\n",
      "        3, 3, 8, 6])\n",
      "Tamanho do Tensor: 100\n",
      "Label: 4\n",
      "------------------------------------------\n",
      "Tensor de labels: tensor([2, 9, 7, 8, 5, 8, 8, 0, 4, 8, 2, 1, 5, 8, 4, 4, 6, 8, 6, 9, 3, 7, 2, 3,\n",
      "        3, 0, 3, 0, 7, 5, 1, 0, 3, 4, 7, 9, 7, 1, 6, 6, 9, 2, 0, 6, 5, 4, 3, 6,\n",
      "        5, 1, 4, 9, 9, 1, 3, 0, 4, 4, 2, 8, 8, 6, 4, 6, 1, 9, 9, 8, 4, 8, 5, 8,\n",
      "        4, 2, 5, 5, 4, 7, 3, 9, 4, 9, 4, 0, 9, 8, 4, 3, 2, 5, 7, 9, 0, 1, 2, 4,\n",
      "        5, 5, 9, 9])\n",
      "Tamanho do Tensor: 100\n",
      "Label: 2\n",
      "------------------------------------------\n",
      "Tensor de labels: tensor([3, 7, 3, 1, 6, 1, 7, 1, 0, 5, 9, 7, 0, 4, 1, 1, 7, 7, 8, 6, 7, 0, 1, 1,\n",
      "        9, 9, 4, 1, 2, 4, 0, 0, 4, 7, 6, 3, 0, 9, 1, 9, 1, 4, 6, 4, 8, 7, 1, 4,\n",
      "        9, 4, 0, 9, 9, 9, 0, 7, 3, 7, 9, 4, 4, 9, 0, 9, 3, 1, 4, 9, 0, 5, 5, 6,\n",
      "        7, 3, 0, 3, 0, 5, 2, 2, 0, 2, 9, 8, 8, 8, 9, 8, 2, 3, 4, 5, 8, 0, 2, 6,\n",
      "        1, 6, 1, 7])\n",
      "Tamanho do Tensor: 100\n",
      "Label: 3\n",
      "------------------------------------------\n",
      "Tensor de labels: tensor([7, 7, 1, 0, 4, 6, 0, 6, 1, 5, 9, 0, 2, 8, 2, 3, 8, 2, 7, 8, 5, 7, 5, 5,\n",
      "        2, 8, 2, 4, 5, 9, 6, 2, 8, 2, 1, 8, 7, 0, 3, 5, 7, 8, 1, 8, 6, 2, 4, 0,\n",
      "        3, 6, 8, 3, 2, 4, 8, 6, 3, 3, 0, 6, 5, 9, 8, 0, 4, 6, 9, 8, 2, 0, 3, 9,\n",
      "        1, 6, 9, 8, 9, 3, 4, 3, 0, 3, 1, 3, 2, 3, 9, 3, 7, 7, 8, 2, 1, 1, 3, 7,\n",
      "        1, 9, 9, 2])\n",
      "Tamanho do Tensor: 100\n",
      "Label: 7\n",
      "------------------------------------------\n",
      "Tensor de labels: tensor([7, 2, 4, 4, 9, 1, 6, 7, 0, 9, 7, 4, 6, 0, 9, 1, 1, 2, 5, 2, 4, 0, 9, 8,\n",
      "        5, 3, 7, 2, 8, 2, 0, 5, 9, 8, 8, 8, 6, 2, 3, 1, 9, 3, 4, 4, 0, 4, 7, 1,\n",
      "        1, 5, 2, 2, 2, 0, 7, 8, 4, 6, 0, 0, 7, 4, 7, 7, 7, 1, 8, 3, 7, 0, 5, 2,\n",
      "        7, 7, 6, 6, 0, 0, 9, 6, 1, 7, 5, 6, 5, 7, 4, 9, 4, 6, 2, 9, 0, 4, 5, 8,\n",
      "        1, 7, 8, 1])\n",
      "Tamanho do Tensor: 100\n",
      "Label: 7\n",
      "------------------------------------------\n",
      "Tensor de labels: tensor([5, 4, 5, 9, 7, 7, 6, 9, 5, 7, 0, 2, 2, 6, 5, 0, 1, 1, 5, 5, 3, 5, 8, 7,\n",
      "        4, 2, 5, 9, 3, 2, 1, 2, 2, 6, 9, 1, 3, 4, 0, 6, 9, 3, 8, 6, 7, 3, 9, 1,\n",
      "        1, 4, 2, 3, 7, 5, 9, 8, 1, 1, 1, 5, 9, 5, 3, 7, 4, 7, 5, 3, 0, 0, 1, 4,\n",
      "        1, 1, 6, 6, 4, 8, 7, 2, 6, 2, 1, 7, 3, 2, 4, 7, 2, 5, 9, 1, 4, 0, 7, 6,\n",
      "        6, 6, 7, 4])\n",
      "Tamanho do Tensor: 100\n",
      "Label: 5\n",
      "------------------------------------------\n",
      "Tensor de labels: tensor([7, 0, 7, 4, 4, 6, 8, 1, 3, 5, 5, 8, 7, 7, 4, 4, 3, 6, 8, 0, 2, 0, 6, 6,\n",
      "        9, 6, 8, 3, 1, 4, 7, 1, 1, 2, 3, 7, 2, 0, 6, 3, 7, 1, 9, 0, 4, 0, 6, 7,\n",
      "        8, 5, 2, 1, 3, 5, 8, 2, 8, 6, 9, 0, 7, 6, 2, 4, 4, 2, 3, 1, 2, 7, 9, 4,\n",
      "        5, 3, 2, 1, 5, 3, 4, 9, 6, 1, 7, 7, 9, 8, 6, 7, 3, 1, 2, 4, 9, 4, 0, 1,\n",
      "        2, 6, 4, 2])\n",
      "Tamanho do Tensor: 100\n",
      "Label: 7\n",
      "------------------------------------------\n",
      "Tensor de labels: tensor([5, 1, 7, 1, 4, 9, 0, 8, 1, 9, 4, 9, 7, 5, 2, 6, 5, 1, 0, 8, 6, 1, 8, 8,\n",
      "        4, 1, 2, 1, 1, 3, 0, 8, 3, 3, 9, 2, 9, 1, 2, 7, 4, 0, 9, 5, 2, 5, 5, 7,\n",
      "        9, 3, 1, 2, 9, 6, 4, 0, 2, 2, 6, 8, 3, 4, 0, 0, 4, 2, 7, 5, 9, 4, 6, 5,\n",
      "        0, 3, 0, 4, 0, 9, 3, 0, 6, 7, 0, 6, 3, 3, 8, 6, 4, 1, 7, 5, 5, 6, 5, 7,\n",
      "        1, 9, 0, 8])\n",
      "Tamanho do Tensor: 100\n",
      "Label: 5\n",
      "------------------------------------------\n",
      "Tensor de labels: tensor([0, 6, 2, 3, 9, 2, 4, 8, 0, 4, 1, 3, 5, 3, 4, 1, 2, 4, 4, 4, 8, 1, 3, 3,\n",
      "        5, 3, 6, 5, 1, 6, 4, 2, 5, 6, 0, 8, 5, 6, 5, 6, 1, 4, 8, 5, 3, 7, 4, 6,\n",
      "        2, 5, 1, 1, 2, 9, 5, 1, 1, 3, 8, 9, 8, 7, 4, 5, 1, 7, 3, 4, 5, 2, 9, 6,\n",
      "        5, 7, 9, 9, 1, 6, 9, 5, 3, 4, 9, 5, 0, 7, 2, 0, 4, 5, 0, 9, 7, 5, 6, 4,\n",
      "        8, 7, 4, 7])\n",
      "Tamanho do Tensor: 100\n",
      "Label: 0\n",
      "------------------------------------------\n",
      "Tensor de labels: tensor([5, 8, 2, 2, 9, 8, 5, 5, 1, 3, 5, 0, 2, 7, 9, 1, 2, 5, 2, 3, 9, 1, 5, 8,\n",
      "        3, 2, 8, 3, 3, 8, 0, 2, 7, 8, 7, 9, 1, 6, 2, 5, 8, 8, 4, 1, 9, 8, 4, 1,\n",
      "        6, 5, 1, 7, 2, 5, 3, 6, 7, 9, 6, 6, 8, 0, 5, 2, 5, 3, 2, 6, 1, 5, 9, 7,\n",
      "        5, 9, 4, 2, 3, 7, 2, 1, 6, 4, 4, 1, 2, 2, 3, 9, 8, 4, 8, 9, 1, 6, 3, 6,\n",
      "        1, 5, 4, 3])\n",
      "Tamanho do Tensor: 100\n",
      "Label: 5\n",
      "------------------------------------------\n",
      "Tensor de labels: tensor([2, 5, 8, 2, 9, 0, 8, 9, 0, 9, 7, 4, 1, 8, 9, 9, 9, 7, 9, 1, 1, 5, 3, 6,\n",
      "        7, 0, 1, 7, 4, 1, 0, 8, 4, 8, 0, 7, 8, 7, 2, 0, 6, 9, 6, 0, 9, 2, 8, 9,\n",
      "        0, 5, 2, 7, 0, 6, 2, 0, 4, 4, 5, 3, 4, 3, 8, 4, 2, 0, 2, 1, 1, 5, 5, 4,\n",
      "        6, 5, 7, 0, 8, 3, 5, 1, 4, 9, 4, 9, 8, 7, 1, 7, 6, 1, 1, 4, 5, 8, 6, 3,\n",
      "        5, 7, 3, 4])\n",
      "Tamanho do Tensor: 100\n",
      "Label: 2\n",
      "------------------------------------------\n",
      "Tensor de labels: tensor([5, 4, 3, 4, 4, 2, 5, 4, 3, 8, 5, 4, 5, 8, 6, 5, 7, 5, 5, 5, 3, 5, 7, 7,\n",
      "        7, 2, 0, 4, 0, 5, 3, 0, 4, 6, 5, 0, 6, 3, 0, 3, 3, 4, 4, 4, 6, 9, 8, 6,\n",
      "        1, 9, 1, 1, 9, 5, 3, 0, 6, 5, 0, 6, 0, 0, 2, 2, 2, 6, 2, 7, 4, 8, 2, 1,\n",
      "        3, 7, 7, 8, 5, 6, 4, 2, 4, 7, 8, 7, 7, 1, 9, 0, 8, 0, 2, 1, 2, 3, 0, 4,\n",
      "        6, 8, 0, 9])\n",
      "Tamanho do Tensor: 100\n",
      "Label: 5\n",
      "------------------------------------------\n",
      "Tensor de labels: tensor([2, 3, 1, 5, 7, 2, 6, 2, 5, 3, 3, 2, 4, 8, 7, 7, 1, 2, 6, 5, 5, 3, 4, 6,\n",
      "        9, 8, 2, 0, 8, 5, 9, 6, 9, 9, 7, 9, 6, 7, 7, 0, 3, 4, 9, 9, 6, 8, 5, 5,\n",
      "        0, 5, 0, 6, 9, 0, 8, 2, 6, 9, 3, 2, 4, 8, 7, 2, 2, 5, 9, 5, 4, 0, 8, 1,\n",
      "        1, 6, 9, 4, 5, 7, 4, 6, 4, 6, 4, 4, 0, 9, 6, 3, 1, 3, 2, 4, 0, 1, 1, 6,\n",
      "        2, 4, 9, 0])\n",
      "Tamanho do Tensor: 100\n",
      "Label: 2\n",
      "------------------------------------------\n",
      "Tensor de labels: tensor([4, 1, 8, 6, 5, 7, 9, 2, 5, 1, 9, 1, 4, 1, 3, 7, 1, 1, 1, 6, 7, 9, 1, 0,\n",
      "        2, 5, 4, 2, 6, 9, 3, 4, 8, 5, 7, 2, 7, 4, 8, 4, 5, 3, 8, 9, 7, 8, 7, 4,\n",
      "        4, 0, 6, 4, 0, 7, 3, 0, 8, 1, 4, 4, 8, 8, 3, 3, 3, 3, 4, 5, 8, 3, 2, 8,\n",
      "        7, 9, 3, 3, 8, 6, 1, 5, 2, 1, 1, 7, 0, 8, 6, 5, 8, 7, 4, 1, 1, 4, 6, 5,\n",
      "        0, 0, 1, 2])\n",
      "Tamanho do Tensor: 100\n",
      "Label: 4\n",
      "------------------------------------------\n",
      "Tensor de labels: tensor([6, 7, 1, 0, 8, 5, 8, 9, 2, 7, 0, 1, 0, 8, 3, 4, 2, 4, 5, 2, 2, 3, 1, 8,\n",
      "        1, 7, 4, 9, 0, 9, 2, 4, 8, 5, 7, 7, 3, 6, 3, 0, 2, 1, 8, 2, 4, 5, 7, 2,\n",
      "        5, 0, 1, 0, 5, 5, 2, 7, 2, 3, 7, 4, 8, 8, 0, 7, 9, 7, 3, 2, 5, 1, 0, 2,\n",
      "        2, 2, 4, 4, 3, 1, 9, 3, 8, 1, 4, 2, 4, 4, 1, 9, 6, 2, 4, 2, 7, 0, 7, 5,\n",
      "        2, 2, 9, 7])\n",
      "Tamanho do Tensor: 100\n",
      "Label: 6\n",
      "------------------------------------------\n",
      "Tensor de labels: tensor([9, 7, 6, 8, 2, 0, 3, 0, 9, 2, 3, 3, 6, 0, 4, 5, 5, 9, 0, 3, 0, 2, 8, 9,\n",
      "        4, 9, 5, 0, 8, 9, 2, 1, 8, 3, 0, 6, 2, 8, 5, 3, 5, 2, 5, 1, 9, 8, 3, 7,\n",
      "        9, 8, 0, 5, 1, 7, 3, 5, 0, 8, 3, 9, 9, 1, 5, 5, 2, 7, 0, 3, 4, 7, 6, 4,\n",
      "        9, 5, 9, 6, 4, 8, 3, 2, 8, 7, 6, 5, 8, 2, 4, 5, 5, 1, 2, 0, 0, 0, 9, 3,\n",
      "        9, 6, 8, 8])\n",
      "Tamanho do Tensor: 100\n",
      "Label: 9\n",
      "------------------------------------------\n",
      "Tensor de labels: tensor([1, 0, 1, 5, 9, 0, 9, 4, 1, 6, 3, 2, 1, 8, 7, 2, 5, 4, 1, 2, 6, 0, 7, 9,\n",
      "        0, 5, 2, 0, 9, 3, 5, 5, 4, 2, 1, 8, 9, 5, 3, 4, 4, 1, 9, 0, 4, 6, 1, 1,\n",
      "        9, 0, 9, 9, 3, 4, 9, 6, 2, 7, 9, 8, 4, 2, 6, 2, 7, 1, 4, 9, 3, 1, 5, 1,\n",
      "        5, 2, 6, 7, 0, 5, 9, 4, 1, 1, 4, 9, 9, 8, 5, 8, 0, 0, 9, 9, 3, 0, 1, 8,\n",
      "        5, 8, 8, 8])\n",
      "Tamanho do Tensor: 100\n",
      "Label: 1\n",
      "------------------------------------------\n",
      "Tensor de labels: tensor([8, 1, 1, 9, 6, 2, 8, 1, 5, 5, 9, 6, 9, 2, 7, 4, 2, 3, 3, 0, 4, 9, 8, 8,\n",
      "        9, 6, 2, 4, 2, 9, 3, 7, 2, 2, 1, 6, 1, 0, 8, 6, 5, 1, 4, 0, 6, 3, 9, 8,\n",
      "        9, 9, 0, 3, 0, 1, 0, 0, 4, 3, 3, 8, 1, 1, 8, 3, 2, 7, 2, 2, 3, 3, 7, 6,\n",
      "        2, 2, 8, 5, 8, 4, 8, 9, 0, 7, 7, 8, 7, 1, 9, 4, 7, 1, 6, 2, 5, 3, 3, 4,\n",
      "        3, 3, 2, 1])\n",
      "Tamanho do Tensor: 100\n",
      "Label: 8\n",
      "------------------------------------------\n",
      "Tensor de labels: tensor([4, 2, 4, 6, 3, 6, 2, 5, 0, 0, 9, 0, 6, 0, 4, 3, 8, 0, 9, 5, 0, 8, 0, 6,\n",
      "        0, 1, 3, 2, 0, 3, 7, 8, 8, 1, 0, 1, 8, 9, 6, 3, 3, 2, 4, 9, 0, 6, 9, 9,\n",
      "        8, 3, 5, 4, 9, 4, 5, 7, 6, 1, 0, 7, 1, 2, 8, 4, 1, 7, 9, 9, 7, 4, 6, 6,\n",
      "        9, 4, 4, 4, 8, 2, 0, 7, 5, 2, 5, 8, 7, 7, 5, 0, 6, 3, 4, 8, 5, 3, 8, 1,\n",
      "        3, 4, 4, 3])\n",
      "Tamanho do Tensor: 100\n",
      "Label: 4\n",
      "------------------------------------------\n",
      "Tensor de labels: tensor([8, 2, 1, 3, 7, 1, 1, 9, 4, 6, 7, 2, 2, 9, 7, 8, 8, 0, 6, 7, 5, 4, 5, 7,\n",
      "        1, 4, 7, 6, 0, 3, 0, 2, 0, 1, 4, 3, 8, 9, 8, 4, 0, 3, 0, 4, 6, 6, 9, 6,\n",
      "        9, 6, 4, 1, 3, 6, 8, 9, 7, 3, 2, 5, 1, 8, 0, 5, 1, 5, 9, 2, 2, 6, 7, 4,\n",
      "        6, 1, 0, 8, 8, 3, 4, 1, 0, 5, 1, 9, 3, 2, 8, 0, 4, 3, 3, 6, 4, 1, 8, 8,\n",
      "        9, 1, 4, 1])\n",
      "Tamanho do Tensor: 100\n",
      "Label: 8\n",
      "------------------------------------------\n",
      "Tensor de labels: tensor([6, 0, 6, 2, 1, 2, 2, 1, 5, 2, 6, 4, 4, 0, 3, 8, 6, 8, 7, 9, 3, 4, 3, 3,\n",
      "        8, 8, 3, 7, 0, 0, 6, 9, 5, 5, 1, 2, 9, 0, 6, 6, 1, 2, 1, 5, 4, 3, 4, 1,\n",
      "        6, 8, 9, 8, 4, 3, 0, 5, 3, 0, 1, 2, 5, 2, 4, 3, 7, 1, 0, 7, 0, 1, 0, 2,\n",
      "        8, 1, 2, 6, 5, 6, 4, 1, 9, 4, 3, 4, 4, 1, 7, 8, 9, 0, 6, 9, 5, 7, 2, 7,\n",
      "        2, 4, 5, 2])\n",
      "Tamanho do Tensor: 100\n",
      "Label: 6\n",
      "------------------------------------------\n",
      "Tensor de labels: tensor([2, 6, 8, 2, 9, 0, 8, 2, 6, 8, 0, 4, 8, 1, 9, 7, 5, 1, 8, 5, 2, 5, 3, 8,\n",
      "        9, 9, 5, 2, 6, 1, 7, 9, 7, 5, 6, 7, 9, 8, 5, 1, 9, 5, 6, 3, 7, 9, 0, 6,\n",
      "        2, 9, 0, 9, 6, 1, 7, 7, 1, 5, 2, 9, 2, 9, 4, 2, 0, 0, 3, 8, 0, 7, 0, 3,\n",
      "        4, 6, 1, 8, 4, 4, 6, 1, 0, 1, 2, 8, 8, 1, 1, 1, 2, 5, 9, 5, 8, 2, 1, 4,\n",
      "        5, 7, 0, 0])\n",
      "Tamanho do Tensor: 100\n",
      "Label: 2\n",
      "------------------------------------------\n",
      "Tensor de labels: tensor([8, 8, 7, 4, 2, 7, 2, 4, 1, 3, 0, 8, 4, 1, 6, 2, 8, 1, 2, 0, 9, 3, 8, 2,\n",
      "        7, 8, 2, 6, 2, 6, 2, 6, 4, 3, 7, 2, 9, 2, 4, 0, 0, 9, 3, 8, 0, 0, 7, 0,\n",
      "        3, 9, 2, 3, 2, 1, 9, 1, 3, 1, 6, 3, 2, 3, 2, 2, 0, 4, 9, 1, 1, 6, 8, 6,\n",
      "        1, 0, 0, 1, 5, 4, 1, 9, 4, 2, 2, 4, 2, 2, 6, 0, 7, 5, 6, 0, 6, 4, 9, 2,\n",
      "        9, 4, 4, 9])\n",
      "Tamanho do Tensor: 100\n",
      "Label: 8\n",
      "------------------------------------------\n"
     ]
    }
   ],
   "source": [
    "limite = 2\n",
    "contador = 0\n",
    "for i in treino_loader:\n",
    "    if contador < limite:\n",
    "        print(f\"Tensor de labels: {i[1]}\\n\"\n",
    "            f\"Tamanho do Tensor: {len(i[1])}\\n\"\n",
    "            f\"Label: {i[1][0]}\\n\"\n",
    "            f\"------------------------------------------\")\n",
    "    else: break"
   ]
  },
  {
   "source": [
    "Aqui pode-se notar que o segundo tensor do par é um tensor em que cada elemento é um batch de 100 classificações."
   ],
   "cell_type": "markdown",
   "metadata": {}
  },
  {
   "source": [
    "### Começando com uma regressão logística\n",
    "\n",
    "Dizemos que uma regressão linear é basicamente uma maneira de visualizar nossos dados em uma \"linha\" e que a partir dessa linha podemos fazer algumas predições sobre dados futuros.\n",
    "\n",
    "Porém, regressões lineares não são muito boas com classificações, para isso utilizaremos uma regressão logística.\n",
    "\n",
    "Uma regressão logística é uma regressão linear que utiliza a função **softmax** como uma **função de ativação**:\n",
    "$$\n",
    "a_i = \\frac{e^{x+i}}{\\sum_{j=1}^n e^{x_j}}\n",
    "$$"
   ],
   "cell_type": "markdown",
   "metadata": {}
  },
  {
   "source": [
    "> **Obs:** O que a função **softmax** basicamente faz é receber um vetor (lista) de valores numéricos e os transforma em valores probabilísticos. Em outras palavras, quanto maior for o valor da preferência daquela patâmetro, depois que essa lista de valores passar pela função Softmax, maior será sua probabilidade."
   ],
   "cell_type": "markdown",
   "metadata": {}
  },
  {
   "source": [
    "É interessante primeiro estudarmos a regressão logística antes de vermos uma rede neural pois a regressão logística é basicamente uma rede neural simples!"
   ],
   "cell_type": "markdown",
   "metadata": {}
  },
  {
   "source": [
    "![Diagrama de uma regressão logística](https://i.imgur.com/IfybNNw.png)"
   ],
   "cell_type": "markdown",
   "metadata": {}
  },
  {
   "source": [
    "### O que é a função nn.Sequential() do torch?\n",
    "\n",
    "Ele é uma espécie de container que cria nosso modelo, onde cada camada é colocada na ordem que definimos dentro da função. Não é necessário sempre utilizar essa função para criar um modelo em torch, mas ela simplifica um pouco nosso trabalho."
   ],
   "cell_type": "markdown",
   "metadata": {}
  },
  {
   "cell_type": "code",
   "execution_count": 13,
   "metadata": {},
   "outputs": [],
   "source": [
    "class RegressaoLogistica(nn.Module):\n",
    "    def __init__ (self, input_dim, output_dim):\n",
    "        super(RegressaoLogistica, self).__init__()  # Já que será \"filho\" de nn.Module, temos que iniciar seu \"pai\"\n",
    "\n",
    "        self.linear = nn.Sequential(\n",
    "            nn.Linear(input_dim, output_dim), # Parte linear\n",
    "            nn.LogSoftmax()                   # A parte logística\n",
    "        )\n",
    "\n",
    "    def forward(self, x):\n",
    "        y = self.linear(x)\n",
    "        return y\n",
    "\n",
    "erro = nn.NLLLoss() # Função de perda (loss)\n",
    "\n",
    "input_dim = 28*28 # Dica, olhe na especificação do problema\n",
    "output_dim = 10\n",
    "\n",
    "# Inicialize a Regressão Logística com as dimensões de input e output estabelecidas\n",
    "modelo = RegressaoLogistica(input_dim, output_dim) \n",
    "\n",
    "# Aqui escolhemos nosso otimizador, que nesse caso será o Stochastic gradient descent, \n",
    "# que estará otimizando os parâmetros de nossa regrssão linear.\n",
    "taxa_aprendizado = 0.001\n",
    "otimizador = torch.optim.SGD(modelo.parameters(), lr=taxa_aprendizado)"
   ]
  },
  {
   "source": [
    "### Vamos agora treinar nosso modelo:"
   ],
   "cell_type": "markdown",
   "metadata": {}
  },
  {
   "cell_type": "code",
   "execution_count": 14,
   "metadata": {
    "tags": []
   },
   "outputs": [
    {
     "output_type": "stream",
     "name": "stderr",
     "text": [
      "/home/nelson/anaconda3/envs/torch/lib/python3.8/site-packages/torch/nn/modules/container.py:117: UserWarning: Implicit dimension choice for log_softmax has been deprecated. Change the call to include dim=X as an argument.\n",
      "  input = module(input)\n",
      "Iteração: 500 | Loss: 0.8168834447860718 | Acurácia: 73.52400207519531\n",
      "Iteração: 1000 | Loss: 0.6943560242652893 | Acurácia: 76.31999969482422\n",
      "Iteração: 1500 | Loss: 0.7358845472335815 | Acurácia: 77.86799621582031\n",
      "Iteração: 2000 | Loss: 0.6487081050872803 | Acurácia: 78.91799926757812\n",
      "Iteração: 2500 | Loss: 0.6037538051605225 | Acurácia: 79.6760025024414\n",
      "Iteração: 3000 | Loss: 0.590161144733429 | Acurácia: 80.27799987792969\n",
      "Iteração: 3500 | Loss: 0.5979012846946716 | Acurácia: 80.8280029296875\n",
      "Iteração: 4000 | Loss: 0.679405152797699 | Acurácia: 81.16200256347656\n",
      "Iteração: 4500 | Loss: 0.510903537273407 | Acurácia: 81.39199829101562\n",
      "Iteração: 5000 | Loss: 0.5583057999610901 | Acurácia: 81.71600341796875\n",
      "Iteração: 5500 | Loss: 0.5560641884803772 | Acurácia: 81.92400360107422\n",
      "Iteração: 6000 | Loss: 0.5759579539299011 | Acurácia: 82.16600036621094\n",
      "Iteração: 6500 | Loss: 0.47310152649879456 | Acurácia: 82.28600311279297\n",
      "Iteração: 7000 | Loss: 0.4507713317871094 | Acurácia: 82.48600006103516\n",
      "Iteração: 7500 | Loss: 0.5470184087753296 | Acurácia: 82.5979995727539\n",
      "Iteração: 8000 | Loss: 0.5343644618988037 | Acurácia: 82.78600311279297\n",
      "Iteração: 8500 | Loss: 0.5423493385314941 | Acurácia: 82.87000274658203\n",
      "Iteração: 9000 | Loss: 0.5036479830741882 | Acurácia: 82.98999786376953\n",
      "Iteração: 9500 | Loss: 0.6029446125030518 | Acurácia: 82.98799896240234\n",
      "Iteração: 10000 | Loss: 0.5031906366348267 | Acurácia: 83.19599914550781\n"
     ]
    }
   ],
   "source": [
    "contagem = 0\n",
    "lista_loss = []\n",
    "lista_iteracao = []\n",
    "for epoch in range(n_epochs):\n",
    "    for imagens, classificacao in treino_loader:\n",
    "        \n",
    "        # Utilizando a função Variable() crie as seguintes variáveis:\n",
    "        treino = Variable(imagens.view(-1, 28*28)) # Crie uma variável com as imagens, porém, mude a forma do tensor\n",
    "                                                   # para ([100,28*28]) com o método .view()\n",
    "        \n",
    "        validacao = Variable(classificacao)     # Cire uma variável com a classificacao\n",
    "\n",
    "        # Limpamos os gradientes\n",
    "        otimizador.zero_grad()\n",
    "\n",
    "        # Utilize o método .forward() do modelo utilizando a variável de treino\n",
    "        # para realizarmos a forward propagation\n",
    "        outputs = modelo(treino) \n",
    "\n",
    "        # Utilize a função de perda erro() com nosso output e a variável de verificação\n",
    "        loss = erro(outputs, validacao)\n",
    "\n",
    "        # Realizamos a backward propagation\n",
    "        loss.backward()\n",
    "\n",
    "        # Atualiza os parâmetros\n",
    "        otimizador.step() \n",
    "\n",
    "        contagem += 1\n",
    "\n",
    "        # Predições\n",
    "        if contagem % 50 == 0:\n",
    "            # Calculamos a acurácia\n",
    "            corretos = 0\n",
    "            total = 0\n",
    "\n",
    "            for imagens, classificacao in treino_loader:\n",
    "                \n",
    "                # Crie uma variável com as imagens da mesma maneira como na variável de treino\n",
    "                teste = Variable(imagens.view(-1, 28*28))\n",
    "\n",
    "                # Forward propagation\n",
    "                outputs = modelo(teste)\n",
    "                \n",
    "                # Recebe as predições do valor máximo\n",
    "                predito =  torch.max(outputs.data, 1)[1]\n",
    "\n",
    "                # Número total de classificações\n",
    "                total += len(classificacao)\n",
    "\n",
    "                # Número de predições corretas\n",
    "                corretos += (predito == classificacao).sum()\n",
    "\n",
    "            acuracia = 100 * corretos / float(total)\n",
    "\n",
    "            # Armazena a loss e iteração\n",
    "            lista_loss.append(loss.data)\n",
    "            lista_iteracao.append(contagem)\n",
    "\n",
    "        if contagem % 500 == 0:\n",
    "            # Printa a loss\n",
    "            print(f\"Iteração: {contagem} | Loss: {loss.data} | Acurácia: {acuracia}\")"
   ]
  },
  {
   "cell_type": "code",
   "execution_count": 15,
   "metadata": {},
   "outputs": [
    {
     "output_type": "display_data",
     "data": {
      "text/plain": "<Figure size 1800x432 with 1 Axes>",
      "image/svg+xml": "<?xml version=\"1.0\" encoding=\"utf-8\" standalone=\"no\"?>\n<!DOCTYPE svg PUBLIC \"-//W3C//DTD SVG 1.1//EN\"\n  \"http://www.w3.org/Graphics/SVG/1.1/DTD/svg11.dtd\">\n<!-- Created with matplotlib (https://matplotlib.org/) -->\n<svg height=\"386.762812pt\" version=\"1.1\" viewBox=\"0 0 1445.98125 386.762812\" width=\"1445.98125pt\" xmlns=\"http://www.w3.org/2000/svg\" xmlns:xlink=\"http://www.w3.org/1999/xlink\">\n <metadata>\n  <rdf:RDF xmlns:cc=\"http://creativecommons.org/ns#\" xmlns:dc=\"http://purl.org/dc/elements/1.1/\" xmlns:rdf=\"http://www.w3.org/1999/02/22-rdf-syntax-ns#\">\n   <cc:Work>\n    <dc:type rdf:resource=\"http://purl.org/dc/dcmitype/StillImage\"/>\n    <dc:date>2021-03-19T21:02:49.343021</dc:date>\n    <dc:format>image/svg+xml</dc:format>\n    <dc:creator>\n     <cc:Agent>\n      <dc:title>Matplotlib v3.3.2, https://matplotlib.org/</dc:title>\n     </cc:Agent>\n    </dc:creator>\n   </cc:Work>\n  </rdf:RDF>\n </metadata>\n <defs>\n  <style type=\"text/css\">*{stroke-linecap:butt;stroke-linejoin:round;}</style>\n </defs>\n <g id=\"figure_1\">\n  <g id=\"patch_1\">\n   <path d=\"M 0 386.762812 \nL 1445.98125 386.762812 \nL 1445.98125 0 \nL 0 0 \nz\n\" style=\"fill:none;\"/>\n  </g>\n  <g id=\"axes_1\">\n   <g id=\"patch_2\">\n    <path d=\"M 43.78125 348.958125 \nL 1438.78125 348.958125 \nL 1438.78125 22.798125 \nL 43.78125 22.798125 \nz\n\" style=\"fill:#ffffff;\"/>\n   </g>\n   <g id=\"matplotlib.axis_1\">\n    <g id=\"xtick_1\">\n     <g id=\"line2d_1\">\n      <defs>\n       <path d=\"M 0 0 \nL 0 3.5 \n\" id=\"m47a33e4fa7\" style=\"stroke:#000000;stroke-width:0.8;\"/>\n      </defs>\n      <g>\n       <use style=\"stroke:#000000;stroke-width:0.8;\" x=\"100.817568\" xlink:href=\"#m47a33e4fa7\" y=\"348.958125\"/>\n      </g>\n     </g>\n     <g id=\"text_1\">\n      <!-- 0 -->\n      <g transform=\"translate(97.636318 363.556562)scale(0.1 -0.1)\">\n       <defs>\n        <path d=\"M 31.78125 66.40625 \nQ 24.171875 66.40625 20.328125 58.90625 \nQ 16.5 51.421875 16.5 36.375 \nQ 16.5 21.390625 20.328125 13.890625 \nQ 24.171875 6.390625 31.78125 6.390625 \nQ 39.453125 6.390625 43.28125 13.890625 \nQ 47.125 21.390625 47.125 36.375 \nQ 47.125 51.421875 43.28125 58.90625 \nQ 39.453125 66.40625 31.78125 66.40625 \nz\nM 31.78125 74.21875 \nQ 44.046875 74.21875 50.515625 64.515625 \nQ 56.984375 54.828125 56.984375 36.375 \nQ 56.984375 17.96875 50.515625 8.265625 \nQ 44.046875 -1.421875 31.78125 -1.421875 \nQ 19.53125 -1.421875 13.0625 8.265625 \nQ 6.59375 17.96875 6.59375 36.375 \nQ 6.59375 54.828125 13.0625 64.515625 \nQ 19.53125 74.21875 31.78125 74.21875 \nz\n\" id=\"DejaVuSans-48\"/>\n       </defs>\n       <use xlink:href=\"#DejaVuSans-48\"/>\n      </g>\n     </g>\n    </g>\n    <g id=\"xtick_2\">\n     <g id=\"line2d_2\">\n      <g>\n       <use style=\"stroke:#000000;stroke-width:0.8;\" x=\"355.728486\" xlink:href=\"#m47a33e4fa7\" y=\"348.958125\"/>\n      </g>\n     </g>\n     <g id=\"text_2\">\n      <!-- 2000 -->\n      <g transform=\"translate(343.003486 363.556562)scale(0.1 -0.1)\">\n       <defs>\n        <path d=\"M 19.1875 8.296875 \nL 53.609375 8.296875 \nL 53.609375 0 \nL 7.328125 0 \nL 7.328125 8.296875 \nQ 12.9375 14.109375 22.625 23.890625 \nQ 32.328125 33.6875 34.8125 36.53125 \nQ 39.546875 41.84375 41.421875 45.53125 \nQ 43.3125 49.21875 43.3125 52.78125 \nQ 43.3125 58.59375 39.234375 62.25 \nQ 35.15625 65.921875 28.609375 65.921875 \nQ 23.96875 65.921875 18.8125 64.3125 \nQ 13.671875 62.703125 7.8125 59.421875 \nL 7.8125 69.390625 \nQ 13.765625 71.78125 18.9375 73 \nQ 24.125 74.21875 28.421875 74.21875 \nQ 39.75 74.21875 46.484375 68.546875 \nQ 53.21875 62.890625 53.21875 53.421875 \nQ 53.21875 48.921875 51.53125 44.890625 \nQ 49.859375 40.875 45.40625 35.40625 \nQ 44.1875 33.984375 37.640625 27.21875 \nQ 31.109375 20.453125 19.1875 8.296875 \nz\n\" id=\"DejaVuSans-50\"/>\n       </defs>\n       <use xlink:href=\"#DejaVuSans-50\"/>\n       <use x=\"63.623047\" xlink:href=\"#DejaVuSans-48\"/>\n       <use x=\"127.246094\" xlink:href=\"#DejaVuSans-48\"/>\n       <use x=\"190.869141\" xlink:href=\"#DejaVuSans-48\"/>\n      </g>\n     </g>\n    </g>\n    <g id=\"xtick_3\">\n     <g id=\"line2d_3\">\n      <g>\n       <use style=\"stroke:#000000;stroke-width:0.8;\" x=\"610.639404\" xlink:href=\"#m47a33e4fa7\" y=\"348.958125\"/>\n      </g>\n     </g>\n     <g id=\"text_3\">\n      <!-- 4000 -->\n      <g transform=\"translate(597.914404 363.556562)scale(0.1 -0.1)\">\n       <defs>\n        <path d=\"M 37.796875 64.3125 \nL 12.890625 25.390625 \nL 37.796875 25.390625 \nz\nM 35.203125 72.90625 \nL 47.609375 72.90625 \nL 47.609375 25.390625 \nL 58.015625 25.390625 \nL 58.015625 17.1875 \nL 47.609375 17.1875 \nL 47.609375 0 \nL 37.796875 0 \nL 37.796875 17.1875 \nL 4.890625 17.1875 \nL 4.890625 26.703125 \nz\n\" id=\"DejaVuSans-52\"/>\n       </defs>\n       <use xlink:href=\"#DejaVuSans-52\"/>\n       <use x=\"63.623047\" xlink:href=\"#DejaVuSans-48\"/>\n       <use x=\"127.246094\" xlink:href=\"#DejaVuSans-48\"/>\n       <use x=\"190.869141\" xlink:href=\"#DejaVuSans-48\"/>\n      </g>\n     </g>\n    </g>\n    <g id=\"xtick_4\">\n     <g id=\"line2d_4\">\n      <g>\n       <use style=\"stroke:#000000;stroke-width:0.8;\" x=\"865.550323\" xlink:href=\"#m47a33e4fa7\" y=\"348.958125\"/>\n      </g>\n     </g>\n     <g id=\"text_4\">\n      <!-- 6000 -->\n      <g transform=\"translate(852.825323 363.556562)scale(0.1 -0.1)\">\n       <defs>\n        <path d=\"M 33.015625 40.375 \nQ 26.375 40.375 22.484375 35.828125 \nQ 18.609375 31.296875 18.609375 23.390625 \nQ 18.609375 15.53125 22.484375 10.953125 \nQ 26.375 6.390625 33.015625 6.390625 \nQ 39.65625 6.390625 43.53125 10.953125 \nQ 47.40625 15.53125 47.40625 23.390625 \nQ 47.40625 31.296875 43.53125 35.828125 \nQ 39.65625 40.375 33.015625 40.375 \nz\nM 52.59375 71.296875 \nL 52.59375 62.3125 \nQ 48.875 64.0625 45.09375 64.984375 \nQ 41.3125 65.921875 37.59375 65.921875 \nQ 27.828125 65.921875 22.671875 59.328125 \nQ 17.53125 52.734375 16.796875 39.40625 \nQ 19.671875 43.65625 24.015625 45.921875 \nQ 28.375 48.1875 33.59375 48.1875 \nQ 44.578125 48.1875 50.953125 41.515625 \nQ 57.328125 34.859375 57.328125 23.390625 \nQ 57.328125 12.15625 50.6875 5.359375 \nQ 44.046875 -1.421875 33.015625 -1.421875 \nQ 20.359375 -1.421875 13.671875 8.265625 \nQ 6.984375 17.96875 6.984375 36.375 \nQ 6.984375 53.65625 15.1875 63.9375 \nQ 23.390625 74.21875 37.203125 74.21875 \nQ 40.921875 74.21875 44.703125 73.484375 \nQ 48.484375 72.75 52.59375 71.296875 \nz\n\" id=\"DejaVuSans-54\"/>\n       </defs>\n       <use xlink:href=\"#DejaVuSans-54\"/>\n       <use x=\"63.623047\" xlink:href=\"#DejaVuSans-48\"/>\n       <use x=\"127.246094\" xlink:href=\"#DejaVuSans-48\"/>\n       <use x=\"190.869141\" xlink:href=\"#DejaVuSans-48\"/>\n      </g>\n     </g>\n    </g>\n    <g id=\"xtick_5\">\n     <g id=\"line2d_5\">\n      <g>\n       <use style=\"stroke:#000000;stroke-width:0.8;\" x=\"1120.461241\" xlink:href=\"#m47a33e4fa7\" y=\"348.958125\"/>\n      </g>\n     </g>\n     <g id=\"text_5\">\n      <!-- 8000 -->\n      <g transform=\"translate(1107.736241 363.556562)scale(0.1 -0.1)\">\n       <defs>\n        <path d=\"M 31.78125 34.625 \nQ 24.75 34.625 20.71875 30.859375 \nQ 16.703125 27.09375 16.703125 20.515625 \nQ 16.703125 13.921875 20.71875 10.15625 \nQ 24.75 6.390625 31.78125 6.390625 \nQ 38.8125 6.390625 42.859375 10.171875 \nQ 46.921875 13.96875 46.921875 20.515625 \nQ 46.921875 27.09375 42.890625 30.859375 \nQ 38.875 34.625 31.78125 34.625 \nz\nM 21.921875 38.8125 \nQ 15.578125 40.375 12.03125 44.71875 \nQ 8.5 49.078125 8.5 55.328125 \nQ 8.5 64.0625 14.71875 69.140625 \nQ 20.953125 74.21875 31.78125 74.21875 \nQ 42.671875 74.21875 48.875 69.140625 \nQ 55.078125 64.0625 55.078125 55.328125 \nQ 55.078125 49.078125 51.53125 44.71875 \nQ 48 40.375 41.703125 38.8125 \nQ 48.828125 37.15625 52.796875 32.3125 \nQ 56.78125 27.484375 56.78125 20.515625 \nQ 56.78125 9.90625 50.3125 4.234375 \nQ 43.84375 -1.421875 31.78125 -1.421875 \nQ 19.734375 -1.421875 13.25 4.234375 \nQ 6.78125 9.90625 6.78125 20.515625 \nQ 6.78125 27.484375 10.78125 32.3125 \nQ 14.796875 37.15625 21.921875 38.8125 \nz\nM 18.3125 54.390625 \nQ 18.3125 48.734375 21.84375 45.5625 \nQ 25.390625 42.390625 31.78125 42.390625 \nQ 38.140625 42.390625 41.71875 45.5625 \nQ 45.3125 48.734375 45.3125 54.390625 \nQ 45.3125 60.0625 41.71875 63.234375 \nQ 38.140625 66.40625 31.78125 66.40625 \nQ 25.390625 66.40625 21.84375 63.234375 \nQ 18.3125 60.0625 18.3125 54.390625 \nz\n\" id=\"DejaVuSans-56\"/>\n       </defs>\n       <use xlink:href=\"#DejaVuSans-56\"/>\n       <use x=\"63.623047\" xlink:href=\"#DejaVuSans-48\"/>\n       <use x=\"127.246094\" xlink:href=\"#DejaVuSans-48\"/>\n       <use x=\"190.869141\" xlink:href=\"#DejaVuSans-48\"/>\n      </g>\n     </g>\n    </g>\n    <g id=\"xtick_6\">\n     <g id=\"line2d_6\">\n      <g>\n       <use style=\"stroke:#000000;stroke-width:0.8;\" x=\"1375.372159\" xlink:href=\"#m47a33e4fa7\" y=\"348.958125\"/>\n      </g>\n     </g>\n     <g id=\"text_6\">\n      <!-- 10000 -->\n      <g transform=\"translate(1359.465909 363.556562)scale(0.1 -0.1)\">\n       <defs>\n        <path d=\"M 12.40625 8.296875 \nL 28.515625 8.296875 \nL 28.515625 63.921875 \nL 10.984375 60.40625 \nL 10.984375 69.390625 \nL 28.421875 72.90625 \nL 38.28125 72.90625 \nL 38.28125 8.296875 \nL 54.390625 8.296875 \nL 54.390625 0 \nL 12.40625 0 \nz\n\" id=\"DejaVuSans-49\"/>\n       </defs>\n       <use xlink:href=\"#DejaVuSans-49\"/>\n       <use x=\"63.623047\" xlink:href=\"#DejaVuSans-48\"/>\n       <use x=\"127.246094\" xlink:href=\"#DejaVuSans-48\"/>\n       <use x=\"190.869141\" xlink:href=\"#DejaVuSans-48\"/>\n       <use x=\"254.492188\" xlink:href=\"#DejaVuSans-48\"/>\n      </g>\n     </g>\n    </g>\n    <g id=\"text_7\">\n     <!-- Número de Iterações -->\n     <g transform=\"translate(688.872656 377.483125)scale(0.1 -0.1)\">\n      <defs>\n       <path d=\"M 9.8125 72.90625 \nL 23.09375 72.90625 \nL 55.421875 11.921875 \nL 55.421875 72.90625 \nL 64.984375 72.90625 \nL 64.984375 0 \nL 51.703125 0 \nL 19.390625 60.984375 \nL 19.390625 0 \nL 9.8125 0 \nz\n\" id=\"DejaVuSans-78\"/>\n       <path d=\"M 8.5 21.578125 \nL 8.5 54.6875 \nL 17.484375 54.6875 \nL 17.484375 21.921875 \nQ 17.484375 14.15625 20.5 10.265625 \nQ 23.53125 6.390625 29.59375 6.390625 \nQ 36.859375 6.390625 41.078125 11.03125 \nQ 45.3125 15.671875 45.3125 23.6875 \nL 45.3125 54.6875 \nL 54.296875 54.6875 \nL 54.296875 0 \nL 45.3125 0 \nL 45.3125 8.40625 \nQ 42.046875 3.421875 37.71875 1 \nQ 33.40625 -1.421875 27.6875 -1.421875 \nQ 18.265625 -1.421875 13.375 4.4375 \nQ 8.5 10.296875 8.5 21.578125 \nz\nM 31.109375 56 \nz\nM 37.78125 79.984375 \nL 47.5 79.984375 \nL 31.59375 61.625 \nL 24.109375 61.625 \nz\n\" id=\"DejaVuSans-250\"/>\n       <path d=\"M 52 44.1875 \nQ 55.375 50.25 60.0625 53.125 \nQ 64.75 56 71.09375 56 \nQ 79.640625 56 84.28125 50.015625 \nQ 88.921875 44.046875 88.921875 33.015625 \nL 88.921875 0 \nL 79.890625 0 \nL 79.890625 32.71875 \nQ 79.890625 40.578125 77.09375 44.375 \nQ 74.3125 48.1875 68.609375 48.1875 \nQ 61.625 48.1875 57.5625 43.546875 \nQ 53.515625 38.921875 53.515625 30.90625 \nL 53.515625 0 \nL 44.484375 0 \nL 44.484375 32.71875 \nQ 44.484375 40.625 41.703125 44.40625 \nQ 38.921875 48.1875 33.109375 48.1875 \nQ 26.21875 48.1875 22.15625 43.53125 \nQ 18.109375 38.875 18.109375 30.90625 \nL 18.109375 0 \nL 9.078125 0 \nL 9.078125 54.6875 \nL 18.109375 54.6875 \nL 18.109375 46.1875 \nQ 21.1875 51.21875 25.484375 53.609375 \nQ 29.78125 56 35.6875 56 \nQ 41.65625 56 45.828125 52.96875 \nQ 50 49.953125 52 44.1875 \nz\n\" id=\"DejaVuSans-109\"/>\n       <path d=\"M 56.203125 29.59375 \nL 56.203125 25.203125 \nL 14.890625 25.203125 \nQ 15.484375 15.921875 20.484375 11.0625 \nQ 25.484375 6.203125 34.421875 6.203125 \nQ 39.59375 6.203125 44.453125 7.46875 \nQ 49.3125 8.734375 54.109375 11.28125 \nL 54.109375 2.78125 \nQ 49.265625 0.734375 44.1875 -0.34375 \nQ 39.109375 -1.421875 33.890625 -1.421875 \nQ 20.796875 -1.421875 13.15625 6.1875 \nQ 5.515625 13.8125 5.515625 26.8125 \nQ 5.515625 40.234375 12.765625 48.109375 \nQ 20.015625 56 32.328125 56 \nQ 43.359375 56 49.78125 48.890625 \nQ 56.203125 41.796875 56.203125 29.59375 \nz\nM 47.21875 32.234375 \nQ 47.125 39.59375 43.09375 43.984375 \nQ 39.0625 48.390625 32.421875 48.390625 \nQ 24.90625 48.390625 20.390625 44.140625 \nQ 15.875 39.890625 15.1875 32.171875 \nz\n\" id=\"DejaVuSans-101\"/>\n       <path d=\"M 41.109375 46.296875 \nQ 39.59375 47.171875 37.8125 47.578125 \nQ 36.03125 48 33.890625 48 \nQ 26.265625 48 22.1875 43.046875 \nQ 18.109375 38.09375 18.109375 28.8125 \nL 18.109375 0 \nL 9.078125 0 \nL 9.078125 54.6875 \nL 18.109375 54.6875 \nL 18.109375 46.1875 \nQ 20.953125 51.171875 25.484375 53.578125 \nQ 30.03125 56 36.53125 56 \nQ 37.453125 56 38.578125 55.875 \nQ 39.703125 55.765625 41.0625 55.515625 \nz\n\" id=\"DejaVuSans-114\"/>\n       <path d=\"M 30.609375 48.390625 \nQ 23.390625 48.390625 19.1875 42.75 \nQ 14.984375 37.109375 14.984375 27.296875 \nQ 14.984375 17.484375 19.15625 11.84375 \nQ 23.34375 6.203125 30.609375 6.203125 \nQ 37.796875 6.203125 41.984375 11.859375 \nQ 46.1875 17.53125 46.1875 27.296875 \nQ 46.1875 37.015625 41.984375 42.703125 \nQ 37.796875 48.390625 30.609375 48.390625 \nz\nM 30.609375 56 \nQ 42.328125 56 49.015625 48.375 \nQ 55.71875 40.765625 55.71875 27.296875 \nQ 55.71875 13.875 49.015625 6.21875 \nQ 42.328125 -1.421875 30.609375 -1.421875 \nQ 18.84375 -1.421875 12.171875 6.21875 \nQ 5.515625 13.875 5.515625 27.296875 \nQ 5.515625 40.765625 12.171875 48.375 \nQ 18.84375 56 30.609375 56 \nz\n\" id=\"DejaVuSans-111\"/>\n       <path id=\"DejaVuSans-32\"/>\n       <path d=\"M 45.40625 46.390625 \nL 45.40625 75.984375 \nL 54.390625 75.984375 \nL 54.390625 0 \nL 45.40625 0 \nL 45.40625 8.203125 \nQ 42.578125 3.328125 38.25 0.953125 \nQ 33.9375 -1.421875 27.875 -1.421875 \nQ 17.96875 -1.421875 11.734375 6.484375 \nQ 5.515625 14.40625 5.515625 27.296875 \nQ 5.515625 40.1875 11.734375 48.09375 \nQ 17.96875 56 27.875 56 \nQ 33.9375 56 38.25 53.625 \nQ 42.578125 51.265625 45.40625 46.390625 \nz\nM 14.796875 27.296875 \nQ 14.796875 17.390625 18.875 11.75 \nQ 22.953125 6.109375 30.078125 6.109375 \nQ 37.203125 6.109375 41.296875 11.75 \nQ 45.40625 17.390625 45.40625 27.296875 \nQ 45.40625 37.203125 41.296875 42.84375 \nQ 37.203125 48.484375 30.078125 48.484375 \nQ 22.953125 48.484375 18.875 42.84375 \nQ 14.796875 37.203125 14.796875 27.296875 \nz\n\" id=\"DejaVuSans-100\"/>\n       <path d=\"M 9.8125 72.90625 \nL 19.671875 72.90625 \nL 19.671875 0 \nL 9.8125 0 \nz\n\" id=\"DejaVuSans-73\"/>\n       <path d=\"M 18.3125 70.21875 \nL 18.3125 54.6875 \nL 36.8125 54.6875 \nL 36.8125 47.703125 \nL 18.3125 47.703125 \nL 18.3125 18.015625 \nQ 18.3125 11.328125 20.140625 9.421875 \nQ 21.96875 7.515625 27.59375 7.515625 \nL 36.8125 7.515625 \nL 36.8125 0 \nL 27.59375 0 \nQ 17.1875 0 13.234375 3.875 \nQ 9.28125 7.765625 9.28125 18.015625 \nL 9.28125 47.703125 \nL 2.6875 47.703125 \nL 2.6875 54.6875 \nL 9.28125 54.6875 \nL 9.28125 70.21875 \nz\n\" id=\"DejaVuSans-116\"/>\n       <path d=\"M 34.28125 27.484375 \nQ 23.390625 27.484375 19.1875 25 \nQ 14.984375 22.515625 14.984375 16.5 \nQ 14.984375 11.71875 18.140625 8.90625 \nQ 21.296875 6.109375 26.703125 6.109375 \nQ 34.1875 6.109375 38.703125 11.40625 \nQ 43.21875 16.703125 43.21875 25.484375 \nL 43.21875 27.484375 \nz\nM 52.203125 31.203125 \nL 52.203125 0 \nL 43.21875 0 \nL 43.21875 8.296875 \nQ 40.140625 3.328125 35.546875 0.953125 \nQ 30.953125 -1.421875 24.3125 -1.421875 \nQ 15.921875 -1.421875 10.953125 3.296875 \nQ 6 8.015625 6 15.921875 \nQ 6 25.140625 12.171875 29.828125 \nQ 18.359375 34.515625 30.609375 34.515625 \nL 43.21875 34.515625 \nL 43.21875 35.40625 \nQ 43.21875 41.609375 39.140625 45 \nQ 35.0625 48.390625 27.6875 48.390625 \nQ 23 48.390625 18.546875 47.265625 \nQ 14.109375 46.140625 10.015625 43.890625 \nL 10.015625 52.203125 \nQ 14.9375 54.109375 19.578125 55.046875 \nQ 24.21875 56 28.609375 56 \nQ 40.484375 56 46.34375 49.84375 \nQ 52.203125 43.703125 52.203125 31.203125 \nz\n\" id=\"DejaVuSans-97\"/>\n       <path d=\"M 48.78125 52.59375 \nL 48.78125 44.1875 \nQ 44.96875 46.296875 41.140625 47.34375 \nQ 37.3125 48.390625 33.40625 48.390625 \nQ 24.65625 48.390625 19.8125 42.84375 \nQ 14.984375 37.3125 14.984375 27.296875 \nQ 14.984375 17.28125 19.8125 11.734375 \nQ 24.65625 6.203125 33.40625 6.203125 \nQ 37.3125 6.203125 41.140625 7.25 \nQ 44.96875 8.296875 48.78125 10.40625 \nL 48.78125 2.09375 \nQ 45.015625 0.34375 40.984375 -0.53125 \nQ 36.96875 -1.421875 32.421875 -1.421875 \nQ 20.0625 -1.421875 12.78125 6.34375 \nQ 5.515625 14.109375 5.515625 27.296875 \nQ 5.515625 40.671875 12.859375 48.328125 \nQ 20.21875 56 33.015625 56 \nQ 37.15625 56 41.109375 55.140625 \nQ 45.0625 54.296875 48.78125 52.59375 \nz\nM 36.109375 0 \nQ 38.78125 -3.03125 40.09375 -5.59375 \nQ 41.421875 -8.15625 41.421875 -10.5 \nQ 41.421875 -14.84375 38.484375 -17.0625 \nQ 35.5625 -19.28125 29.796875 -19.28125 \nQ 27.5625 -19.28125 25.4375 -18.984375 \nQ 23.3125 -18.703125 21.203125 -18.109375 \nL 21.203125 -11.71875 \nQ 22.875 -12.546875 24.671875 -12.90625 \nQ 26.484375 -13.28125 28.78125 -13.28125 \nQ 31.65625 -13.28125 33.125 -12.109375 \nQ 34.59375 -10.9375 34.59375 -8.6875 \nQ 34.59375 -7.234375 33.53125 -5.109375 \nQ 32.484375 -2.984375 30.296875 0 \nz\n\" id=\"DejaVuSans-231\"/>\n       <path d=\"M 30.609375 48.390625 \nQ 23.390625 48.390625 19.1875 42.75 \nQ 14.984375 37.109375 14.984375 27.296875 \nQ 14.984375 17.484375 19.15625 11.84375 \nQ 23.34375 6.203125 30.609375 6.203125 \nQ 37.796875 6.203125 41.984375 11.859375 \nQ 46.1875 17.53125 46.1875 27.296875 \nQ 46.1875 37.015625 41.984375 42.703125 \nQ 37.796875 48.390625 30.609375 48.390625 \nz\nM 30.609375 56 \nQ 42.328125 56 49.015625 48.375 \nQ 55.71875 40.765625 55.71875 27.296875 \nQ 55.71875 13.875 49.015625 6.21875 \nQ 42.328125 -1.421875 30.609375 -1.421875 \nQ 18.84375 -1.421875 12.171875 6.21875 \nQ 5.515625 13.875 5.515625 27.296875 \nQ 5.515625 40.765625 12.171875 48.375 \nQ 18.84375 56 30.609375 56 \nz\nM 30.4375 66.890625 \nL 27.640625 69.578125 \nQ 26.578125 70.5625 25.765625 71.015625 \nQ 24.96875 71.484375 24.328125 71.484375 \nQ 22.46875 71.484375 21.59375 69.703125 \nQ 20.71875 67.921875 20.609375 63.921875 \nL 14.515625 63.921875 \nQ 14.609375 70.515625 17.09375 74.09375 \nQ 19.59375 77.6875 24.03125 77.6875 \nQ 25.890625 77.6875 27.453125 77 \nQ 29.015625 76.3125 30.828125 74.703125 \nL 33.609375 72.015625 \nQ 34.671875 71.046875 35.484375 70.578125 \nQ 36.296875 70.125 36.921875 70.125 \nQ 38.78125 70.125 39.65625 71.90625 \nQ 40.53125 73.6875 40.640625 77.6875 \nL 46.734375 77.6875 \nQ 46.640625 71.09375 44.140625 67.5 \nQ 41.65625 63.921875 37.21875 63.921875 \nQ 35.359375 63.921875 33.796875 64.59375 \nQ 32.234375 65.28125 30.4375 66.890625 \nz\n\" id=\"DejaVuSans-245\"/>\n       <path d=\"M 44.28125 53.078125 \nL 44.28125 44.578125 \nQ 40.484375 46.53125 36.375 47.5 \nQ 32.28125 48.484375 27.875 48.484375 \nQ 21.1875 48.484375 17.84375 46.4375 \nQ 14.5 44.390625 14.5 40.28125 \nQ 14.5 37.15625 16.890625 35.375 \nQ 19.28125 33.59375 26.515625 31.984375 \nL 29.59375 31.296875 \nQ 39.15625 29.25 43.1875 25.515625 \nQ 47.21875 21.78125 47.21875 15.09375 \nQ 47.21875 7.46875 41.1875 3.015625 \nQ 35.15625 -1.421875 24.609375 -1.421875 \nQ 20.21875 -1.421875 15.453125 -0.5625 \nQ 10.6875 0.296875 5.421875 2 \nL 5.421875 11.28125 \nQ 10.40625 8.6875 15.234375 7.390625 \nQ 20.0625 6.109375 24.8125 6.109375 \nQ 31.15625 6.109375 34.5625 8.28125 \nQ 37.984375 10.453125 37.984375 14.40625 \nQ 37.984375 18.0625 35.515625 20.015625 \nQ 33.0625 21.96875 24.703125 23.78125 \nL 21.578125 24.515625 \nQ 13.234375 26.265625 9.515625 29.90625 \nQ 5.8125 33.546875 5.8125 39.890625 \nQ 5.8125 47.609375 11.28125 51.796875 \nQ 16.75 56 26.8125 56 \nQ 31.78125 56 36.171875 55.265625 \nQ 40.578125 54.546875 44.28125 53.078125 \nz\n\" id=\"DejaVuSans-115\"/>\n      </defs>\n      <use xlink:href=\"#DejaVuSans-78\"/>\n      <use x=\"74.804688\" xlink:href=\"#DejaVuSans-250\"/>\n      <use x=\"138.183594\" xlink:href=\"#DejaVuSans-109\"/>\n      <use x=\"235.595703\" xlink:href=\"#DejaVuSans-101\"/>\n      <use x=\"297.119141\" xlink:href=\"#DejaVuSans-114\"/>\n      <use x=\"335.982422\" xlink:href=\"#DejaVuSans-111\"/>\n      <use x=\"397.164062\" xlink:href=\"#DejaVuSans-32\"/>\n      <use x=\"428.951172\" xlink:href=\"#DejaVuSans-100\"/>\n      <use x=\"492.427734\" xlink:href=\"#DejaVuSans-101\"/>\n      <use x=\"553.951172\" xlink:href=\"#DejaVuSans-32\"/>\n      <use x=\"585.738281\" xlink:href=\"#DejaVuSans-73\"/>\n      <use x=\"615.230469\" xlink:href=\"#DejaVuSans-116\"/>\n      <use x=\"654.439453\" xlink:href=\"#DejaVuSans-101\"/>\n      <use x=\"715.962891\" xlink:href=\"#DejaVuSans-114\"/>\n      <use x=\"757.076172\" xlink:href=\"#DejaVuSans-97\"/>\n      <use x=\"818.355469\" xlink:href=\"#DejaVuSans-231\"/>\n      <use x=\"873.335938\" xlink:href=\"#DejaVuSans-245\"/>\n      <use x=\"934.517578\" xlink:href=\"#DejaVuSans-101\"/>\n      <use x=\"996.041016\" xlink:href=\"#DejaVuSans-115\"/>\n     </g>\n    </g>\n   </g>\n   <g id=\"matplotlib.axis_2\">\n    <g id=\"ytick_1\">\n     <g id=\"line2d_7\">\n      <defs>\n       <path d=\"M 0 0 \nL -3.5 0 \n\" id=\"md9dd42afd5\" style=\"stroke:#000000;stroke-width:0.8;\"/>\n      </defs>\n      <g>\n       <use style=\"stroke:#000000;stroke-width:0.8;\" x=\"43.78125\" xlink:href=\"#md9dd42afd5\" y=\"319.569571\"/>\n      </g>\n     </g>\n     <g id=\"text_8\">\n      <!-- 0.4 -->\n      <g transform=\"translate(20.878125 323.36879)scale(0.1 -0.1)\">\n       <defs>\n        <path d=\"M 10.6875 12.40625 \nL 21 12.40625 \nL 21 0 \nL 10.6875 0 \nz\n\" id=\"DejaVuSans-46\"/>\n       </defs>\n       <use xlink:href=\"#DejaVuSans-48\"/>\n       <use x=\"63.623047\" xlink:href=\"#DejaVuSans-46\"/>\n       <use x=\"95.410156\" xlink:href=\"#DejaVuSans-52\"/>\n      </g>\n     </g>\n    </g>\n    <g id=\"ytick_2\">\n     <g id=\"line2d_8\">\n      <g>\n       <use style=\"stroke:#000000;stroke-width:0.8;\" x=\"43.78125\" xlink:href=\"#md9dd42afd5\" y=\"277.336219\"/>\n      </g>\n     </g>\n     <g id=\"text_9\">\n      <!-- 0.6 -->\n      <g transform=\"translate(20.878125 281.135438)scale(0.1 -0.1)\">\n       <use xlink:href=\"#DejaVuSans-48\"/>\n       <use x=\"63.623047\" xlink:href=\"#DejaVuSans-46\"/>\n       <use x=\"95.410156\" xlink:href=\"#DejaVuSans-54\"/>\n      </g>\n     </g>\n    </g>\n    <g id=\"ytick_3\">\n     <g id=\"line2d_9\">\n      <g>\n       <use style=\"stroke:#000000;stroke-width:0.8;\" x=\"43.78125\" xlink:href=\"#md9dd42afd5\" y=\"235.102867\"/>\n      </g>\n     </g>\n     <g id=\"text_10\">\n      <!-- 0.8 -->\n      <g transform=\"translate(20.878125 238.902086)scale(0.1 -0.1)\">\n       <use xlink:href=\"#DejaVuSans-48\"/>\n       <use x=\"63.623047\" xlink:href=\"#DejaVuSans-46\"/>\n       <use x=\"95.410156\" xlink:href=\"#DejaVuSans-56\"/>\n      </g>\n     </g>\n    </g>\n    <g id=\"ytick_4\">\n     <g id=\"line2d_10\">\n      <g>\n       <use style=\"stroke:#000000;stroke-width:0.8;\" x=\"43.78125\" xlink:href=\"#md9dd42afd5\" y=\"192.869515\"/>\n      </g>\n     </g>\n     <g id=\"text_11\">\n      <!-- 1.0 -->\n      <g transform=\"translate(20.878125 196.668734)scale(0.1 -0.1)\">\n       <use xlink:href=\"#DejaVuSans-49\"/>\n       <use x=\"63.623047\" xlink:href=\"#DejaVuSans-46\"/>\n       <use x=\"95.410156\" xlink:href=\"#DejaVuSans-48\"/>\n      </g>\n     </g>\n    </g>\n    <g id=\"ytick_5\">\n     <g id=\"line2d_11\">\n      <g>\n       <use style=\"stroke:#000000;stroke-width:0.8;\" x=\"43.78125\" xlink:href=\"#md9dd42afd5\" y=\"150.636163\"/>\n      </g>\n     </g>\n     <g id=\"text_12\">\n      <!-- 1.2 -->\n      <g transform=\"translate(20.878125 154.435382)scale(0.1 -0.1)\">\n       <use xlink:href=\"#DejaVuSans-49\"/>\n       <use x=\"63.623047\" xlink:href=\"#DejaVuSans-46\"/>\n       <use x=\"95.410156\" xlink:href=\"#DejaVuSans-50\"/>\n      </g>\n     </g>\n    </g>\n    <g id=\"ytick_6\">\n     <g id=\"line2d_12\">\n      <g>\n       <use style=\"stroke:#000000;stroke-width:0.8;\" x=\"43.78125\" xlink:href=\"#md9dd42afd5\" y=\"108.402811\"/>\n      </g>\n     </g>\n     <g id=\"text_13\">\n      <!-- 1.4 -->\n      <g transform=\"translate(20.878125 112.20203)scale(0.1 -0.1)\">\n       <use xlink:href=\"#DejaVuSans-49\"/>\n       <use x=\"63.623047\" xlink:href=\"#DejaVuSans-46\"/>\n       <use x=\"95.410156\" xlink:href=\"#DejaVuSans-52\"/>\n      </g>\n     </g>\n    </g>\n    <g id=\"ytick_7\">\n     <g id=\"line2d_13\">\n      <g>\n       <use style=\"stroke:#000000;stroke-width:0.8;\" x=\"43.78125\" xlink:href=\"#md9dd42afd5\" y=\"66.169459\"/>\n      </g>\n     </g>\n     <g id=\"text_14\">\n      <!-- 1.6 -->\n      <g transform=\"translate(20.878125 69.968678)scale(0.1 -0.1)\">\n       <use xlink:href=\"#DejaVuSans-49\"/>\n       <use x=\"63.623047\" xlink:href=\"#DejaVuSans-46\"/>\n       <use x=\"95.410156\" xlink:href=\"#DejaVuSans-54\"/>\n      </g>\n     </g>\n    </g>\n    <g id=\"ytick_8\">\n     <g id=\"line2d_14\">\n      <g>\n       <use style=\"stroke:#000000;stroke-width:0.8;\" x=\"43.78125\" xlink:href=\"#md9dd42afd5\" y=\"23.936107\"/>\n      </g>\n     </g>\n     <g id=\"text_15\">\n      <!-- 1.8 -->\n      <g transform=\"translate(20.878125 27.735326)scale(0.1 -0.1)\">\n       <use xlink:href=\"#DejaVuSans-49\"/>\n       <use x=\"63.623047\" xlink:href=\"#DejaVuSans-46\"/>\n       <use x=\"95.410156\" xlink:href=\"#DejaVuSans-56\"/>\n      </g>\n     </g>\n    </g>\n    <g id=\"text_16\">\n     <!-- Loss -->\n     <g transform=\"translate(14.798437 196.845312)rotate(-90)scale(0.1 -0.1)\">\n      <defs>\n       <path d=\"M 9.8125 72.90625 \nL 19.671875 72.90625 \nL 19.671875 8.296875 \nL 55.171875 8.296875 \nL 55.171875 0 \nL 9.8125 0 \nz\n\" id=\"DejaVuSans-76\"/>\n      </defs>\n      <use xlink:href=\"#DejaVuSans-76\"/>\n      <use x=\"53.962891\" xlink:href=\"#DejaVuSans-111\"/>\n      <use x=\"115.144531\" xlink:href=\"#DejaVuSans-115\"/>\n      <use x=\"167.244141\" xlink:href=\"#DejaVuSans-115\"/>\n     </g>\n    </g>\n   </g>\n   <g id=\"line2d_15\">\n    <path clip-path=\"url(#pee4f3de5db)\" d=\"M 107.190341 37.62358 \nL 113.563114 112.226047 \nL 119.935887 172.398925 \nL 126.30866 173.023947 \nL 132.681433 183.854722 \nL 139.054206 191.477295 \nL 145.426979 184.568605 \nL 151.799752 225.103391 \nL 158.172525 222.684589 \nL 164.545298 231.537645 \nL 170.91807 240.193092 \nL 177.290843 251.817939 \nL 183.663616 244.952055 \nL 190.036389 236.488452 \nL 196.409162 231.003083 \nL 202.781935 263.196543 \nL 209.154708 231.636801 \nL 215.527481 255.941182 \nL 221.900254 264.353534 \nL 228.273027 257.411363 \nL 234.6458 254.620869 \nL 241.018573 250.356556 \nL 247.391346 257.158072 \nL 253.764119 258.829071 \nL 260.136892 269.117116 \nL 266.509665 277.721349 \nL 272.882438 268.912308 \nL 279.255211 264.061615 \nL 285.627984 259.843381 \nL 292.000757 248.64192 \nL 298.37353 262.324247 \nL 304.746303 280.071831 \nL 311.119075 272.98849 \nL 317.491848 291.618994 \nL 323.864621 279.298654 \nL 330.237394 283.499531 \nL 336.610167 253.252777 \nL 342.98294 273.78888 \nL 349.355713 283.2369 \nL 355.728486 267.050686 \nL 362.101259 264.248612 \nL 368.474032 284.349385 \nL 374.846805 259.098951 \nL 381.219578 250.46227 \nL 387.592351 268.210496 \nL 393.965124 279.740831 \nL 400.337897 264.852791 \nL 406.71067 272.823469 \nL 413.083443 234.818384 \nL 419.456216 276.54354 \nL 425.828989 292.754877 \nL 432.201762 253.133772 \nL 438.574535 300.008595 \nL 444.947308 272.868025 \nL 451.320081 274.458206 \nL 457.692853 302.293326 \nL 464.065626 271.684137 \nL 470.438399 278.959498 \nL 476.811172 304.999975 \nL 483.183945 279.413858 \nL 489.556718 268.351 \nL 495.929491 285.609409 \nL 502.302264 289.179689 \nL 508.675037 313.618059 \nL 515.04781 276.206964 \nL 521.420583 301.130954 \nL 527.793356 268.434323 \nL 534.166129 275.57142 \nL 540.538902 278.988547 \nL 546.911675 277.779398 \nL 553.284448 283.611828 \nL 559.657221 307.238406 \nL 566.029994 250.086386 \nL 572.402767 290.780392 \nL 578.77554 264.974704 \nL 585.148313 280.603649 \nL 591.521086 295.096586 \nL 597.893858 290.478567 \nL 604.266631 296.20673 \nL 610.639404 260.56849 \nL 617.012177 259.01695 \nL 623.38495 261.99088 \nL 629.757723 290.174288 \nL 636.130496 282.179947 \nL 642.503269 298.383858 \nL 648.876042 295.39028 \nL 655.248815 298.790579 \nL 661.621588 298.26338 \nL 667.994361 298.156697 \nL 674.367134 296.150431 \nL 680.739907 306.850697 \nL 687.11268 291.571404 \nL 693.485453 310.234576 \nL 699.858226 291.730573 \nL 706.230999 294.80721 \nL 712.603772 293.547148 \nL 718.976545 258.602413 \nL 725.349318 286.393562 \nL 731.722091 327.029997 \nL 738.094864 286.140648 \nL 744.467636 297.274986 \nL 750.840409 277.35167 \nL 757.213182 271.755314 \nL 763.585955 333.381746 \nL 769.958728 318.792069 \nL 776.331501 330.920339 \nL 782.704274 293.305235 \nL 789.077047 294.470319 \nL 795.44982 275.496707 \nL 801.822593 286.614002 \nL 808.195366 271.039871 \nL 814.568139 274.933435 \nL 820.940912 313.88259 \nL 827.313685 271.889939 \nL 833.686458 266.352764 \nL 840.059231 312.573649 \nL 846.432004 264.901047 \nL 852.804777 308.936679 \nL 859.17755 326.504384 \nL 865.550323 282.4131 \nL 871.923096 299.164461 \nL 878.295869 310.364526 \nL 884.668642 288.708273 \nL 891.041414 312.193039 \nL 897.414187 313.896014 \nL 903.78696 259.891524 \nL 910.159733 223.880535 \nL 916.532506 327.390405 \nL 922.905279 306.993742 \nL 929.278052 304.132959 \nL 935.650825 296.529423 \nL 942.023598 310.636495 \nL 948.396371 286.578672 \nL 954.769144 312.980061 \nL 961.141917 314.21855 \nL 967.51469 234.156711 \nL 973.887463 322.218787 \nL 980.260236 270.246819 \nL 986.633009 257.036826 \nL 993.005782 308.848354 \nL 999.378555 302.615131 \nL 1005.751328 272.430429 \nL 1012.124101 305.999571 \nL 1018.496874 312.272088 \nL 1024.869647 305.825814 \nL 1031.242419 315.742777 \nL 1037.615192 295.459191 \nL 1043.987965 308.825377 \nL 1050.360738 292.593279 \nL 1056.733511 288.52417 \nL 1063.106284 315.64082 \nL 1069.479057 286.199453 \nL 1075.85183 288.182232 \nL 1082.224603 287.302485 \nL 1088.597376 285.319277 \nL 1094.970149 312.709092 \nL 1101.342922 291.756011 \nL 1107.715695 314.649927 \nL 1114.088468 292.829729 \nL 1120.461241 291.196263 \nL 1126.834014 320.749216 \nL 1133.206787 255.883712 \nL 1139.57956 243.716235 \nL 1145.952333 313.754824 \nL 1152.325106 309.409662 \nL 1158.697879 317.463115 \nL 1165.070652 290.986622 \nL 1171.443425 287.524738 \nL 1177.816197 285.699667 \nL 1184.18897 289.510123 \nL 1190.561743 257.754384 \nL 1196.934516 278.192765 \nL 1203.307289 294.3075 \nL 1209.680062 282.175051 \nL 1216.052835 289.134239 \nL 1222.425608 324.012857 \nL 1228.798381 334.13267 \nL 1235.171154 296.868731 \nL 1241.543927 330.350006 \nL 1247.9167 297.682562 \nL 1254.289473 303.993443 \nL 1260.662246 322.003557 \nL 1267.035019 297.334306 \nL 1273.407792 301.822464 \nL 1279.780565 309.2134 \nL 1286.153338 315.692349 \nL 1292.526111 251.419513 \nL 1298.898884 314.987957 \nL 1305.271657 302.501695 \nL 1311.64443 276.714415 \nL 1318.017202 300.855435 \nL 1324.389975 298.465186 \nL 1330.762748 311.679735 \nL 1337.135521 291.222456 \nL 1343.508294 313.896895 \nL 1349.881067 267.373493 \nL 1356.25384 306.821647 \nL 1362.626613 258.763105 \nL 1368.999386 303.906842 \nL 1375.372159 297.779139 \nL 1375.372159 297.779139 \n\" style=\"fill:none;stroke:#1f77b4;stroke-linecap:square;stroke-width:1.5;\"/>\n   </g>\n   <g id=\"patch_3\">\n    <path d=\"M 43.78125 348.958125 \nL 43.78125 22.798125 \n\" style=\"fill:none;stroke:#000000;stroke-linecap:square;stroke-linejoin:miter;stroke-width:0.8;\"/>\n   </g>\n   <g id=\"patch_4\">\n    <path d=\"M 1438.78125 348.958125 \nL 1438.78125 22.798125 \n\" style=\"fill:none;stroke:#000000;stroke-linecap:square;stroke-linejoin:miter;stroke-width:0.8;\"/>\n   </g>\n   <g id=\"patch_5\">\n    <path d=\"M 43.78125 348.958125 \nL 1438.78125 348.958125 \n\" style=\"fill:none;stroke:#000000;stroke-linecap:square;stroke-linejoin:miter;stroke-width:0.8;\"/>\n   </g>\n   <g id=\"patch_6\">\n    <path d=\"M 43.78125 22.798125 \nL 1438.78125 22.798125 \n\" style=\"fill:none;stroke:#000000;stroke-linecap:square;stroke-linejoin:miter;stroke-width:0.8;\"/>\n   </g>\n   <g id=\"text_17\">\n    <!-- Regressão Logística: Loss vs Número de Iterações -->\n    <g transform=\"translate(591.375937 16.798125)scale(0.12 -0.12)\">\n     <defs>\n      <path d=\"M 44.390625 34.1875 \nQ 47.5625 33.109375 50.5625 29.59375 \nQ 53.5625 26.078125 56.59375 19.921875 \nL 66.609375 0 \nL 56 0 \nL 46.6875 18.703125 \nQ 43.0625 26.03125 39.671875 28.421875 \nQ 36.28125 30.8125 30.421875 30.8125 \nL 19.671875 30.8125 \nL 19.671875 0 \nL 9.8125 0 \nL 9.8125 72.90625 \nL 32.078125 72.90625 \nQ 44.578125 72.90625 50.734375 67.671875 \nQ 56.890625 62.453125 56.890625 51.90625 \nQ 56.890625 45.015625 53.6875 40.46875 \nQ 50.484375 35.9375 44.390625 34.1875 \nz\nM 19.671875 64.796875 \nL 19.671875 38.921875 \nL 32.078125 38.921875 \nQ 39.203125 38.921875 42.84375 42.21875 \nQ 46.484375 45.515625 46.484375 51.90625 \nQ 46.484375 58.296875 42.84375 61.546875 \nQ 39.203125 64.796875 32.078125 64.796875 \nz\n\" id=\"DejaVuSans-82\"/>\n      <path d=\"M 45.40625 27.984375 \nQ 45.40625 37.75 41.375 43.109375 \nQ 37.359375 48.484375 30.078125 48.484375 \nQ 22.859375 48.484375 18.828125 43.109375 \nQ 14.796875 37.75 14.796875 27.984375 \nQ 14.796875 18.265625 18.828125 12.890625 \nQ 22.859375 7.515625 30.078125 7.515625 \nQ 37.359375 7.515625 41.375 12.890625 \nQ 45.40625 18.265625 45.40625 27.984375 \nz\nM 54.390625 6.78125 \nQ 54.390625 -7.171875 48.1875 -13.984375 \nQ 42 -20.796875 29.203125 -20.796875 \nQ 24.46875 -20.796875 20.265625 -20.09375 \nQ 16.0625 -19.390625 12.109375 -17.921875 \nL 12.109375 -9.1875 \nQ 16.0625 -11.328125 19.921875 -12.34375 \nQ 23.78125 -13.375 27.78125 -13.375 \nQ 36.625 -13.375 41.015625 -8.765625 \nQ 45.40625 -4.15625 45.40625 5.171875 \nL 45.40625 9.625 \nQ 42.625 4.78125 38.28125 2.390625 \nQ 33.9375 0 27.875 0 \nQ 17.828125 0 11.671875 7.65625 \nQ 5.515625 15.328125 5.515625 27.984375 \nQ 5.515625 40.671875 11.671875 48.328125 \nQ 17.828125 56 27.875 56 \nQ 33.9375 56 38.28125 53.609375 \nQ 42.625 51.21875 45.40625 46.390625 \nL 45.40625 54.6875 \nL 54.390625 54.6875 \nz\n\" id=\"DejaVuSans-103\"/>\n      <path d=\"M 34.28125 27.484375 \nQ 23.390625 27.484375 19.1875 25 \nQ 14.984375 22.515625 14.984375 16.5 \nQ 14.984375 11.71875 18.140625 8.90625 \nQ 21.296875 6.109375 26.703125 6.109375 \nQ 34.1875 6.109375 38.703125 11.40625 \nQ 43.21875 16.703125 43.21875 25.484375 \nL 43.21875 27.484375 \nz\nM 52.203125 31.203125 \nL 52.203125 0 \nL 43.21875 0 \nL 43.21875 8.296875 \nQ 40.140625 3.328125 35.546875 0.953125 \nQ 30.953125 -1.421875 24.3125 -1.421875 \nQ 15.921875 -1.421875 10.953125 3.296875 \nQ 6 8.015625 6 15.921875 \nQ 6 25.140625 12.171875 29.828125 \nQ 18.359375 34.515625 30.609375 34.515625 \nL 43.21875 34.515625 \nL 43.21875 35.40625 \nQ 43.21875 41.609375 39.140625 45 \nQ 35.0625 48.390625 27.6875 48.390625 \nQ 23 48.390625 18.546875 47.265625 \nQ 14.109375 46.140625 10.015625 43.890625 \nL 10.015625 52.203125 \nQ 14.9375 54.109375 19.578125 55.046875 \nQ 24.21875 56 28.609375 56 \nQ 40.484375 56 46.34375 49.84375 \nQ 52.203125 43.703125 52.203125 31.203125 \nz\nM 28.8125 66.890625 \nL 26.015625 69.578125 \nQ 24.953125 70.5625 24.140625 71.015625 \nQ 23.34375 71.484375 22.703125 71.484375 \nQ 20.84375 71.484375 19.96875 69.703125 \nQ 19.09375 67.921875 18.984375 63.921875 \nL 12.890625 63.921875 \nQ 12.984375 70.515625 15.46875 74.09375 \nQ 17.96875 77.6875 22.40625 77.6875 \nQ 24.265625 77.6875 25.828125 77 \nQ 27.390625 76.3125 29.203125 74.703125 \nL 31.984375 72.015625 \nQ 33.046875 71.046875 33.859375 70.578125 \nQ 34.671875 70.125 35.296875 70.125 \nQ 37.15625 70.125 38.03125 71.90625 \nQ 38.90625 73.6875 39.015625 77.6875 \nL 45.109375 77.6875 \nQ 45.015625 71.09375 42.515625 67.5 \nQ 40.03125 63.921875 35.59375 63.921875 \nQ 33.734375 63.921875 32.171875 64.59375 \nQ 30.609375 65.28125 28.8125 66.890625 \nz\n\" id=\"DejaVuSans-227\"/>\n      <path d=\"M 20.65625 79.984375 \nL 30.375 79.984375 \nL 14.46875 61.625 \nL 6.984375 61.625 \nz\nM 9.421875 54.6875 \nL 18.40625 54.6875 \nL 18.40625 0 \nL 9.421875 0 \nz\nM 13.921875 56 \nz\n\" id=\"DejaVuSans-237\"/>\n      <path d=\"M 9.421875 54.6875 \nL 18.40625 54.6875 \nL 18.40625 0 \nL 9.421875 0 \nz\nM 9.421875 75.984375 \nL 18.40625 75.984375 \nL 18.40625 64.59375 \nL 9.421875 64.59375 \nz\n\" id=\"DejaVuSans-105\"/>\n      <path d=\"M 48.78125 52.59375 \nL 48.78125 44.1875 \nQ 44.96875 46.296875 41.140625 47.34375 \nQ 37.3125 48.390625 33.40625 48.390625 \nQ 24.65625 48.390625 19.8125 42.84375 \nQ 14.984375 37.3125 14.984375 27.296875 \nQ 14.984375 17.28125 19.8125 11.734375 \nQ 24.65625 6.203125 33.40625 6.203125 \nQ 37.3125 6.203125 41.140625 7.25 \nQ 44.96875 8.296875 48.78125 10.40625 \nL 48.78125 2.09375 \nQ 45.015625 0.34375 40.984375 -0.53125 \nQ 36.96875 -1.421875 32.421875 -1.421875 \nQ 20.0625 -1.421875 12.78125 6.34375 \nQ 5.515625 14.109375 5.515625 27.296875 \nQ 5.515625 40.671875 12.859375 48.328125 \nQ 20.21875 56 33.015625 56 \nQ 37.15625 56 41.109375 55.140625 \nQ 45.0625 54.296875 48.78125 52.59375 \nz\n\" id=\"DejaVuSans-99\"/>\n      <path d=\"M 11.71875 12.40625 \nL 22.015625 12.40625 \nL 22.015625 0 \nL 11.71875 0 \nz\nM 11.71875 51.703125 \nL 22.015625 51.703125 \nL 22.015625 39.3125 \nL 11.71875 39.3125 \nz\n\" id=\"DejaVuSans-58\"/>\n      <path d=\"M 2.984375 54.6875 \nL 12.5 54.6875 \nL 29.59375 8.796875 \nL 46.6875 54.6875 \nL 56.203125 54.6875 \nL 35.6875 0 \nL 23.484375 0 \nz\n\" id=\"DejaVuSans-118\"/>\n     </defs>\n     <use xlink:href=\"#DejaVuSans-82\"/>\n     <use x=\"64.982422\" xlink:href=\"#DejaVuSans-101\"/>\n     <use x=\"126.505859\" xlink:href=\"#DejaVuSans-103\"/>\n     <use x=\"189.982422\" xlink:href=\"#DejaVuSans-114\"/>\n     <use x=\"228.845703\" xlink:href=\"#DejaVuSans-101\"/>\n     <use x=\"290.369141\" xlink:href=\"#DejaVuSans-115\"/>\n     <use x=\"342.46875\" xlink:href=\"#DejaVuSans-115\"/>\n     <use x=\"394.568359\" xlink:href=\"#DejaVuSans-227\"/>\n     <use x=\"455.847656\" xlink:href=\"#DejaVuSans-111\"/>\n     <use x=\"517.029297\" xlink:href=\"#DejaVuSans-32\"/>\n     <use x=\"548.816406\" xlink:href=\"#DejaVuSans-76\"/>\n     <use x=\"602.779297\" xlink:href=\"#DejaVuSans-111\"/>\n     <use x=\"663.960938\" xlink:href=\"#DejaVuSans-103\"/>\n     <use x=\"727.4375\" xlink:href=\"#DejaVuSans-237\"/>\n     <use x=\"755.220703\" xlink:href=\"#DejaVuSans-115\"/>\n     <use x=\"807.320312\" xlink:href=\"#DejaVuSans-116\"/>\n     <use x=\"846.529297\" xlink:href=\"#DejaVuSans-105\"/>\n     <use x=\"874.3125\" xlink:href=\"#DejaVuSans-99\"/>\n     <use x=\"929.292969\" xlink:href=\"#DejaVuSans-97\"/>\n     <use x=\"990.572266\" xlink:href=\"#DejaVuSans-58\"/>\n     <use x=\"1024.263672\" xlink:href=\"#DejaVuSans-32\"/>\n     <use x=\"1056.050781\" xlink:href=\"#DejaVuSans-76\"/>\n     <use x=\"1110.013672\" xlink:href=\"#DejaVuSans-111\"/>\n     <use x=\"1171.195312\" xlink:href=\"#DejaVuSans-115\"/>\n     <use x=\"1223.294922\" xlink:href=\"#DejaVuSans-115\"/>\n     <use x=\"1275.394531\" xlink:href=\"#DejaVuSans-32\"/>\n     <use x=\"1307.181641\" xlink:href=\"#DejaVuSans-118\"/>\n     <use x=\"1366.361328\" xlink:href=\"#DejaVuSans-115\"/>\n     <use x=\"1418.460938\" xlink:href=\"#DejaVuSans-32\"/>\n     <use x=\"1450.248047\" xlink:href=\"#DejaVuSans-78\"/>\n     <use x=\"1525.052734\" xlink:href=\"#DejaVuSans-250\"/>\n     <use x=\"1588.431641\" xlink:href=\"#DejaVuSans-109\"/>\n     <use x=\"1685.84375\" xlink:href=\"#DejaVuSans-101\"/>\n     <use x=\"1747.367188\" xlink:href=\"#DejaVuSans-114\"/>\n     <use x=\"1786.230469\" xlink:href=\"#DejaVuSans-111\"/>\n     <use x=\"1847.412109\" xlink:href=\"#DejaVuSans-32\"/>\n     <use x=\"1879.199219\" xlink:href=\"#DejaVuSans-100\"/>\n     <use x=\"1942.675781\" xlink:href=\"#DejaVuSans-101\"/>\n     <use x=\"2004.199219\" xlink:href=\"#DejaVuSans-32\"/>\n     <use x=\"2035.986328\" xlink:href=\"#DejaVuSans-73\"/>\n     <use x=\"2065.478516\" xlink:href=\"#DejaVuSans-116\"/>\n     <use x=\"2104.6875\" xlink:href=\"#DejaVuSans-101\"/>\n     <use x=\"2166.210938\" xlink:href=\"#DejaVuSans-114\"/>\n     <use x=\"2207.324219\" xlink:href=\"#DejaVuSans-97\"/>\n     <use x=\"2268.603516\" xlink:href=\"#DejaVuSans-231\"/>\n     <use x=\"2323.583984\" xlink:href=\"#DejaVuSans-245\"/>\n     <use x=\"2384.765625\" xlink:href=\"#DejaVuSans-101\"/>\n     <use x=\"2446.289062\" xlink:href=\"#DejaVuSans-115\"/>\n    </g>\n   </g>\n  </g>\n </g>\n <defs>\n  <clipPath id=\"pee4f3de5db\">\n   <rect height=\"326.16\" width=\"1395\" x=\"43.78125\" y=\"22.798125\"/>\n  </clipPath>\n </defs>\n</svg>\n",
      "image/png": "[encoded data removed]"
     },
     "metadata": {
      "needs_background": "light"
     }
    }
   ],
   "source": [
    "plt.figure(figsize=(25,6))\n",
    "plt.plot(lista_iteracao,lista_loss)\n",
    "plt.xlabel(\"Número de Iterações\")\n",
    "plt.ylabel(\"Loss\")\n",
    "plt.title(\"Regressão Logística: Loss vs Número de Iterações\")\n",
    "plt.show()"
   ]
  },
  {
   "source": [
    "### Fazendo para uma Rede Neural"
   ],
   "cell_type": "markdown",
   "metadata": {}
  },
  {
   "source": [
    "**Por que adicionar mais camadas?** Podemos pensar em cada camada como um nível de abstração, no nosso exemplo podemos pensar na camada de entrada como a a imagem, o primeiro *hidden layer* como algo que detecta bordas na imagem e o segundo *hidden layer* como  algo que detecta formas e padrões, e o nossa camada de saída, o estilo da roupa. Basicamente quando aumentamos o número de camadas aumentamos o número parâmetros no nosso modelo, assim podendo treinar funções mais complexas."
   ],
   "cell_type": "markdown",
   "metadata": {}
  },
  {
   "source": [
    "**A função de ativação retificadora linear** (*Rectified Linear Activation Function*) - ReL \n",
    "\n",
    "Para conseguirmos passar um sinal para a próxima camada, necessitamos de funções de ativação. Duas funções comuns são as [sigmoid](https://en.wikipedia.org/wiki/Sigmoid_function) e [tangente hiperbólica](https://mathworld.wolfram.com/HyperbolicTangent.html), ambas funções não lineares, uma propriedade que ajuda nosso modelo a compreender funções mais complexas. Porém, como elas são funções com limites bem estabelecidos, elas acabam \"saturando\" suas saídas, sendo sensíveis apenas para seus valores intermediários. A solução é utilizar a função de ativação retificadora linear (ReL) nos *hidden layers*. Dizemos que um nó (ou neurônio) com essa função de ativação é uma unidade de ativação retificadora linear (ReLU)\n",
    "\n",
    "$$\n",
    "f(x) = \\begin{cases}\n",
    "    x & \\text{if } x > 0, \\\\\n",
    "    0.01 x & \\text{caso contrário}.\n",
    "\\end{cases}\n",
    "$$"
   ],
   "cell_type": "markdown",
   "metadata": {}
  },
  {
   "cell_type": "code",
   "execution_count": 16,
   "metadata": {},
   "outputs": [],
   "source": [
    "class RedeNeural(nn.Module):\n",
    "    def __init__(self, input_dim, output_dim):\n",
    "        super(RedeNeural, self).__init__()\n",
    "\n",
    "        self.layers = nn.Sequential(        # Inicie a função nn.Sequential()\n",
    "            nn.Linear(input_dim, 128),      # Primeira camada com nn.Linear(input_dim, 32)\n",
    "            nn.ReLU(),                      # Colocar a unidade de ativação nn.ReLU()\n",
    "            nn.Linear(128, 128),            # Segunda camada com nn.Linear(32, 32)\n",
    "            nn.ReLU(),                      # Colcoar a unidade de ativação ReLU\n",
    "            nn.Linear(128, output_dim),     # Última camada nn.Linear(32, output_dim)\n",
    "            nn.LogSoftmax()                 # Última camada de ativação nn.LogSoftmax\n",
    "        )\n",
    "\n",
    "    def forward(self, x):\n",
    "        y = self.layers(x)                  # Faça a forward propagation como na regressão logística\n",
    "        return y\n",
    "\n",
    "# Defina as dimensões de entrada e saída\n",
    "input_dim = 28*28 \n",
    "output_dim = 10\n",
    "\n",
    "# Função de perda (loss)\n",
    "erro_nn = nn.NLLLoss()\n",
    "\n",
    "# Incialize o modelo\n",
    "modelo_nn = RedeNeural(input_dim, output_dim)\n",
    "\n",
    "# Otimizador SGD\n",
    "learning_rate = 0.02\n",
    "otimizador_nn = torch.optim.SGD(modelo_nn.parameters(), lr = learning_rate)"
   ]
  },
  {
   "cell_type": "code",
   "execution_count": 17,
   "metadata": {},
   "outputs": [
    {
     "output_type": "stream",
     "name": "stdout",
     "text": [
      "Iteração: 500 | Loss: 0.4400022029876709 | Acurácia: 80.62200164794922\n",
      "Iteração: 1000 | Loss: 0.4066691994667053 | Acurácia: 83.21800231933594\n",
      "Iteração: 1500 | Loss: 0.36874207854270935 | Acurácia: 84.66999816894531\n",
      "Iteração: 2000 | Loss: 0.48157715797424316 | Acurácia: 85.51599884033203\n",
      "Iteração: 2500 | Loss: 0.587895393371582 | Acurácia: 86.0\n",
      "Iteração: 3000 | Loss: 0.35555753111839294 | Acurácia: 86.98999786376953\n",
      "Iteração: 3500 | Loss: 0.3159072995185852 | Acurácia: 87.2040023803711\n",
      "Iteração: 4000 | Loss: 0.30229252576828003 | Acurácia: 87.34200286865234\n",
      "Iteração: 4500 | Loss: 0.20027433335781097 | Acurácia: 88.052001953125\n",
      "Iteração: 5000 | Loss: 0.302671879529953 | Acurácia: 88.21199798583984\n",
      "Iteração: 5500 | Loss: 0.3377569317817688 | Acurácia: 88.71800231933594\n",
      "Iteração: 6000 | Loss: 0.40556156635284424 | Acurácia: 88.85800170898438\n",
      "Iteração: 6500 | Loss: 0.2580622732639313 | Acurácia: 89.27999877929688\n",
      "Iteração: 7000 | Loss: 0.2454204559326172 | Acurácia: 89.41799926757812\n",
      "Iteração: 7500 | Loss: 0.2924942672252655 | Acurácia: 89.50800323486328\n",
      "Iteração: 8000 | Loss: 0.2326233834028244 | Acurácia: 89.89800262451172\n",
      "Iteração: 8500 | Loss: 0.225204735994339 | Acurácia: 90.63600158691406\n",
      "Iteração: 9000 | Loss: 0.2535856366157532 | Acurácia: 90.5479965209961\n",
      "Iteração: 9500 | Loss: 0.20808914303779602 | Acurácia: 89.75199890136719\n",
      "Iteração: 10000 | Loss: 0.18825586140155792 | Acurácia: 90.93599700927734\n"
     ]
    }
   ],
   "source": [
    "contagem = 0\n",
    "lista_loss = []\n",
    "lista_iteracao = []\n",
    "for epoch in range(n_epochs):\n",
    "    for imagens, classificacao in treino_loader:\n",
    "        \n",
    "        # Utilizando a função Variable() crie as seguintes variáveis:\n",
    "        treino = Variable(imagens.view(-1, 28*28)) # Crie uma variável com as imagens, porém, mude a forma do tensor\n",
    "                                                   # para ([100,28*28]) com o método .view()\n",
    "        \n",
    "        validacao = Variable(classificacao)     # Cire uma variável com a classificacao\n",
    "\n",
    "        # Limpamos os gradientes\n",
    "        otimizador_nn.zero_grad()\n",
    "\n",
    "        # Utilize o método .forward() do modelo utilizando a variável de treino\n",
    "        # para realizarmos a forward propagation\n",
    "        outputs = modelo_nn(treino) \n",
    "\n",
    "        # Utilize a função de perda erro() com nosso output e a variável de verificação\n",
    "        loss_nn = erro_nn(outputs, validacao)\n",
    "\n",
    "        # Realizamos a backward propagation\n",
    "        loss_nn.backward()\n",
    "\n",
    "        # Atualiza os parâmetros\n",
    "        otimizador_nn.step() \n",
    "\n",
    "        contagem += 1\n",
    "\n",
    "        # Predições\n",
    "        if contagem % 50 == 0:\n",
    "            # Calculamos a acurácia\n",
    "            corretos = 0\n",
    "            total = 0\n",
    "\n",
    "            for imagens, classificacao in treino_loader:\n",
    "                \n",
    "                # Crie uma variável com as imagens da mesma maneira como na variável de treino\n",
    "                teste = Variable(imagens.view(-1, 28*28))\n",
    "\n",
    "                # Forward propagation\n",
    "                outputs = modelo_nn(teste)\n",
    "                \n",
    "                # Recebe as predições do valor máximo\n",
    "                predito =  torch.max(outputs.data, 1)[1]\n",
    "\n",
    "                # Número total de classificações\n",
    "                total += len(classificacao)\n",
    "\n",
    "                # Número de predições corretas\n",
    "                corretos += (predito == classificacao).sum()\n",
    "\n",
    "            acuracia = 100 * corretos / float(total)\n",
    "\n",
    "            # Armazena a loss e iteração\n",
    "            lista_loss.append(loss_nn.data)\n",
    "            lista_iteracao.append(contagem)\n",
    "\n",
    "        if contagem % 500 == 0:\n",
    "            # Printa a loss\n",
    "            print(f\"Iteração: {contagem} | Loss: {loss_nn.data} | Acurácia: {acuracia}\")"
   ]
  },
  {
   "cell_type": "code",
   "execution_count": 18,
   "metadata": {},
   "outputs": [
    {
     "output_type": "display_data",
     "data": {
      "text/plain": "<Figure size 1800x432 with 1 Axes>",
      "image/svg+xml": "<?xml version=\"1.0\" encoding=\"utf-8\" standalone=\"no\"?>\n<!DOCTYPE svg PUBLIC \"-//W3C//DTD SVG 1.1//EN\"\n  \"http://www.w3.org/Graphics/SVG/1.1/DTD/svg11.dtd\">\n<!-- Created with matplotlib (https://matplotlib.org/) -->\n<svg height=\"386.580938pt\" version=\"1.1\" viewBox=\"0 0 1445.98125 386.580938\" width=\"1445.98125pt\" xmlns=\"http://www.w3.org/2000/svg\" xmlns:xlink=\"http://www.w3.org/1999/xlink\">\n <metadata>\n  <rdf:RDF xmlns:cc=\"http://creativecommons.org/ns#\" xmlns:dc=\"http://purl.org/dc/elements/1.1/\" xmlns:rdf=\"http://www.w3.org/1999/02/22-rdf-syntax-ns#\">\n   <cc:Work>\n    <dc:type rdf:resource=\"http://purl.org/dc/dcmitype/StillImage\"/>\n    <dc:date>2021-03-19T21:08:13.816968</dc:date>\n    <dc:format>image/svg+xml</dc:format>\n    <dc:creator>\n     <cc:Agent>\n      <dc:title>Matplotlib v3.3.2, https://matplotlib.org/</dc:title>\n     </cc:Agent>\n    </dc:creator>\n   </cc:Work>\n  </rdf:RDF>\n </metadata>\n <defs>\n  <style type=\"text/css\">*{stroke-linecap:butt;stroke-linejoin:round;}</style>\n </defs>\n <g id=\"figure_1\">\n  <g id=\"patch_1\">\n   <path d=\"M 0 386.580938 \nL 1445.98125 386.580938 \nL 1445.98125 0 \nL 0 0 \nz\n\" style=\"fill:none;\"/>\n  </g>\n  <g id=\"axes_1\">\n   <g id=\"patch_2\">\n    <path d=\"M 43.78125 348.77625 \nL 1438.78125 348.77625 \nL 1438.78125 22.61625 \nL 43.78125 22.61625 \nz\n\" style=\"fill:#ffffff;\"/>\n   </g>\n   <g id=\"matplotlib.axis_1\">\n    <g id=\"xtick_1\">\n     <g id=\"line2d_1\">\n      <defs>\n       <path d=\"M 0 0 \nL 0 3.5 \n\" id=\"m5bcb63ae7e\" style=\"stroke:#000000;stroke-width:0.8;\"/>\n      </defs>\n      <g>\n       <use style=\"stroke:#000000;stroke-width:0.8;\" x=\"100.817568\" xlink:href=\"#m5bcb63ae7e\" y=\"348.77625\"/>\n      </g>\n     </g>\n     <g id=\"text_1\">\n      <!-- 0 -->\n      <g transform=\"translate(97.636318 363.374687)scale(0.1 -0.1)\">\n       <defs>\n        <path d=\"M 31.78125 66.40625 \nQ 24.171875 66.40625 20.328125 58.90625 \nQ 16.5 51.421875 16.5 36.375 \nQ 16.5 21.390625 20.328125 13.890625 \nQ 24.171875 6.390625 31.78125 6.390625 \nQ 39.453125 6.390625 43.28125 13.890625 \nQ 47.125 21.390625 47.125 36.375 \nQ 47.125 51.421875 43.28125 58.90625 \nQ 39.453125 66.40625 31.78125 66.40625 \nz\nM 31.78125 74.21875 \nQ 44.046875 74.21875 50.515625 64.515625 \nQ 56.984375 54.828125 56.984375 36.375 \nQ 56.984375 17.96875 50.515625 8.265625 \nQ 44.046875 -1.421875 31.78125 -1.421875 \nQ 19.53125 -1.421875 13.0625 8.265625 \nQ 6.59375 17.96875 6.59375 36.375 \nQ 6.59375 54.828125 13.0625 64.515625 \nQ 19.53125 74.21875 31.78125 74.21875 \nz\n\" id=\"DejaVuSans-48\"/>\n       </defs>\n       <use xlink:href=\"#DejaVuSans-48\"/>\n      </g>\n     </g>\n    </g>\n    <g id=\"xtick_2\">\n     <g id=\"line2d_2\">\n      <g>\n       <use style=\"stroke:#000000;stroke-width:0.8;\" x=\"355.728486\" xlink:href=\"#m5bcb63ae7e\" y=\"348.77625\"/>\n      </g>\n     </g>\n     <g id=\"text_2\">\n      <!-- 2000 -->\n      <g transform=\"translate(343.003486 363.374687)scale(0.1 -0.1)\">\n       <defs>\n        <path d=\"M 19.1875 8.296875 \nL 53.609375 8.296875 \nL 53.609375 0 \nL 7.328125 0 \nL 7.328125 8.296875 \nQ 12.9375 14.109375 22.625 23.890625 \nQ 32.328125 33.6875 34.8125 36.53125 \nQ 39.546875 41.84375 41.421875 45.53125 \nQ 43.3125 49.21875 43.3125 52.78125 \nQ 43.3125 58.59375 39.234375 62.25 \nQ 35.15625 65.921875 28.609375 65.921875 \nQ 23.96875 65.921875 18.8125 64.3125 \nQ 13.671875 62.703125 7.8125 59.421875 \nL 7.8125 69.390625 \nQ 13.765625 71.78125 18.9375 73 \nQ 24.125 74.21875 28.421875 74.21875 \nQ 39.75 74.21875 46.484375 68.546875 \nQ 53.21875 62.890625 53.21875 53.421875 \nQ 53.21875 48.921875 51.53125 44.890625 \nQ 49.859375 40.875 45.40625 35.40625 \nQ 44.1875 33.984375 37.640625 27.21875 \nQ 31.109375 20.453125 19.1875 8.296875 \nz\n\" id=\"DejaVuSans-50\"/>\n       </defs>\n       <use xlink:href=\"#DejaVuSans-50\"/>\n       <use x=\"63.623047\" xlink:href=\"#DejaVuSans-48\"/>\n       <use x=\"127.246094\" xlink:href=\"#DejaVuSans-48\"/>\n       <use x=\"190.869141\" xlink:href=\"#DejaVuSans-48\"/>\n      </g>\n     </g>\n    </g>\n    <g id=\"xtick_3\">\n     <g id=\"line2d_3\">\n      <g>\n       <use style=\"stroke:#000000;stroke-width:0.8;\" x=\"610.639404\" xlink:href=\"#m5bcb63ae7e\" y=\"348.77625\"/>\n      </g>\n     </g>\n     <g id=\"text_3\">\n      <!-- 4000 -->\n      <g transform=\"translate(597.914404 363.374687)scale(0.1 -0.1)\">\n       <defs>\n        <path d=\"M 37.796875 64.3125 \nL 12.890625 25.390625 \nL 37.796875 25.390625 \nz\nM 35.203125 72.90625 \nL 47.609375 72.90625 \nL 47.609375 25.390625 \nL 58.015625 25.390625 \nL 58.015625 17.1875 \nL 47.609375 17.1875 \nL 47.609375 0 \nL 37.796875 0 \nL 37.796875 17.1875 \nL 4.890625 17.1875 \nL 4.890625 26.703125 \nz\n\" id=\"DejaVuSans-52\"/>\n       </defs>\n       <use xlink:href=\"#DejaVuSans-52\"/>\n       <use x=\"63.623047\" xlink:href=\"#DejaVuSans-48\"/>\n       <use x=\"127.246094\" xlink:href=\"#DejaVuSans-48\"/>\n       <use x=\"190.869141\" xlink:href=\"#DejaVuSans-48\"/>\n      </g>\n     </g>\n    </g>\n    <g id=\"xtick_4\">\n     <g id=\"line2d_4\">\n      <g>\n       <use style=\"stroke:#000000;stroke-width:0.8;\" x=\"865.550323\" xlink:href=\"#m5bcb63ae7e\" y=\"348.77625\"/>\n      </g>\n     </g>\n     <g id=\"text_4\">\n      <!-- 6000 -->\n      <g transform=\"translate(852.825323 363.374687)scale(0.1 -0.1)\">\n       <defs>\n        <path d=\"M 33.015625 40.375 \nQ 26.375 40.375 22.484375 35.828125 \nQ 18.609375 31.296875 18.609375 23.390625 \nQ 18.609375 15.53125 22.484375 10.953125 \nQ 26.375 6.390625 33.015625 6.390625 \nQ 39.65625 6.390625 43.53125 10.953125 \nQ 47.40625 15.53125 47.40625 23.390625 \nQ 47.40625 31.296875 43.53125 35.828125 \nQ 39.65625 40.375 33.015625 40.375 \nz\nM 52.59375 71.296875 \nL 52.59375 62.3125 \nQ 48.875 64.0625 45.09375 64.984375 \nQ 41.3125 65.921875 37.59375 65.921875 \nQ 27.828125 65.921875 22.671875 59.328125 \nQ 17.53125 52.734375 16.796875 39.40625 \nQ 19.671875 43.65625 24.015625 45.921875 \nQ 28.375 48.1875 33.59375 48.1875 \nQ 44.578125 48.1875 50.953125 41.515625 \nQ 57.328125 34.859375 57.328125 23.390625 \nQ 57.328125 12.15625 50.6875 5.359375 \nQ 44.046875 -1.421875 33.015625 -1.421875 \nQ 20.359375 -1.421875 13.671875 8.265625 \nQ 6.984375 17.96875 6.984375 36.375 \nQ 6.984375 53.65625 15.1875 63.9375 \nQ 23.390625 74.21875 37.203125 74.21875 \nQ 40.921875 74.21875 44.703125 73.484375 \nQ 48.484375 72.75 52.59375 71.296875 \nz\n\" id=\"DejaVuSans-54\"/>\n       </defs>\n       <use xlink:href=\"#DejaVuSans-54\"/>\n       <use x=\"63.623047\" xlink:href=\"#DejaVuSans-48\"/>\n       <use x=\"127.246094\" xlink:href=\"#DejaVuSans-48\"/>\n       <use x=\"190.869141\" xlink:href=\"#DejaVuSans-48\"/>\n      </g>\n     </g>\n    </g>\n    <g id=\"xtick_5\">\n     <g id=\"line2d_5\">\n      <g>\n       <use style=\"stroke:#000000;stroke-width:0.8;\" x=\"1120.461241\" xlink:href=\"#m5bcb63ae7e\" y=\"348.77625\"/>\n      </g>\n     </g>\n     <g id=\"text_5\">\n      <!-- 8000 -->\n      <g transform=\"translate(1107.736241 363.374687)scale(0.1 -0.1)\">\n       <defs>\n        <path d=\"M 31.78125 34.625 \nQ 24.75 34.625 20.71875 30.859375 \nQ 16.703125 27.09375 16.703125 20.515625 \nQ 16.703125 13.921875 20.71875 10.15625 \nQ 24.75 6.390625 31.78125 6.390625 \nQ 38.8125 6.390625 42.859375 10.171875 \nQ 46.921875 13.96875 46.921875 20.515625 \nQ 46.921875 27.09375 42.890625 30.859375 \nQ 38.875 34.625 31.78125 34.625 \nz\nM 21.921875 38.8125 \nQ 15.578125 40.375 12.03125 44.71875 \nQ 8.5 49.078125 8.5 55.328125 \nQ 8.5 64.0625 14.71875 69.140625 \nQ 20.953125 74.21875 31.78125 74.21875 \nQ 42.671875 74.21875 48.875 69.140625 \nQ 55.078125 64.0625 55.078125 55.328125 \nQ 55.078125 49.078125 51.53125 44.71875 \nQ 48 40.375 41.703125 38.8125 \nQ 48.828125 37.15625 52.796875 32.3125 \nQ 56.78125 27.484375 56.78125 20.515625 \nQ 56.78125 9.90625 50.3125 4.234375 \nQ 43.84375 -1.421875 31.78125 -1.421875 \nQ 19.734375 -1.421875 13.25 4.234375 \nQ 6.78125 9.90625 6.78125 20.515625 \nQ 6.78125 27.484375 10.78125 32.3125 \nQ 14.796875 37.15625 21.921875 38.8125 \nz\nM 18.3125 54.390625 \nQ 18.3125 48.734375 21.84375 45.5625 \nQ 25.390625 42.390625 31.78125 42.390625 \nQ 38.140625 42.390625 41.71875 45.5625 \nQ 45.3125 48.734375 45.3125 54.390625 \nQ 45.3125 60.0625 41.71875 63.234375 \nQ 38.140625 66.40625 31.78125 66.40625 \nQ 25.390625 66.40625 21.84375 63.234375 \nQ 18.3125 60.0625 18.3125 54.390625 \nz\n\" id=\"DejaVuSans-56\"/>\n       </defs>\n       <use xlink:href=\"#DejaVuSans-56\"/>\n       <use x=\"63.623047\" xlink:href=\"#DejaVuSans-48\"/>\n       <use x=\"127.246094\" xlink:href=\"#DejaVuSans-48\"/>\n       <use x=\"190.869141\" xlink:href=\"#DejaVuSans-48\"/>\n      </g>\n     </g>\n    </g>\n    <g id=\"xtick_6\">\n     <g id=\"line2d_6\">\n      <g>\n       <use style=\"stroke:#000000;stroke-width:0.8;\" x=\"1375.372159\" xlink:href=\"#m5bcb63ae7e\" y=\"348.77625\"/>\n      </g>\n     </g>\n     <g id=\"text_6\">\n      <!-- 10000 -->\n      <g transform=\"translate(1359.465909 363.374687)scale(0.1 -0.1)\">\n       <defs>\n        <path d=\"M 12.40625 8.296875 \nL 28.515625 8.296875 \nL 28.515625 63.921875 \nL 10.984375 60.40625 \nL 10.984375 69.390625 \nL 28.421875 72.90625 \nL 38.28125 72.90625 \nL 38.28125 8.296875 \nL 54.390625 8.296875 \nL 54.390625 0 \nL 12.40625 0 \nz\n\" id=\"DejaVuSans-49\"/>\n       </defs>\n       <use xlink:href=\"#DejaVuSans-49\"/>\n       <use x=\"63.623047\" xlink:href=\"#DejaVuSans-48\"/>\n       <use x=\"127.246094\" xlink:href=\"#DejaVuSans-48\"/>\n       <use x=\"190.869141\" xlink:href=\"#DejaVuSans-48\"/>\n       <use x=\"254.492188\" xlink:href=\"#DejaVuSans-48\"/>\n      </g>\n     </g>\n    </g>\n    <g id=\"text_7\">\n     <!-- Número de Iterações -->\n     <g transform=\"translate(688.872656 377.30125)scale(0.1 -0.1)\">\n      <defs>\n       <path d=\"M 9.8125 72.90625 \nL 23.09375 72.90625 \nL 55.421875 11.921875 \nL 55.421875 72.90625 \nL 64.984375 72.90625 \nL 64.984375 0 \nL 51.703125 0 \nL 19.390625 60.984375 \nL 19.390625 0 \nL 9.8125 0 \nz\n\" id=\"DejaVuSans-78\"/>\n       <path d=\"M 8.5 21.578125 \nL 8.5 54.6875 \nL 17.484375 54.6875 \nL 17.484375 21.921875 \nQ 17.484375 14.15625 20.5 10.265625 \nQ 23.53125 6.390625 29.59375 6.390625 \nQ 36.859375 6.390625 41.078125 11.03125 \nQ 45.3125 15.671875 45.3125 23.6875 \nL 45.3125 54.6875 \nL 54.296875 54.6875 \nL 54.296875 0 \nL 45.3125 0 \nL 45.3125 8.40625 \nQ 42.046875 3.421875 37.71875 1 \nQ 33.40625 -1.421875 27.6875 -1.421875 \nQ 18.265625 -1.421875 13.375 4.4375 \nQ 8.5 10.296875 8.5 21.578125 \nz\nM 31.109375 56 \nz\nM 37.78125 79.984375 \nL 47.5 79.984375 \nL 31.59375 61.625 \nL 24.109375 61.625 \nz\n\" id=\"DejaVuSans-250\"/>\n       <path d=\"M 52 44.1875 \nQ 55.375 50.25 60.0625 53.125 \nQ 64.75 56 71.09375 56 \nQ 79.640625 56 84.28125 50.015625 \nQ 88.921875 44.046875 88.921875 33.015625 \nL 88.921875 0 \nL 79.890625 0 \nL 79.890625 32.71875 \nQ 79.890625 40.578125 77.09375 44.375 \nQ 74.3125 48.1875 68.609375 48.1875 \nQ 61.625 48.1875 57.5625 43.546875 \nQ 53.515625 38.921875 53.515625 30.90625 \nL 53.515625 0 \nL 44.484375 0 \nL 44.484375 32.71875 \nQ 44.484375 40.625 41.703125 44.40625 \nQ 38.921875 48.1875 33.109375 48.1875 \nQ 26.21875 48.1875 22.15625 43.53125 \nQ 18.109375 38.875 18.109375 30.90625 \nL 18.109375 0 \nL 9.078125 0 \nL 9.078125 54.6875 \nL 18.109375 54.6875 \nL 18.109375 46.1875 \nQ 21.1875 51.21875 25.484375 53.609375 \nQ 29.78125 56 35.6875 56 \nQ 41.65625 56 45.828125 52.96875 \nQ 50 49.953125 52 44.1875 \nz\n\" id=\"DejaVuSans-109\"/>\n       <path d=\"M 56.203125 29.59375 \nL 56.203125 25.203125 \nL 14.890625 25.203125 \nQ 15.484375 15.921875 20.484375 11.0625 \nQ 25.484375 6.203125 34.421875 6.203125 \nQ 39.59375 6.203125 44.453125 7.46875 \nQ 49.3125 8.734375 54.109375 11.28125 \nL 54.109375 2.78125 \nQ 49.265625 0.734375 44.1875 -0.34375 \nQ 39.109375 -1.421875 33.890625 -1.421875 \nQ 20.796875 -1.421875 13.15625 6.1875 \nQ 5.515625 13.8125 5.515625 26.8125 \nQ 5.515625 40.234375 12.765625 48.109375 \nQ 20.015625 56 32.328125 56 \nQ 43.359375 56 49.78125 48.890625 \nQ 56.203125 41.796875 56.203125 29.59375 \nz\nM 47.21875 32.234375 \nQ 47.125 39.59375 43.09375 43.984375 \nQ 39.0625 48.390625 32.421875 48.390625 \nQ 24.90625 48.390625 20.390625 44.140625 \nQ 15.875 39.890625 15.1875 32.171875 \nz\n\" id=\"DejaVuSans-101\"/>\n       <path d=\"M 41.109375 46.296875 \nQ 39.59375 47.171875 37.8125 47.578125 \nQ 36.03125 48 33.890625 48 \nQ 26.265625 48 22.1875 43.046875 \nQ 18.109375 38.09375 18.109375 28.8125 \nL 18.109375 0 \nL 9.078125 0 \nL 9.078125 54.6875 \nL 18.109375 54.6875 \nL 18.109375 46.1875 \nQ 20.953125 51.171875 25.484375 53.578125 \nQ 30.03125 56 36.53125 56 \nQ 37.453125 56 38.578125 55.875 \nQ 39.703125 55.765625 41.0625 55.515625 \nz\n\" id=\"DejaVuSans-114\"/>\n       <path d=\"M 30.609375 48.390625 \nQ 23.390625 48.390625 19.1875 42.75 \nQ 14.984375 37.109375 14.984375 27.296875 \nQ 14.984375 17.484375 19.15625 11.84375 \nQ 23.34375 6.203125 30.609375 6.203125 \nQ 37.796875 6.203125 41.984375 11.859375 \nQ 46.1875 17.53125 46.1875 27.296875 \nQ 46.1875 37.015625 41.984375 42.703125 \nQ 37.796875 48.390625 30.609375 48.390625 \nz\nM 30.609375 56 \nQ 42.328125 56 49.015625 48.375 \nQ 55.71875 40.765625 55.71875 27.296875 \nQ 55.71875 13.875 49.015625 6.21875 \nQ 42.328125 -1.421875 30.609375 -1.421875 \nQ 18.84375 -1.421875 12.171875 6.21875 \nQ 5.515625 13.875 5.515625 27.296875 \nQ 5.515625 40.765625 12.171875 48.375 \nQ 18.84375 56 30.609375 56 \nz\n\" id=\"DejaVuSans-111\"/>\n       <path id=\"DejaVuSans-32\"/>\n       <path d=\"M 45.40625 46.390625 \nL 45.40625 75.984375 \nL 54.390625 75.984375 \nL 54.390625 0 \nL 45.40625 0 \nL 45.40625 8.203125 \nQ 42.578125 3.328125 38.25 0.953125 \nQ 33.9375 -1.421875 27.875 -1.421875 \nQ 17.96875 -1.421875 11.734375 6.484375 \nQ 5.515625 14.40625 5.515625 27.296875 \nQ 5.515625 40.1875 11.734375 48.09375 \nQ 17.96875 56 27.875 56 \nQ 33.9375 56 38.25 53.625 \nQ 42.578125 51.265625 45.40625 46.390625 \nz\nM 14.796875 27.296875 \nQ 14.796875 17.390625 18.875 11.75 \nQ 22.953125 6.109375 30.078125 6.109375 \nQ 37.203125 6.109375 41.296875 11.75 \nQ 45.40625 17.390625 45.40625 27.296875 \nQ 45.40625 37.203125 41.296875 42.84375 \nQ 37.203125 48.484375 30.078125 48.484375 \nQ 22.953125 48.484375 18.875 42.84375 \nQ 14.796875 37.203125 14.796875 27.296875 \nz\n\" id=\"DejaVuSans-100\"/>\n       <path d=\"M 9.8125 72.90625 \nL 19.671875 72.90625 \nL 19.671875 0 \nL 9.8125 0 \nz\n\" id=\"DejaVuSans-73\"/>\n       <path d=\"M 18.3125 70.21875 \nL 18.3125 54.6875 \nL 36.8125 54.6875 \nL 36.8125 47.703125 \nL 18.3125 47.703125 \nL 18.3125 18.015625 \nQ 18.3125 11.328125 20.140625 9.421875 \nQ 21.96875 7.515625 27.59375 7.515625 \nL 36.8125 7.515625 \nL 36.8125 0 \nL 27.59375 0 \nQ 17.1875 0 13.234375 3.875 \nQ 9.28125 7.765625 9.28125 18.015625 \nL 9.28125 47.703125 \nL 2.6875 47.703125 \nL 2.6875 54.6875 \nL 9.28125 54.6875 \nL 9.28125 70.21875 \nz\n\" id=\"DejaVuSans-116\"/>\n       <path d=\"M 34.28125 27.484375 \nQ 23.390625 27.484375 19.1875 25 \nQ 14.984375 22.515625 14.984375 16.5 \nQ 14.984375 11.71875 18.140625 8.90625 \nQ 21.296875 6.109375 26.703125 6.109375 \nQ 34.1875 6.109375 38.703125 11.40625 \nQ 43.21875 16.703125 43.21875 25.484375 \nL 43.21875 27.484375 \nz\nM 52.203125 31.203125 \nL 52.203125 0 \nL 43.21875 0 \nL 43.21875 8.296875 \nQ 40.140625 3.328125 35.546875 0.953125 \nQ 30.953125 -1.421875 24.3125 -1.421875 \nQ 15.921875 -1.421875 10.953125 3.296875 \nQ 6 8.015625 6 15.921875 \nQ 6 25.140625 12.171875 29.828125 \nQ 18.359375 34.515625 30.609375 34.515625 \nL 43.21875 34.515625 \nL 43.21875 35.40625 \nQ 43.21875 41.609375 39.140625 45 \nQ 35.0625 48.390625 27.6875 48.390625 \nQ 23 48.390625 18.546875 47.265625 \nQ 14.109375 46.140625 10.015625 43.890625 \nL 10.015625 52.203125 \nQ 14.9375 54.109375 19.578125 55.046875 \nQ 24.21875 56 28.609375 56 \nQ 40.484375 56 46.34375 49.84375 \nQ 52.203125 43.703125 52.203125 31.203125 \nz\n\" id=\"DejaVuSans-97\"/>\n       <path d=\"M 48.78125 52.59375 \nL 48.78125 44.1875 \nQ 44.96875 46.296875 41.140625 47.34375 \nQ 37.3125 48.390625 33.40625 48.390625 \nQ 24.65625 48.390625 19.8125 42.84375 \nQ 14.984375 37.3125 14.984375 27.296875 \nQ 14.984375 17.28125 19.8125 11.734375 \nQ 24.65625 6.203125 33.40625 6.203125 \nQ 37.3125 6.203125 41.140625 7.25 \nQ 44.96875 8.296875 48.78125 10.40625 \nL 48.78125 2.09375 \nQ 45.015625 0.34375 40.984375 -0.53125 \nQ 36.96875 -1.421875 32.421875 -1.421875 \nQ 20.0625 -1.421875 12.78125 6.34375 \nQ 5.515625 14.109375 5.515625 27.296875 \nQ 5.515625 40.671875 12.859375 48.328125 \nQ 20.21875 56 33.015625 56 \nQ 37.15625 56 41.109375 55.140625 \nQ 45.0625 54.296875 48.78125 52.59375 \nz\nM 36.109375 0 \nQ 38.78125 -3.03125 40.09375 -5.59375 \nQ 41.421875 -8.15625 41.421875 -10.5 \nQ 41.421875 -14.84375 38.484375 -17.0625 \nQ 35.5625 -19.28125 29.796875 -19.28125 \nQ 27.5625 -19.28125 25.4375 -18.984375 \nQ 23.3125 -18.703125 21.203125 -18.109375 \nL 21.203125 -11.71875 \nQ 22.875 -12.546875 24.671875 -12.90625 \nQ 26.484375 -13.28125 28.78125 -13.28125 \nQ 31.65625 -13.28125 33.125 -12.109375 \nQ 34.59375 -10.9375 34.59375 -8.6875 \nQ 34.59375 -7.234375 33.53125 -5.109375 \nQ 32.484375 -2.984375 30.296875 0 \nz\n\" id=\"DejaVuSans-231\"/>\n       <path d=\"M 30.609375 48.390625 \nQ 23.390625 48.390625 19.1875 42.75 \nQ 14.984375 37.109375 14.984375 27.296875 \nQ 14.984375 17.484375 19.15625 11.84375 \nQ 23.34375 6.203125 30.609375 6.203125 \nQ 37.796875 6.203125 41.984375 11.859375 \nQ 46.1875 17.53125 46.1875 27.296875 \nQ 46.1875 37.015625 41.984375 42.703125 \nQ 37.796875 48.390625 30.609375 48.390625 \nz\nM 30.609375 56 \nQ 42.328125 56 49.015625 48.375 \nQ 55.71875 40.765625 55.71875 27.296875 \nQ 55.71875 13.875 49.015625 6.21875 \nQ 42.328125 -1.421875 30.609375 -1.421875 \nQ 18.84375 -1.421875 12.171875 6.21875 \nQ 5.515625 13.875 5.515625 27.296875 \nQ 5.515625 40.765625 12.171875 48.375 \nQ 18.84375 56 30.609375 56 \nz\nM 30.4375 66.890625 \nL 27.640625 69.578125 \nQ 26.578125 70.5625 25.765625 71.015625 \nQ 24.96875 71.484375 24.328125 71.484375 \nQ 22.46875 71.484375 21.59375 69.703125 \nQ 20.71875 67.921875 20.609375 63.921875 \nL 14.515625 63.921875 \nQ 14.609375 70.515625 17.09375 74.09375 \nQ 19.59375 77.6875 24.03125 77.6875 \nQ 25.890625 77.6875 27.453125 77 \nQ 29.015625 76.3125 30.828125 74.703125 \nL 33.609375 72.015625 \nQ 34.671875 71.046875 35.484375 70.578125 \nQ 36.296875 70.125 36.921875 70.125 \nQ 38.78125 70.125 39.65625 71.90625 \nQ 40.53125 73.6875 40.640625 77.6875 \nL 46.734375 77.6875 \nQ 46.640625 71.09375 44.140625 67.5 \nQ 41.65625 63.921875 37.21875 63.921875 \nQ 35.359375 63.921875 33.796875 64.59375 \nQ 32.234375 65.28125 30.4375 66.890625 \nz\n\" id=\"DejaVuSans-245\"/>\n       <path d=\"M 44.28125 53.078125 \nL 44.28125 44.578125 \nQ 40.484375 46.53125 36.375 47.5 \nQ 32.28125 48.484375 27.875 48.484375 \nQ 21.1875 48.484375 17.84375 46.4375 \nQ 14.5 44.390625 14.5 40.28125 \nQ 14.5 37.15625 16.890625 35.375 \nQ 19.28125 33.59375 26.515625 31.984375 \nL 29.59375 31.296875 \nQ 39.15625 29.25 43.1875 25.515625 \nQ 47.21875 21.78125 47.21875 15.09375 \nQ 47.21875 7.46875 41.1875 3.015625 \nQ 35.15625 -1.421875 24.609375 -1.421875 \nQ 20.21875 -1.421875 15.453125 -0.5625 \nQ 10.6875 0.296875 5.421875 2 \nL 5.421875 11.28125 \nQ 10.40625 8.6875 15.234375 7.390625 \nQ 20.0625 6.109375 24.8125 6.109375 \nQ 31.15625 6.109375 34.5625 8.28125 \nQ 37.984375 10.453125 37.984375 14.40625 \nQ 37.984375 18.0625 35.515625 20.015625 \nQ 33.0625 21.96875 24.703125 23.78125 \nL 21.578125 24.515625 \nQ 13.234375 26.265625 9.515625 29.90625 \nQ 5.8125 33.546875 5.8125 39.890625 \nQ 5.8125 47.609375 11.28125 51.796875 \nQ 16.75 56 26.8125 56 \nQ 31.78125 56 36.171875 55.265625 \nQ 40.578125 54.546875 44.28125 53.078125 \nz\n\" id=\"DejaVuSans-115\"/>\n      </defs>\n      <use xlink:href=\"#DejaVuSans-78\"/>\n      <use x=\"74.804688\" xlink:href=\"#DejaVuSans-250\"/>\n      <use x=\"138.183594\" xlink:href=\"#DejaVuSans-109\"/>\n      <use x=\"235.595703\" xlink:href=\"#DejaVuSans-101\"/>\n      <use x=\"297.119141\" xlink:href=\"#DejaVuSans-114\"/>\n      <use x=\"335.982422\" xlink:href=\"#DejaVuSans-111\"/>\n      <use x=\"397.164062\" xlink:href=\"#DejaVuSans-32\"/>\n      <use x=\"428.951172\" xlink:href=\"#DejaVuSans-100\"/>\n      <use x=\"492.427734\" xlink:href=\"#DejaVuSans-101\"/>\n      <use x=\"553.951172\" xlink:href=\"#DejaVuSans-32\"/>\n      <use x=\"585.738281\" xlink:href=\"#DejaVuSans-73\"/>\n      <use x=\"615.230469\" xlink:href=\"#DejaVuSans-116\"/>\n      <use x=\"654.439453\" xlink:href=\"#DejaVuSans-101\"/>\n      <use x=\"715.962891\" xlink:href=\"#DejaVuSans-114\"/>\n      <use x=\"757.076172\" xlink:href=\"#DejaVuSans-97\"/>\n      <use x=\"818.355469\" xlink:href=\"#DejaVuSans-231\"/>\n      <use x=\"873.335938\" xlink:href=\"#DejaVuSans-245\"/>\n      <use x=\"934.517578\" xlink:href=\"#DejaVuSans-101\"/>\n      <use x=\"996.041016\" xlink:href=\"#DejaVuSans-115\"/>\n     </g>\n    </g>\n   </g>\n   <g id=\"matplotlib.axis_2\">\n    <g id=\"ytick_1\">\n     <g id=\"line2d_7\">\n      <defs>\n       <path d=\"M 0 0 \nL -3.5 0 \n\" id=\"m327a3afd1a\" style=\"stroke:#000000;stroke-width:0.8;\"/>\n      </defs>\n      <g>\n       <use style=\"stroke:#000000;stroke-width:0.8;\" x=\"43.78125\" xlink:href=\"#m327a3afd1a\" y=\"328.884009\"/>\n      </g>\n     </g>\n     <g id=\"text_8\">\n      <!-- 0.2 -->\n      <g transform=\"translate(20.878125 332.683228)scale(0.1 -0.1)\">\n       <defs>\n        <path d=\"M 10.6875 12.40625 \nL 21 12.40625 \nL 21 0 \nL 10.6875 0 \nz\n\" id=\"DejaVuSans-46\"/>\n       </defs>\n       <use xlink:href=\"#DejaVuSans-48\"/>\n       <use x=\"63.623047\" xlink:href=\"#DejaVuSans-46\"/>\n       <use x=\"95.410156\" xlink:href=\"#DejaVuSans-50\"/>\n      </g>\n     </g>\n    </g>\n    <g id=\"ytick_2\">\n     <g id=\"line2d_8\">\n      <g>\n       <use style=\"stroke:#000000;stroke-width:0.8;\" x=\"43.78125\" xlink:href=\"#m327a3afd1a\" y=\"288.081939\"/>\n      </g>\n     </g>\n     <g id=\"text_9\">\n      <!-- 0.4 -->\n      <g transform=\"translate(20.878125 291.881158)scale(0.1 -0.1)\">\n       <use xlink:href=\"#DejaVuSans-48\"/>\n       <use x=\"63.623047\" xlink:href=\"#DejaVuSans-46\"/>\n       <use x=\"95.410156\" xlink:href=\"#DejaVuSans-52\"/>\n      </g>\n     </g>\n    </g>\n    <g id=\"ytick_3\">\n     <g id=\"line2d_9\">\n      <g>\n       <use style=\"stroke:#000000;stroke-width:0.8;\" x=\"43.78125\" xlink:href=\"#m327a3afd1a\" y=\"247.279869\"/>\n      </g>\n     </g>\n     <g id=\"text_10\">\n      <!-- 0.6 -->\n      <g transform=\"translate(20.878125 251.079088)scale(0.1 -0.1)\">\n       <use xlink:href=\"#DejaVuSans-48\"/>\n       <use x=\"63.623047\" xlink:href=\"#DejaVuSans-46\"/>\n       <use x=\"95.410156\" xlink:href=\"#DejaVuSans-54\"/>\n      </g>\n     </g>\n    </g>\n    <g id=\"ytick_4\">\n     <g id=\"line2d_10\">\n      <g>\n       <use style=\"stroke:#000000;stroke-width:0.8;\" x=\"43.78125\" xlink:href=\"#m327a3afd1a\" y=\"206.477799\"/>\n      </g>\n     </g>\n     <g id=\"text_11\">\n      <!-- 0.8 -->\n      <g transform=\"translate(20.878125 210.277018)scale(0.1 -0.1)\">\n       <use xlink:href=\"#DejaVuSans-48\"/>\n       <use x=\"63.623047\" xlink:href=\"#DejaVuSans-46\"/>\n       <use x=\"95.410156\" xlink:href=\"#DejaVuSans-56\"/>\n      </g>\n     </g>\n    </g>\n    <g id=\"ytick_5\">\n     <g id=\"line2d_11\">\n      <g>\n       <use style=\"stroke:#000000;stroke-width:0.8;\" x=\"43.78125\" xlink:href=\"#m327a3afd1a\" y=\"165.675729\"/>\n      </g>\n     </g>\n     <g id=\"text_12\">\n      <!-- 1.0 -->\n      <g transform=\"translate(20.878125 169.474948)scale(0.1 -0.1)\">\n       <use xlink:href=\"#DejaVuSans-49\"/>\n       <use x=\"63.623047\" xlink:href=\"#DejaVuSans-46\"/>\n       <use x=\"95.410156\" xlink:href=\"#DejaVuSans-48\"/>\n      </g>\n     </g>\n    </g>\n    <g id=\"ytick_6\">\n     <g id=\"line2d_12\">\n      <g>\n       <use style=\"stroke:#000000;stroke-width:0.8;\" x=\"43.78125\" xlink:href=\"#m327a3afd1a\" y=\"124.873659\"/>\n      </g>\n     </g>\n     <g id=\"text_13\">\n      <!-- 1.2 -->\n      <g transform=\"translate(20.878125 128.672877)scale(0.1 -0.1)\">\n       <use xlink:href=\"#DejaVuSans-49\"/>\n       <use x=\"63.623047\" xlink:href=\"#DejaVuSans-46\"/>\n       <use x=\"95.410156\" xlink:href=\"#DejaVuSans-50\"/>\n      </g>\n     </g>\n    </g>\n    <g id=\"ytick_7\">\n     <g id=\"line2d_13\">\n      <g>\n       <use style=\"stroke:#000000;stroke-width:0.8;\" x=\"43.78125\" xlink:href=\"#m327a3afd1a\" y=\"84.071588\"/>\n      </g>\n     </g>\n     <g id=\"text_14\">\n      <!-- 1.4 -->\n      <g transform=\"translate(20.878125 87.870807)scale(0.1 -0.1)\">\n       <use xlink:href=\"#DejaVuSans-49\"/>\n       <use x=\"63.623047\" xlink:href=\"#DejaVuSans-46\"/>\n       <use x=\"95.410156\" xlink:href=\"#DejaVuSans-52\"/>\n      </g>\n     </g>\n    </g>\n    <g id=\"ytick_8\">\n     <g id=\"line2d_14\">\n      <g>\n       <use style=\"stroke:#000000;stroke-width:0.8;\" x=\"43.78125\" xlink:href=\"#m327a3afd1a\" y=\"43.269518\"/>\n      </g>\n     </g>\n     <g id=\"text_15\">\n      <!-- 1.6 -->\n      <g transform=\"translate(20.878125 47.068737)scale(0.1 -0.1)\">\n       <use xlink:href=\"#DejaVuSans-49\"/>\n       <use x=\"63.623047\" xlink:href=\"#DejaVuSans-46\"/>\n       <use x=\"95.410156\" xlink:href=\"#DejaVuSans-54\"/>\n      </g>\n     </g>\n    </g>\n    <g id=\"text_16\">\n     <!-- Loss -->\n     <g transform=\"translate(14.798437 196.663437)rotate(-90)scale(0.1 -0.1)\">\n      <defs>\n       <path d=\"M 9.8125 72.90625 \nL 19.671875 72.90625 \nL 19.671875 8.296875 \nL 55.171875 8.296875 \nL 55.171875 0 \nL 9.8125 0 \nz\n\" id=\"DejaVuSans-76\"/>\n      </defs>\n      <use xlink:href=\"#DejaVuSans-76\"/>\n      <use x=\"53.962891\" xlink:href=\"#DejaVuSans-111\"/>\n      <use x=\"115.144531\" xlink:href=\"#DejaVuSans-115\"/>\n      <use x=\"167.244141\" xlink:href=\"#DejaVuSans-115\"/>\n     </g>\n    </g>\n   </g>\n   <g id=\"line2d_15\">\n    <path clip-path=\"url(#p8c569b4581)\" d=\"M 107.190341 37.441705 \nL 113.563114 133.894908 \nL 119.935887 220.859277 \nL 126.30866 218.010623 \nL 132.681433 219.337008 \nL 139.054206 252.571212 \nL 145.426979 267.915397 \nL 151.799752 256.013552 \nL 158.172525 253.922026 \nL 164.545298 279.921076 \nL 170.91807 275.128366 \nL 177.290843 272.999575 \nL 183.663616 216.529114 \nL 190.036389 243.237077 \nL 196.409162 261.255701 \nL 202.781935 213.73946 \nL 209.154708 258.059235 \nL 215.527481 295.220324 \nL 221.900254 279.162026 \nL 228.273027 286.721354 \nL 234.6458 295.401063 \nL 241.018573 245.878039 \nL 247.391346 287.165271 \nL 253.764119 267.336826 \nL 260.136892 291.201857 \nL 266.509665 281.462905 \nL 272.882438 266.593779 \nL 279.255211 321.027811 \nL 285.627984 284.816836 \nL 292.000757 294.458879 \nL 298.37353 266.048514 \nL 304.746303 281.706323 \nL 311.119075 266.285816 \nL 317.491848 290.759994 \nL 323.864621 292.687713 \nL 330.237394 270.851201 \nL 336.610167 286.774493 \nL 342.98294 289.38984 \nL 349.355713 264.758853 \nL 355.728486 271.439355 \nL 362.101259 273.698567 \nL 368.474032 276.246894 \nL 374.846805 318.796117 \nL 381.219578 298.809744 \nL 387.592351 298.431187 \nL 393.965124 313.376634 \nL 400.337897 279.370795 \nL 406.71067 272.351157 \nL 413.083443 320.536829 \nL 419.456216 249.749334 \nL 425.828989 271.456385 \nL 432.201762 306.814138 \nL 438.574535 280.241716 \nL 444.947308 278.241432 \nL 451.320081 312.55988 \nL 457.692853 306.321526 \nL 464.065626 295.58998 \nL 470.438399 314.256602 \nL 476.811172 295.570719 \nL 483.183945 297.148663 \nL 489.556718 289.976807 \nL 495.929491 271.478279 \nL 502.302264 305.933137 \nL 508.675037 304.419033 \nL 515.04781 317.230066 \nL 521.420583 269.967622 \nL 527.793356 279.624677 \nL 534.166129 299.658394 \nL 540.538902 280.090215 \nL 546.911675 305.237721 \nL 553.284448 301.196071 \nL 559.657221 296.002981 \nL 566.029994 314.982747 \nL 572.402767 320.046308 \nL 578.77554 308.847777 \nL 585.148313 279.172028 \nL 591.521086 289.411946 \nL 597.893858 307.221084 \nL 604.266631 307.423918 \nL 610.639404 308.015275 \nL 617.012177 323.878633 \nL 623.38495 293.452861 \nL 629.757723 290.150932 \nL 636.130496 302.182846 \nL 642.503269 289.854222 \nL 648.876042 291.997672 \nL 655.248815 276.536204 \nL 661.621588 281.479673 \nL 667.994361 304.281905 \nL 674.367134 328.828043 \nL 680.739907 287.708664 \nL 687.11268 324.877902 \nL 693.485453 307.793168 \nL 699.858226 331.233585 \nL 706.230999 294.844289 \nL 712.603772 272.724578 \nL 718.976545 290.292662 \nL 725.349318 319.469758 \nL 731.722091 307.726415 \nL 738.094864 307.937883 \nL 744.467636 287.167199 \nL 750.840409 304.925106 \nL 757.213182 300.82507 \nL 763.585955 299.996885 \nL 769.958728 317.471058 \nL 776.331501 277.99228 \nL 782.704274 290.753701 \nL 789.077047 308.261782 \nL 795.44982 307.031966 \nL 808.195366 294.458398 \nL 814.568139 317.102952 \nL 820.940912 308.676552 \nL 827.313685 312.904013 \nL 833.686458 317.578869 \nL 840.059231 300.444658 \nL 846.432004 307.902796 \nL 852.804777 289.329052 \nL 859.17755 309.756886 \nL 865.550323 286.947322 \nL 871.923096 314.718711 \nL 878.295869 318.067395 \nL 884.668642 287.082255 \nL 891.041414 297.742458 \nL 897.414187 330.426576 \nL 903.78696 331.57237 \nL 910.159733 293.212908 \nL 916.532506 317.014221 \nL 922.905279 297.007182 \nL 929.278052 317.038705 \nL 935.650825 310.609896 \nL 942.023598 311.233459 \nL 948.396371 327.6537 \nL 954.769144 315.245396 \nL 961.141917 301.894411 \nL 967.51469 315.254795 \nL 973.887463 279.481986 \nL 980.260236 292.854566 \nL 986.633009 333.950795 \nL 993.005782 319.617766 \nL 999.378555 313.905313 \nL 1005.751328 321.530176 \nL 1012.124101 320.695622 \nL 1018.496874 307.934412 \nL 1024.869647 298.942799 \nL 1031.242419 312.692709 \nL 1037.615192 290.050284 \nL 1043.987965 306.040023 \nL 1050.360738 317.766521 \nL 1056.733511 310.014222 \nL 1063.106284 328.178324 \nL 1069.479057 316.427162 \nL 1075.85183 310.473284 \nL 1082.224603 302.715744 \nL 1088.597376 312.806259 \nL 1094.970149 305.851598 \nL 1101.342922 333.270321 \nL 1107.715695 323.089813 \nL 1114.088468 313.893043 \nL 1120.461241 322.228502 \nL 1126.834014 315.146322 \nL 1133.206787 312.629739 \nL 1139.57956 329.28533 \nL 1145.952333 313.69863 \nL 1152.325106 324.00665 \nL 1158.697879 333.70776 \nL 1165.070652 328.759549 \nL 1171.443425 285.061865 \nL 1177.816197 318.465032 \nL 1184.18897 323.741982 \nL 1190.561743 317.352207 \nL 1196.934516 298.937217 \nL 1203.307289 296.445063 \nL 1209.680062 320.499054 \nL 1216.052835 319.553671 \nL 1222.425608 317.139499 \nL 1228.798381 328.019682 \nL 1235.171154 305.327078 \nL 1241.543927 293.284871 \nL 1247.9167 317.951985 \nL 1254.289473 320.832516 \nL 1260.662246 319.280744 \nL 1267.035019 307.408651 \nL 1273.407792 327.770414 \nL 1279.780565 324.092706 \nL 1286.153338 319.065339 \nL 1292.526111 307.231462 \nL 1298.898884 323.852884 \nL 1305.271657 308.914195 \nL 1311.64443 327.233741 \nL 1318.017202 285.729411 \nL 1330.762748 320.606429 \nL 1337.135521 317.504139 \nL 1343.508294 314.744746 \nL 1349.881067 313.801205 \nL 1356.25384 325.091304 \nL 1362.626613 302.433773 \nL 1368.999386 315.386895 \nL 1375.372159 331.279935 \nL 1375.372159 331.279935 \n\" style=\"fill:none;stroke:#1f77b4;stroke-linecap:square;stroke-width:1.5;\"/>\n   </g>\n   <g id=\"patch_3\">\n    <path d=\"M 43.78125 348.77625 \nL 43.78125 22.61625 \n\" style=\"fill:none;stroke:#000000;stroke-linecap:square;stroke-linejoin:miter;stroke-width:0.8;\"/>\n   </g>\n   <g id=\"patch_4\">\n    <path d=\"M 1438.78125 348.77625 \nL 1438.78125 22.61625 \n\" style=\"fill:none;stroke:#000000;stroke-linecap:square;stroke-linejoin:miter;stroke-width:0.8;\"/>\n   </g>\n   <g id=\"patch_5\">\n    <path d=\"M 43.78125 348.77625 \nL 1438.78125 348.77625 \n\" style=\"fill:none;stroke:#000000;stroke-linecap:square;stroke-linejoin:miter;stroke-width:0.8;\"/>\n   </g>\n   <g id=\"patch_6\">\n    <path d=\"M 43.78125 22.61625 \nL 1438.78125 22.61625 \n\" style=\"fill:none;stroke:#000000;stroke-linecap:square;stroke-linejoin:miter;stroke-width:0.8;\"/>\n   </g>\n   <g id=\"text_17\">\n    <!-- Rede Neural: loss vs Número de Iterações -->\n    <g transform=\"translate(615.590625 16.61625)scale(0.12 -0.12)\">\n     <defs>\n      <path d=\"M 44.390625 34.1875 \nQ 47.5625 33.109375 50.5625 29.59375 \nQ 53.5625 26.078125 56.59375 19.921875 \nL 66.609375 0 \nL 56 0 \nL 46.6875 18.703125 \nQ 43.0625 26.03125 39.671875 28.421875 \nQ 36.28125 30.8125 30.421875 30.8125 \nL 19.671875 30.8125 \nL 19.671875 0 \nL 9.8125 0 \nL 9.8125 72.90625 \nL 32.078125 72.90625 \nQ 44.578125 72.90625 50.734375 67.671875 \nQ 56.890625 62.453125 56.890625 51.90625 \nQ 56.890625 45.015625 53.6875 40.46875 \nQ 50.484375 35.9375 44.390625 34.1875 \nz\nM 19.671875 64.796875 \nL 19.671875 38.921875 \nL 32.078125 38.921875 \nQ 39.203125 38.921875 42.84375 42.21875 \nQ 46.484375 45.515625 46.484375 51.90625 \nQ 46.484375 58.296875 42.84375 61.546875 \nQ 39.203125 64.796875 32.078125 64.796875 \nz\n\" id=\"DejaVuSans-82\"/>\n      <path d=\"M 8.5 21.578125 \nL 8.5 54.6875 \nL 17.484375 54.6875 \nL 17.484375 21.921875 \nQ 17.484375 14.15625 20.5 10.265625 \nQ 23.53125 6.390625 29.59375 6.390625 \nQ 36.859375 6.390625 41.078125 11.03125 \nQ 45.3125 15.671875 45.3125 23.6875 \nL 45.3125 54.6875 \nL 54.296875 54.6875 \nL 54.296875 0 \nL 45.3125 0 \nL 45.3125 8.40625 \nQ 42.046875 3.421875 37.71875 1 \nQ 33.40625 -1.421875 27.6875 -1.421875 \nQ 18.265625 -1.421875 13.375 4.4375 \nQ 8.5 10.296875 8.5 21.578125 \nz\nM 31.109375 56 \nz\n\" id=\"DejaVuSans-117\"/>\n      <path d=\"M 9.421875 75.984375 \nL 18.40625 75.984375 \nL 18.40625 0 \nL 9.421875 0 \nz\n\" id=\"DejaVuSans-108\"/>\n      <path d=\"M 11.71875 12.40625 \nL 22.015625 12.40625 \nL 22.015625 0 \nL 11.71875 0 \nz\nM 11.71875 51.703125 \nL 22.015625 51.703125 \nL 22.015625 39.3125 \nL 11.71875 39.3125 \nz\n\" id=\"DejaVuSans-58\"/>\n      <path d=\"M 2.984375 54.6875 \nL 12.5 54.6875 \nL 29.59375 8.796875 \nL 46.6875 54.6875 \nL 56.203125 54.6875 \nL 35.6875 0 \nL 23.484375 0 \nz\n\" id=\"DejaVuSans-118\"/>\n     </defs>\n     <use xlink:href=\"#DejaVuSans-82\"/>\n     <use x=\"64.982422\" xlink:href=\"#DejaVuSans-101\"/>\n     <use x=\"126.505859\" xlink:href=\"#DejaVuSans-100\"/>\n     <use x=\"189.982422\" xlink:href=\"#DejaVuSans-101\"/>\n     <use x=\"251.505859\" xlink:href=\"#DejaVuSans-32\"/>\n     <use x=\"283.292969\" xlink:href=\"#DejaVuSans-78\"/>\n     <use x=\"358.097656\" xlink:href=\"#DejaVuSans-101\"/>\n     <use x=\"419.621094\" xlink:href=\"#DejaVuSans-117\"/>\n     <use x=\"483\" xlink:href=\"#DejaVuSans-114\"/>\n     <use x=\"524.113281\" xlink:href=\"#DejaVuSans-97\"/>\n     <use x=\"585.392578\" xlink:href=\"#DejaVuSans-108\"/>\n     <use x=\"613.175781\" xlink:href=\"#DejaVuSans-58\"/>\n     <use x=\"646.867188\" xlink:href=\"#DejaVuSans-32\"/>\n     <use x=\"678.654297\" xlink:href=\"#DejaVuSans-108\"/>\n     <use x=\"706.4375\" xlink:href=\"#DejaVuSans-111\"/>\n     <use x=\"767.619141\" xlink:href=\"#DejaVuSans-115\"/>\n     <use x=\"819.71875\" xlink:href=\"#DejaVuSans-115\"/>\n     <use x=\"871.818359\" xlink:href=\"#DejaVuSans-32\"/>\n     <use x=\"903.605469\" xlink:href=\"#DejaVuSans-118\"/>\n     <use x=\"962.785156\" xlink:href=\"#DejaVuSans-115\"/>\n     <use x=\"1014.884766\" xlink:href=\"#DejaVuSans-32\"/>\n     <use x=\"1046.671875\" xlink:href=\"#DejaVuSans-78\"/>\n     <use x=\"1121.476562\" xlink:href=\"#DejaVuSans-250\"/>\n     <use x=\"1184.855469\" xlink:href=\"#DejaVuSans-109\"/>\n     <use x=\"1282.267578\" xlink:href=\"#DejaVuSans-101\"/>\n     <use x=\"1343.791016\" xlink:href=\"#DejaVuSans-114\"/>\n     <use x=\"1382.654297\" xlink:href=\"#DejaVuSans-111\"/>\n     <use x=\"1443.835938\" xlink:href=\"#DejaVuSans-32\"/>\n     <use x=\"1475.623047\" xlink:href=\"#DejaVuSans-100\"/>\n     <use x=\"1539.099609\" xlink:href=\"#DejaVuSans-101\"/>\n     <use x=\"1600.623047\" xlink:href=\"#DejaVuSans-32\"/>\n     <use x=\"1632.410156\" xlink:href=\"#DejaVuSans-73\"/>\n     <use x=\"1661.902344\" xlink:href=\"#DejaVuSans-116\"/>\n     <use x=\"1701.111328\" xlink:href=\"#DejaVuSans-101\"/>\n     <use x=\"1762.634766\" xlink:href=\"#DejaVuSans-114\"/>\n     <use x=\"1803.748047\" xlink:href=\"#DejaVuSans-97\"/>\n     <use x=\"1865.027344\" xlink:href=\"#DejaVuSans-231\"/>\n     <use x=\"1920.007812\" xlink:href=\"#DejaVuSans-245\"/>\n     <use x=\"1981.189453\" xlink:href=\"#DejaVuSans-101\"/>\n     <use x=\"2042.712891\" xlink:href=\"#DejaVuSans-115\"/>\n    </g>\n   </g>\n  </g>\n </g>\n <defs>\n  <clipPath id=\"p8c569b4581\">\n   <rect height=\"326.16\" width=\"1395\" x=\"43.78125\" y=\"22.61625\"/>\n  </clipPath>\n </defs>\n</svg>\n",
      "image/png": "[encoded data removed]"
     },
     "metadata": {
      "needs_background": "light"
     }
    }
   ],
   "source": [
    "plt.figure(figsize=(25,6))\n",
    "plt.plot(lista_iteracao,lista_loss)\n",
    "plt.xlabel(\"Número de Iterações\")\n",
    "plt.ylabel(\"Loss\")\n",
    "plt.title(\"Rede Neural: loss vs Número de Iterações\")\n",
    "plt.show()"
   ]
  },
  {
   "cell_type": "code",
   "execution_count": null,
   "metadata": {},
   "outputs": [],
   "source": []
  }
 ]
}